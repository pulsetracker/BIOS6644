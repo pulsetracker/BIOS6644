
In [ ]:

##########################################################################################
#                                                                                        #
#  888888b.  8888888 .d88888b.   .d8888b.     .d8888b.   .d8888b.      d8888      d8888  #
#  888  "88b   888  d88P" "Y88b d88P  Y88b   d88P  Y88b d88P  Y88b    d8P888     d8P888  #
#  888  .88P   888  888     888 Y88b.        888        888          d8P 888    d8P 888  #
#  8888888K.   888  888     888  "Y888b.     888d888b.  888d888b.   d8P  888   d8P  888  #
#  888  "Y88b  888  888     888     "Y88b.   888P "Y88b 888P "Y88b d88   888  d88   888  #
#  888    888  888  888     888       "888   888    888 888    888 8888888888 8888888888 #
#  888   d88P  888  Y88b. .d88P Y88b  d88P   Y88b  d88P Y88b  d88P       888        888  #
#  8888888P" 8888888 "Y88888P"   "Y8888P"     "Y8888P"   "Y8888P"        888        888  #
#                                                                                        # 
##########################################################################################
#
# Read CSV Direct
#
##########################################################################################

Directly reading the CSV file

You might occasionally have a reason to read a data file just to extract a small bit of information and not want to break out the full-featured tools to do it. In these circumstances, it might be more useful to read the data directly instead of using a reader-utility in an analytical package such as Pandas.

In this exercsise, we'll use the Educational Attainment data file mentioned on Canvas (available here):
Your goal: Get an alphabetized list of counties in Colorado mentioned in this data set.
Boxes marked "YouDo" are tasks for you to do--these are the graded components of the notebook.
In [31]:

##################################################################################################################
#
# YouDo:
#    1) Make a copy of this notebook with your name as a suffix:  BIOS6644_Read_CSV_Direct_FirstLast
#    2) Do all work in this new notebook.
#
##################################################################################################################

In [7]:

# Attempt to extract a list of Colorado counties.

In [86]:

! ls ../Data

Educational_Attainment_Census_Tracts.csv

In [2]:

# Read the data
datafile = '../Data/Educational_Attainment_Census_Tracts.csv'
lines = open(datafile).readlines()  # lines is now a list with each element being a line of data

In [17]:

#darf = open(datafile,'w')  # file-like object
#help(darf.readlines)
len(lines)
lines[1]

Out[17]:

'1,08043979000,"Census Tract 9790, Fremont County, Colorado",08043979000,FREMONT,3471,3.4,2876,2.1,6.3,93.7,26.1\n'

In [25]:

##################################################################################################################
#
# YouDo:
#    1) Print the first, "header" row of the data set
#    2) Print lines 37-40 of the actual data
#
##################################################################################################################
#######################################  BEGIN STUDENT CODE  #####################################################

# 1) 
#print(lines[0])
# 2) 

print(lines[37:41])
#######################################   END STUDENT CODE   #####################################################

#testlist=[0,1,2,3,4,5]
#testlist[2:4]
print(lines[:5])
print(lines[-5:])

['37,08037000502,"Census Tract 5.02, Eagle County, Colorado",08037000502,EAGLE,4421,319.7,2983,5.9,10,90,56.3\n', '38,08037000302,"Census Tract 3.02, Eagle County, Colorado",08037000302,EAGLE,2188,9.4,1761,7,17.8,82.2,54.7\n', '39,08037000403,"Census Tract 4.03, Eagle County, Colorado",08037000403,EAGLE,8382,42,5706,1.8,3.8,96.2,44.3\n', '40,08037000701,"Census Tract 7.01, Eagle County, Colorado",08037000701,EAGLE,1503,193.4,1135,0,0,100,70.3\n']
['\ufeffOBJECTID,FIPS,Tract_Name,Tract_FIPS,County,Population_Total,Population_Density_PerLandSquareMile,Education_Population_AgeOver24,Percent_Education_Population_AgeOver24_LessThan9th,Percent_Education_Population_AgeOver24_NoHSDiploma,Percent_Education_Population_AgeOver24_HSD_Higher,Percent_Education_Population_AgeOver24_Bachelors_Higher\n', '1,08043979000,"Census Tract 9790, Fremont County, Colorado",08043979000,FREMONT,3471,3.4,2876,2.1,6.3,93.7,26.1\n', '2,08045951600,"Census Tract 9516, Garfield County, Colorado",08045951600,GARFIELD,3656,6.4,2372,4.3,11.3,88.7,45.2\n', '3,08069002803,"Census Tract 28.03, Larimer County, Colorado",08069002803,LARIMER,97,0.4,45,0,0,100,51.1\n', '4,08125963200,"Census Tract 9632, Yuma County, Colorado",08125963200,YUMA,5467,5.3,3878,9.7,15.9,84,22.2\n']
['1245,08005081000,"Census Tract 810, Arapahoe County, Colorado",08005081000,ARAPAHOE,5922,6437,3317,5.2,20.5,79.5,25.1\n', '1246,08005080300,"Census Tract 803, Arapahoe County, Colorado",08005080300,ARAPAHOE,5512,5624.5,4054,2.1,5.8,94.2,39.8\n', '1247,08005080400,"Census Tract 804, Arapahoe County, Colorado",08005080400,ARAPAHOE,5101,5484.9,3726,1.3,3.6,96.4,40.8\n', '1248,08005080800,"Census Tract 808, Arapahoe County, Colorado",08005080800,ARAPAHOE,3463,9894.3,1819,19.2,30.6,69.4,16.2\n', '1249,08005080900,"Census Tract 809, Arapahoe County, Colorado",08005080900,ARAPAHOE,4763,7327.7,2924,13.7,26,74,21.7\n']

In [26]:

# It looks like line 0 is a header
lines[0].split(',')  # the split method divides a string into a list of smaller strings.  The input of ','
                     # tells it to split on the comma character

Out[26]:

['\ufeffOBJECTID',
 'FIPS',
 'Tract_Name',
 'Tract_FIPS',
 'County',
 'Population_Total',
 'Population_Density_PerLandSquareMile',
 'Education_Population_AgeOver24',
 'Percent_Education_Population_AgeOver24_LessThan9th',
 'Percent_Education_Population_AgeOver24_NoHSDiploma',
 'Percent_Education_Population_AgeOver24_HSD_Higher',
 'Percent_Education_Population_AgeOver24_Bachelors_Higher\n']

In [35]:

#ss='I love wrangling!'
#ss = 'Percent_Education_Population_AgeOver24_Bachelors_Higher'
#ss.split('_')[3].split('4')

In [36]:

# Visually counting, it looks like "County" is the 5th field
# Now I want to loop through the lines and grab field #5 for each one
for line in lines:
    print(line.split(',')[5])

Population_Total
08043979000
08045951600
08069002803
08125963200
08069002401
08069002402
08103951200
08103951100
08049000201
08049000202
08049000100
08081000600
08081000500
08081000400
08081000300
08057955600
08121924100
08107000800
08107000700
08107000500
08107000200
08107000400
08107000600
08107000300
08107000100
08051963900
08051963700
08051963600
08051963800
08021974900
08021974800
08037000703
08037000301
08037000702
08037000402
08037000501
08037000502
08037000302
08037000403
08037000701
08037000401
08037000503
08037000100
08037000600
08037000200
08045951901
08045951701
08045951902
08045951702
08045952001
08045952002
08045951803
08045951804
08045951802
08045952100
08067970704
08067970703
08067970701
08067940300
08097000500
08097000401
08097000402
08097000100
08117000402
08117000401
08117000100
08117000200
08117000300
08067971100
08067971000
08067970900
08067970800
08067940400
08067970600
08065961900
08065961700
08029965100
08029965200
08029964600
08029965000
08029964900
08029964800
08029964700
08003960300
08003960200
08113968102
08113968101
08113968103
08113968200
08079973600
08083941100
08083969400
08083969100
08083969200
08083969000
08083969600
08083969300
08003960000
08003960100
08091967600
08033000100
08109977600
08109977700
08105976700
08105977000
08105976800
08077001706
08077001707
08077001001
08077000602
08077000500
08077000400
08077001302
08077001102
08077000300
08077000200
08077001404
08077001501
08077001403
08077001301
08077001002
08077000900
08077001101
08077000800
08077000700
08077001900
08077000601
08077001402
08077001600
08077001502
08077001703
08077001800
08077001702
08077001705
08077001200
08019014900
08053973100
08015000401
08015000402
08015000100
08015000200
08015000300
08111972600
08085966502
08085966601
08085966602
08085966201
08085966503
08085966501
08085966202
08085966100
08085966400
08085966300
08007940400
08007974200
08007974400
08007974300
08093000500
08093000400
08093000100
08093000300
08093000200
08001009606
08001009320
08001009409
08001009322
08001009607
08001009304
08001060200
08001009325
08069001601
08069001301
08069001114
08069001113
08069001107
08069001104
08069001112
08069001010
08069001007
08069000300
08069002700
08069002600
08001015000
08001008538
08001009326
08001009206
08001008546
08001008526
08001008901
08001009608
08001009604
08001009202
08001008801
08001009401
08001009406
08001008542
08001008536
08001008539
08001009327
08001009207
08001008548
08001060100
08001009410
08001008802
08001008529
08001008534
08001009103
08001008603
08001009408
08001008524
08001008508
08001008401
08001008523
08001008402
08069002802
08069002503
08069001608
08069001607
08125963100
08001008547
08001008543
08001008544
08001008545
08001060000
08001061200
08001008549
08001008551
08069001606
08069000505
08069000202
08069001307
08069002801
08069001808
08069001605
08069002502
08069002501
08069002011
08001008550
08001008541
08001008540
08001008535
08001008537
08001008606
08001009104
08069002010
08069001809
08069001709
08069001708
08069001308
08069000802
08069000801
08069000506
08069000504
08069000503
08069000402
08069000401
08069000201
08069001902
08001008604
08001008605
08001009553
08001008706
08001009101
08001009002
08069002007
08069002005
08069002008
08069001903
08069001804
08069001901
08069001807
08001009308
08001009001
08001009306
08001009318
08001008705
08001008533
08001009204
08001008507
08069001707
08069001806
08069001704
08069001706
08069001109
08069001106
08069001111
08001009203
08001008505
08001008506
08001009501
08001009502
08001009309
08001009310
08001009319
08069001110
08069001008
08069001004
08069001003
08069000902
08069001603
08069000901
08069001304
08069000700
08001009316
08001009603
08001009321
08001009407
08001009323
08001009411
08001009307
08069000600
08069001009
08069000100
08069002300
08069001602
08069001306
08069001305
08059010209
08059010305
08059009832
08059009833
08059009834
08059009831
08059010210
08059010206
08059009835
08059009828
08059010205
08059010303
08087000600
08087000200
08087000100
08087000500
08087000800
08087000400
08087000300
08087000700
08059009830
08059009829
08059010212
08059009824
08059009823
08059010208
08059010213
08059010304
08059009839
08059060300
08059060500
08059060400
08059009851
08059009837
08059009838
08059009827
08059009815
08059009808
08059009840
08059009836
08115968300
08059010211
08059010307
08059010306
08059009841
08095967600
08095967700
08013013003
08013013401
08013013503
08013013006
08013012203
08013013402
08013013210
08013013302
08013013307
08013013308
08013012510
08013012907
08013013305
08013060900
08013012509
08013013208
08013012701
08013012507
08013012505
08013013201
08013013211
08013013207
08013012101
08013013205
08013013306
08013012201
08013012705
08013012708
08013013601
08013012710
08013013701
08013013702
08013013202
08013012204
08013013602
08013012903
08013012501
08013012603
08013012511
08013012709
08075966300
08075966200
08075966100
08075966000
08075966400
08075965900
08013060800
08013013507
08013013505
08013013212
08013061300
08013061400
08013012607
08013013508
08013013506
08013013213
08013012608
08013060600
08013060700
08013013005
08013012508
08013012605
08013013004
08013012401
08013012300
08013012202
08013012102
08013012105
08013012104
08013012904
08013012707
08013012905
08013012103
08013012800
08123001412
08123001407
08123001408
08123001405
08123001406
08123001414
08123001003
08123002207
08123002009
08123001908
08123002010
08123001906
08123002103
08123001410
08123002208
08123001417
08123001416
08123001005
08123001004
08123000705
08123000800
08123000200
08123000100
08123000300
08123000900
08123000402
08123001202
08123001300
08123001201
08123000502
08123000401
08123001100
08123001800
08123000600
08123001700
08123001404
08123002502
08123001902
08123001500
08123002300
08123000701
08123001600
08123002501
08123000501
08123002013
08123002012
08121924200
08123002006
08123002102
08123002101
08123002210
08123002209
08123002206
08123002205
08014030200
08014031100
08014031300
08014031400
08014030600
08014030900
08014030800
08014031000
08123002204
08123002203
08123002014
08123002017
08123002011
08123002015
08123001907
08123001905
08123002021
08014030500
08014030300
08014030000
08014030100
08014030400
08014031200
08014030700
08123002020
08123002016
08123002018
08123002019
08123002008
08123002007
08123002005
08123002004
08123000704
08123000703
08123001006
08123001413
08123001415
08123001409
08123001411
08047013800
08031980000
08071000800
08071000100
08071000200
08071000300
08071000500
08071000400
08043979400
08043980200
08043979100
08043978100
08043978200
08043980300
08043979200
08043978800
08043980100
08043978600
08043978300
08043978500
08043978400
08001008709
08001009751
08001009752
08001007801
08001008309
08001008308
08001008100
08001008000
08001008353
08001007900
08027970100
08025969600
08089968100
08089968200
08089968400
08089968300
08089968600
08089968000
08089968500
08011966700
08017960600
08039961209
08039961208
08039961207
08039961206
08039961205
08039961204
08039961100
08001007802
08023972700
08023972600
08001008200
08059010406
08059011100
08059011723
08059012057
08099000700
08059012050
08059011724
08059009807
08059009806
08059010402
08059011729
08059010000
08059012041
08073961700
08073961800
08059980400
08059015800
08059011401
08059012059
08059009849
08059012060
08059011805
08059011806
08059011733
08099000200
08099000100
08099000300
08099000600
08059011732
08059011402
08059015900
08059009850
08059009852
08059012047
08059011712
08059010901
08059012032
08059012033
08059009843
08059012027
08059010405
08059012026
08059012035
08059012037
08059012031
08059012030
08059009900
08059009846
08059009847
08059012023
08059012048
08059009848
08059009845
08059009842
08059012042
08059012058
08059011720
08059012054
08059011803
08059011602
08059010603
08059012039
08059010100
08059012036
08059012051
08059012055
08059012052
08059012046
08059012024
08059012022
08059012045
08059011904
08059011728
08059011702
08059011701
08059012049
08059011730
08059011727
08059012053
08059011202
08059011804
08059011708
08059011711
08059011951
08059012038
08059011725
08059011721
08059012034
08059011710
08059011709
08059011726
08059011601
08059011731
08059011550
08059011300
08059010702
08059010701
08059012043
08059010502
08059010604
08059011000
08059010902
08059010801
08059010504
08059010503
08059010403
08059012044
08059010308
08035014112
08035014110
08035014109
08035014108
08035014202
08035014116
08035014300
08035014107
08035014122
08035014602
08035013901
08035014503
08035013909
08101003600
08101003500
08101002916
08101002914
08063962200
08063962300
08063962100
08101002912
08101002917
08101003106
08101003105
08101002915
08101002918
08101002913
08101002911
08101000903
08101002600
08101002801
08101002000
08101001800
08101001900
08101002400
08101001400
08101001700
08101000905
08101003104
08101002300
08101002200
08101002100
08101002802
08101000200
08101002906
08101002700
08101001600
08101002903
08101000500
08101000800
08101002901
08101002500
08101003103
08101003001
08101001000
08101000904
08101003004
08101001100
08101000902
08101003200
08101000400
08101002806
08101000300
08101002804
08101001200
08101000600
08101002807
08101002808
08101001500
08101000100
08035014006
08035013910
08035014140
08035014132
08035014130
08035014124
08035014405
08035014505
08035014603
08035014403
08035014404
08035014128
08035014129
08035014134
08035014136
08035014138
08035014139
08035014126
08035014203
08035014406
08035014133
08035014204
08035014135
08035014131
08035014137
08035014127
08035014125
08035014005
08035014007
08035014011
08035014506
08035014604
08035014013
08035014012
08035014008
08035014009
08035014010
08035013911
08035014123
08035014504
08035013908
08035013907
08035013905
08035013904
08035014001
08035014115
08035014114
08035014113
08009964600
08009964700
08019014700
08019014800
08119010202
08119010201
08119010105
08119010104
08119010103
08119010106
08061960100
08031006804
08031006701
08031006809
08031006812
08031004004
08031004003
08031006901
08031002901
08031002802
08031002801
08031002803
08031005503
08031005502
08031007013
08031005002
08031005001
08031005102
08031005300
08031004801
08031001402
08031001401
08031001302
08031001301
08031005104
08031004303
08031004002
08031004005
08031003902
08031003004
08031004603
08031004601
08031000903
08031006810
08031012001
08031012010
08031012014
08031004700
08031001000
08031011903
08031004404
08031004403
08031004304
08031004302
08031004202
08031004104
08031004301
08031004201
08031003703
08031003300
08031004103
08031003003
08031004102
08031004101
08031003702
08031003203
08031003202
08031003901
08031003800
08031003402
08031003401
08031002902
08031003701
08031003201
08031002703
08031003102
08031003101
08031002402
08031002602
08031003603
08031003002
08031003500
08031003602
08031002300
08031003601
08031002702
08031002701
08031002601
08031002403
08031002000
08031001800
08031001701
08031001600
08031008306
08031001500
08031001101
08031000402
08031000401
08031000800
08031000701
08031000502
08031000303
08031015500
08031000501
08031000302
08031000202
08031000102
08031000201
08031004405
08031004106
08031015600
08031015400
08031008390
08031008391
08031000301
08031001901
08031000905
08031000702
08031008389
08031008386
08031015300
08031004306
08031004107
08031008388
08031001102
08031000600
08031004602
08031001702
08031008387
08031008312
08031015700
08031001902
08031004506
08031011902
08031005200
08031002100
08031000902
08031000904
08031008305
08031008304
08031007006
08031004505
08031004504
08031004503
08031004006
08031003001
08031001403
08031006813
08031006814
08031006811
08031007037
08031007088
08031007089
08005081800
08005007500
08005082300
08005081600
08005080700
08005006808
08005084600
08005006711
08005006815
08005082600
08005080200
08041003801
08041005111
08041007101
08041007201
08041006901
08041006301
08041006302
08041005110
08041006801
08041006802
08041004601
08041004511
08041004602
08041007601
08041007602
08041007202
08041003802
08041003307
08041003400
08041006700
08041003701
08041004100
08041004200
08041004508
08041004507
08041004506
08041004300
08041005000
08041006200
08041006100
08041006000
08041005900
08041005800
08041005700
08041005602
08041004703
08041004009
08041005202
08041003905
08041003706
08041003705
08041003000
08041003303
08041004503
08041002900
08041002000
08041004502
08041001900
08041001800
08041001700
08041001600
08041001500
08041003906
08041001101
08041001000
08041000900
08041005109
08041005105
08041005107
08041007102
08041004705
08041005106
08041004706
08041006902
08041004603
08041004510
08041005108
08041003308
08041003305
08041004401
08041004403
08041004402
08041003306
08041005104
08041005502
08041004702
08041000101
08041008000
08041003709
08041007400
08041003707
08041003708
08041006502
08041006600
08041006501
08041006400
08041005601
08041005400
08041005300
08041005201
08041004800
08041002700
08041002501
08041002502
08041002400
08041002200
08041002102
08041003100
08041002101
08041001400
08041001302
08041001104
08041000800
08041000700
08041000600
08041000500
08041000400
08041007800
08041000302
08041007700
08005083500
08005082800
08005082400
08005005630
08005005631
08005005628
08005005632
08005005629
08005084400
08055960900
08055960600
08005005624
08005005627
08005005614
08005006707
08005006708
08005006604
08005006603
08005006705
08005006601
08005005621
08005005625
08005006704
08005005620
08005006709
08005005619
08005005633
08005081700
08005015100
08005083900
08005082900
08005087300
08005086900
08005087100
08005007301
08005006100
08005006300
08005006706
08005006200
08005005952
08005005951
08005005800
08005005612
08005006400
08005006000
08041000301
08041000203
08005080500
08005083000
08005083200
08005085900
08005006855
08005086400
08005086700
08005007103
08005005700
08005005622
08005005611
08005007400
08005005553
08005005626
08005007600
08041000202
08041007900
08041000102
08041004701
08041005501
08041004901
08041004902
08041004501
08041004008
08041007000
08041003702
08041002800
08041001301
08041003902
08041007300
08005083700
08005086100
08005007107
08005085100
08005085600
08005085500
08005087000
08005086800
08005005551
08005007702
08005080100
08005084800
08005007101
08005081900
08005082000
08005081400
08005007202
08041007500
08041003909
08041002300
08005087200
08005085000
08005083800
08005007105
08005007104
08005086000
08005007106
08005083100
08005080600
08005007302
08005080000
08005006854
08005007201
08005083600
08005086600
08005085300
08005085200
08005086500
08005086300
08005006856
08005006857
08005006501
08005005623
08005006713
08005006858
08005005635
08005006712
08005005636
08005004951
08005004952
08005082700
08005082200
08005082500
08005081500
08005006502
08005005552
08005007704
08005084100
08005084500
08005005634
08005084900
08005081100
08005081200
08005084700
08005084200
08005084300
08005085800
08005083400
08005081300
08005085400
08005086200
08005085700
08005083300
08005084000
08005007703
08005082100
08005081000
08005080300
08005080400
08005080800
08005080900

In [40]:

# Dangit!  Python starts counting at zero!
lines[0].split(',')[4]

Out[40]:

'County'

In [42]:

##################################################################################################################
#
# YouDo:
#    1) # Loop through the lines and grab the field #4 for each row
#
##################################################################################################################
#######################################  BEGIN STUDENT CODE  #####################################################

# 1) 

for line in lines:
    print(line.split(',')[4])

#######################################   END STUDENT CODE   #####################################################

County
 Colorado"
 Colorado"
 Colorado"
 Colorado"
 Colorado"
 Colorado"
 Colorado"
 Colorado"
 Colorado"
 Colorado"
 Colorado"
 Colorado"
 Colorado"
 Colorado"
 Colorado"
 Colorado"
 Colorado"
 Colorado"
 Colorado"
 Colorado"
 Colorado"
 Colorado"
 Colorado"
 Colorado"
 Colorado"
 Colorado"
 Colorado"
 Colorado"
 Colorado"
 Colorado"
 Colorado"
 Colorado"
 Colorado"
 Colorado"
 Colorado"
 Colorado"
 Colorado"
 Colorado"
 Colorado"
 Colorado"
 Colorado"
 Colorado"
 Colorado"
 Colorado"
 Colorado"
 Colorado"
 Colorado"
 Colorado"
 Colorado"
 Colorado"
 Colorado"
 Colorado"
 Colorado"
 Colorado"
 Colorado"
 Colorado"
 Colorado"
 Colorado"
 Colorado"
 Colorado"
 Colorado"
 Colorado"
 Colorado"
 Colorado"
 Colorado"
 Colorado"
 Colorado"
 Colorado"
 Colorado"
 Colorado"
 Colorado"
 Colorado"
 Colorado"
 Colorado"
 Colorado"
 Colorado"
 Colorado"
 Colorado"
 Colorado"
 Colorado"
 Colorado"
 Colorado"
 Colorado"
 Colorado"
 Colorado"
 Colorado"
 Colorado"
 Colorado"
 Colorado"
 Colorado"
 Colorado"
 Colorado"
 Colorado"
 Colorado"
 Colorado"
 Colorado"
 Colorado"
 Colorado"
 Colorado"
 Colorado"
 Colorado"
 Colorado"
 Colorado"
 Colorado"
 Colorado"
 Colorado"
 Colorado"
 Colorado"
 Colorado"
 Colorado"
 Colorado"
 Colorado"
 Colorado"
 Colorado"
 Colorado"
 Colorado"
 Colorado"
 Colorado"
 Colorado"
 Colorado"
 Colorado"
 Colorado"
 Colorado"
 Colorado"
 Colorado"
 Colorado"
 Colorado"
 Colorado"
 Colorado"
 Colorado"
 Colorado"
 Colorado"
 Colorado"
 Colorado"
 Colorado"
 Colorado"
 Colorado"
 Colorado"
 Colorado"
 Colorado"
 Colorado"
 Colorado"
 Colorado"
 Colorado"
 Colorado"
 Colorado"
 Colorado"
 Colorado"
 Colorado"
 Colorado"
 Colorado"
 Colorado"
 Colorado"
 Colorado"
 Colorado"
 Colorado"
 Colorado"
 Colorado"
 Colorado"
 Colorado"
 Colorado"
 Colorado"
 Colorado"
 Colorado"
 Colorado"
 Colorado"
 Colorado"
 Colorado"
 Colorado"
 Colorado"
 Colorado"
 Colorado"
 Colorado"
 Colorado"
 Colorado"
 Colorado"
 Colorado"
 Colorado"
 Colorado"
 Colorado"
 Colorado"
 Colorado"
 Colorado"
 Colorado"
 Colorado"
 Colorado"
 Colorado"
 Colorado"
 Colorado"
 Colorado"
 Colorado"
 Colorado"
 Colorado"
 Colorado"
 Colorado"
 Colorado"
 Colorado"
 Colorado"
 Colorado"
 Colorado"
 Colorado"
 Colorado"
 Colorado"
 Colorado"
 Colorado"
 Colorado"
 Colorado"
 Colorado"
 Colorado"
 Colorado"
 Colorado"
 Colorado"
 Colorado"
 Colorado"
 Colorado"
 Colorado"
 Colorado"
 Colorado"
 Colorado"
 Colorado"
 Colorado"
 Colorado"
 Colorado"
 Colorado"
 Colorado"
 Colorado"
 Colorado"
 Colorado"
 Colorado"
 Colorado"
 Colorado"
 Colorado"
 Colorado"
 Colorado"
 Colorado"
 Colorado"
 Colorado"
 Colorado"
 Colorado"
 Colorado"
 Colorado"
 Colorado"
 Colorado"
 Colorado"
 Colorado"
 Colorado"
 Colorado"
 Colorado"
 Colorado"
 Colorado"
 Colorado"
 Colorado"
 Colorado"
 Colorado"
 Colorado"
 Colorado"
 Colorado"
 Colorado"
 Colorado"
 Colorado"
 Colorado"
 Colorado"
 Colorado"
 Colorado"
 Colorado"
 Colorado"
 Colorado"
 Colorado"
 Colorado"
 Colorado"
 Colorado"
 Colorado"
 Colorado"
 Colorado"
 Colorado"
 Colorado"
 Colorado"
 Colorado"
 Colorado"
 Colorado"
 Colorado"
 Colorado"
 Colorado"
 Colorado"
 Colorado"
 Colorado"
 Colorado"
 Colorado"
 Colorado"
 Colorado"
 Colorado"
 Colorado"
 Colorado"
 Colorado"
 Colorado"
 Colorado"
 Colorado"
 Colorado"
 Colorado"
 Colorado"
 Colorado"
 Colorado"
 Colorado"
 Colorado"
 Colorado"
 Colorado"
 Colorado"
 Colorado"
 Colorado"
 Colorado"
 Colorado"
 Colorado"
 Colorado"
 Colorado"
 Colorado"
 Colorado"
 Colorado"
 Colorado"
 Colorado"
 Colorado"
 Colorado"
 Colorado"
 Colorado"
 Colorado"
 Colorado"
 Colorado"
 Colorado"
 Colorado"
 Colorado"
 Colorado"
 Colorado"
 Colorado"
 Colorado"
 Colorado"
 Colorado"
 Colorado"
 Colorado"
 Colorado"
 Colorado"
 Colorado"
 Colorado"
 Colorado"
 Colorado"
 Colorado"
 Colorado"
 Colorado"
 Colorado"
 Colorado"
 Colorado"
 Colorado"
 Colorado"
 Colorado"
 Colorado"
 Colorado"
 Colorado"
 Colorado"
 Colorado"
 Colorado"
 Colorado"
 Colorado"
 Colorado"
 Colorado"
 Colorado"
 Colorado"
 Colorado"
 Colorado"
 Colorado"
 Colorado"
 Colorado"
 Colorado"
 Colorado"
 Colorado"
 Colorado"
 Colorado"
 Colorado"
 Colorado"
 Colorado"
 Colorado"
 Colorado"
 Colorado"
 Colorado"
 Colorado"
 Colorado"
 Colorado"
 Colorado"
 Colorado"
 Colorado"
 Colorado"
 Colorado"
 Colorado"
 Colorado"
 Colorado"
 Colorado"
 Colorado"
 Colorado"
 Colorado"
 Colorado"
 Colorado"
 Colorado"
 Colorado"
 Colorado"
 Colorado"
 Colorado"
 Colorado"
 Colorado"
 Colorado"
 Colorado"
 Colorado"
 Colorado"
 Colorado"
 Colorado"
 Colorado"
 Colorado"
 Colorado"
 Colorado"
 Colorado"
 Colorado"
 Colorado"
 Colorado"
 Colorado"
 Colorado"
 Colorado"
 Colorado"
 Colorado"
 Colorado"
 Colorado"
 Colorado"
 Colorado"
 Colorado"
 Colorado"
 Colorado"
 Colorado"
 Colorado"
 Colorado"
 Colorado"
 Colorado"
 Colorado"
 Colorado"
 Colorado"
 Colorado"
 Colorado"
 Colorado"
 Colorado"
 Colorado"
 Colorado"
 Colorado"
 Colorado"
 Colorado"
 Colorado"
 Colorado"
 Colorado"
 Colorado"
 Colorado"
 Colorado"
 Colorado"
 Colorado"
 Colorado"
 Colorado"
 Colorado"
 Colorado"
 Colorado"
 Colorado"
 Colorado"
 Colorado"
 Colorado"
 Colorado"
 Colorado"
 Colorado"
 Colorado"
 Colorado"
 Colorado"
 Colorado"
 Colorado"
 Colorado"
 Colorado"
 Colorado"
 Colorado"
 Colorado"
 Colorado"
 Colorado"
 Colorado"
 Colorado"
 Colorado"
 Colorado"
 Colorado"
 Colorado"
 Colorado"
 Colorado"
 Colorado"
 Colorado"
 Colorado"
 Colorado"
 Colorado"
 Colorado"
 Colorado"
 Colorado"
 Colorado"
 Colorado"
 Colorado"
 Colorado"
 Colorado"
 Colorado"
 Colorado"
 Colorado"
 Colorado"
 Colorado"
 Colorado"
 Colorado"
 Colorado"
 Colorado"
 Colorado"
 Colorado"
 Colorado"
 Colorado"
 Colorado"
 Colorado"
 Colorado"
 Colorado"
 Colorado"
 Colorado"
 Colorado"
 Colorado"
 Colorado"
 Colorado"
 Colorado"
 Colorado"
 Colorado"
 Colorado"
 Colorado"
 Colorado"
 Colorado"
 Colorado"
 Colorado"
 Colorado"
 Colorado"
 Colorado"
 Colorado"
 Colorado"
 Colorado"
 Colorado"
 Colorado"
 Colorado"
 Colorado"
 Colorado"
 Colorado"
 Colorado"
 Colorado"
 Colorado"
 Colorado"
 Colorado"
 Colorado"
 Colorado"
 Colorado"
 Colorado"
 Colorado"
 Colorado"
 Colorado"
 Colorado"
 Colorado"
 Colorado"
 Colorado"
 Colorado"
 Colorado"
 Colorado"
 Colorado"
 Colorado"
 Colorado"
 Colorado"
 Colorado"
 Colorado"
 Colorado"
 Colorado"
 Colorado"
 Colorado"
 Colorado"
 Colorado"
 Colorado"
 Colorado"
 Colorado"
 Colorado"
 Colorado"
 Colorado"
 Colorado"
 Colorado"
 Colorado"
 Colorado"
 Colorado"
 Colorado"
 Colorado"
 Colorado"
 Colorado"
 Colorado"
 Colorado"
 Colorado"
 Colorado"
 Colorado"
 Colorado"
 Colorado"
 Colorado"
 Colorado"
 Colorado"
 Colorado"
 Colorado"
 Colorado"
 Colorado"
 Colorado"
 Colorado"
 Colorado"
 Colorado"
 Colorado"
 Colorado"
 Colorado"
 Colorado"
 Colorado"
 Colorado"
 Colorado"
 Colorado"
 Colorado"
 Colorado"
 Colorado"
 Colorado"
 Colorado"
 Colorado"
 Colorado"
 Colorado"
 Colorado"
 Colorado"
 Colorado"
 Colorado"
 Colorado"
 Colorado"
 Colorado"
 Colorado"
 Colorado"
 Colorado"
 Colorado"
 Colorado"
 Colorado"
 Colorado"
 Colorado"
 Colorado"
 Colorado"
 Colorado"
 Colorado"
 Colorado"
 Colorado"
 Colorado"
 Colorado"
 Colorado"
 Colorado"
 Colorado"
 Colorado"
 Colorado"
 Colorado"
 Colorado"
 Colorado"
 Colorado"
 Colorado"
 Colorado"
 Colorado"
 Colorado"
 Colorado"
 Colorado"
 Colorado"
 Colorado"
 Colorado"
 Colorado"
 Colorado"
 Colorado"
 Colorado"
 Colorado"
 Colorado"
 Colorado"
 Colorado"
 Colorado"
 Colorado"
 Colorado"
 Colorado"
 Colorado"
 Colorado"
 Colorado"
 Colorado"
 Colorado"
 Colorado"
 Colorado"
 Colorado"
 Colorado"
 Colorado"
 Colorado"
 Colorado"
 Colorado"
 Colorado"
 Colorado"
 Colorado"
 Colorado"
 Colorado"
 Colorado"
 Colorado"
 Colorado"
 Colorado"
 Colorado"
 Colorado"
 Colorado"
 Colorado"
 Colorado"
 Colorado"
 Colorado"
 Colorado"
 Colorado"
 Colorado"
 Colorado"
 Colorado"
 Colorado"
 Colorado"
 Colorado"
 Colorado"
 Colorado"
 Colorado"
 Colorado"
 Colorado"
 Colorado"
 Colorado"
 Colorado"
 Colorado"
 Colorado"
 Colorado"
 Colorado"
 Colorado"
 Colorado"
 Colorado"
 Colorado"
 Colorado"
 Colorado"
 Colorado"
 Colorado"
 Colorado"
 Colorado"
 Colorado"
 Colorado"
 Colorado"
 Colorado"
 Colorado"
 Colorado"
 Colorado"
 Colorado"
 Colorado"
 Colorado"
 Colorado"
 Colorado"
 Colorado"
 Colorado"
 Colorado"
 Colorado"
 Colorado"
 Colorado"
 Colorado"
 Colorado"
 Colorado"
 Colorado"
 Colorado"
 Colorado"
 Colorado"
 Colorado"
 Colorado"
 Colorado"
 Colorado"
 Colorado"
 Colorado"
 Colorado"
 Colorado"
 Colorado"
 Colorado"
 Colorado"
 Colorado"
 Colorado"
 Colorado"
 Colorado"
 Colorado"
 Colorado"
 Colorado"
 Colorado"
 Colorado"
 Colorado"
 Colorado"
 Colorado"
 Colorado"
 Colorado"
 Colorado"
 Colorado"
 Colorado"
 Colorado"
 Colorado"
 Colorado"
 Colorado"
 Colorado"
 Colorado"
 Colorado"
 Colorado"
 Colorado"
 Colorado"
 Colorado"
 Colorado"
 Colorado"
 Colorado"
 Colorado"
 Colorado"
 Colorado"
 Colorado"
 Colorado"
 Colorado"
 Colorado"
 Colorado"
 Colorado"
 Colorado"
 Colorado"
 Colorado"
 Colorado"
 Colorado"
 Colorado"
 Colorado"
 Colorado"
 Colorado"
 Colorado"
 Colorado"
 Colorado"
 Colorado"
 Colorado"
 Colorado"
 Colorado"
 Colorado"
 Colorado"
 Colorado"
 Colorado"
 Colorado"
 Colorado"
 Colorado"
 Colorado"
 Colorado"
 Colorado"
 Colorado"
 Colorado"
 Colorado"
 Colorado"
 Colorado"
 Colorado"
 Colorado"
 Colorado"
 Colorado"
 Colorado"
 Colorado"
 Colorado"
 Colorado"
 Colorado"
 Colorado"
 Colorado"
 Colorado"
 Colorado"
 Colorado"
 Colorado"
 Colorado"
 Colorado"
 Colorado"
 Colorado"
 Colorado"
 Colorado"
 Colorado"
 Colorado"
 Colorado"
 Colorado"
 Colorado"
 Colorado"
 Colorado"
 Colorado"
 Colorado"
 Colorado"
 Colorado"
 Colorado"
 Colorado"
 Colorado"
 Colorado"
 Colorado"
 Colorado"
 Colorado"
 Colorado"
 Colorado"
 Colorado"
 Colorado"
 Colorado"
 Colorado"
 Colorado"
 Colorado"
 Colorado"
 Colorado"
 Colorado"
 Colorado"
 Colorado"
 Colorado"
 Colorado"
 Colorado"
 Colorado"
 Colorado"
 Colorado"
 Colorado"
 Colorado"
 Colorado"
 Colorado"
 Colorado"
 Colorado"
 Colorado"
 Colorado"
 Colorado"
 Colorado"
 Colorado"
 Colorado"
 Colorado"
 Colorado"
 Colorado"
 Colorado"
 Colorado"
 Colorado"
 Colorado"
 Colorado"
 Colorado"
 Colorado"
 Colorado"
 Colorado"
 Colorado"
 Colorado"
 Colorado"
 Colorado"
 Colorado"
 Colorado"
 Colorado"
 Colorado"
 Colorado"
 Colorado"
 Colorado"
 Colorado"
 Colorado"
 Colorado"
 Colorado"
 Colorado"
 Colorado"
 Colorado"
 Colorado"
 Colorado"
 Colorado"
 Colorado"
 Colorado"
 Colorado"
 Colorado"
 Colorado"
 Colorado"
 Colorado"
 Colorado"
 Colorado"
 Colorado"
 Colorado"
 Colorado"
 Colorado"
 Colorado"
 Colorado"
 Colorado"
 Colorado"
 Colorado"
 Colorado"
 Colorado"
 Colorado"
 Colorado"
 Colorado"
 Colorado"
 Colorado"
 Colorado"
 Colorado"
 Colorado"
 Colorado"
 Colorado"
 Colorado"
 Colorado"
 Colorado"
 Colorado"
 Colorado"
 Colorado"
 Colorado"
 Colorado"
 Colorado"
 Colorado"
 Colorado"
 Colorado"
 Colorado"
 Colorado"
 Colorado"
 Colorado"
 Colorado"
 Colorado"
 Colorado"
 Colorado"
 Colorado"
 Colorado"
 Colorado"
 Colorado"
 Colorado"
 Colorado"
 Colorado"
 Colorado"
 Colorado"
 Colorado"
 Colorado"
 Colorado"
 Colorado"
 Colorado"
 Colorado"
 Colorado"
 Colorado"
 Colorado"
 Colorado"
 Colorado"
 Colorado"
 Colorado"
 Colorado"
 Colorado"
 Colorado"
 Colorado"
 Colorado"
 Colorado"
 Colorado"
 Colorado"
 Colorado"
 Colorado"
 Colorado"
 Colorado"
 Colorado"
 Colorado"
 Colorado"
 Colorado"
 Colorado"
 Colorado"
 Colorado"
 Colorado"
 Colorado"
 Colorado"
 Colorado"
 Colorado"
 Colorado"
 Colorado"
 Colorado"
 Colorado"
 Colorado"
 Colorado"
 Colorado"
 Colorado"
 Colorado"
 Colorado"
 Colorado"
 Colorado"
 Colorado"
 Colorado"
 Colorado"
 Colorado"
 Colorado"
 Colorado"
 Colorado"
 Colorado"
 Colorado"
 Colorado"
 Colorado"
 Colorado"
 Colorado"
 Colorado"
 Colorado"
 Colorado"
 Colorado"
 Colorado"
 Colorado"
 Colorado"
 Colorado"
 Colorado"
 Colorado"
 Colorado"
 Colorado"
 Colorado"
 Colorado"
 Colorado"
 Colorado"
 Colorado"
 Colorado"
 Colorado"
 Colorado"
 Colorado"
 Colorado"
 Colorado"
 Colorado"
 Colorado"
 Colorado"
 Colorado"
 Colorado"
 Colorado"
 Colorado"
 Colorado"
 Colorado"
 Colorado"
 Colorado"
 Colorado"
 Colorado"
 Colorado"
 Colorado"
 Colorado"
 Colorado"
 Colorado"
 Colorado"
 Colorado"
 Colorado"
 Colorado"
 Colorado"
 Colorado"
 Colorado"
 Colorado"
 Colorado"
 Colorado"
 Colorado"
 Colorado"
 Colorado"
 Colorado"
 Colorado"
 Colorado"
 Colorado"
 Colorado"
 Colorado"
 Colorado"
 Colorado"
 Colorado"
 Colorado"
 Colorado"
 Colorado"
 Colorado"
 Colorado"
 Colorado"
 Colorado"
 Colorado"
 Colorado"
 Colorado"
 Colorado"
 Colorado"
 Colorado"
 Colorado"
 Colorado"
 Colorado"
 Colorado"
 Colorado"
 Colorado"
 Colorado"
 Colorado"
 Colorado"
 Colorado"
 Colorado"
 Colorado"
 Colorado"
 Colorado"
 Colorado"
 Colorado"
 Colorado"
 Colorado"
 Colorado"
 Colorado"
 Colorado"
 Colorado"
 Colorado"
 Colorado"
 Colorado"
 Colorado"
 Colorado"
 Colorado"
 Colorado"
 Colorado"
 Colorado"
 Colorado"
 Colorado"
 Colorado"
 Colorado"
 Colorado"
 Colorado"
 Colorado"
 Colorado"
 Colorado"
 Colorado"
 Colorado"
 Colorado"
 Colorado"
 Colorado"
 Colorado"
 Colorado"
 Colorado"
 Colorado"
 Colorado"
 Colorado"
 Colorado"
 Colorado"
 Colorado"
 Colorado"
 Colorado"
 Colorado"
 Colorado"
 Colorado"
 Colorado"
 Colorado"
 Colorado"
 Colorado"
 Colorado"
 Colorado"
 Colorado"
 Colorado"
 Colorado"
 Colorado"
 Colorado"
 Colorado"
 Colorado"
 Colorado"
 Colorado"
 Colorado"
 Colorado"
 Colorado"
 Colorado"
 Colorado"
 Colorado"
 Colorado"
 Colorado"
 Colorado"
 Colorado"
 Colorado"
 Colorado"
 Colorado"
 Colorado"
 Colorado"
 Colorado"
 Colorado"
 Colorado"
 Colorado"
 Colorado"
 Colorado"
 Colorado"
 Colorado"
 Colorado"

In [26]:

# Now what!?!?  "Colorado" is not a county.  
# If we look closely, we'll see that field 3 has commas in it!
# Our later tools will be smart enough to recognize that things 
# in quotes with internal commas should be handled differently
lines[2]

Out[26]:

'2,08045951600,"Census Tract 9516, Garfield County, Colorado",08045951600,GARFIELD,3656,6.4,2372,4.3,11.3,88.7,45.2\n'

In [22]:

# In the mean time lets just work out where the split actually happens and grab the county names
len(lines[2].split(','))

list(zip(range(14), lines[2].split(','))) # Zip merges two lists together by line.
                                          # Here, it's giving us the field number for
                                          # each field next to the contents

Out[22]:

[(0, '2'),
 (1, '08045951600'),
 (2, '"Census Tract 9516'),
 (3, ' Garfield County'),
 (4, ' Colorado"'),
 (5, '08045951600'),
 (6, 'GARFIELD'),
 (7, '3656'),
 (8, '6.4'),
 (9, '2372'),
 (10, '4.3'),
 (11, '11.3'),
 (12, '88.7'),
 (13, '45.2\n')]

In [43]:

# Garfield county is listed in field 6
lines[2].split(',')[6]

Out[43]:

'GARFIELD'

In [44]:

##################################################################################################################
#
# YouDo:
#    1) # Loop through the lines and grab the field #6 for each row
#
##################################################################################################################
#######################################  BEGIN STUDENT CODE  #####################################################

# 1) 
for line in lines:
    print(line.split(',')[6])


#######################################   END STUDENT CODE   #####################################################

Population_Density_PerLandSquareMile
FREMONT
GARFIELD
LARIMER
YUMA
LARIMER
LARIMER
RIO BLANCO
RIO BLANCO
GRAND
GRAND
GRAND
MOFFAT
MOFFAT
MOFFAT
MOFFAT
JACKSON
WASHINGTON
ROUTT
ROUTT
ROUTT
ROUTT
ROUTT
ROUTT
ROUTT
ROUTT
GUNNISON
GUNNISON
GUNNISON
GUNNISON
CONEJOS
CONEJOS
EAGLE
EAGLE
EAGLE
EAGLE
EAGLE
EAGLE
EAGLE
EAGLE
EAGLE
EAGLE
EAGLE
EAGLE
EAGLE
EAGLE
GARFIELD
GARFIELD
GARFIELD
GARFIELD
GARFIELD
GARFIELD
GARFIELD
GARFIELD
GARFIELD
GARFIELD
LA PLATA
LA PLATA
LA PLATA
LA PLATA
PITKIN
PITKIN
PITKIN
PITKIN
SUMMIT
SUMMIT
SUMMIT
SUMMIT
SUMMIT
LA PLATA
LA PLATA
LA PLATA
LA PLATA
LA PLATA
LA PLATA
LAKE
LAKE
DELTA
DELTA
DELTA
DELTA
DELTA
DELTA
DELTA
ALAMOSA
ALAMOSA
SAN MIGUEL
SAN MIGUEL
SAN MIGUEL
SAN MIGUEL
MINERAL
MONTEZUMA
MONTEZUMA
MONTEZUMA
MONTEZUMA
MONTEZUMA
MONTEZUMA
MONTEZUMA
ALAMOSA
ALAMOSA
OURAY
DOLORES
SAGUACHE
SAGUACHE
RIO GRANDE
RIO GRANDE
RIO GRANDE
MESA
MESA
MESA
MESA
MESA
MESA
MESA
MESA
MESA
MESA
MESA
MESA
MESA
MESA
MESA
MESA
MESA
MESA
MESA
MESA
MESA
MESA
MESA
MESA
MESA
MESA
MESA
MESA
MESA
CLEAR CREEK
HINSDALE
CHAFFEE
CHAFFEE
CHAFFEE
CHAFFEE
CHAFFEE
SAN JUAN
MONTROSE
MONTROSE
MONTROSE
MONTROSE
MONTROSE
MONTROSE
MONTROSE
MONTROSE
MONTROSE
MONTROSE
ARCHULETA
ARCHULETA
ARCHULETA
ARCHULETA
PARK
PARK
PARK
PARK
PARK
ADAMS
ADAMS
ADAMS
ADAMS
ADAMS
ADAMS
ADAMS
ADAMS
LARIMER
LARIMER
LARIMER
LARIMER
LARIMER
LARIMER
LARIMER
LARIMER
LARIMER
LARIMER
LARIMER
LARIMER
ADAMS
ADAMS
ADAMS
ADAMS
ADAMS
ADAMS
ADAMS
ADAMS
ADAMS
ADAMS
ADAMS
ADAMS
ADAMS
ADAMS
ADAMS
ADAMS
ADAMS
ADAMS
ADAMS
ADAMS
ADAMS
ADAMS
ADAMS
ADAMS
ADAMS
ADAMS
ADAMS
ADAMS
ADAMS
ADAMS
ADAMS
ADAMS
LARIMER
LARIMER
LARIMER
LARIMER
YUMA
ADAMS
ADAMS
ADAMS
ADAMS
ADAMS
ADAMS
ADAMS
ADAMS
LARIMER
LARIMER
LARIMER
LARIMER
LARIMER
LARIMER
LARIMER
LARIMER
LARIMER
LARIMER
ADAMS
ADAMS
ADAMS
ADAMS
ADAMS
ADAMS
ADAMS
LARIMER
LARIMER
LARIMER
LARIMER
LARIMER
LARIMER
LARIMER
LARIMER
LARIMER
LARIMER
LARIMER
LARIMER
LARIMER
LARIMER
ADAMS
ADAMS
ADAMS
ADAMS
ADAMS
ADAMS
LARIMER
LARIMER
LARIMER
LARIMER
LARIMER
LARIMER
LARIMER
ADAMS
ADAMS
ADAMS
ADAMS
ADAMS
ADAMS
ADAMS
ADAMS
LARIMER
LARIMER
LARIMER
LARIMER
LARIMER
LARIMER
LARIMER
ADAMS
ADAMS
ADAMS
ADAMS
ADAMS
ADAMS
ADAMS
ADAMS
LARIMER
LARIMER
LARIMER
LARIMER
LARIMER
LARIMER
LARIMER
LARIMER
LARIMER
ADAMS
ADAMS
ADAMS
ADAMS
ADAMS
ADAMS
ADAMS
LARIMER
LARIMER
LARIMER
LARIMER
LARIMER
LARIMER
LARIMER
JEFFERSON
JEFFERSON
JEFFERSON
JEFFERSON
JEFFERSON
JEFFERSON
JEFFERSON
JEFFERSON
JEFFERSON
JEFFERSON
JEFFERSON
JEFFERSON
MORGAN
MORGAN
MORGAN
MORGAN
MORGAN
MORGAN
MORGAN
MORGAN
JEFFERSON
JEFFERSON
JEFFERSON
JEFFERSON
JEFFERSON
JEFFERSON
JEFFERSON
JEFFERSON
JEFFERSON
JEFFERSON
JEFFERSON
JEFFERSON
JEFFERSON
JEFFERSON
JEFFERSON
JEFFERSON
JEFFERSON
JEFFERSON
JEFFERSON
JEFFERSON
SEDGWICK
JEFFERSON
JEFFERSON
JEFFERSON
JEFFERSON
PHILLIPS
PHILLIPS
BOULDER
BOULDER
BOULDER
BOULDER
BOULDER
BOULDER
BOULDER
BOULDER
BOULDER
BOULDER
BOULDER
BOULDER
BOULDER
BOULDER
BOULDER
BOULDER
BOULDER
BOULDER
BOULDER
BOULDER
BOULDER
BOULDER
BOULDER
BOULDER
BOULDER
BOULDER
BOULDER
BOULDER
BOULDER
BOULDER
BOULDER
BOULDER
BOULDER
BOULDER
BOULDER
BOULDER
BOULDER
BOULDER
BOULDER
BOULDER
LOGAN
LOGAN
LOGAN
LOGAN
LOGAN
LOGAN
BOULDER
BOULDER
BOULDER
BOULDER
BOULDER
BOULDER
BOULDER
BOULDER
BOULDER
BOULDER
BOULDER
BOULDER
BOULDER
BOULDER
BOULDER
BOULDER
BOULDER
BOULDER
BOULDER
BOULDER
BOULDER
BOULDER
BOULDER
BOULDER
BOULDER
BOULDER
BOULDER
BOULDER
WELD
WELD
WELD
WELD
WELD
WELD
WELD
WELD
WELD
WELD
WELD
WELD
WELD
WELD
WELD
WELD
WELD
WELD
WELD
WELD
WELD
WELD
WELD
WELD
WELD
WELD
WELD
WELD
WELD
WELD
WELD
WELD
WELD
WELD
WELD
WELD
WELD
WELD
WELD
WELD
WELD
WELD
WELD
WELD
WELD
WELD
WASHINGTON
WELD
WELD
WELD
WELD
WELD
WELD
WELD
BROOMFIELD
BROOMFIELD
BROOMFIELD
BROOMFIELD
BROOMFIELD
BROOMFIELD
BROOMFIELD
BROOMFIELD
WELD
WELD
WELD
WELD
WELD
WELD
WELD
WELD
WELD
BROOMFIELD
BROOMFIELD
BROOMFIELD
BROOMFIELD
BROOMFIELD
BROOMFIELD
BROOMFIELD
WELD
WELD
WELD
WELD
WELD
WELD
WELD
WELD
WELD
WELD
WELD
WELD
WELD
WELD
WELD
GILPIN
DENVER
LAS ANIMAS
LAS ANIMAS
LAS ANIMAS
LAS ANIMAS
LAS ANIMAS
LAS ANIMAS
FREMONT
FREMONT
FREMONT
FREMONT
FREMONT
FREMONT
FREMONT
FREMONT
FREMONT
FREMONT
FREMONT
FREMONT
FREMONT
ADAMS
ADAMS
ADAMS
ADAMS
ADAMS
ADAMS
ADAMS
ADAMS
ADAMS
ADAMS
CUSTER
CROWLEY
OTERO
OTERO
OTERO
OTERO
OTERO
OTERO
OTERO
BENT
CHEYENNE
ELBERT
ELBERT
ELBERT
ELBERT
ELBERT
ELBERT
ELBERT
ADAMS
COSTILLA
COSTILLA
ADAMS
JEFFERSON
JEFFERSON
JEFFERSON
JEFFERSON
PROWERS
JEFFERSON
JEFFERSON
JEFFERSON
JEFFERSON
JEFFERSON
JEFFERSON
JEFFERSON
JEFFERSON
LINCOLN
LINCOLN
JEFFERSON
JEFFERSON
JEFFERSON
JEFFERSON
JEFFERSON
JEFFERSON
JEFFERSON
JEFFERSON
JEFFERSON
PROWERS
PROWERS
PROWERS
PROWERS
JEFFERSON
JEFFERSON
JEFFERSON
JEFFERSON
JEFFERSON
JEFFERSON
JEFFERSON
JEFFERSON
JEFFERSON
JEFFERSON
JEFFERSON
JEFFERSON
JEFFERSON
JEFFERSON
JEFFERSON
JEFFERSON
JEFFERSON
JEFFERSON
JEFFERSON
JEFFERSON
JEFFERSON
JEFFERSON
JEFFERSON
JEFFERSON
JEFFERSON
JEFFERSON
JEFFERSON
JEFFERSON
JEFFERSON
JEFFERSON
JEFFERSON
JEFFERSON
JEFFERSON
JEFFERSON
JEFFERSON
JEFFERSON
JEFFERSON
JEFFERSON
JEFFERSON
JEFFERSON
JEFFERSON
JEFFERSON
JEFFERSON
JEFFERSON
JEFFERSON
JEFFERSON
JEFFERSON
JEFFERSON
JEFFERSON
JEFFERSON
JEFFERSON
JEFFERSON
JEFFERSON
JEFFERSON
JEFFERSON
JEFFERSON
JEFFERSON
JEFFERSON
JEFFERSON
JEFFERSON
JEFFERSON
JEFFERSON
JEFFERSON
JEFFERSON
JEFFERSON
JEFFERSON
JEFFERSON
JEFFERSON
JEFFERSON
JEFFERSON
JEFFERSON
JEFFERSON
JEFFERSON
JEFFERSON
JEFFERSON
JEFFERSON
JEFFERSON
JEFFERSON
JEFFERSON
JEFFERSON
DOUGLAS
DOUGLAS
DOUGLAS
DOUGLAS
DOUGLAS
DOUGLAS
DOUGLAS
DOUGLAS
DOUGLAS
DOUGLAS
DOUGLAS
DOUGLAS
DOUGLAS
PUEBLO
PUEBLO
PUEBLO
PUEBLO
KIT CARSON
KIT CARSON
KIT CARSON
PUEBLO
PUEBLO
PUEBLO
PUEBLO
PUEBLO
PUEBLO
PUEBLO
PUEBLO
PUEBLO
PUEBLO
PUEBLO
PUEBLO
PUEBLO
PUEBLO
PUEBLO
PUEBLO
PUEBLO
PUEBLO
PUEBLO
PUEBLO
PUEBLO
PUEBLO
PUEBLO
PUEBLO
PUEBLO
PUEBLO
PUEBLO
PUEBLO
PUEBLO
PUEBLO
PUEBLO
PUEBLO
PUEBLO
PUEBLO
PUEBLO
PUEBLO
PUEBLO
PUEBLO
PUEBLO
PUEBLO
PUEBLO
PUEBLO
PUEBLO
PUEBLO
PUEBLO
PUEBLO
PUEBLO
PUEBLO
PUEBLO
PUEBLO
DOUGLAS
DOUGLAS
DOUGLAS
DOUGLAS
DOUGLAS
DOUGLAS
DOUGLAS
DOUGLAS
DOUGLAS
DOUGLAS
DOUGLAS
DOUGLAS
DOUGLAS
DOUGLAS
DOUGLAS
DOUGLAS
DOUGLAS
DOUGLAS
DOUGLAS
DOUGLAS
DOUGLAS
DOUGLAS
DOUGLAS
DOUGLAS
DOUGLAS
DOUGLAS
DOUGLAS
DOUGLAS
DOUGLAS
DOUGLAS
DOUGLAS
DOUGLAS
DOUGLAS
DOUGLAS
DOUGLAS
DOUGLAS
DOUGLAS
DOUGLAS
DOUGLAS
DOUGLAS
DOUGLAS
DOUGLAS
DOUGLAS
DOUGLAS
DOUGLAS
DOUGLAS
DOUGLAS
DOUGLAS
BACA
BACA
CLEAR CREEK
CLEAR CREEK
TELLER
TELLER
TELLER
TELLER
TELLER
TELLER
KIOWA
DENVER
DENVER
DENVER
DENVER
DENVER
DENVER
DENVER
DENVER
DENVER
DENVER
DENVER
DENVER
DENVER
DENVER
DENVER
DENVER
DENVER
DENVER
DENVER
DENVER
DENVER
DENVER
DENVER
DENVER
DENVER
DENVER
DENVER
DENVER
DENVER
DENVER
DENVER
DENVER
DENVER
DENVER
DENVER
DENVER
DENVER
DENVER
DENVER
DENVER
DENVER
DENVER
DENVER
DENVER
DENVER
DENVER
DENVER
DENVER
DENVER
DENVER
DENVER
DENVER
DENVER
DENVER
DENVER
DENVER
DENVER
DENVER
DENVER
DENVER
DENVER
DENVER
DENVER
DENVER
DENVER
DENVER
DENVER
DENVER
DENVER
DENVER
DENVER
DENVER
DENVER
DENVER
DENVER
DENVER
DENVER
DENVER
DENVER
DENVER
DENVER
DENVER
DENVER
DENVER
DENVER
DENVER
DENVER
DENVER
DENVER
DENVER
DENVER
DENVER
DENVER
DENVER
DENVER
DENVER
DENVER
DENVER
DENVER
DENVER
DENVER
DENVER
DENVER
DENVER
DENVER
DENVER
DENVER
DENVER
DENVER
DENVER
DENVER
DENVER
DENVER
DENVER
DENVER
DENVER
DENVER
DENVER
DENVER
DENVER
DENVER
DENVER
DENVER
DENVER
DENVER
DENVER
DENVER
DENVER
DENVER
DENVER
DENVER
DENVER
DENVER
DENVER
DENVER
DENVER
DENVER
DENVER
DENVER
DENVER
DENVER
DENVER
ARAPAHOE
ARAPAHOE
ARAPAHOE
ARAPAHOE
ARAPAHOE
ARAPAHOE
ARAPAHOE
ARAPAHOE
ARAPAHOE
ARAPAHOE
ARAPAHOE
EL PASO
EL PASO
EL PASO
EL PASO
EL PASO
EL PASO
EL PASO
EL PASO
EL PASO
EL PASO
EL PASO
EL PASO
EL PASO
EL PASO
EL PASO
EL PASO
EL PASO
EL PASO
EL PASO
EL PASO
EL PASO
EL PASO
EL PASO
EL PASO
EL PASO
EL PASO
EL PASO
EL PASO
EL PASO
EL PASO
EL PASO
EL PASO
EL PASO
EL PASO
EL PASO
EL PASO
EL PASO
EL PASO
EL PASO
EL PASO
EL PASO
EL PASO
EL PASO
EL PASO
EL PASO
EL PASO
EL PASO
EL PASO
EL PASO
EL PASO
EL PASO
EL PASO
EL PASO
EL PASO
EL PASO
EL PASO
EL PASO
EL PASO
EL PASO
EL PASO
EL PASO
EL PASO
EL PASO
EL PASO
EL PASO
EL PASO
EL PASO
EL PASO
EL PASO
EL PASO
EL PASO
EL PASO
EL PASO
EL PASO
EL PASO
EL PASO
EL PASO
EL PASO
EL PASO
EL PASO
EL PASO
EL PASO
EL PASO
EL PASO
EL PASO
EL PASO
EL PASO
EL PASO
EL PASO
EL PASO
EL PASO
EL PASO
EL PASO
EL PASO
EL PASO
EL PASO
EL PASO
EL PASO
EL PASO
EL PASO
EL PASO
EL PASO
EL PASO
EL PASO
EL PASO
EL PASO
EL PASO
EL PASO
EL PASO
EL PASO
ARAPAHOE
ARAPAHOE
ARAPAHOE
ARAPAHOE
ARAPAHOE
ARAPAHOE
ARAPAHOE
ARAPAHOE
ARAPAHOE
HUERFANO
HUERFANO
ARAPAHOE
ARAPAHOE
ARAPAHOE
ARAPAHOE
ARAPAHOE
ARAPAHOE
ARAPAHOE
ARAPAHOE
ARAPAHOE
ARAPAHOE
ARAPAHOE
ARAPAHOE
ARAPAHOE
ARAPAHOE
ARAPAHOE
ARAPAHOE
ARAPAHOE
ARAPAHOE
ARAPAHOE
ARAPAHOE
ARAPAHOE
ARAPAHOE
ARAPAHOE
ARAPAHOE
ARAPAHOE
ARAPAHOE
ARAPAHOE
ARAPAHOE
ARAPAHOE
ARAPAHOE
ARAPAHOE
ARAPAHOE
ARAPAHOE
ARAPAHOE
EL PASO
EL PASO
ARAPAHOE
ARAPAHOE
ARAPAHOE
ARAPAHOE
ARAPAHOE
ARAPAHOE
ARAPAHOE
ARAPAHOE
ARAPAHOE
ARAPAHOE
ARAPAHOE
ARAPAHOE
ARAPAHOE
ARAPAHOE
ARAPAHOE
EL PASO
EL PASO
EL PASO
EL PASO
EL PASO
EL PASO
EL PASO
EL PASO
EL PASO
EL PASO
EL PASO
EL PASO
EL PASO
EL PASO
EL PASO
ARAPAHOE
ARAPAHOE
ARAPAHOE
ARAPAHOE
ARAPAHOE
ARAPAHOE
ARAPAHOE
ARAPAHOE
ARAPAHOE
ARAPAHOE
ARAPAHOE
ARAPAHOE
ARAPAHOE
ARAPAHOE
ARAPAHOE
ARAPAHOE
ARAPAHOE
EL PASO
EL PASO
EL PASO
ARAPAHOE
ARAPAHOE
ARAPAHOE
ARAPAHOE
ARAPAHOE
ARAPAHOE
ARAPAHOE
ARAPAHOE
ARAPAHOE
ARAPAHOE
ARAPAHOE
ARAPAHOE
ARAPAHOE
ARAPAHOE
ARAPAHOE
ARAPAHOE
ARAPAHOE
ARAPAHOE
ARAPAHOE
ARAPAHOE
ARAPAHOE
ARAPAHOE
ARAPAHOE
ARAPAHOE
ARAPAHOE
ARAPAHOE
ARAPAHOE
ARAPAHOE
ARAPAHOE
ARAPAHOE
ARAPAHOE
ARAPAHOE
ARAPAHOE
ARAPAHOE
ARAPAHOE
ARAPAHOE
ARAPAHOE
ARAPAHOE
ARAPAHOE
ARAPAHOE
ARAPAHOE
ARAPAHOE
ARAPAHOE
ARAPAHOE
ARAPAHOE
ARAPAHOE
ARAPAHOE
ARAPAHOE
ARAPAHOE
ARAPAHOE
ARAPAHOE
ARAPAHOE
ARAPAHOE
ARAPAHOE
ARAPAHOE
ARAPAHOE
ARAPAHOE
ARAPAHOE
ARAPAHOE
ARAPAHOE
ARAPAHOE

In [45]:

# We have that pesky field label in the header--lets leave that out:
for line in lines[1:]:
    print(line.split(',')[6])

FREMONT
GARFIELD
LARIMER
YUMA
LARIMER
LARIMER
RIO BLANCO
RIO BLANCO
GRAND
GRAND
GRAND
MOFFAT
MOFFAT
MOFFAT
MOFFAT
JACKSON
WASHINGTON
ROUTT
ROUTT
ROUTT
ROUTT
ROUTT
ROUTT
ROUTT
ROUTT
GUNNISON
GUNNISON
GUNNISON
GUNNISON
CONEJOS
CONEJOS
EAGLE
EAGLE
EAGLE
EAGLE
EAGLE
EAGLE
EAGLE
EAGLE
EAGLE
EAGLE
EAGLE
EAGLE
EAGLE
EAGLE
GARFIELD
GARFIELD
GARFIELD
GARFIELD
GARFIELD
GARFIELD
GARFIELD
GARFIELD
GARFIELD
GARFIELD
LA PLATA
LA PLATA
LA PLATA
LA PLATA
PITKIN
PITKIN
PITKIN
PITKIN
SUMMIT
SUMMIT
SUMMIT
SUMMIT
SUMMIT
LA PLATA
LA PLATA
LA PLATA
LA PLATA
LA PLATA
LA PLATA
LAKE
LAKE
DELTA
DELTA
DELTA
DELTA
DELTA
DELTA
DELTA
ALAMOSA
ALAMOSA
SAN MIGUEL
SAN MIGUEL
SAN MIGUEL
SAN MIGUEL
MINERAL
MONTEZUMA
MONTEZUMA
MONTEZUMA
MONTEZUMA
MONTEZUMA
MONTEZUMA
MONTEZUMA
ALAMOSA
ALAMOSA
OURAY
DOLORES
SAGUACHE
SAGUACHE
RIO GRANDE
RIO GRANDE
RIO GRANDE
MESA
MESA
MESA
MESA
MESA
MESA
MESA
MESA
MESA
MESA
MESA
MESA
MESA
MESA
MESA
MESA
MESA
MESA
MESA
MESA
MESA
MESA
MESA
MESA
MESA
MESA
MESA
MESA
MESA
CLEAR CREEK
HINSDALE
CHAFFEE
CHAFFEE
CHAFFEE
CHAFFEE
CHAFFEE
SAN JUAN
MONTROSE
MONTROSE
MONTROSE
MONTROSE
MONTROSE
MONTROSE
MONTROSE
MONTROSE
MONTROSE
MONTROSE
ARCHULETA
ARCHULETA
ARCHULETA
ARCHULETA
PARK
PARK
PARK
PARK
PARK
ADAMS
ADAMS
ADAMS
ADAMS
ADAMS
ADAMS
ADAMS
ADAMS
LARIMER
LARIMER
LARIMER
LARIMER
LARIMER
LARIMER
LARIMER
LARIMER
LARIMER
LARIMER
LARIMER
LARIMER
ADAMS
ADAMS
ADAMS
ADAMS
ADAMS
ADAMS
ADAMS
ADAMS
ADAMS
ADAMS
ADAMS
ADAMS
ADAMS
ADAMS
ADAMS
ADAMS
ADAMS
ADAMS
ADAMS
ADAMS
ADAMS
ADAMS
ADAMS
ADAMS
ADAMS
ADAMS
ADAMS
ADAMS
ADAMS
ADAMS
ADAMS
ADAMS
LARIMER
LARIMER
LARIMER
LARIMER
YUMA
ADAMS
ADAMS
ADAMS
ADAMS
ADAMS
ADAMS
ADAMS
ADAMS
LARIMER
LARIMER
LARIMER
LARIMER
LARIMER
LARIMER
LARIMER
LARIMER
LARIMER
LARIMER
ADAMS
ADAMS
ADAMS
ADAMS
ADAMS
ADAMS
ADAMS
LARIMER
LARIMER
LARIMER
LARIMER
LARIMER
LARIMER
LARIMER
LARIMER
LARIMER
LARIMER
LARIMER
LARIMER
LARIMER
LARIMER
ADAMS
ADAMS
ADAMS
ADAMS
ADAMS
ADAMS
LARIMER
LARIMER
LARIMER
LARIMER
LARIMER
LARIMER
LARIMER
ADAMS
ADAMS
ADAMS
ADAMS
ADAMS
ADAMS
ADAMS
ADAMS
LARIMER
LARIMER
LARIMER
LARIMER
LARIMER
LARIMER
LARIMER
ADAMS
ADAMS
ADAMS
ADAMS
ADAMS
ADAMS
ADAMS
ADAMS
LARIMER
LARIMER
LARIMER
LARIMER
LARIMER
LARIMER
LARIMER
LARIMER
LARIMER
ADAMS
ADAMS
ADAMS
ADAMS
ADAMS
ADAMS
ADAMS
LARIMER
LARIMER
LARIMER
LARIMER
LARIMER
LARIMER
LARIMER
JEFFERSON
JEFFERSON
JEFFERSON
JEFFERSON
JEFFERSON
JEFFERSON
JEFFERSON
JEFFERSON
JEFFERSON
JEFFERSON
JEFFERSON
JEFFERSON
MORGAN
MORGAN
MORGAN
MORGAN
MORGAN
MORGAN
MORGAN
MORGAN
JEFFERSON
JEFFERSON
JEFFERSON
JEFFERSON
JEFFERSON
JEFFERSON
JEFFERSON
JEFFERSON
JEFFERSON
JEFFERSON
JEFFERSON
JEFFERSON
JEFFERSON
JEFFERSON
JEFFERSON
JEFFERSON
JEFFERSON
JEFFERSON
JEFFERSON
JEFFERSON
SEDGWICK
JEFFERSON
JEFFERSON
JEFFERSON
JEFFERSON
PHILLIPS
PHILLIPS
BOULDER
BOULDER
BOULDER
BOULDER
BOULDER
BOULDER
BOULDER
BOULDER
BOULDER
BOULDER
BOULDER
BOULDER
BOULDER
BOULDER
BOULDER
BOULDER
BOULDER
BOULDER
BOULDER
BOULDER
BOULDER
BOULDER
BOULDER
BOULDER
BOULDER
BOULDER
BOULDER
BOULDER
BOULDER
BOULDER
BOULDER
BOULDER
BOULDER
BOULDER
BOULDER
BOULDER
BOULDER
BOULDER
BOULDER
BOULDER
LOGAN
LOGAN
LOGAN
LOGAN
LOGAN
LOGAN
BOULDER
BOULDER
BOULDER
BOULDER
BOULDER
BOULDER
BOULDER
BOULDER
BOULDER
BOULDER
BOULDER
BOULDER
BOULDER
BOULDER
BOULDER
BOULDER
BOULDER
BOULDER
BOULDER
BOULDER
BOULDER
BOULDER
BOULDER
BOULDER
BOULDER
BOULDER
BOULDER
BOULDER
WELD
WELD
WELD
WELD
WELD
WELD
WELD
WELD
WELD
WELD
WELD
WELD
WELD
WELD
WELD
WELD
WELD
WELD
WELD
WELD
WELD
WELD
WELD
WELD
WELD
WELD
WELD
WELD
WELD
WELD
WELD
WELD
WELD
WELD
WELD
WELD
WELD
WELD
WELD
WELD
WELD
WELD
WELD
WELD
WELD
WELD
WASHINGTON
WELD
WELD
WELD
WELD
WELD
WELD
WELD
BROOMFIELD
BROOMFIELD
BROOMFIELD
BROOMFIELD
BROOMFIELD
BROOMFIELD
BROOMFIELD
BROOMFIELD
WELD
WELD
WELD
WELD
WELD
WELD
WELD
WELD
WELD
BROOMFIELD
BROOMFIELD
BROOMFIELD
BROOMFIELD
BROOMFIELD
BROOMFIELD
BROOMFIELD
WELD
WELD
WELD
WELD
WELD
WELD
WELD
WELD
WELD
WELD
WELD
WELD
WELD
WELD
WELD
GILPIN
DENVER
LAS ANIMAS
LAS ANIMAS
LAS ANIMAS
LAS ANIMAS
LAS ANIMAS
LAS ANIMAS
FREMONT
FREMONT
FREMONT
FREMONT
FREMONT
FREMONT
FREMONT
FREMONT
FREMONT
FREMONT
FREMONT
FREMONT
FREMONT
ADAMS
ADAMS
ADAMS
ADAMS
ADAMS
ADAMS
ADAMS
ADAMS
ADAMS
ADAMS
CUSTER
CROWLEY
OTERO
OTERO
OTERO
OTERO
OTERO
OTERO
OTERO
BENT
CHEYENNE
ELBERT
ELBERT
ELBERT
ELBERT
ELBERT
ELBERT
ELBERT
ADAMS
COSTILLA
COSTILLA
ADAMS
JEFFERSON
JEFFERSON
JEFFERSON
JEFFERSON
PROWERS
JEFFERSON
JEFFERSON
JEFFERSON
JEFFERSON
JEFFERSON
JEFFERSON
JEFFERSON
JEFFERSON
LINCOLN
LINCOLN
JEFFERSON
JEFFERSON
JEFFERSON
JEFFERSON
JEFFERSON
JEFFERSON
JEFFERSON
JEFFERSON
JEFFERSON
PROWERS
PROWERS
PROWERS
PROWERS
JEFFERSON
JEFFERSON
JEFFERSON
JEFFERSON
JEFFERSON
JEFFERSON
JEFFERSON
JEFFERSON
JEFFERSON
JEFFERSON
JEFFERSON
JEFFERSON
JEFFERSON
JEFFERSON
JEFFERSON
JEFFERSON
JEFFERSON
JEFFERSON
JEFFERSON
JEFFERSON
JEFFERSON
JEFFERSON
JEFFERSON
JEFFERSON
JEFFERSON
JEFFERSON
JEFFERSON
JEFFERSON
JEFFERSON
JEFFERSON
JEFFERSON
JEFFERSON
JEFFERSON
JEFFERSON
JEFFERSON
JEFFERSON
JEFFERSON
JEFFERSON
JEFFERSON
JEFFERSON
JEFFERSON
JEFFERSON
JEFFERSON
JEFFERSON
JEFFERSON
JEFFERSON
JEFFERSON
JEFFERSON
JEFFERSON
JEFFERSON
JEFFERSON
JEFFERSON
JEFFERSON
JEFFERSON
JEFFERSON
JEFFERSON
JEFFERSON
JEFFERSON
JEFFERSON
JEFFERSON
JEFFERSON
JEFFERSON
JEFFERSON
JEFFERSON
JEFFERSON
JEFFERSON
JEFFERSON
JEFFERSON
JEFFERSON
JEFFERSON
JEFFERSON
JEFFERSON
JEFFERSON
JEFFERSON
JEFFERSON
JEFFERSON
JEFFERSON
JEFFERSON
JEFFERSON
JEFFERSON
DOUGLAS
DOUGLAS
DOUGLAS
DOUGLAS
DOUGLAS
DOUGLAS
DOUGLAS
DOUGLAS
DOUGLAS
DOUGLAS
DOUGLAS
DOUGLAS
DOUGLAS
PUEBLO
PUEBLO
PUEBLO
PUEBLO
KIT CARSON
KIT CARSON
KIT CARSON
PUEBLO
PUEBLO
PUEBLO
PUEBLO
PUEBLO
PUEBLO
PUEBLO
PUEBLO
PUEBLO
PUEBLO
PUEBLO
PUEBLO
PUEBLO
PUEBLO
PUEBLO
PUEBLO
PUEBLO
PUEBLO
PUEBLO
PUEBLO
PUEBLO
PUEBLO
PUEBLO
PUEBLO
PUEBLO
PUEBLO
PUEBLO
PUEBLO
PUEBLO
PUEBLO
PUEBLO
PUEBLO
PUEBLO
PUEBLO
PUEBLO
PUEBLO
PUEBLO
PUEBLO
PUEBLO
PUEBLO
PUEBLO
PUEBLO
PUEBLO
PUEBLO
PUEBLO
PUEBLO
PUEBLO
PUEBLO
PUEBLO
PUEBLO
DOUGLAS
DOUGLAS
DOUGLAS
DOUGLAS
DOUGLAS
DOUGLAS
DOUGLAS
DOUGLAS
DOUGLAS
DOUGLAS
DOUGLAS
DOUGLAS
DOUGLAS
DOUGLAS
DOUGLAS
DOUGLAS
DOUGLAS
DOUGLAS
DOUGLAS
DOUGLAS
DOUGLAS
DOUGLAS
DOUGLAS
DOUGLAS
DOUGLAS
DOUGLAS
DOUGLAS
DOUGLAS
DOUGLAS
DOUGLAS
DOUGLAS
DOUGLAS
DOUGLAS
DOUGLAS
DOUGLAS
DOUGLAS
DOUGLAS
DOUGLAS
DOUGLAS
DOUGLAS
DOUGLAS
DOUGLAS
DOUGLAS
DOUGLAS
DOUGLAS
DOUGLAS
DOUGLAS
DOUGLAS
BACA
BACA
CLEAR CREEK
CLEAR CREEK
TELLER
TELLER
TELLER
TELLER
TELLER
TELLER
KIOWA
DENVER
DENVER
DENVER
DENVER
DENVER
DENVER
DENVER
DENVER
DENVER
DENVER
DENVER
DENVER
DENVER
DENVER
DENVER
DENVER
DENVER
DENVER
DENVER
DENVER
DENVER
DENVER
DENVER
DENVER
DENVER
DENVER
DENVER
DENVER
DENVER
DENVER
DENVER
DENVER
DENVER
DENVER
DENVER
DENVER
DENVER
DENVER
DENVER
DENVER
DENVER
DENVER
DENVER
DENVER
DENVER
DENVER
DENVER
DENVER
DENVER
DENVER
DENVER
DENVER
DENVER
DENVER
DENVER
DENVER
DENVER
DENVER
DENVER
DENVER
DENVER
DENVER
DENVER
DENVER
DENVER
DENVER
DENVER
DENVER
DENVER
DENVER
DENVER
DENVER
DENVER
DENVER
DENVER
DENVER
DENVER
DENVER
DENVER
DENVER
DENVER
DENVER
DENVER
DENVER
DENVER
DENVER
DENVER
DENVER
DENVER
DENVER
DENVER
DENVER
DENVER
DENVER
DENVER
DENVER
DENVER
DENVER
DENVER
DENVER
DENVER
DENVER
DENVER
DENVER
DENVER
DENVER
DENVER
DENVER
DENVER
DENVER
DENVER
DENVER
DENVER
DENVER
DENVER
DENVER
DENVER
DENVER
DENVER
DENVER
DENVER
DENVER
DENVER
DENVER
DENVER
DENVER
DENVER
DENVER
DENVER
DENVER
DENVER
DENVER
DENVER
DENVER
DENVER
DENVER
DENVER
DENVER
DENVER
DENVER
DENVER
DENVER
ARAPAHOE
ARAPAHOE
ARAPAHOE
ARAPAHOE
ARAPAHOE
ARAPAHOE
ARAPAHOE
ARAPAHOE
ARAPAHOE
ARAPAHOE
ARAPAHOE
EL PASO
EL PASO
EL PASO
EL PASO
EL PASO
EL PASO
EL PASO
EL PASO
EL PASO
EL PASO
EL PASO
EL PASO
EL PASO
EL PASO
EL PASO
EL PASO
EL PASO
EL PASO
EL PASO
EL PASO
EL PASO
EL PASO
EL PASO
EL PASO
EL PASO
EL PASO
EL PASO
EL PASO
EL PASO
EL PASO
EL PASO
EL PASO
EL PASO
EL PASO
EL PASO
EL PASO
EL PASO
EL PASO
EL PASO
EL PASO
EL PASO
EL PASO
EL PASO
EL PASO
EL PASO
EL PASO
EL PASO
EL PASO
EL PASO
EL PASO
EL PASO
EL PASO
EL PASO
EL PASO
EL PASO
EL PASO
EL PASO
EL PASO
EL PASO
EL PASO
EL PASO
EL PASO
EL PASO
EL PASO
EL PASO
EL PASO
EL PASO
EL PASO
EL PASO
EL PASO
EL PASO
EL PASO
EL PASO
EL PASO
EL PASO
EL PASO
EL PASO
EL PASO
EL PASO
EL PASO
EL PASO
EL PASO
EL PASO
EL PASO
EL PASO
EL PASO
EL PASO
EL PASO
EL PASO
EL PASO
EL PASO
EL PASO
EL PASO
EL PASO
EL PASO
EL PASO
EL PASO
EL PASO
EL PASO
EL PASO
EL PASO
EL PASO
EL PASO
EL PASO
EL PASO
EL PASO
EL PASO
EL PASO
EL PASO
EL PASO
ARAPAHOE
ARAPAHOE
ARAPAHOE
ARAPAHOE
ARAPAHOE
ARAPAHOE
ARAPAHOE
ARAPAHOE
ARAPAHOE
HUERFANO
HUERFANO
ARAPAHOE
ARAPAHOE
ARAPAHOE
ARAPAHOE
ARAPAHOE
ARAPAHOE
ARAPAHOE
ARAPAHOE
ARAPAHOE
ARAPAHOE
ARAPAHOE
ARAPAHOE
ARAPAHOE
ARAPAHOE
ARAPAHOE
ARAPAHOE
ARAPAHOE
ARAPAHOE
ARAPAHOE
ARAPAHOE
ARAPAHOE
ARAPAHOE
ARAPAHOE
ARAPAHOE
ARAPAHOE
ARAPAHOE
ARAPAHOE
ARAPAHOE
ARAPAHOE
ARAPAHOE
ARAPAHOE
ARAPAHOE
ARAPAHOE
ARAPAHOE
EL PASO
EL PASO
ARAPAHOE
ARAPAHOE
ARAPAHOE
ARAPAHOE
ARAPAHOE
ARAPAHOE
ARAPAHOE
ARAPAHOE
ARAPAHOE
ARAPAHOE
ARAPAHOE
ARAPAHOE
ARAPAHOE
ARAPAHOE
ARAPAHOE
EL PASO
EL PASO
EL PASO
EL PASO
EL PASO
EL PASO
EL PASO
EL PASO
EL PASO
EL PASO
EL PASO
EL PASO
EL PASO
EL PASO
EL PASO
ARAPAHOE
ARAPAHOE
ARAPAHOE
ARAPAHOE
ARAPAHOE
ARAPAHOE
ARAPAHOE
ARAPAHOE
ARAPAHOE
ARAPAHOE
ARAPAHOE
ARAPAHOE
ARAPAHOE
ARAPAHOE
ARAPAHOE
ARAPAHOE
ARAPAHOE
EL PASO
EL PASO
EL PASO
ARAPAHOE
ARAPAHOE
ARAPAHOE
ARAPAHOE
ARAPAHOE
ARAPAHOE
ARAPAHOE
ARAPAHOE
ARAPAHOE
ARAPAHOE
ARAPAHOE
ARAPAHOE
ARAPAHOE
ARAPAHOE
ARAPAHOE
ARAPAHOE
ARAPAHOE
ARAPAHOE
ARAPAHOE
ARAPAHOE
ARAPAHOE
ARAPAHOE
ARAPAHOE
ARAPAHOE
ARAPAHOE
ARAPAHOE
ARAPAHOE
ARAPAHOE
ARAPAHOE
ARAPAHOE
ARAPAHOE
ARAPAHOE
ARAPAHOE
ARAPAHOE
ARAPAHOE
ARAPAHOE
ARAPAHOE
ARAPAHOE
ARAPAHOE
ARAPAHOE
ARAPAHOE
ARAPAHOE
ARAPAHOE
ARAPAHOE
ARAPAHOE
ARAPAHOE
ARAPAHOE
ARAPAHOE
ARAPAHOE
ARAPAHOE
ARAPAHOE
ARAPAHOE
ARAPAHOE
ARAPAHOE
ARAPAHOE
ARAPAHOE
ARAPAHOE
ARAPAHOE
ARAPAHOE
ARAPAHOE
ARAPAHOE

In [47]:

# Ok--that looks like it's working.
# Lets build a list of counties using a list comprehension
counties = [line.split(',')[6] for line in lines[1:]]

# counties = list()
# for line in lines:
#     counties.append(line.split(',')[6])

print(counties)

['FREMONT', 'GARFIELD', 'LARIMER', 'YUMA', 'LARIMER', 'LARIMER', 'RIO BLANCO', 'RIO BLANCO', 'GRAND', 'GRAND', 'GRAND', 'MOFFAT', 'MOFFAT', 'MOFFAT', 'MOFFAT', 'JACKSON', 'WASHINGTON', 'ROUTT', 'ROUTT', 'ROUTT', 'ROUTT', 'ROUTT', 'ROUTT', 'ROUTT', 'ROUTT', 'GUNNISON', 'GUNNISON', 'GUNNISON', 'GUNNISON', 'CONEJOS', 'CONEJOS', 'EAGLE', 'EAGLE', 'EAGLE', 'EAGLE', 'EAGLE', 'EAGLE', 'EAGLE', 'EAGLE', 'EAGLE', 'EAGLE', 'EAGLE', 'EAGLE', 'EAGLE', 'EAGLE', 'GARFIELD', 'GARFIELD', 'GARFIELD', 'GARFIELD', 'GARFIELD', 'GARFIELD', 'GARFIELD', 'GARFIELD', 'GARFIELD', 'GARFIELD', 'LA PLATA', 'LA PLATA', 'LA PLATA', 'LA PLATA', 'PITKIN', 'PITKIN', 'PITKIN', 'PITKIN', 'SUMMIT', 'SUMMIT', 'SUMMIT', 'SUMMIT', 'SUMMIT', 'LA PLATA', 'LA PLATA', 'LA PLATA', 'LA PLATA', 'LA PLATA', 'LA PLATA', 'LAKE', 'LAKE', 'DELTA', 'DELTA', 'DELTA', 'DELTA', 'DELTA', 'DELTA', 'DELTA', 'ALAMOSA', 'ALAMOSA', 'SAN MIGUEL', 'SAN MIGUEL', 'SAN MIGUEL', 'SAN MIGUEL', 'MINERAL', 'MONTEZUMA', 'MONTEZUMA', 'MONTEZUMA', 'MONTEZUMA', 'MONTEZUMA', 'MONTEZUMA', 'MONTEZUMA', 'ALAMOSA', 'ALAMOSA', 'OURAY', 'DOLORES', 'SAGUACHE', 'SAGUACHE', 'RIO GRANDE', 'RIO GRANDE', 'RIO GRANDE', 'MESA', 'MESA', 'MESA', 'MESA', 'MESA', 'MESA', 'MESA', 'MESA', 'MESA', 'MESA', 'MESA', 'MESA', 'MESA', 'MESA', 'MESA', 'MESA', 'MESA', 'MESA', 'MESA', 'MESA', 'MESA', 'MESA', 'MESA', 'MESA', 'MESA', 'MESA', 'MESA', 'MESA', 'MESA', 'CLEAR CREEK', 'HINSDALE', 'CHAFFEE', 'CHAFFEE', 'CHAFFEE', 'CHAFFEE', 'CHAFFEE', 'SAN JUAN', 'MONTROSE', 'MONTROSE', 'MONTROSE', 'MONTROSE', 'MONTROSE', 'MONTROSE', 'MONTROSE', 'MONTROSE', 'MONTROSE', 'MONTROSE', 'ARCHULETA', 'ARCHULETA', 'ARCHULETA', 'ARCHULETA', 'PARK', 'PARK', 'PARK', 'PARK', 'PARK', 'ADAMS', 'ADAMS', 'ADAMS', 'ADAMS', 'ADAMS', 'ADAMS', 'ADAMS', 'ADAMS', 'LARIMER', 'LARIMER', 'LARIMER', 'LARIMER', 'LARIMER', 'LARIMER', 'LARIMER', 'LARIMER', 'LARIMER', 'LARIMER', 'LARIMER', 'LARIMER', 'ADAMS', 'ADAMS', 'ADAMS', 'ADAMS', 'ADAMS', 'ADAMS', 'ADAMS', 'ADAMS', 'ADAMS', 'ADAMS', 'ADAMS', 'ADAMS', 'ADAMS', 'ADAMS', 'ADAMS', 'ADAMS', 'ADAMS', 'ADAMS', 'ADAMS', 'ADAMS', 'ADAMS', 'ADAMS', 'ADAMS', 'ADAMS', 'ADAMS', 'ADAMS', 'ADAMS', 'ADAMS', 'ADAMS', 'ADAMS', 'ADAMS', 'ADAMS', 'LARIMER', 'LARIMER', 'LARIMER', 'LARIMER', 'YUMA', 'ADAMS', 'ADAMS', 'ADAMS', 'ADAMS', 'ADAMS', 'ADAMS', 'ADAMS', 'ADAMS', 'LARIMER', 'LARIMER', 'LARIMER', 'LARIMER', 'LARIMER', 'LARIMER', 'LARIMER', 'LARIMER', 'LARIMER', 'LARIMER', 'ADAMS', 'ADAMS', 'ADAMS', 'ADAMS', 'ADAMS', 'ADAMS', 'ADAMS', 'LARIMER', 'LARIMER', 'LARIMER', 'LARIMER', 'LARIMER', 'LARIMER', 'LARIMER', 'LARIMER', 'LARIMER', 'LARIMER', 'LARIMER', 'LARIMER', 'LARIMER', 'LARIMER', 'ADAMS', 'ADAMS', 'ADAMS', 'ADAMS', 'ADAMS', 'ADAMS', 'LARIMER', 'LARIMER', 'LARIMER', 'LARIMER', 'LARIMER', 'LARIMER', 'LARIMER', 'ADAMS', 'ADAMS', 'ADAMS', 'ADAMS', 'ADAMS', 'ADAMS', 'ADAMS', 'ADAMS', 'LARIMER', 'LARIMER', 'LARIMER', 'LARIMER', 'LARIMER', 'LARIMER', 'LARIMER', 'ADAMS', 'ADAMS', 'ADAMS', 'ADAMS', 'ADAMS', 'ADAMS', 'ADAMS', 'ADAMS', 'LARIMER', 'LARIMER', 'LARIMER', 'LARIMER', 'LARIMER', 'LARIMER', 'LARIMER', 'LARIMER', 'LARIMER', 'ADAMS', 'ADAMS', 'ADAMS', 'ADAMS', 'ADAMS', 'ADAMS', 'ADAMS', 'LARIMER', 'LARIMER', 'LARIMER', 'LARIMER', 'LARIMER', 'LARIMER', 'LARIMER', 'JEFFERSON', 'JEFFERSON', 'JEFFERSON', 'JEFFERSON', 'JEFFERSON', 'JEFFERSON', 'JEFFERSON', 'JEFFERSON', 'JEFFERSON', 'JEFFERSON', 'JEFFERSON', 'JEFFERSON', 'MORGAN', 'MORGAN', 'MORGAN', 'MORGAN', 'MORGAN', 'MORGAN', 'MORGAN', 'MORGAN', 'JEFFERSON', 'JEFFERSON', 'JEFFERSON', 'JEFFERSON', 'JEFFERSON', 'JEFFERSON', 'JEFFERSON', 'JEFFERSON', 'JEFFERSON', 'JEFFERSON', 'JEFFERSON', 'JEFFERSON', 'JEFFERSON', 'JEFFERSON', 'JEFFERSON', 'JEFFERSON', 'JEFFERSON', 'JEFFERSON', 'JEFFERSON', 'JEFFERSON', 'SEDGWICK', 'JEFFERSON', 'JEFFERSON', 'JEFFERSON', 'JEFFERSON', 'PHILLIPS', 'PHILLIPS', 'BOULDER', 'BOULDER', 'BOULDER', 'BOULDER', 'BOULDER', 'BOULDER', 'BOULDER', 'BOULDER', 'BOULDER', 'BOULDER', 'BOULDER', 'BOULDER', 'BOULDER', 'BOULDER', 'BOULDER', 'BOULDER', 'BOULDER', 'BOULDER', 'BOULDER', 'BOULDER', 'BOULDER', 'BOULDER', 'BOULDER', 'BOULDER', 'BOULDER', 'BOULDER', 'BOULDER', 'BOULDER', 'BOULDER', 'BOULDER', 'BOULDER', 'BOULDER', 'BOULDER', 'BOULDER', 'BOULDER', 'BOULDER', 'BOULDER', 'BOULDER', 'BOULDER', 'BOULDER', 'LOGAN', 'LOGAN', 'LOGAN', 'LOGAN', 'LOGAN', 'LOGAN', 'BOULDER', 'BOULDER', 'BOULDER', 'BOULDER', 'BOULDER', 'BOULDER', 'BOULDER', 'BOULDER', 'BOULDER', 'BOULDER', 'BOULDER', 'BOULDER', 'BOULDER', 'BOULDER', 'BOULDER', 'BOULDER', 'BOULDER', 'BOULDER', 'BOULDER', 'BOULDER', 'BOULDER', 'BOULDER', 'BOULDER', 'BOULDER', 'BOULDER', 'BOULDER', 'BOULDER', 'BOULDER', 'WELD', 'WELD', 'WELD', 'WELD', 'WELD', 'WELD', 'WELD', 'WELD', 'WELD', 'WELD', 'WELD', 'WELD', 'WELD', 'WELD', 'WELD', 'WELD', 'WELD', 'WELD', 'WELD', 'WELD', 'WELD', 'WELD', 'WELD', 'WELD', 'WELD', 'WELD', 'WELD', 'WELD', 'WELD', 'WELD', 'WELD', 'WELD', 'WELD', 'WELD', 'WELD', 'WELD', 'WELD', 'WELD', 'WELD', 'WELD', 'WELD', 'WELD', 'WELD', 'WELD', 'WELD', 'WELD', 'WASHINGTON', 'WELD', 'WELD', 'WELD', 'WELD', 'WELD', 'WELD', 'WELD', 'BROOMFIELD', 'BROOMFIELD', 'BROOMFIELD', 'BROOMFIELD', 'BROOMFIELD', 'BROOMFIELD', 'BROOMFIELD', 'BROOMFIELD', 'WELD', 'WELD', 'WELD', 'WELD', 'WELD', 'WELD', 'WELD', 'WELD', 'WELD', 'BROOMFIELD', 'BROOMFIELD', 'BROOMFIELD', 'BROOMFIELD', 'BROOMFIELD', 'BROOMFIELD', 'BROOMFIELD', 'WELD', 'WELD', 'WELD', 'WELD', 'WELD', 'WELD', 'WELD', 'WELD', 'WELD', 'WELD', 'WELD', 'WELD', 'WELD', 'WELD', 'WELD', 'GILPIN', 'DENVER', 'LAS ANIMAS', 'LAS ANIMAS', 'LAS ANIMAS', 'LAS ANIMAS', 'LAS ANIMAS', 'LAS ANIMAS', 'FREMONT', 'FREMONT', 'FREMONT', 'FREMONT', 'FREMONT', 'FREMONT', 'FREMONT', 'FREMONT', 'FREMONT', 'FREMONT', 'FREMONT', 'FREMONT', 'FREMONT', 'ADAMS', 'ADAMS', 'ADAMS', 'ADAMS', 'ADAMS', 'ADAMS', 'ADAMS', 'ADAMS', 'ADAMS', 'ADAMS', 'CUSTER', 'CROWLEY', 'OTERO', 'OTERO', 'OTERO', 'OTERO', 'OTERO', 'OTERO', 'OTERO', 'BENT', 'CHEYENNE', 'ELBERT', 'ELBERT', 'ELBERT', 'ELBERT', 'ELBERT', 'ELBERT', 'ELBERT', 'ADAMS', 'COSTILLA', 'COSTILLA', 'ADAMS', 'JEFFERSON', 'JEFFERSON', 'JEFFERSON', 'JEFFERSON', 'PROWERS', 'JEFFERSON', 'JEFFERSON', 'JEFFERSON', 'JEFFERSON', 'JEFFERSON', 'JEFFERSON', 'JEFFERSON', 'JEFFERSON', 'LINCOLN', 'LINCOLN', 'JEFFERSON', 'JEFFERSON', 'JEFFERSON', 'JEFFERSON', 'JEFFERSON', 'JEFFERSON', 'JEFFERSON', 'JEFFERSON', 'JEFFERSON', 'PROWERS', 'PROWERS', 'PROWERS', 'PROWERS', 'JEFFERSON', 'JEFFERSON', 'JEFFERSON', 'JEFFERSON', 'JEFFERSON', 'JEFFERSON', 'JEFFERSON', 'JEFFERSON', 'JEFFERSON', 'JEFFERSON', 'JEFFERSON', 'JEFFERSON', 'JEFFERSON', 'JEFFERSON', 'JEFFERSON', 'JEFFERSON', 'JEFFERSON', 'JEFFERSON', 'JEFFERSON', 'JEFFERSON', 'JEFFERSON', 'JEFFERSON', 'JEFFERSON', 'JEFFERSON', 'JEFFERSON', 'JEFFERSON', 'JEFFERSON', 'JEFFERSON', 'JEFFERSON', 'JEFFERSON', 'JEFFERSON', 'JEFFERSON', 'JEFFERSON', 'JEFFERSON', 'JEFFERSON', 'JEFFERSON', 'JEFFERSON', 'JEFFERSON', 'JEFFERSON', 'JEFFERSON', 'JEFFERSON', 'JEFFERSON', 'JEFFERSON', 'JEFFERSON', 'JEFFERSON', 'JEFFERSON', 'JEFFERSON', 'JEFFERSON', 'JEFFERSON', 'JEFFERSON', 'JEFFERSON', 'JEFFERSON', 'JEFFERSON', 'JEFFERSON', 'JEFFERSON', 'JEFFERSON', 'JEFFERSON', 'JEFFERSON', 'JEFFERSON', 'JEFFERSON', 'JEFFERSON', 'JEFFERSON', 'JEFFERSON', 'JEFFERSON', 'JEFFERSON', 'JEFFERSON', 'JEFFERSON', 'JEFFERSON', 'JEFFERSON', 'JEFFERSON', 'JEFFERSON', 'JEFFERSON', 'JEFFERSON', 'JEFFERSON', 'JEFFERSON', 'JEFFERSON', 'JEFFERSON', 'JEFFERSON', 'JEFFERSON', 'JEFFERSON', 'DOUGLAS', 'DOUGLAS', 'DOUGLAS', 'DOUGLAS', 'DOUGLAS', 'DOUGLAS', 'DOUGLAS', 'DOUGLAS', 'DOUGLAS', 'DOUGLAS', 'DOUGLAS', 'DOUGLAS', 'DOUGLAS', 'PUEBLO', 'PUEBLO', 'PUEBLO', 'PUEBLO', 'KIT CARSON', 'KIT CARSON', 'KIT CARSON', 'PUEBLO', 'PUEBLO', 'PUEBLO', 'PUEBLO', 'PUEBLO', 'PUEBLO', 'PUEBLO', 'PUEBLO', 'PUEBLO', 'PUEBLO', 'PUEBLO', 'PUEBLO', 'PUEBLO', 'PUEBLO', 'PUEBLO', 'PUEBLO', 'PUEBLO', 'PUEBLO', 'PUEBLO', 'PUEBLO', 'PUEBLO', 'PUEBLO', 'PUEBLO', 'PUEBLO', 'PUEBLO', 'PUEBLO', 'PUEBLO', 'PUEBLO', 'PUEBLO', 'PUEBLO', 'PUEBLO', 'PUEBLO', 'PUEBLO', 'PUEBLO', 'PUEBLO', 'PUEBLO', 'PUEBLO', 'PUEBLO', 'PUEBLO', 'PUEBLO', 'PUEBLO', 'PUEBLO', 'PUEBLO', 'PUEBLO', 'PUEBLO', 'PUEBLO', 'PUEBLO', 'PUEBLO', 'PUEBLO', 'PUEBLO', 'DOUGLAS', 'DOUGLAS', 'DOUGLAS', 'DOUGLAS', 'DOUGLAS', 'DOUGLAS', 'DOUGLAS', 'DOUGLAS', 'DOUGLAS', 'DOUGLAS', 'DOUGLAS', 'DOUGLAS', 'DOUGLAS', 'DOUGLAS', 'DOUGLAS', 'DOUGLAS', 'DOUGLAS', 'DOUGLAS', 'DOUGLAS', 'DOUGLAS', 'DOUGLAS', 'DOUGLAS', 'DOUGLAS', 'DOUGLAS', 'DOUGLAS', 'DOUGLAS', 'DOUGLAS', 'DOUGLAS', 'DOUGLAS', 'DOUGLAS', 'DOUGLAS', 'DOUGLAS', 'DOUGLAS', 'DOUGLAS', 'DOUGLAS', 'DOUGLAS', 'DOUGLAS', 'DOUGLAS', 'DOUGLAS', 'DOUGLAS', 'DOUGLAS', 'DOUGLAS', 'DOUGLAS', 'DOUGLAS', 'DOUGLAS', 'DOUGLAS', 'DOUGLAS', 'DOUGLAS', 'BACA', 'BACA', 'CLEAR CREEK', 'CLEAR CREEK', 'TELLER', 'TELLER', 'TELLER', 'TELLER', 'TELLER', 'TELLER', 'KIOWA', 'DENVER', 'DENVER', 'DENVER', 'DENVER', 'DENVER', 'DENVER', 'DENVER', 'DENVER', 'DENVER', 'DENVER', 'DENVER', 'DENVER', 'DENVER', 'DENVER', 'DENVER', 'DENVER', 'DENVER', 'DENVER', 'DENVER', 'DENVER', 'DENVER', 'DENVER', 'DENVER', 'DENVER', 'DENVER', 'DENVER', 'DENVER', 'DENVER', 'DENVER', 'DENVER', 'DENVER', 'DENVER', 'DENVER', 'DENVER', 'DENVER', 'DENVER', 'DENVER', 'DENVER', 'DENVER', 'DENVER', 'DENVER', 'DENVER', 'DENVER', 'DENVER', 'DENVER', 'DENVER', 'DENVER', 'DENVER', 'DENVER', 'DENVER', 'DENVER', 'DENVER', 'DENVER', 'DENVER', 'DENVER', 'DENVER', 'DENVER', 'DENVER', 'DENVER', 'DENVER', 'DENVER', 'DENVER', 'DENVER', 'DENVER', 'DENVER', 'DENVER', 'DENVER', 'DENVER', 'DENVER', 'DENVER', 'DENVER', 'DENVER', 'DENVER', 'DENVER', 'DENVER', 'DENVER', 'DENVER', 'DENVER', 'DENVER', 'DENVER', 'DENVER', 'DENVER', 'DENVER', 'DENVER', 'DENVER', 'DENVER', 'DENVER', 'DENVER', 'DENVER', 'DENVER', 'DENVER', 'DENVER', 'DENVER', 'DENVER', 'DENVER', 'DENVER', 'DENVER', 'DENVER', 'DENVER', 'DENVER', 'DENVER', 'DENVER', 'DENVER', 'DENVER', 'DENVER', 'DENVER', 'DENVER', 'DENVER', 'DENVER', 'DENVER', 'DENVER', 'DENVER', 'DENVER', 'DENVER', 'DENVER', 'DENVER', 'DENVER', 'DENVER', 'DENVER', 'DENVER', 'DENVER', 'DENVER', 'DENVER', 'DENVER', 'DENVER', 'DENVER', 'DENVER', 'DENVER', 'DENVER', 'DENVER', 'DENVER', 'DENVER', 'DENVER', 'DENVER', 'DENVER', 'DENVER', 'DENVER', 'DENVER', 'DENVER', 'DENVER', 'DENVER', 'DENVER', 'ARAPAHOE', 'ARAPAHOE', 'ARAPAHOE', 'ARAPAHOE', 'ARAPAHOE', 'ARAPAHOE', 'ARAPAHOE', 'ARAPAHOE', 'ARAPAHOE', 'ARAPAHOE', 'ARAPAHOE', 'EL PASO', 'EL PASO', 'EL PASO', 'EL PASO', 'EL PASO', 'EL PASO', 'EL PASO', 'EL PASO', 'EL PASO', 'EL PASO', 'EL PASO', 'EL PASO', 'EL PASO', 'EL PASO', 'EL PASO', 'EL PASO', 'EL PASO', 'EL PASO', 'EL PASO', 'EL PASO', 'EL PASO', 'EL PASO', 'EL PASO', 'EL PASO', 'EL PASO', 'EL PASO', 'EL PASO', 'EL PASO', 'EL PASO', 'EL PASO', 'EL PASO', 'EL PASO', 'EL PASO', 'EL PASO', 'EL PASO', 'EL PASO', 'EL PASO', 'EL PASO', 'EL PASO', 'EL PASO', 'EL PASO', 'EL PASO', 'EL PASO', 'EL PASO', 'EL PASO', 'EL PASO', 'EL PASO', 'EL PASO', 'EL PASO', 'EL PASO', 'EL PASO', 'EL PASO', 'EL PASO', 'EL PASO', 'EL PASO', 'EL PASO', 'EL PASO', 'EL PASO', 'EL PASO', 'EL PASO', 'EL PASO', 'EL PASO', 'EL PASO', 'EL PASO', 'EL PASO', 'EL PASO', 'EL PASO', 'EL PASO', 'EL PASO', 'EL PASO', 'EL PASO', 'EL PASO', 'EL PASO', 'EL PASO', 'EL PASO', 'EL PASO', 'EL PASO', 'EL PASO', 'EL PASO', 'EL PASO', 'EL PASO', 'EL PASO', 'EL PASO', 'EL PASO', 'EL PASO', 'EL PASO', 'EL PASO', 'EL PASO', 'EL PASO', 'EL PASO', 'EL PASO', 'EL PASO', 'EL PASO', 'EL PASO', 'EL PASO', 'EL PASO', 'EL PASO', 'EL PASO', 'EL PASO', 'EL PASO', 'EL PASO', 'EL PASO', 'EL PASO', 'EL PASO', 'EL PASO', 'EL PASO', 'EL PASO', 'EL PASO', 'EL PASO', 'EL PASO', 'ARAPAHOE', 'ARAPAHOE', 'ARAPAHOE', 'ARAPAHOE', 'ARAPAHOE', 'ARAPAHOE', 'ARAPAHOE', 'ARAPAHOE', 'ARAPAHOE', 'HUERFANO', 'HUERFANO', 'ARAPAHOE', 'ARAPAHOE', 'ARAPAHOE', 'ARAPAHOE', 'ARAPAHOE', 'ARAPAHOE', 'ARAPAHOE', 'ARAPAHOE', 'ARAPAHOE', 'ARAPAHOE', 'ARAPAHOE', 'ARAPAHOE', 'ARAPAHOE', 'ARAPAHOE', 'ARAPAHOE', 'ARAPAHOE', 'ARAPAHOE', 'ARAPAHOE', 'ARAPAHOE', 'ARAPAHOE', 'ARAPAHOE', 'ARAPAHOE', 'ARAPAHOE', 'ARAPAHOE', 'ARAPAHOE', 'ARAPAHOE', 'ARAPAHOE', 'ARAPAHOE', 'ARAPAHOE', 'ARAPAHOE', 'ARAPAHOE', 'ARAPAHOE', 'ARAPAHOE', 'ARAPAHOE', 'EL PASO', 'EL PASO', 'ARAPAHOE', 'ARAPAHOE', 'ARAPAHOE', 'ARAPAHOE', 'ARAPAHOE', 'ARAPAHOE', 'ARAPAHOE', 'ARAPAHOE', 'ARAPAHOE', 'ARAPAHOE', 'ARAPAHOE', 'ARAPAHOE', 'ARAPAHOE', 'ARAPAHOE', 'ARAPAHOE', 'EL PASO', 'EL PASO', 'EL PASO', 'EL PASO', 'EL PASO', 'EL PASO', 'EL PASO', 'EL PASO', 'EL PASO', 'EL PASO', 'EL PASO', 'EL PASO', 'EL PASO', 'EL PASO', 'EL PASO', 'ARAPAHOE', 'ARAPAHOE', 'ARAPAHOE', 'ARAPAHOE', 'ARAPAHOE', 'ARAPAHOE', 'ARAPAHOE', 'ARAPAHOE', 'ARAPAHOE', 'ARAPAHOE', 'ARAPAHOE', 'ARAPAHOE', 'ARAPAHOE', 'ARAPAHOE', 'ARAPAHOE', 'ARAPAHOE', 'ARAPAHOE', 'EL PASO', 'EL PASO', 'EL PASO', 'ARAPAHOE', 'ARAPAHOE', 'ARAPAHOE', 'ARAPAHOE', 'ARAPAHOE', 'ARAPAHOE', 'ARAPAHOE', 'ARAPAHOE', 'ARAPAHOE', 'ARAPAHOE', 'ARAPAHOE', 'ARAPAHOE', 'ARAPAHOE', 'ARAPAHOE', 'ARAPAHOE', 'ARAPAHOE', 'ARAPAHOE', 'ARAPAHOE', 'ARAPAHOE', 'ARAPAHOE', 'ARAPAHOE', 'ARAPAHOE', 'ARAPAHOE', 'ARAPAHOE', 'ARAPAHOE', 'ARAPAHOE', 'ARAPAHOE', 'ARAPAHOE', 'ARAPAHOE', 'ARAPAHOE', 'ARAPAHOE', 'ARAPAHOE', 'ARAPAHOE', 'ARAPAHOE', 'ARAPAHOE', 'ARAPAHOE', 'ARAPAHOE', 'ARAPAHOE', 'ARAPAHOE', 'ARAPAHOE', 'ARAPAHOE', 'ARAPAHOE', 'ARAPAHOE', 'ARAPAHOE', 'ARAPAHOE', 'ARAPAHOE', 'ARAPAHOE', 'ARAPAHOE', 'ARAPAHOE', 'ARAPAHOE', 'ARAPAHOE', 'ARAPAHOE', 'ARAPAHOE', 'ARAPAHOE', 'ARAPAHOE', 'ARAPAHOE', 'ARAPAHOE', 'ARAPAHOE', 'ARAPAHOE', 'ARAPAHOE', 'ARAPAHOE']

In [52]:

# Cool set theoretic operations
grog = set(['DENVER', 'MINERAL', 'EAGLE', 'SAGUACHE', 'ELBERT', 'RIO GRANDE', 'MONTEZUMA', 'FREMONT', 'EL PASO', 'MOFFAT', 'MESA', 'HUERFANO', 'OTERO', 'PITKIN', 'LARIMER', 'LOGAN', 'KIT CARSON'])
grok = set(['EL PASO', 'MOFFAT', 'MESA', 'HUERFANO', 'OTERO', 'PITKIN', 'LARIMER', 'LOGAN', 'KIT CARSON', 'PHILLIPS', 'ADAMS', 'ROUTT', 'LAKE', 'GUNNISON', 'CHAFFEE', 'PARK', 'MORGAN'])

grog.difference(grok)

Out[52]:

{'DENVER',
 'EAGLE',
 'ELBERT',
 'FREMONT',
 'MINERAL',
 'MONTEZUMA',
 'RIO GRANDE',
 'SAGUACHE'}

In [48]:

# There are lots of repeats
# In Python, a set is a data structure with only unique elements
# Lets use a set to show the unique entries
c_set = set(counties)
print(c_set)

{'DENVER', 'MINERAL', 'EAGLE', 'SAGUACHE', 'ELBERT', 'RIO GRANDE', 'MONTEZUMA', 'FREMONT', 'EL PASO', 'MOFFAT', 'MESA', 'HUERFANO', 'OTERO', 'PITKIN', 'LARIMER', 'LOGAN', 'KIT CARSON', 'PHILLIPS', 'ADAMS', 'ROUTT', 'LAKE', 'GUNNISON', 'CHAFFEE', 'PARK', 'MORGAN', 'CROWLEY', 'CHEYENNE', 'JACKSON', 'SAN MIGUEL', 'SAN JUAN', 'MONTROSE', 'SEDGWICK', 'BENT', 'ARCHULETA', 'GILPIN', 'BOULDER', 'COSTILLA', 'PUEBLO', 'HINSDALE', 'RIO BLANCO', 'CONEJOS', 'KIOWA', 'YUMA', 'ALAMOSA', 'WELD', 'DOLORES', 'CUSTER', 'SUMMIT', 'LAS ANIMAS', 'BACA', 'BROOMFIELD', 'PROWERS', 'TELLER', 'GARFIELD', 'ARAPAHOE', 'JEFFERSON', 'GRAND', 'OURAY', 'DOUGLAS', 'WASHINGTON', 'LINCOLN', 'CLEAR CREEK', 'DELTA', 'LA PLATA'}

In [53]:

# Looking good!   Lets alphabetize them
c_set.sort()

---------------------------------------------------------------------------
AttributeError                            Traceback (most recent call last)
<ipython-input-53-fa118d92f64d> in <module>()
      1 # Looking good!   Lets alphabetize them
----> 2 c_set.sort()

AttributeError: 'set' object has no attribute 'sort'

In [60]:

# Ug!  You can't sort a set! Must make it a list, first
c_list = list(c_set)
c_list.sort()
print(c_list)

['ADAMS', 'ALAMOSA', 'ARAPAHOE', 'ARCHULETA', 'BACA', 'BENT', 'BOULDER', 'BROOMFIELD', 'CHAFFEE', 'CHEYENNE', 'CLEAR CREEK', 'CONEJOS', 'COSTILLA', 'CROWLEY', 'CUSTER', 'DELTA', 'DENVER', 'DOLORES', 'DOUGLAS', 'EAGLE', 'EL PASO', 'ELBERT', 'FREMONT', 'GARFIELD', 'GILPIN', 'GRAND', 'GUNNISON', 'HINSDALE', 'HUERFANO', 'JACKSON', 'JEFFERSON', 'KIOWA', 'KIT CARSON', 'LA PLATA', 'LAKE', 'LARIMER', 'LAS ANIMAS', 'LINCOLN', 'LOGAN', 'MESA', 'MINERAL', 'MOFFAT', 'MONTEZUMA', 'MONTROSE', 'MORGAN', 'OTERO', 'OURAY', 'PARK', 'PHILLIPS', 'PITKIN', 'PROWERS', 'PUEBLO', 'RIO BLANCO', 'RIO GRANDE', 'ROUTT', 'SAGUACHE', 'SAN JUAN', 'SAN MIGUEL', 'SEDGWICK', 'SUMMIT', 'TELLER', 'WASHINGTON', 'WELD', 'YUMA']

In [61]:

help('')

Help on class str in module builtins:

class str(object)
 |  str(object='') -> str
 |  str(bytes_or_buffer[, encoding[, errors]]) -> str
 |  
 |  Create a new string object from the given object. If encoding or
 |  errors is specified, then the object must expose a data buffer
 |  that will be decoded using the given encoding and error handler.
 |  Otherwise, returns the result of object.__str__() (if defined)
 |  or repr(object).
 |  encoding defaults to sys.getdefaultencoding().
 |  errors defaults to 'strict'.
 |  
 |  Methods defined here:
 |  
 |  __add__(self, value, /)
 |      Return self+value.
 |  
 |  __contains__(self, key, /)
 |      Return key in self.
 |  
 |  __eq__(self, value, /)
 |      Return self==value.
 |  
 |  __format__(...)
 |      S.__format__(format_spec) -> str
 |      
 |      Return a formatted version of S as described by format_spec.
 |  
 |  __ge__(self, value, /)
 |      Return self>=value.
 |  
 |  __getattribute__(self, name, /)
 |      Return getattr(self, name).
 |  
 |  __getitem__(self, key, /)
 |      Return self[key].
 |  
 |  __getnewargs__(...)
 |  
 |  __gt__(self, value, /)
 |      Return self>value.
 |  
 |  __hash__(self, /)
 |      Return hash(self).
 |  
 |  __iter__(self, /)
 |      Implement iter(self).
 |  
 |  __le__(self, value, /)
 |      Return self<=value.
 |  
 |  __len__(self, /)
 |      Return len(self).
 |  
 |  __lt__(self, value, /)
 |      Return self<value.
 |  
 |  __mod__(self, value, /)
 |      Return self%value.
 |  
 |  __mul__(self, value, /)
 |      Return self*value.n
 |  
 |  __ne__(self, value, /)
 |      Return self!=value.
 |  
 |  __new__(*args, **kwargs) from builtins.type
 |      Create and return a new object.  See help(type) for accurate signature.
 |  
 |  __repr__(self, /)
 |      Return repr(self).
 |  
 |  __rmod__(self, value, /)
 |      Return value%self.
 |  
 |  __rmul__(self, value, /)
 |      Return self*value.
 |  
 |  __sizeof__(...)
 |      S.__sizeof__() -> size of S in memory, in bytes
 |  
 |  __str__(self, /)
 |      Return str(self).
 |  
 |  capitalize(...)
 |      S.capitalize() -> str
 |      
 |      Return a capitalized version of S, i.e. make the first character
 |      have upper case and the rest lower case.
 |  
 |  casefold(...)
 |      S.casefold() -> str
 |      
 |      Return a version of S suitable for caseless comparisons.
 |  
 |  center(...)
 |      S.center(width[, fillchar]) -> str
 |      
 |      Return S centered in a string of length width. Padding is
 |      done using the specified fill character (default is a space)
 |  
 |  count(...)
 |      S.count(sub[, start[, end]]) -> int
 |      
 |      Return the number of non-overlapping occurrences of substring sub in
 |      string S[start:end].  Optional arguments start and end are
 |      interpreted as in slice notation.
 |  
 |  encode(...)
 |      S.encode(encoding='utf-8', errors='strict') -> bytes
 |      
 |      Encode S using the codec registered for encoding. Default encoding
 |      is 'utf-8'. errors may be given to set a different error
 |      handling scheme. Default is 'strict' meaning that encoding errors raise
 |      a UnicodeEncodeError. Other possible values are 'ignore', 'replace' and
 |      'xmlcharrefreplace' as well as any other name registered with
 |      codecs.register_error that can handle UnicodeEncodeErrors.
 |  
 |  endswith(...)
 |      S.endswith(suffix[, start[, end]]) -> bool
 |      
 |      Return True if S ends with the specified suffix, False otherwise.
 |      With optional start, test S beginning at that position.
 |      With optional end, stop comparing S at that position.
 |      suffix can also be a tuple of strings to try.
 |  
 |  expandtabs(...)
 |      S.expandtabs(tabsize=8) -> str
 |      
 |      Return a copy of S where all tab characters are expanded using spaces.
 |      If tabsize is not given, a tab size of 8 characters is assumed.
 |  
 |  find(...)
 |      S.find(sub[, start[, end]]) -> int
 |      
 |      Return the lowest index in S where substring sub is found,
 |      such that sub is contained within S[start:end].  Optional
 |      arguments start and end are interpreted as in slice notation.
 |      
 |      Return -1 on failure.
 |  
 |  format(...)
 |      S.format(*args, **kwargs) -> str
 |      
 |      Return a formatted version of S, using substitutions from args and kwargs.
 |      The substitutions are identified by braces ('{' and '}').
 |  
 |  format_map(...)
 |      S.format_map(mapping) -> str
 |      
 |      Return a formatted version of S, using substitutions from mapping.
 |      The substitutions are identified by braces ('{' and '}').
 |  
 |  index(...)
 |      S.index(sub[, start[, end]]) -> int
 |      
 |      Return the lowest index in S where substring sub is found, 
 |      such that sub is contained within S[start:end].  Optional
 |      arguments start and end are interpreted as in slice notation.
 |      
 |      Raises ValueError when the substring is not found.
 |  
 |  isalnum(...)
 |      S.isalnum() -> bool
 |      
 |      Return True if all characters in S are alphanumeric
 |      and there is at least one character in S, False otherwise.
 |  
 |  isalpha(...)
 |      S.isalpha() -> bool
 |      
 |      Return True if all characters in S are alphabetic
 |      and there is at least one character in S, False otherwise.
 |  
 |  isdecimal(...)
 |      S.isdecimal() -> bool
 |      
 |      Return True if there are only decimal characters in S,
 |      False otherwise.
 |  
 |  isdigit(...)
 |      S.isdigit() -> bool
 |      
 |      Return True if all characters in S are digits
 |      and there is at least one character in S, False otherwise.
 |  
 |  isidentifier(...)
 |      S.isidentifier() -> bool
 |      
 |      Return True if S is a valid identifier according
 |      to the language definition.
 |      
 |      Use keyword.iskeyword() to test for reserved identifiers
 |      such as "def" and "class".
 |  
 |  islower(...)
 |      S.islower() -> bool
 |      
 |      Return True if all cased characters in S are lowercase and there is
 |      at least one cased character in S, False otherwise.
 |  
 |  isnumeric(...)
 |      S.isnumeric() -> bool
 |      
 |      Return True if there are only numeric characters in S,
 |      False otherwise.
 |  
 |  isprintable(...)
 |      S.isprintable() -> bool
 |      
 |      Return True if all characters in S are considered
 |      printable in repr() or S is empty, False otherwise.
 |  
 |  isspace(...)
 |      S.isspace() -> bool
 |      
 |      Return True if all characters in S are whitespace
 |      and there is at least one character in S, False otherwise.
 |  
 |  istitle(...)
 |      S.istitle() -> bool
 |      
 |      Return True if S is a titlecased string and there is at least one
 |      character in S, i.e. upper- and titlecase characters may only
 |      follow uncased characters and lowercase characters only cased ones.
 |      Return False otherwise.
 |  
 |  isupper(...)
 |      S.isupper() -> bool
 |      
 |      Return True if all cased characters in S are uppercase and there is
 |      at least one cased character in S, False otherwise.
 |  
 |  join(...)
 |      S.join(iterable) -> str
 |      
 |      Return a string which is the concatenation of the strings in the
 |      iterable.  The separator between elements is S.
 |  
 |  ljust(...)
 |      S.ljust(width[, fillchar]) -> str
 |      
 |      Return S left-justified in a Unicode string of length width. Padding is
 |      done using the specified fill character (default is a space).
 |  
 |  lower(...)
 |      S.lower() -> str
 |      
 |      Return a copy of the string S converted to lowercase.
 |  
 |  lstrip(...)
 |      S.lstrip([chars]) -> str
 |      
 |      Return a copy of the string S with leading whitespace removed.
 |      If chars is given and not None, remove characters in chars instead.
 |  
 |  partition(...)
 |      S.partition(sep) -> (head, sep, tail)
 |      
 |      Search for the separator sep in S, and return the part before it,
 |      the separator itself, and the part after it.  If the separator is not
 |      found, return S and two empty strings.
 |  
 |  replace(...)
 |      S.replace(old, new[, count]) -> str
 |      
 |      Return a copy of S with all occurrences of substring
 |      old replaced by new.  If the optional argument count is
 |      given, only the first count occurrences are replaced.
 |  
 |  rfind(...)
 |      S.rfind(sub[, start[, end]]) -> int
 |      
 |      Return the highest index in S where substring sub is found,
 |      such that sub is contained within S[start:end].  Optional
 |      arguments start and end are interpreted as in slice notation.
 |      
 |      Return -1 on failure.
 |  
 |  rindex(...)
 |      S.rindex(sub[, start[, end]]) -> int
 |      
 |      Return the highest index in S where substring sub is found,
 |      such that sub is contained within S[start:end].  Optional
 |      arguments start and end are interpreted as in slice notation.
 |      
 |      Raises ValueError when the substring is not found.
 |  
 |  rjust(...)
 |      S.rjust(width[, fillchar]) -> str
 |      
 |      Return S right-justified in a string of length width. Padding is
 |      done using the specified fill character (default is a space).
 |  
 |  rpartition(...)
 |      S.rpartition(sep) -> (head, sep, tail)
 |      
 |      Search for the separator sep in S, starting at the end of S, and return
 |      the part before it, the separator itself, and the part after it.  If the
 |      separator is not found, return two empty strings and S.
 |  
 |  rsplit(...)
 |      S.rsplit(sep=None, maxsplit=-1) -> list of strings
 |      
 |      Return a list of the words in S, using sep as the
 |      delimiter string, starting at the end of the string and
 |      working to the front.  If maxsplit is given, at most maxsplit
 |      splits are done. If sep is not specified, any whitespace string
 |      is a separator.
 |  
 |  rstrip(...)
 |      S.rstrip([chars]) -> str
 |      
 |      Return a copy of the string S with trailing whitespace removed.
 |      If chars is given and not None, remove characters in chars instead.
 |  
 |  split(...)
 |      S.split(sep=None, maxsplit=-1) -> list of strings
 |      
 |      Return a list of the words in S, using sep as the
 |      delimiter string.  If maxsplit is given, at most maxsplit
 |      splits are done. If sep is not specified or is None, any
 |      whitespace string is a separator and empty strings are
 |      removed from the result.
 |  
 |  splitlines(...)
 |      S.splitlines([keepends]) -> list of strings
 |      
 |      Return a list of the lines in S, breaking at line boundaries.
 |      Line breaks are not included in the resulting list unless keepends
 |      is given and true.
 |  
 |  startswith(...)
 |      S.startswith(prefix[, start[, end]]) -> bool
 |      
 |      Return True if S starts with the specified prefix, False otherwise.
 |      With optional start, test S beginning at that position.
 |      With optional end, stop comparing S at that position.
 |      prefix can also be a tuple of strings to try.
 |  
 |  strip(...)
 |      S.strip([chars]) -> str
 |      
 |      Return a copy of the string S with leading and trailing
 |      whitespace removed.
 |      If chars is given and not None, remove characters in chars instead.
 |  
 |  swapcase(...)
 |      S.swapcase() -> str
 |      
 |      Return a copy of S with uppercase characters converted to lowercase
 |      and vice versa.
 |  
 |  title(...)
 |      S.title() -> str
 |      
 |      Return a titlecased version of S, i.e. words start with title case
 |      characters, all remaining cased characters have lower case.
 |  
 |  translate(...)
 |      S.translate(table) -> str
 |      
 |      Return a copy of the string S in which each character has been mapped
 |      through the given translation table. The table must implement
 |      lookup/indexing via __getitem__, for instance a dictionary or list,
 |      mapping Unicode ordinals to Unicode ordinals, strings, or None. If
 |      this operation raises LookupError, the character is left untouched.
 |      Characters mapped to None are deleted.
 |  
 |  upper(...)
 |      S.upper() -> str
 |      
 |      Return a copy of S converted to uppercase.
 |  
 |  zfill(...)
 |      S.zfill(width) -> str
 |      
 |      Pad a numeric string S with zeros on the left, to fill a field
 |      of the specified width. The string S is never truncated.
 |  
 |  ----------------------------------------------------------------------
 |  Static methods defined here:
 |  
 |  maketrans(x, y=None, z=None, /)
 |      Return a translation table usable for str.translate().
 |      
 |      If there is only one argument, it must be a dictionary mapping Unicode
 |      ordinals (integers) or characters to Unicode ordinals, strings or None.
 |      Character keys will be then converted to ordinals.
 |      If there are two arguments, they must be strings of equal length, and
 |      in the resulting dictionary, each character in x will be mapped to the
 |      character at the same position in y. If there is a third argument, it
 |      must be a string, whose characters will be mapped to None in the result.

In [70]:

[xx.center(33) for xx in counties]

Out[70]:

['             FREMONT             ',
 '             GARFIELD            ',
 '             LARIMER             ',
 '               YUMA              ',
 '             LARIMER             ',
 '             LARIMER             ',
 '            RIO BLANCO           ',
 '            RIO BLANCO           ',
 '              GRAND              ',
 '              GRAND              ',
 '              GRAND              ',
 '              MOFFAT             ',
 '              MOFFAT             ',
 '              MOFFAT             ',
 '              MOFFAT             ',
 '             JACKSON             ',
 '            WASHINGTON           ',
 '              ROUTT              ',
 '              ROUTT              ',
 '              ROUTT              ',
 '              ROUTT              ',
 '              ROUTT              ',
 '              ROUTT              ',
 '              ROUTT              ',
 '              ROUTT              ',
 '             GUNNISON            ',
 '             GUNNISON            ',
 '             GUNNISON            ',
 '             GUNNISON            ',
 '             CONEJOS             ',
 '             CONEJOS             ',
 '              EAGLE              ',
 '              EAGLE              ',
 '              EAGLE              ',
 '              EAGLE              ',
 '              EAGLE              ',
 '              EAGLE              ',
 '              EAGLE              ',
 '              EAGLE              ',
 '              EAGLE              ',
 '              EAGLE              ',
 '              EAGLE              ',
 '              EAGLE              ',
 '              EAGLE              ',
 '              EAGLE              ',
 '             GARFIELD            ',
 '             GARFIELD            ',
 '             GARFIELD            ',
 '             GARFIELD            ',
 '             GARFIELD            ',
 '             GARFIELD            ',
 '             GARFIELD            ',
 '             GARFIELD            ',
 '             GARFIELD            ',
 '             GARFIELD            ',
 '             LA PLATA            ',
 '             LA PLATA            ',
 '             LA PLATA            ',
 '             LA PLATA            ',
 '              PITKIN             ',
 '              PITKIN             ',
 '              PITKIN             ',
 '              PITKIN             ',
 '              SUMMIT             ',
 '              SUMMIT             ',
 '              SUMMIT             ',
 '              SUMMIT             ',
 '              SUMMIT             ',
 '             LA PLATA            ',
 '             LA PLATA            ',
 '             LA PLATA            ',
 '             LA PLATA            ',
 '             LA PLATA            ',
 '             LA PLATA            ',
 '               LAKE              ',
 '               LAKE              ',
 '              DELTA              ',
 '              DELTA              ',
 '              DELTA              ',
 '              DELTA              ',
 '              DELTA              ',
 '              DELTA              ',
 '              DELTA              ',
 '             ALAMOSA             ',
 '             ALAMOSA             ',
 '            SAN MIGUEL           ',
 '            SAN MIGUEL           ',
 '            SAN MIGUEL           ',
 '            SAN MIGUEL           ',
 '             MINERAL             ',
 '            MONTEZUMA            ',
 '            MONTEZUMA            ',
 '            MONTEZUMA            ',
 '            MONTEZUMA            ',
 '            MONTEZUMA            ',
 '            MONTEZUMA            ',
 '            MONTEZUMA            ',
 '             ALAMOSA             ',
 '             ALAMOSA             ',
 '              OURAY              ',
 '             DOLORES             ',
 '             SAGUACHE            ',
 '             SAGUACHE            ',
 '            RIO GRANDE           ',
 '            RIO GRANDE           ',
 '            RIO GRANDE           ',
 '               MESA              ',
 '               MESA              ',
 '               MESA              ',
 '               MESA              ',
 '               MESA              ',
 '               MESA              ',
 '               MESA              ',
 '               MESA              ',
 '               MESA              ',
 '               MESA              ',
 '               MESA              ',
 '               MESA              ',
 '               MESA              ',
 '               MESA              ',
 '               MESA              ',
 '               MESA              ',
 '               MESA              ',
 '               MESA              ',
 '               MESA              ',
 '               MESA              ',
 '               MESA              ',
 '               MESA              ',
 '               MESA              ',
 '               MESA              ',
 '               MESA              ',
 '               MESA              ',
 '               MESA              ',
 '               MESA              ',
 '               MESA              ',
 '           CLEAR CREEK           ',
 '             HINSDALE            ',
 '             CHAFFEE             ',
 '             CHAFFEE             ',
 '             CHAFFEE             ',
 '             CHAFFEE             ',
 '             CHAFFEE             ',
 '             SAN JUAN            ',
 '             MONTROSE            ',
 '             MONTROSE            ',
 '             MONTROSE            ',
 '             MONTROSE            ',
 '             MONTROSE            ',
 '             MONTROSE            ',
 '             MONTROSE            ',
 '             MONTROSE            ',
 '             MONTROSE            ',
 '             MONTROSE            ',
 '            ARCHULETA            ',
 '            ARCHULETA            ',
 '            ARCHULETA            ',
 '            ARCHULETA            ',
 '               PARK              ',
 '               PARK              ',
 '               PARK              ',
 '               PARK              ',
 '               PARK              ',
 '              ADAMS              ',
 '              ADAMS              ',
 '              ADAMS              ',
 '              ADAMS              ',
 '              ADAMS              ',
 '              ADAMS              ',
 '              ADAMS              ',
 '              ADAMS              ',
 '             LARIMER             ',
 '             LARIMER             ',
 '             LARIMER             ',
 '             LARIMER             ',
 '             LARIMER             ',
 '             LARIMER             ',
 '             LARIMER             ',
 '             LARIMER             ',
 '             LARIMER             ',
 '             LARIMER             ',
 '             LARIMER             ',
 '             LARIMER             ',
 '              ADAMS              ',
 '              ADAMS              ',
 '              ADAMS              ',
 '              ADAMS              ',
 '              ADAMS              ',
 '              ADAMS              ',
 '              ADAMS              ',
 '              ADAMS              ',
 '              ADAMS              ',
 '              ADAMS              ',
 '              ADAMS              ',
 '              ADAMS              ',
 '              ADAMS              ',
 '              ADAMS              ',
 '              ADAMS              ',
 '              ADAMS              ',
 '              ADAMS              ',
 '              ADAMS              ',
 '              ADAMS              ',
 '              ADAMS              ',
 '              ADAMS              ',
 '              ADAMS              ',
 '              ADAMS              ',
 '              ADAMS              ',
 '              ADAMS              ',
 '              ADAMS              ',
 '              ADAMS              ',
 '              ADAMS              ',
 '              ADAMS              ',
 '              ADAMS              ',
 '              ADAMS              ',
 '              ADAMS              ',
 '             LARIMER             ',
 '             LARIMER             ',
 '             LARIMER             ',
 '             LARIMER             ',
 '               YUMA              ',
 '              ADAMS              ',
 '              ADAMS              ',
 '              ADAMS              ',
 '              ADAMS              ',
 '              ADAMS              ',
 '              ADAMS              ',
 '              ADAMS              ',
 '              ADAMS              ',
 '             LARIMER             ',
 '             LARIMER             ',
 '             LARIMER             ',
 '             LARIMER             ',
 '             LARIMER             ',
 '             LARIMER             ',
 '             LARIMER             ',
 '             LARIMER             ',
 '             LARIMER             ',
 '             LARIMER             ',
 '              ADAMS              ',
 '              ADAMS              ',
 '              ADAMS              ',
 '              ADAMS              ',
 '              ADAMS              ',
 '              ADAMS              ',
 '              ADAMS              ',
 '             LARIMER             ',
 '             LARIMER             ',
 '             LARIMER             ',
 '             LARIMER             ',
 '             LARIMER             ',
 '             LARIMER             ',
 '             LARIMER             ',
 '             LARIMER             ',
 '             LARIMER             ',
 '             LARIMER             ',
 '             LARIMER             ',
 '             LARIMER             ',
 '             LARIMER             ',
 '             LARIMER             ',
 '              ADAMS              ',
 '              ADAMS              ',
 '              ADAMS              ',
 '              ADAMS              ',
 '              ADAMS              ',
 '              ADAMS              ',
 '             LARIMER             ',
 '             LARIMER             ',
 '             LARIMER             ',
 '             LARIMER             ',
 '             LARIMER             ',
 '             LARIMER             ',
 '             LARIMER             ',
 '              ADAMS              ',
 '              ADAMS              ',
 '              ADAMS              ',
 '              ADAMS              ',
 '              ADAMS              ',
 '              ADAMS              ',
 '              ADAMS              ',
 '              ADAMS              ',
 '             LARIMER             ',
 '             LARIMER             ',
 '             LARIMER             ',
 '             LARIMER             ',
 '             LARIMER             ',
 '             LARIMER             ',
 '             LARIMER             ',
 '              ADAMS              ',
 '              ADAMS              ',
 '              ADAMS              ',
 '              ADAMS              ',
 '              ADAMS              ',
 '              ADAMS              ',
 '              ADAMS              ',
 '              ADAMS              ',
 '             LARIMER             ',
 '             LARIMER             ',
 '             LARIMER             ',
 '             LARIMER             ',
 '             LARIMER             ',
 '             LARIMER             ',
 '             LARIMER             ',
 '             LARIMER             ',
 '             LARIMER             ',
 '              ADAMS              ',
 '              ADAMS              ',
 '              ADAMS              ',
 '              ADAMS              ',
 '              ADAMS              ',
 '              ADAMS              ',
 '              ADAMS              ',
 '             LARIMER             ',
 '             LARIMER             ',
 '             LARIMER             ',
 '             LARIMER             ',
 '             LARIMER             ',
 '             LARIMER             ',
 '             LARIMER             ',
 '            JEFFERSON            ',
 '            JEFFERSON            ',
 '            JEFFERSON            ',
 '            JEFFERSON            ',
 '            JEFFERSON            ',
 '            JEFFERSON            ',
 '            JEFFERSON            ',
 '            JEFFERSON            ',
 '            JEFFERSON            ',
 '            JEFFERSON            ',
 '            JEFFERSON            ',
 '            JEFFERSON            ',
 '              MORGAN             ',
 '              MORGAN             ',
 '              MORGAN             ',
 '              MORGAN             ',
 '              MORGAN             ',
 '              MORGAN             ',
 '              MORGAN             ',
 '              MORGAN             ',
 '            JEFFERSON            ',
 '            JEFFERSON            ',
 '            JEFFERSON            ',
 '            JEFFERSON            ',
 '            JEFFERSON            ',
 '            JEFFERSON            ',
 '            JEFFERSON            ',
 '            JEFFERSON            ',
 '            JEFFERSON            ',
 '            JEFFERSON            ',
 '            JEFFERSON            ',
 '            JEFFERSON            ',
 '            JEFFERSON            ',
 '            JEFFERSON            ',
 '            JEFFERSON            ',
 '            JEFFERSON            ',
 '            JEFFERSON            ',
 '            JEFFERSON            ',
 '            JEFFERSON            ',
 '            JEFFERSON            ',
 '             SEDGWICK            ',
 '            JEFFERSON            ',
 '            JEFFERSON            ',
 '            JEFFERSON            ',
 '            JEFFERSON            ',
 '             PHILLIPS            ',
 '             PHILLIPS            ',
 '             BOULDER             ',
 '             BOULDER             ',
 '             BOULDER             ',
 '             BOULDER             ',
 '             BOULDER             ',
 '             BOULDER             ',
 '             BOULDER             ',
 '             BOULDER             ',
 '             BOULDER             ',
 '             BOULDER             ',
 '             BOULDER             ',
 '             BOULDER             ',
 '             BOULDER             ',
 '             BOULDER             ',
 '             BOULDER             ',
 '             BOULDER             ',
 '             BOULDER             ',
 '             BOULDER             ',
 '             BOULDER             ',
 '             BOULDER             ',
 '             BOULDER             ',
 '             BOULDER             ',
 '             BOULDER             ',
 '             BOULDER             ',
 '             BOULDER             ',
 '             BOULDER             ',
 '             BOULDER             ',
 '             BOULDER             ',
 '             BOULDER             ',
 '             BOULDER             ',
 '             BOULDER             ',
 '             BOULDER             ',
 '             BOULDER             ',
 '             BOULDER             ',
 '             BOULDER             ',
 '             BOULDER             ',
 '             BOULDER             ',
 '             BOULDER             ',
 '             BOULDER             ',
 '             BOULDER             ',
 '              LOGAN              ',
 '              LOGAN              ',
 '              LOGAN              ',
 '              LOGAN              ',
 '              LOGAN              ',
 '              LOGAN              ',
 '             BOULDER             ',
 '             BOULDER             ',
 '             BOULDER             ',
 '             BOULDER             ',
 '             BOULDER             ',
 '             BOULDER             ',
 '             BOULDER             ',
 '             BOULDER             ',
 '             BOULDER             ',
 '             BOULDER             ',
 '             BOULDER             ',
 '             BOULDER             ',
 '             BOULDER             ',
 '             BOULDER             ',
 '             BOULDER             ',
 '             BOULDER             ',
 '             BOULDER             ',
 '             BOULDER             ',
 '             BOULDER             ',
 '             BOULDER             ',
 '             BOULDER             ',
 '             BOULDER             ',
 '             BOULDER             ',
 '             BOULDER             ',
 '             BOULDER             ',
 '             BOULDER             ',
 '             BOULDER             ',
 '             BOULDER             ',
 '               WELD              ',
 '               WELD              ',
 '               WELD              ',
 '               WELD              ',
 '               WELD              ',
 '               WELD              ',
 '               WELD              ',
 '               WELD              ',
 '               WELD              ',
 '               WELD              ',
 '               WELD              ',
 '               WELD              ',
 '               WELD              ',
 '               WELD              ',
 '               WELD              ',
 '               WELD              ',
 '               WELD              ',
 '               WELD              ',
 '               WELD              ',
 '               WELD              ',
 '               WELD              ',
 '               WELD              ',
 '               WELD              ',
 '               WELD              ',
 '               WELD              ',
 '               WELD              ',
 '               WELD              ',
 '               WELD              ',
 '               WELD              ',
 '               WELD              ',
 '               WELD              ',
 '               WELD              ',
 '               WELD              ',
 '               WELD              ',
 '               WELD              ',
 '               WELD              ',
 '               WELD              ',
 '               WELD              ',
 '               WELD              ',
 '               WELD              ',
 '               WELD              ',
 '               WELD              ',
 '               WELD              ',
 '               WELD              ',
 '               WELD              ',
 '               WELD              ',
 '            WASHINGTON           ',
 '               WELD              ',
 '               WELD              ',
 '               WELD              ',
 '               WELD              ',
 '               WELD              ',
 '               WELD              ',
 '               WELD              ',
 '            BROOMFIELD           ',
 '            BROOMFIELD           ',
 '            BROOMFIELD           ',
 '            BROOMFIELD           ',
 '            BROOMFIELD           ',
 '            BROOMFIELD           ',
 '            BROOMFIELD           ',
 '            BROOMFIELD           ',
 '               WELD              ',
 '               WELD              ',
 '               WELD              ',
 '               WELD              ',
 '               WELD              ',
 '               WELD              ',
 '               WELD              ',
 '               WELD              ',
 '               WELD              ',
 '            BROOMFIELD           ',
 '            BROOMFIELD           ',
 '            BROOMFIELD           ',
 '            BROOMFIELD           ',
 '            BROOMFIELD           ',
 '            BROOMFIELD           ',
 '            BROOMFIELD           ',
 '               WELD              ',
 '               WELD              ',
 '               WELD              ',
 '               WELD              ',
 '               WELD              ',
 '               WELD              ',
 '               WELD              ',
 '               WELD              ',
 '               WELD              ',
 '               WELD              ',
 '               WELD              ',
 '               WELD              ',
 '               WELD              ',
 '               WELD              ',
 '               WELD              ',
 '              GILPIN             ',
 '              DENVER             ',
 '            LAS ANIMAS           ',
 '            LAS ANIMAS           ',
 '            LAS ANIMAS           ',
 '            LAS ANIMAS           ',
 '            LAS ANIMAS           ',
 '            LAS ANIMAS           ',
 '             FREMONT             ',
 '             FREMONT             ',
 '             FREMONT             ',
 '             FREMONT             ',
 '             FREMONT             ',
 '             FREMONT             ',
 '             FREMONT             ',
 '             FREMONT             ',
 '             FREMONT             ',
 '             FREMONT             ',
 '             FREMONT             ',
 '             FREMONT             ',
 '             FREMONT             ',
 '              ADAMS              ',
 '              ADAMS              ',
 '              ADAMS              ',
 '              ADAMS              ',
 '              ADAMS              ',
 '              ADAMS              ',
 '              ADAMS              ',
 '              ADAMS              ',
 '              ADAMS              ',
 '              ADAMS              ',
 '              CUSTER             ',
 '             CROWLEY             ',
 '              OTERO              ',
 '              OTERO              ',
 '              OTERO              ',
 '              OTERO              ',
 '              OTERO              ',
 '              OTERO              ',
 '              OTERO              ',
 '               BENT              ',
 '             CHEYENNE            ',
 '              ELBERT             ',
 '              ELBERT             ',
 '              ELBERT             ',
 '              ELBERT             ',
 '              ELBERT             ',
 '              ELBERT             ',
 '              ELBERT             ',
 '              ADAMS              ',
 '             COSTILLA            ',
 '             COSTILLA            ',
 '              ADAMS              ',
 '            JEFFERSON            ',
 '            JEFFERSON            ',
 '            JEFFERSON            ',
 '            JEFFERSON            ',
 '             PROWERS             ',
 '            JEFFERSON            ',
 '            JEFFERSON            ',
 '            JEFFERSON            ',
 '            JEFFERSON            ',
 '            JEFFERSON            ',
 '            JEFFERSON            ',
 '            JEFFERSON            ',
 '            JEFFERSON            ',
 '             LINCOLN             ',
 '             LINCOLN             ',
 '            JEFFERSON            ',
 '            JEFFERSON            ',
 '            JEFFERSON            ',
 '            JEFFERSON            ',
 '            JEFFERSON            ',
 '            JEFFERSON            ',
 '            JEFFERSON            ',
 '            JEFFERSON            ',
 '            JEFFERSON            ',
 '             PROWERS             ',
 '             PROWERS             ',
 '             PROWERS             ',
 '             PROWERS             ',
 '            JEFFERSON            ',
 '            JEFFERSON            ',
 '            JEFFERSON            ',
 '            JEFFERSON            ',
 '            JEFFERSON            ',
 '            JEFFERSON            ',
 '            JEFFERSON            ',
 '            JEFFERSON            ',
 '            JEFFERSON            ',
 '            JEFFERSON            ',
 '            JEFFERSON            ',
 '            JEFFERSON            ',
 '            JEFFERSON            ',
 '            JEFFERSON            ',
 '            JEFFERSON            ',
 '            JEFFERSON            ',
 '            JEFFERSON            ',
 '            JEFFERSON            ',
 '            JEFFERSON            ',
 '            JEFFERSON            ',
 '            JEFFERSON            ',
 '            JEFFERSON            ',
 '            JEFFERSON            ',
 '            JEFFERSON            ',
 '            JEFFERSON            ',
 '            JEFFERSON            ',
 '            JEFFERSON            ',
 '            JEFFERSON            ',
 '            JEFFERSON            ',
 '            JEFFERSON            ',
 '            JEFFERSON            ',
 '            JEFFERSON            ',
 '            JEFFERSON            ',
 '            JEFFERSON            ',
 '            JEFFERSON            ',
 '            JEFFERSON            ',
 '            JEFFERSON            ',
 '            JEFFERSON            ',
 '            JEFFERSON            ',
 '            JEFFERSON            ',
 '            JEFFERSON            ',
 '            JEFFERSON            ',
 '            JEFFERSON            ',
 '            JEFFERSON            ',
 '            JEFFERSON            ',
 '            JEFFERSON            ',
 '            JEFFERSON            ',
 '            JEFFERSON            ',
 '            JEFFERSON            ',
 '            JEFFERSON            ',
 '            JEFFERSON            ',
 '            JEFFERSON            ',
 '            JEFFERSON            ',
 '            JEFFERSON            ',
 '            JEFFERSON            ',
 '            JEFFERSON            ',
 '            JEFFERSON            ',
 '            JEFFERSON            ',
 '            JEFFERSON            ',
 '            JEFFERSON            ',
 '            JEFFERSON            ',
 '            JEFFERSON            ',
 '            JEFFERSON            ',
 '            JEFFERSON            ',
 '            JEFFERSON            ',
 '            JEFFERSON            ',
 '            JEFFERSON            ',
 '            JEFFERSON            ',
 '            JEFFERSON            ',
 '            JEFFERSON            ',
 '            JEFFERSON            ',
 '            JEFFERSON            ',
 '            JEFFERSON            ',
 '            JEFFERSON            ',
 '            JEFFERSON            ',
 '            JEFFERSON            ',
 '            JEFFERSON            ',
 '            JEFFERSON            ',
 '            JEFFERSON            ',
 '            JEFFERSON            ',
 '             DOUGLAS             ',
 '             DOUGLAS             ',
 '             DOUGLAS             ',
 '             DOUGLAS             ',
 '             DOUGLAS             ',
 '             DOUGLAS             ',
 '             DOUGLAS             ',
 '             DOUGLAS             ',
 '             DOUGLAS             ',
 '             DOUGLAS             ',
 '             DOUGLAS             ',
 '             DOUGLAS             ',
 '             DOUGLAS             ',
 '              PUEBLO             ',
 '              PUEBLO             ',
 '              PUEBLO             ',
 '              PUEBLO             ',
 '            KIT CARSON           ',
 '            KIT CARSON           ',
 '            KIT CARSON           ',
 '              PUEBLO             ',
 '              PUEBLO             ',
 '              PUEBLO             ',
 '              PUEBLO             ',
 '              PUEBLO             ',
 '              PUEBLO             ',
 '              PUEBLO             ',
 '              PUEBLO             ',
 '              PUEBLO             ',
 '              PUEBLO             ',
 '              PUEBLO             ',
 '              PUEBLO             ',
 '              PUEBLO             ',
 '              PUEBLO             ',
 '              PUEBLO             ',
 '              PUEBLO             ',
 '              PUEBLO             ',
 '              PUEBLO             ',
 '              PUEBLO             ',
 '              PUEBLO             ',
 '              PUEBLO             ',
 '              PUEBLO             ',
 '              PUEBLO             ',
 '              PUEBLO             ',
 '              PUEBLO             ',
 '              PUEBLO             ',
 '              PUEBLO             ',
 '              PUEBLO             ',
 '              PUEBLO             ',
 '              PUEBLO             ',
 '              PUEBLO             ',
 '              PUEBLO             ',
 '              PUEBLO             ',
 '              PUEBLO             ',
 '              PUEBLO             ',
 '              PUEBLO             ',
 '              PUEBLO             ',
 '              PUEBLO             ',
 '              PUEBLO             ',
 '              PUEBLO             ',
 '              PUEBLO             ',
 '              PUEBLO             ',
 '              PUEBLO             ',
 '              PUEBLO             ',
 '              PUEBLO             ',
 '              PUEBLO             ',
 '              PUEBLO             ',
 '              PUEBLO             ',
 '              PUEBLO             ',
 '              PUEBLO             ',
 '             DOUGLAS             ',
 '             DOUGLAS             ',
 '             DOUGLAS             ',
 '             DOUGLAS             ',
 '             DOUGLAS             ',
 '             DOUGLAS             ',
 '             DOUGLAS             ',
 '             DOUGLAS             ',
 '             DOUGLAS             ',
 '             DOUGLAS             ',
 '             DOUGLAS             ',
 '             DOUGLAS             ',
 '             DOUGLAS             ',
 '             DOUGLAS             ',
 '             DOUGLAS             ',
 '             DOUGLAS             ',
 '             DOUGLAS             ',
 '             DOUGLAS             ',
 '             DOUGLAS             ',
 '             DOUGLAS             ',
 '             DOUGLAS             ',
 '             DOUGLAS             ',
 '             DOUGLAS             ',
 '             DOUGLAS             ',
 '             DOUGLAS             ',
 '             DOUGLAS             ',
 '             DOUGLAS             ',
 '             DOUGLAS             ',
 '             DOUGLAS             ',
 '             DOUGLAS             ',
 '             DOUGLAS             ',
 '             DOUGLAS             ',
 '             DOUGLAS             ',
 '             DOUGLAS             ',
 '             DOUGLAS             ',
 '             DOUGLAS             ',
 '             DOUGLAS             ',
 '             DOUGLAS             ',
 '             DOUGLAS             ',
 '             DOUGLAS             ',
 '             DOUGLAS             ',
 '             DOUGLAS             ',
 '             DOUGLAS             ',
 '             DOUGLAS             ',
 '             DOUGLAS             ',
 '             DOUGLAS             ',
 '             DOUGLAS             ',
 '             DOUGLAS             ',
 '               BACA              ',
 '               BACA              ',
 '           CLEAR CREEK           ',
 '           CLEAR CREEK           ',
 '              TELLER             ',
 '              TELLER             ',
 '              TELLER             ',
 '              TELLER             ',
 '              TELLER             ',
 '              TELLER             ',
 '              KIOWA              ',
 '              DENVER             ',
 '              DENVER             ',
 '              DENVER             ',
 '              DENVER             ',
 '              DENVER             ',
 '              DENVER             ',
 '              DENVER             ',
 '              DENVER             ',
 '              DENVER             ',
 '              DENVER             ',
 '              DENVER             ',
 '              DENVER             ',
 '              DENVER             ',
 '              DENVER             ',
 '              DENVER             ',
 '              DENVER             ',
 '              DENVER             ',
 '              DENVER             ',
 '              DENVER             ',
 '              DENVER             ',
 '              DENVER             ',
 '              DENVER             ',
 '              DENVER             ',
 '              DENVER             ',
 '              DENVER             ',
 '              DENVER             ',
 '              DENVER             ',
 '              DENVER             ',
 '              DENVER             ',
 '              DENVER             ',
 '              DENVER             ',
 '              DENVER             ',
 '              DENVER             ',
 '              DENVER             ',
 '              DENVER             ',
 '              DENVER             ',
 '              DENVER             ',
 '              DENVER             ',
 '              DENVER             ',
 '              DENVER             ',
 '              DENVER             ',
 '              DENVER             ',
 '              DENVER             ',
 '              DENVER             ',
 '              DENVER             ',
 '              DENVER             ',
 '              DENVER             ',
 '              DENVER             ',
 '              DENVER             ',
 '              DENVER             ',
 '              DENVER             ',
 '              DENVER             ',
 '              DENVER             ',
 '              DENVER             ',
 '              DENVER             ',
 '              DENVER             ',
 '              DENVER             ',
 '              DENVER             ',
 '              DENVER             ',
 '              DENVER             ',
 '              DENVER             ',
 '              DENVER             ',
 '              DENVER             ',
 '              DENVER             ',
 '              DENVER             ',
 '              DENVER             ',
 '              DENVER             ',
 '              DENVER             ',
 '              DENVER             ',
 '              DENVER             ',
 '              DENVER             ',
 '              DENVER             ',
 '              DENVER             ',
 '              DENVER             ',
 '              DENVER             ',
 '              DENVER             ',
 '              DENVER             ',
 '              DENVER             ',
 '              DENVER             ',
 '              DENVER             ',
 '              DENVER             ',
 '              DENVER             ',
 '              DENVER             ',
 '              DENVER             ',
 '              DENVER             ',
 '              DENVER             ',
 '              DENVER             ',
 '              DENVER             ',
 '              DENVER             ',
 '              DENVER             ',
 '              DENVER             ',
 '              DENVER             ',
 '              DENVER             ',
 '              DENVER             ',
 '              DENVER             ',
 '              DENVER             ',
 '              DENVER             ',
 '              DENVER             ',
 '              DENVER             ',
 '              DENVER             ',
 '              DENVER             ',
 '              DENVER             ',
 '              DENVER             ',
 '              DENVER             ',
 '              DENVER             ',
 '              DENVER             ',
 '              DENVER             ',
 '              DENVER             ',
 '              DENVER             ',
 '              DENVER             ',
 '              DENVER             ',
 '              DENVER             ',
 '              DENVER             ',
 '              DENVER             ',
 '              DENVER             ',
 '              DENVER             ',
 '              DENVER             ',
 '              DENVER             ',
 '              DENVER             ',
 '              DENVER             ',
 '              DENVER             ',
 '              DENVER             ',
 '              DENVER             ',
 '              DENVER             ',
 '              DENVER             ',
 '              DENVER             ',
 '              DENVER             ',
 '              DENVER             ',
 '              DENVER             ',
 '              DENVER             ',
 '              DENVER             ',
 '              DENVER             ',
 '              DENVER             ',
 '              DENVER             ',
 '              DENVER             ',
 '              DENVER             ',
 '              DENVER             ',
 '              DENVER             ',
 '              DENVER             ',
 '              DENVER             ',
 '              DENVER             ',
 '              DENVER             ',
 '             ARAPAHOE            ',
 '             ARAPAHOE            ',
 '             ARAPAHOE            ',
 '             ARAPAHOE            ',
 '             ARAPAHOE            ',
 '             ARAPAHOE            ',
 '             ARAPAHOE            ',
 '             ARAPAHOE            ',
 '             ARAPAHOE            ',
 '             ARAPAHOE            ',
 '             ARAPAHOE            ',
 '             EL PASO             ',
 '             EL PASO             ',
 '             EL PASO             ',
 '             EL PASO             ',
 '             EL PASO             ',
 '             EL PASO             ',
 '             EL PASO             ',
 '             EL PASO             ',
 '             EL PASO             ',
 '             EL PASO             ',
 '             EL PASO             ',
 '             EL PASO             ',
 '             EL PASO             ',
 '             EL PASO             ',
 '             EL PASO             ',
 '             EL PASO             ',
 '             EL PASO             ',
 '             EL PASO             ',
 '             EL PASO             ',
 '             EL PASO             ',
 '             EL PASO             ',
 '             EL PASO             ',
 '             EL PASO             ',
 '             EL PASO             ',
 '             EL PASO             ',
 '             EL PASO             ',
 ...]

In [73]:

# That all-caps format seems kind of ANGRY.  Lets make them lower case
for cty in c_list:
    print(cty.capitalize())

Adams
Alamosa
Arapahoe
Archuleta
Baca
Bent
Boulder
Broomfield
Chaffee
Cheyenne
Clear creek
Conejos
Costilla
Crowley
Custer
Delta
Denver
Dolores
Douglas
Eagle
El paso
Elbert
Fremont
Garfield
Gilpin
Grand
Gunnison
Hinsdale
Huerfano
Jackson
Jefferson
Kiowa
Kit carson
La plata
Lake
Larimer
Las animas
Lincoln
Logan
Mesa
Mineral
Moffat
Montezuma
Montrose
Morgan
Otero
Ouray
Park
Phillips
Pitkin
Prowers
Pueblo
Rio blanco
Rio grande
Routt
Saguache
San juan
San miguel
Sedgwick
Summit
Teller
Washington
Weld
Yuma

In [75]:

##################################################################################################################
#
# YouDo:
#    1) # Use a list comprehension to make the same list
##################################################################################################################
#######################################  BEGIN STUDENT CODE  #####################################################

# 1) 

assignedname=[xx.capitalize() for xx in c_list]
print(assignedname)
#######################################   END STUDENT CODE   #####################################################

['Adams', 'Alamosa', 'Arapahoe', 'Archuleta', 'Baca', 'Bent', 'Boulder', 'Broomfield', 'Chaffee', 'Cheyenne', 'Clear creek', 'Conejos', 'Costilla', 'Crowley', 'Custer', 'Delta', 'Denver', 'Dolores', 'Douglas', 'Eagle', 'El paso', 'Elbert', 'Fremont', 'Garfield', 'Gilpin', 'Grand', 'Gunnison', 'Hinsdale', 'Huerfano', 'Jackson', 'Jefferson', 'Kiowa', 'Kit carson', 'La plata', 'Lake', 'Larimer', 'Las animas', 'Lincoln', 'Logan', 'Mesa', 'Mineral', 'Moffat', 'Montezuma', 'Montrose', 'Morgan', 'Otero', 'Ouray', 'Park', 'Phillips', 'Pitkin', 'Prowers', 'Pueblo', 'Rio blanco', 'Rio grande', 'Routt', 'Saguache', 'San juan', 'San miguel', 'Sedgwick', 'Summit', 'Teller', 'Washington', 'Weld', 'Yuma']

In [77]:

# Ok -- here's the critical part.
# Lets condense all that work into a difficult looking snippet to send to our P.I. 
# so it seems like we're earning our money.

# Read the data
datafile = '../Data/Educational_Attainment_Census_Tracts.csv'
lines = open(datafile).readlines()
counties = list(set([line.split(',')[6].capitalize() for line in lines[1:]]))
counties.sort()

# It is intuitively obvious to the causal observer...

In [78]:

print(", ".join(counties)) #this joins the list back into as string for easier viewing.

In [85]:

','.join(c_list)
help(''.join)

Help on built-in function join:

join(...) method of builtins.str instance
    S.join(iterable) -> str
    
    Return a string which is the concatenation of the strings in the
    iterable.  The separator between elements is S.

In [28]:

##################################################################################################################
#
# YouDo:
#    1) Give any feedback on this lesson to your instructor
#
##################################################################################################################
#######################################  BEGIN STUDENT Feedback  #################################################

# 1) 



#######################################   END STUDENT Feedback   #################################################

In [ ]:

##################################################################################################################
#
# YouDo:
#    1) Submit your completed notebook via Canvas
#
##################################################################################################################

In [ ]:


In [ ]:


