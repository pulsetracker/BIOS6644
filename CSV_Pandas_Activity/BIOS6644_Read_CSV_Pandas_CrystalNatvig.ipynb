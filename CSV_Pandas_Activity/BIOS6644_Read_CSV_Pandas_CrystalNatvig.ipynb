{
 "cells": [
  {
   "cell_type": "code",
   "execution_count": 1,
   "metadata": {},
   "outputs": [],
   "source": [
    "##########################################################################################\n",
    "#                                                                                        #\n",
    "#  888888b.  8888888 .d88888b.   .d8888b.     .d8888b.   .d8888b.      d8888      d8888  #\n",
    "#  888  \"88b   888  d88P\" \"Y88b d88P  Y88b   d88P  Y88b d88P  Y88b    d8P888     d8P888  #\n",
    "#  888  .88P   888  888     888 Y88b.        888        888          d8P 888    d8P 888  #\n",
    "#  8888888K.   888  888     888  \"Y888b.     888d888b.  888d888b.   d8P  888   d8P  888  #\n",
    "#  888  \"Y88b  888  888     888     \"Y88b.   888P \"Y88b 888P \"Y88b d88   888  d88   888  #\n",
    "#  888    888  888  888     888       \"888   888    888 888    888 8888888888 8888888888 #\n",
    "#  888   d88P  888  Y88b. .d88P Y88b  d88P   Y88b  d88P Y88b  d88P       888        888  #\n",
    "#  8888888P\" 8888888 \"Y88888P\"   \"Y8888P\"     \"Y8888P\"   \"Y8888P\"        888        888  #\n",
    "#                                                                                        # \n",
    "##########################################################################################\n",
    "#\n",
    "# Read CSV with Pandas\n",
    "#\n",
    "##########################################################################################"
   ]
  },
  {
   "cell_type": "code",
   "execution_count": 2,
   "metadata": {},
   "outputs": [],
   "source": [
    "##################################################################################################################\n",
    "#\n",
    "# YouDo:\n",
    "#    1) Make a copy of this notebook with your name as a suffix:  \n",
    "#       BIOS6644_Read_CSV_Pandas_FirstLast.ipynb\n",
    "#    2) Do all work in this new notebook.\n",
    "#    3) Submit completed work via GitHub pull request\n",
    "#\n",
    "##################################################################################################################"
   ]
  },
  {
   "cell_type": "markdown",
   "metadata": {},
   "source": [
    "Read Data with Pandas\n",
    "\n",
    "If you're going to do some exploratory data analysis, Pandas has wonderful tools including a robust data reader.\n",
    "\n",
    "In this exercsise, we'll use the Educational Attainment data file mentioned on Canvas above:"
   ]
  },
  {
   "cell_type": "code",
   "execution_count": 1,
   "metadata": {},
   "outputs": [],
   "source": [
    "import pandas as pd\n",
    "import pylab as plt\n",
    "import numpy as np\n",
    "\n",
    "import matplotlib\n",
    "import matplotlib.pyplot as pp\n",
    "\n",
    "%matplotlib inline\n",
    "%matplotlib notebook"
   ]
  },
  {
   "cell_type": "code",
   "execution_count": 4,
   "metadata": {},
   "outputs": [],
   "source": [
    "\n",
    "#Census_Tracts = pd.read_csv('Educational_Attainment_Census_Tracts.csv')\n",
    "Census_Tracts = pd.read_csv('../Data/Educational_Attainment_Census_Tracts.csv')"
   ]
  },
  {
   "cell_type": "code",
   "execution_count": 5,
   "metadata": {},
   "outputs": [
    {
     "data": {
      "text/html": [
       "<div>\n",
       "<style scoped>\n",
       "    .dataframe tbody tr th:only-of-type {\n",
       "        vertical-align: middle;\n",
       "    }\n",
       "\n",
       "    .dataframe tbody tr th {\n",
       "        vertical-align: top;\n",
       "    }\n",
       "\n",
       "    .dataframe thead th {\n",
       "        text-align: right;\n",
       "    }\n",
       "</style>\n",
       "<table border=\"1\" class=\"dataframe\">\n",
       "  <thead>\n",
       "    <tr style=\"text-align: right;\">\n",
       "      <th></th>\n",
       "      <th>OBJECTID</th>\n",
       "      <th>FIPS</th>\n",
       "      <th>Tract_Name</th>\n",
       "      <th>Tract_FIPS</th>\n",
       "      <th>County</th>\n",
       "      <th>Population_Total</th>\n",
       "      <th>Population_Density_PerLandSquareMile</th>\n",
       "      <th>Education_Population_AgeOver24</th>\n",
       "      <th>Percent_Education_Population_AgeOver24_LessThan9th</th>\n",
       "      <th>Percent_Education_Population_AgeOver24_NoHSDiploma</th>\n",
       "      <th>Percent_Education_Population_AgeOver24_HSD_Higher</th>\n",
       "      <th>Percent_Education_Population_AgeOver24_Bachelors_Higher</th>\n",
       "    </tr>\n",
       "  </thead>\n",
       "  <tbody>\n",
       "    <tr>\n",
       "      <td>0</td>\n",
       "      <td>1</td>\n",
       "      <td>8043979000</td>\n",
       "      <td>Census Tract 9790, Fremont County, Colorado</td>\n",
       "      <td>8043979000</td>\n",
       "      <td>FREMONT</td>\n",
       "      <td>3471</td>\n",
       "      <td>3.4</td>\n",
       "      <td>2876</td>\n",
       "      <td>2.1</td>\n",
       "      <td>6.3</td>\n",
       "      <td>93.7</td>\n",
       "      <td>26.1</td>\n",
       "    </tr>\n",
       "    <tr>\n",
       "      <td>1</td>\n",
       "      <td>2</td>\n",
       "      <td>8045951600</td>\n",
       "      <td>Census Tract 9516, Garfield County, Colorado</td>\n",
       "      <td>8045951600</td>\n",
       "      <td>GARFIELD</td>\n",
       "      <td>3656</td>\n",
       "      <td>6.4</td>\n",
       "      <td>2372</td>\n",
       "      <td>4.3</td>\n",
       "      <td>11.3</td>\n",
       "      <td>88.7</td>\n",
       "      <td>45.2</td>\n",
       "    </tr>\n",
       "    <tr>\n",
       "      <td>2</td>\n",
       "      <td>3</td>\n",
       "      <td>8069002803</td>\n",
       "      <td>Census Tract 28.03, Larimer County, Colorado</td>\n",
       "      <td>8069002803</td>\n",
       "      <td>LARIMER</td>\n",
       "      <td>97</td>\n",
       "      <td>0.4</td>\n",
       "      <td>45</td>\n",
       "      <td>0.0</td>\n",
       "      <td>0.0</td>\n",
       "      <td>100.0</td>\n",
       "      <td>51.1</td>\n",
       "    </tr>\n",
       "    <tr>\n",
       "      <td>3</td>\n",
       "      <td>4</td>\n",
       "      <td>8125963200</td>\n",
       "      <td>Census Tract 9632, Yuma County, Colorado</td>\n",
       "      <td>8125963200</td>\n",
       "      <td>YUMA</td>\n",
       "      <td>5467</td>\n",
       "      <td>5.3</td>\n",
       "      <td>3878</td>\n",
       "      <td>9.7</td>\n",
       "      <td>15.9</td>\n",
       "      <td>84.0</td>\n",
       "      <td>22.2</td>\n",
       "    </tr>\n",
       "    <tr>\n",
       "      <td>4</td>\n",
       "      <td>5</td>\n",
       "      <td>8069002401</td>\n",
       "      <td>Census Tract 24.01, Larimer County, Colorado</td>\n",
       "      <td>8069002401</td>\n",
       "      <td>LARIMER</td>\n",
       "      <td>1310</td>\n",
       "      <td>3.3</td>\n",
       "      <td>1179</td>\n",
       "      <td>0.8</td>\n",
       "      <td>5.0</td>\n",
       "      <td>95.1</td>\n",
       "      <td>46.3</td>\n",
       "    </tr>\n",
       "    <tr>\n",
       "      <td>...</td>\n",
       "      <td>...</td>\n",
       "      <td>...</td>\n",
       "      <td>...</td>\n",
       "      <td>...</td>\n",
       "      <td>...</td>\n",
       "      <td>...</td>\n",
       "      <td>...</td>\n",
       "      <td>...</td>\n",
       "      <td>...</td>\n",
       "      <td>...</td>\n",
       "      <td>...</td>\n",
       "      <td>...</td>\n",
       "    </tr>\n",
       "    <tr>\n",
       "      <td>1237</td>\n",
       "      <td>1245</td>\n",
       "      <td>8005081000</td>\n",
       "      <td>Census Tract 810, Arapahoe County, Colorado</td>\n",
       "      <td>8005081000</td>\n",
       "      <td>ARAPAHOE</td>\n",
       "      <td>5922</td>\n",
       "      <td>6437.0</td>\n",
       "      <td>3317</td>\n",
       "      <td>5.2</td>\n",
       "      <td>20.5</td>\n",
       "      <td>79.5</td>\n",
       "      <td>25.1</td>\n",
       "    </tr>\n",
       "    <tr>\n",
       "      <td>1238</td>\n",
       "      <td>1246</td>\n",
       "      <td>8005080300</td>\n",
       "      <td>Census Tract 803, Arapahoe County, Colorado</td>\n",
       "      <td>8005080300</td>\n",
       "      <td>ARAPAHOE</td>\n",
       "      <td>5512</td>\n",
       "      <td>5624.5</td>\n",
       "      <td>4054</td>\n",
       "      <td>2.1</td>\n",
       "      <td>5.8</td>\n",
       "      <td>94.2</td>\n",
       "      <td>39.8</td>\n",
       "    </tr>\n",
       "    <tr>\n",
       "      <td>1239</td>\n",
       "      <td>1247</td>\n",
       "      <td>8005080400</td>\n",
       "      <td>Census Tract 804, Arapahoe County, Colorado</td>\n",
       "      <td>8005080400</td>\n",
       "      <td>ARAPAHOE</td>\n",
       "      <td>5101</td>\n",
       "      <td>5484.9</td>\n",
       "      <td>3726</td>\n",
       "      <td>1.3</td>\n",
       "      <td>3.6</td>\n",
       "      <td>96.4</td>\n",
       "      <td>40.8</td>\n",
       "    </tr>\n",
       "    <tr>\n",
       "      <td>1240</td>\n",
       "      <td>1248</td>\n",
       "      <td>8005080800</td>\n",
       "      <td>Census Tract 808, Arapahoe County, Colorado</td>\n",
       "      <td>8005080800</td>\n",
       "      <td>ARAPAHOE</td>\n",
       "      <td>3463</td>\n",
       "      <td>9894.3</td>\n",
       "      <td>1819</td>\n",
       "      <td>19.2</td>\n",
       "      <td>30.6</td>\n",
       "      <td>69.4</td>\n",
       "      <td>16.2</td>\n",
       "    </tr>\n",
       "    <tr>\n",
       "      <td>1241</td>\n",
       "      <td>1249</td>\n",
       "      <td>8005080900</td>\n",
       "      <td>Census Tract 809, Arapahoe County, Colorado</td>\n",
       "      <td>8005080900</td>\n",
       "      <td>ARAPAHOE</td>\n",
       "      <td>4763</td>\n",
       "      <td>7327.7</td>\n",
       "      <td>2924</td>\n",
       "      <td>13.7</td>\n",
       "      <td>26.0</td>\n",
       "      <td>74.0</td>\n",
       "      <td>21.7</td>\n",
       "    </tr>\n",
       "  </tbody>\n",
       "</table>\n",
       "<p>1242 rows × 12 columns</p>\n",
       "</div>"
      ],
      "text/plain": [
       "      OBJECTID        FIPS                                    Tract_Name  \\\n",
       "0            1  8043979000   Census Tract 9790, Fremont County, Colorado   \n",
       "1            2  8045951600  Census Tract 9516, Garfield County, Colorado   \n",
       "2            3  8069002803  Census Tract 28.03, Larimer County, Colorado   \n",
       "3            4  8125963200      Census Tract 9632, Yuma County, Colorado   \n",
       "4            5  8069002401  Census Tract 24.01, Larimer County, Colorado   \n",
       "...        ...         ...                                           ...   \n",
       "1237      1245  8005081000   Census Tract 810, Arapahoe County, Colorado   \n",
       "1238      1246  8005080300   Census Tract 803, Arapahoe County, Colorado   \n",
       "1239      1247  8005080400   Census Tract 804, Arapahoe County, Colorado   \n",
       "1240      1248  8005080800   Census Tract 808, Arapahoe County, Colorado   \n",
       "1241      1249  8005080900   Census Tract 809, Arapahoe County, Colorado   \n",
       "\n",
       "      Tract_FIPS    County  Population_Total  \\\n",
       "0     8043979000   FREMONT              3471   \n",
       "1     8045951600  GARFIELD              3656   \n",
       "2     8069002803   LARIMER                97   \n",
       "3     8125963200      YUMA              5467   \n",
       "4     8069002401   LARIMER              1310   \n",
       "...          ...       ...               ...   \n",
       "1237  8005081000  ARAPAHOE              5922   \n",
       "1238  8005080300  ARAPAHOE              5512   \n",
       "1239  8005080400  ARAPAHOE              5101   \n",
       "1240  8005080800  ARAPAHOE              3463   \n",
       "1241  8005080900  ARAPAHOE              4763   \n",
       "\n",
       "      Population_Density_PerLandSquareMile  Education_Population_AgeOver24  \\\n",
       "0                                      3.4                            2876   \n",
       "1                                      6.4                            2372   \n",
       "2                                      0.4                              45   \n",
       "3                                      5.3                            3878   \n",
       "4                                      3.3                            1179   \n",
       "...                                    ...                             ...   \n",
       "1237                                6437.0                            3317   \n",
       "1238                                5624.5                            4054   \n",
       "1239                                5484.9                            3726   \n",
       "1240                                9894.3                            1819   \n",
       "1241                                7327.7                            2924   \n",
       "\n",
       "      Percent_Education_Population_AgeOver24_LessThan9th  \\\n",
       "0                                                   2.1    \n",
       "1                                                   4.3    \n",
       "2                                                   0.0    \n",
       "3                                                   9.7    \n",
       "4                                                   0.8    \n",
       "...                                                 ...    \n",
       "1237                                                5.2    \n",
       "1238                                                2.1    \n",
       "1239                                                1.3    \n",
       "1240                                               19.2    \n",
       "1241                                               13.7    \n",
       "\n",
       "      Percent_Education_Population_AgeOver24_NoHSDiploma  \\\n",
       "0                                                   6.3    \n",
       "1                                                  11.3    \n",
       "2                                                   0.0    \n",
       "3                                                  15.9    \n",
       "4                                                   5.0    \n",
       "...                                                 ...    \n",
       "1237                                               20.5    \n",
       "1238                                                5.8    \n",
       "1239                                                3.6    \n",
       "1240                                               30.6    \n",
       "1241                                               26.0    \n",
       "\n",
       "      Percent_Education_Population_AgeOver24_HSD_Higher  \\\n",
       "0                                                  93.7   \n",
       "1                                                  88.7   \n",
       "2                                                 100.0   \n",
       "3                                                  84.0   \n",
       "4                                                  95.1   \n",
       "...                                                 ...   \n",
       "1237                                               79.5   \n",
       "1238                                               94.2   \n",
       "1239                                               96.4   \n",
       "1240                                               69.4   \n",
       "1241                                               74.0   \n",
       "\n",
       "      Percent_Education_Population_AgeOver24_Bachelors_Higher  \n",
       "0                                                  26.1        \n",
       "1                                                  45.2        \n",
       "2                                                  51.1        \n",
       "3                                                  22.2        \n",
       "4                                                  46.3        \n",
       "...                                                 ...        \n",
       "1237                                               25.1        \n",
       "1238                                               39.8        \n",
       "1239                                               40.8        \n",
       "1240                                               16.2        \n",
       "1241                                               21.7        \n",
       "\n",
       "[1242 rows x 12 columns]"
      ]
     },
     "execution_count": 5,
     "metadata": {},
     "output_type": "execute_result"
    }
   ],
   "source": [
    "Census_Tracts "
   ]
  },
  {
   "cell_type": "code",
   "execution_count": 6,
   "metadata": {},
   "outputs": [],
   "source": [
    "# Now our data are in a pandas data frame.  You can get a \"pretty\" view just by printing df\n",
    "#df\n",
    "\n",
    "# Notice that the column Tract_Name automatically handled the quoted field with commas inside."
   ]
  },
  {
   "cell_type": "code",
   "execution_count": 7,
   "metadata": {},
   "outputs": [
    {
     "name": "stdout",
     "output_type": "stream",
     "text": [
      "Adams, Alamosa, Arapahoe, Archuleta, Baca, Bent, Boulder, Broomfield, Chaffee, Cheyenne, Clear creek, Conejos, Costilla, Crowley, Custer, Delta, Denver, Dolores, Douglas, Eagle, El paso, Elbert, Fremont, Garfield, Gilpin, Grand, Gunnison, Hinsdale, Huerfano, Jackson, Jefferson, Kiowa, Kit carson, La plata, Lake, Larimer, Las animas, Lincoln, Logan, Mesa, Mineral, Moffat, Montezuma, Montrose, Morgan, Otero, Ouray, Park, Phillips, Pitkin, Prowers, Pueblo, Rio blanco, Rio grande, Routt, Saguache, San juan, San miguel, Sedgwick, Summit, Teller, Washington, Weld, Yuma\n"
     ]
    }
   ],
   "source": [
    "Census_Tracts['County']\n",
    "counties = [County.capitalize() for County in list(set(Census_Tracts['County']))]\n",
    "counties.sort()\n",
    "print(\", \".join(counties))\n"
   ]
  },
  {
   "cell_type": "code",
   "execution_count": 8,
   "metadata": {},
   "outputs": [
    {
     "data": {
      "text/html": [
       "<div>\n",
       "<style scoped>\n",
       "    .dataframe tbody tr th:only-of-type {\n",
       "        vertical-align: middle;\n",
       "    }\n",
       "\n",
       "    .dataframe tbody tr th {\n",
       "        vertical-align: top;\n",
       "    }\n",
       "\n",
       "    .dataframe thead th {\n",
       "        text-align: right;\n",
       "    }\n",
       "</style>\n",
       "<table border=\"1\" class=\"dataframe\">\n",
       "  <thead>\n",
       "    <tr style=\"text-align: right;\">\n",
       "      <th></th>\n",
       "      <th>OBJECTID</th>\n",
       "      <th>FIPS</th>\n",
       "      <th>Tract_FIPS</th>\n",
       "      <th>Population_Total</th>\n",
       "      <th>Population_Density_PerLandSquareMile</th>\n",
       "      <th>Education_Population_AgeOver24</th>\n",
       "      <th>Percent_Education_Population_AgeOver24_LessThan9th</th>\n",
       "      <th>Percent_Education_Population_AgeOver24_NoHSDiploma</th>\n",
       "      <th>Percent_Education_Population_AgeOver24_HSD_Higher</th>\n",
       "      <th>Percent_Education_Population_AgeOver24_Bachelors_Higher</th>\n",
       "    </tr>\n",
       "  </thead>\n",
       "  <tbody>\n",
       "    <tr>\n",
       "      <td>count</td>\n",
       "      <td>1242.000000</td>\n",
       "      <td>1.242000e+03</td>\n",
       "      <td>1.242000e+03</td>\n",
       "      <td>1242.000000</td>\n",
       "      <td>1242.000000</td>\n",
       "      <td>1242.000000</td>\n",
       "      <td>1242.000000</td>\n",
       "      <td>1242.000000</td>\n",
       "      <td>1242.000000</td>\n",
       "      <td>1242.000000</td>\n",
       "    </tr>\n",
       "    <tr>\n",
       "      <td>mean</td>\n",
       "      <td>625.263285</td>\n",
       "      <td>8.046911e+09</td>\n",
       "      <td>8.046911e+09</td>\n",
       "      <td>4377.229469</td>\n",
       "      <td>3617.088406</td>\n",
       "      <td>2953.685185</td>\n",
       "      <td>3.751771</td>\n",
       "      <td>9.116908</td>\n",
       "      <td>90.882931</td>\n",
       "      <td>38.474960</td>\n",
       "    </tr>\n",
       "    <tr>\n",
       "      <td>std</td>\n",
       "      <td>361.390928</td>\n",
       "      <td>3.586921e+07</td>\n",
       "      <td>3.586921e+07</td>\n",
       "      <td>2005.786919</td>\n",
       "      <td>3591.713958</td>\n",
       "      <td>1319.196144</td>\n",
       "      <td>4.857265</td>\n",
       "      <td>8.987271</td>\n",
       "      <td>8.988247</td>\n",
       "      <td>19.399702</td>\n",
       "    </tr>\n",
       "    <tr>\n",
       "      <td>min</td>\n",
       "      <td>1.000000</td>\n",
       "      <td>8.001008e+09</td>\n",
       "      <td>8.001008e+09</td>\n",
       "      <td>97.000000</td>\n",
       "      <td>0.300000</td>\n",
       "      <td>10.000000</td>\n",
       "      <td>0.000000</td>\n",
       "      <td>0.000000</td>\n",
       "      <td>52.400000</td>\n",
       "      <td>0.000000</td>\n",
       "    </tr>\n",
       "    <tr>\n",
       "      <td>25%</td>\n",
       "      <td>312.250000</td>\n",
       "      <td>8.013014e+09</td>\n",
       "      <td>8.013014e+09</td>\n",
       "      <td>2975.000000</td>\n",
       "      <td>462.950000</td>\n",
       "      <td>2035.250000</td>\n",
       "      <td>0.700000</td>\n",
       "      <td>2.900000</td>\n",
       "      <td>87.650000</td>\n",
       "      <td>21.900000</td>\n",
       "    </tr>\n",
       "    <tr>\n",
       "      <td>50%</td>\n",
       "      <td>625.500000</td>\n",
       "      <td>8.041003e+09</td>\n",
       "      <td>8.041003e+09</td>\n",
       "      <td>4158.000000</td>\n",
       "      <td>3127.600000</td>\n",
       "      <td>2839.500000</td>\n",
       "      <td>2.000000</td>\n",
       "      <td>6.000000</td>\n",
       "      <td>94.000000</td>\n",
       "      <td>36.650000</td>\n",
       "    </tr>\n",
       "    <tr>\n",
       "      <td>75%</td>\n",
       "      <td>938.750000</td>\n",
       "      <td>8.069001e+09</td>\n",
       "      <td>8.069001e+09</td>\n",
       "      <td>5499.000000</td>\n",
       "      <td>5527.775000</td>\n",
       "      <td>3721.750000</td>\n",
       "      <td>4.800000</td>\n",
       "      <td>12.275000</td>\n",
       "      <td>97.100000</td>\n",
       "      <td>53.400000</td>\n",
       "    </tr>\n",
       "    <tr>\n",
       "      <td>max</td>\n",
       "      <td>1249.000000</td>\n",
       "      <td>8.125963e+09</td>\n",
       "      <td>8.125963e+09</td>\n",
       "      <td>15869.000000</td>\n",
       "      <td>37800.000000</td>\n",
       "      <td>11105.000000</td>\n",
       "      <td>32.400000</td>\n",
       "      <td>47.600000</td>\n",
       "      <td>100.000000</td>\n",
       "      <td>93.300000</td>\n",
       "    </tr>\n",
       "  </tbody>\n",
       "</table>\n",
       "</div>"
      ],
      "text/plain": [
       "          OBJECTID          FIPS    Tract_FIPS  Population_Total  \\\n",
       "count  1242.000000  1.242000e+03  1.242000e+03       1242.000000   \n",
       "mean    625.263285  8.046911e+09  8.046911e+09       4377.229469   \n",
       "std     361.390928  3.586921e+07  3.586921e+07       2005.786919   \n",
       "min       1.000000  8.001008e+09  8.001008e+09         97.000000   \n",
       "25%     312.250000  8.013014e+09  8.013014e+09       2975.000000   \n",
       "50%     625.500000  8.041003e+09  8.041003e+09       4158.000000   \n",
       "75%     938.750000  8.069001e+09  8.069001e+09       5499.000000   \n",
       "max    1249.000000  8.125963e+09  8.125963e+09      15869.000000   \n",
       "\n",
       "       Population_Density_PerLandSquareMile  Education_Population_AgeOver24  \\\n",
       "count                           1242.000000                     1242.000000   \n",
       "mean                            3617.088406                     2953.685185   \n",
       "std                             3591.713958                     1319.196144   \n",
       "min                                0.300000                       10.000000   \n",
       "25%                              462.950000                     2035.250000   \n",
       "50%                             3127.600000                     2839.500000   \n",
       "75%                             5527.775000                     3721.750000   \n",
       "max                            37800.000000                    11105.000000   \n",
       "\n",
       "       Percent_Education_Population_AgeOver24_LessThan9th  \\\n",
       "count                                        1242.000000    \n",
       "mean                                            3.751771    \n",
       "std                                             4.857265    \n",
       "min                                             0.000000    \n",
       "25%                                             0.700000    \n",
       "50%                                             2.000000    \n",
       "75%                                             4.800000    \n",
       "max                                            32.400000    \n",
       "\n",
       "       Percent_Education_Population_AgeOver24_NoHSDiploma  \\\n",
       "count                                        1242.000000    \n",
       "mean                                            9.116908    \n",
       "std                                             8.987271    \n",
       "min                                             0.000000    \n",
       "25%                                             2.900000    \n",
       "50%                                             6.000000    \n",
       "75%                                            12.275000    \n",
       "max                                            47.600000    \n",
       "\n",
       "       Percent_Education_Population_AgeOver24_HSD_Higher  \\\n",
       "count                                        1242.000000   \n",
       "mean                                           90.882931   \n",
       "std                                             8.988247   \n",
       "min                                            52.400000   \n",
       "25%                                            87.650000   \n",
       "50%                                            94.000000   \n",
       "75%                                            97.100000   \n",
       "max                                           100.000000   \n",
       "\n",
       "       Percent_Education_Population_AgeOver24_Bachelors_Higher  \n",
       "count                                        1242.000000        \n",
       "mean                                           38.474960        \n",
       "std                                            19.399702        \n",
       "min                                             0.000000        \n",
       "25%                                            21.900000        \n",
       "50%                                            36.650000        \n",
       "75%                                            53.400000        \n",
       "max                                            93.300000        "
      ]
     },
     "execution_count": 8,
     "metadata": {},
     "output_type": "execute_result"
    }
   ],
   "source": [
    "# Data Frames have a describe() method that gives a nice summary:\n",
    "Census_Tracts.describe()"
   ]
  },
  {
   "cell_type": "code",
   "execution_count": 9,
   "metadata": {},
   "outputs": [
    {
     "data": {
      "text/plain": [
       "ARAPAHOE     147\n",
       "DENVER       143\n",
       "JEFFERSON    137\n",
       "EL PASO      130\n",
       "ADAMS         96\n",
       "            ... \n",
       "BENT           1\n",
       "CROWLEY        1\n",
       "OURAY          1\n",
       "SAN JUAN       1\n",
       "MINERAL        1\n",
       "Name: County, Length: 64, dtype: int64"
      ]
     },
     "execution_count": 9,
     "metadata": {},
     "output_type": "execute_result"
    }
   ],
   "source": [
    "# Nominal data fields can be nicely \n",
    "# summarized with value_counts()\n",
    "Census_Tracts.County.value_counts()"
   ]
  },
  {
   "cell_type": "code",
   "execution_count": 10,
   "metadata": {},
   "outputs": [
    {
     "data": {
      "text/plain": [
       "Text(0, 0.5, '% >= BS Degree')"
      ]
     },
     "execution_count": 10,
     "metadata": {},
     "output_type": "execute_result"
    },
    {
     "data": {
      "image/png": "[encoded data removed]",
      "text/plain": [
       "<Figure size 432x288 with 1 Axes>"
      ]
     },
     "metadata": {
      "needs_background": "light"
     },
     "output_type": "display_data"
    }
   ],
   "source": [
    "plt.plot(Census_Tracts.Population_Density_PerLandSquareMile, Census_Tracts.Percent_Education_Population_AgeOver24_NoHSDiploma,'.')\n",
    "plt.xlabel('Population Density')\n",
    "plt.ylabel('% >= BS Degree')"
   ]
  },
  {
   "cell_type": "code",
   "execution_count": 11,
   "metadata": {},
   "outputs": [],
   "source": [
    "##################################################################################################################\n",
    "#\n",
    "# YouDo:\n",
    "#\n",
    "# 1) Have a look at this data set. Formulate a simple hypothesis which can be tested using \n",
    "#    this data.  Write a verbal description of this hypothesis in the markdown block, \n",
    "#    above.\n",
    "#\n",
    "# 2) Use the data to argue your conclusion, including at least one visualization which\n",
    "#    includes enough information to be published in a report (i.e. title, \n",
    "#    labeled axes, color legend, etc.  \n",
    "#\n",
    "# 3) If you have statisical training, use some form of statistical hypothesis testing \n",
    "#       here as appropriate, and write a paragraph interpreting your test and justifying\n",
    "#       your conclusion.  \n",
    "#       \n",
    "#    If not, write an paragraph or two arguing your case and linking your conclusions\n",
    "#       to the data.\n",
    "#"
   ]
  },
  {
   "cell_type": "markdown",
   "metadata": {},
   "source": [
    "# Hypothesis: \n",
    "\n",
    "Higher educational attainment is greater in Colorado urban areas"
   ]
  },
  {
   "cell_type": "code",
   "execution_count": 13,
   "metadata": {},
   "outputs": [],
   "source": [
    "#Visualization(s) (minimum of 1)\n",
    "#######################################  BEGIN STUDENT CODE  #####################################################\n",
    "\n",
    "#2) Visualization code\n",
    "# If in doubt, use matplotlib.   If you want to get fancy, use bokeh, plotly, etc.\n",
    "\n",
    "\n",
    "#3) Statisical testing code (as appropriate)\n",
    "# scipy.stats has most of what you might need\n",
    "\n",
    "#######################################   END STUDENT CODE   #####################################################\n"
   ]
  },
  {
   "cell_type": "markdown",
   "metadata": {},
   "source": [
    "# Statisical testing code \n",
    "\n",
    "Urban and Rural Classfication\n",
    "\n",
    "*Criteria has been simplified for this exercise\n",
    "To qualify as urban, it must have a minimum density of 1,000 people per square mile"
   ]
  },
  {
   "cell_type": "markdown",
   "metadata": {},
   "source": [
    "Bachelors_Higher urban vs rural:"
   ]
  },
  {
   "cell_type": "code",
   "execution_count": 14,
   "metadata": {},
   "outputs": [],
   "source": [
    "urban = Census_Tracts.Percent_Education_Population_AgeOver24_Bachelors_Higher[Census_Tracts.Population_Density_PerLandSquareMile >= 1000]"
   ]
  },
  {
   "cell_type": "code",
   "execution_count": 15,
   "metadata": {},
   "outputs": [],
   "source": [
    "rural = Census_Tracts.Percent_Education_Population_AgeOver24_Bachelors_Higher[Census_Tracts.Population_Density_PerLandSquareMile < 1000]"
   ]
  },
  {
   "cell_type": "code",
   "execution_count": 17,
   "metadata": {},
   "outputs": [],
   "source": [
    "from scipy.stats import ttest_ind"
   ]
  },
  {
   "cell_type": "code",
   "execution_count": 18,
   "metadata": {},
   "outputs": [
    {
     "data": {
      "text/plain": [
       "Ttest_indResult(statistic=1.6795146670647205, pvalue=0.0933036952889374)"
      ]
     },
     "execution_count": 18,
     "metadata": {},
     "output_type": "execute_result"
    }
   ],
   "source": [
    "ttest_ind(urban,rural)"
   ]
  },
  {
   "cell_type": "code",
   "execution_count": 25,
   "metadata": {},
   "outputs": [
    {
     "name": "stdout",
     "output_type": "stream",
     "text": [
      "Means: Urban--> 39.093006993006995  Rural--> 37.094010416666684\n",
      "N:  Urban--> 858  Rural--> 384\n"
     ]
    }
   ],
   "source": [
    "## Instructor comment\n",
    "print('Means: Urban-->', np.mean(urban),' Rural-->', np.mean(rural))\n",
    "print('N:  Urban-->', len(urban), ' Rural-->', len(rural))\n"
   ]
  },
  {
   "cell_type": "markdown",
   "metadata": {},
   "source": [
    "No High School Diploma urban vs rural:"
   ]
  },
  {
   "cell_type": "code",
   "execution_count": 28,
   "metadata": {},
   "outputs": [],
   "source": [
    "NHurban = Census_Tracts.Percent_Education_Population_AgeOver24_NoHSDiploma[Census_Tracts.Population_Density_PerLandSquareMile >= 1000]"
   ]
  },
  {
   "cell_type": "code",
   "execution_count": 29,
   "metadata": {},
   "outputs": [],
   "source": [
    "NHrural = Census_Tracts.Percent_Education_Population_AgeOver24_NoHSDiploma[Census_Tracts.Population_Density_PerLandSquareMile < 1000]"
   ]
  },
  {
   "cell_type": "code",
   "execution_count": 30,
   "metadata": {},
   "outputs": [
    {
     "data": {
      "text/plain": [
       "Ttest_indResult(statistic=3.8371355097314854, pvalue=0.00013074699646846858)"
      ]
     },
     "execution_count": 30,
     "metadata": {},
     "output_type": "execute_result"
    }
   ],
   "source": [
    "ttest_ind(NHurban,NHrural)"
   ]
  },
  {
   "cell_type": "markdown",
   "metadata": {},
   "source": [
    "# Analysis\n",
    "\n",
    "Write as markdown"
   ]
  },
  {
   "cell_type": "markdown",
   "metadata": {},
   "source": [
    "There was no significant difference in Bachelors or higher educational attainment in individuals 24 years of age or older in urban and rural Colorado counties. However there was a significant difference in \"No High School Diploma\" attainment in individuals 24 years of age or older in urban vs rural Colorado counties. There were more individuals without a high school diploma in urban Colorado counties compared to rural Colorado counties."
   ]
  },
  {
   "cell_type": "markdown",
   "metadata": {},
   "source": [
    "# Visualization code"
   ]
  },
  {
   "cell_type": "code",
   "execution_count": 31,
   "metadata": {},
   "outputs": [],
   "source": [
    "# Calculate the average\n",
    "\n",
    "urban_mean=np.mean(urban)\n",
    "rural_mean=np.mean(rural)\n",
    "NHurban_mean=np.mean(NHurban)\n",
    "NHrural_mean=np.mean(NHrural)"
   ]
  },
  {
   "cell_type": "code",
   "execution_count": 32,
   "metadata": {},
   "outputs": [],
   "source": [
    "# Calculate the standard deviation\n",
    "\n",
    "urban_std=np.std(urban)\n",
    "rural_std=np.std(rural)\n",
    "NHurban_std=np.std(NHurban)\n",
    "NHrural_std=np.std(NHrural)"
   ]
  },
  {
   "cell_type": "code",
   "execution_count": 33,
   "metadata": {},
   "outputs": [],
   "source": [
    "# For % >= BS Degree subset\n",
    "# Define labels, positions, bar heights and error bar heights\n",
    "\n",
    "labels = ['Urban', 'Rural']\n",
    "\n",
    "x_pos = np.arange(len(labels))\n",
    "CTEs = [urban_mean, rural_mean]\n",
    "error = [urban_std, rural_std]"
   ]
  },
  {
   "cell_type": "code",
   "execution_count": 34,
   "metadata": {},
   "outputs": [
    {
     "data": {
      "image/png": "[encoded data removed]",
      "text/plain": [
       "<Figure size 432x288 with 1 Axes>"
      ]
     },
     "metadata": {
      "needs_background": "light"
     },
     "output_type": "display_data"
    }
   ],
   "source": [
    "# Build the plot\n",
    "fig, ax = plt.subplots()\n",
    "ax.bar(x_pos, CTEs,\n",
    "       yerr=error,\n",
    "       align='center',\n",
    "       alpha=0.5,\n",
    "       ecolor='black',\n",
    "       capsize=10)\n",
    "ax.set_ylabel('% >= BS Degree')\n",
    "ax.set_xticks(x_pos)\n",
    "ax.set_xticklabels(labels)\n",
    "ax.set_title('% of Invidivuals with a BS Degree or Higher in Urban and Rural areas')\n",
    "ax.yaxis.grid(True)"
   ]
  },
  {
   "cell_type": "code",
   "execution_count": 35,
   "metadata": {},
   "outputs": [],
   "source": [
    "# For % >= No HS Diploma subset\n",
    "# Define labels, positions, bar heights and error bar heights\n",
    "\n",
    "labels = ['Urban', 'Rural']\n",
    "\n",
    "x_pos = np.arange(len(labels))\n",
    "CTEs = [NHurban_mean, NHrural_mean]\n",
    "error = [NHurban_std, NHrural_std]"
   ]
  },
  {
   "cell_type": "code",
   "execution_count": 36,
   "metadata": {},
   "outputs": [
    {
     "data": {
      "image/png": "[encoded data removed]",
      "text/plain": [
       "<Figure size 432x288 with 1 Axes>"
      ]
     },
     "metadata": {
      "needs_background": "light"
     },
     "output_type": "display_data"
    }
   ],
   "source": [
    "# Build the plot\n",
    "fig, ax = plt.subplots()\n",
    "ax.bar(x_pos, CTEs,\n",
    "       yerr=error,\n",
    "       align='center',\n",
    "       alpha=0.5,\n",
    "       ecolor='black',\n",
    "       capsize=10)\n",
    "ax.set_ylabel('% No High School Diploma')\n",
    "ax.set_xticks(x_pos)\n",
    "ax.set_xticklabels(labels)\n",
    "ax.set_title('% of Invidivuals with No High School Diploma in Urban and Rural areas')\n",
    "ax.yaxis.grid(True)"
   ]
  },
  {
   "cell_type": "code",
   "execution_count": 45,
   "metadata": {},
   "outputs": [
    {
     "data": {
      "image/png": "[encoded data removed]",
      "text/plain": [
       "<Figure size 432x288 with 1 Axes>"
      ]
     },
     "metadata": {
      "needs_background": "light"
     },
     "output_type": "display_data"
    }
   ],
   "source": [
    "## Instructor comment:\n",
    "## You could get similar visuals in a one-liner\n",
    "p1= plt.boxplot([urban,rural],labels=['Urban', 'Rural'])"
   ]
  },
  {
   "cell_type": "code",
   "execution_count": null,
   "metadata": {},
   "outputs": [],
   "source": []
  }
 ],
 "metadata": {
  "kernelspec": {
   "display_name": "Python 3",
   "language": "python",
   "name": "python3"
  },
  "language_info": {
   "codemirror_mode": {
    "name": "ipython",
    "version": 3
   },
   "file_extension": ".py",
   "mimetype": "text/x-python",
   "name": "python",
   "nbconvert_exporter": "python",
   "pygments_lexer": "ipython3",
   "version": "3.6.9"
  }
 },
 "nbformat": 4,
 "nbformat_minor": 4
}
