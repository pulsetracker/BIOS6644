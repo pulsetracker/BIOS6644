{
 "cells": [
  {
   "cell_type": "code",
   "execution_count": 188,
   "metadata": {
    "collapsed": true
   },
   "outputs": [],
   "source": [
    "##########################################################################################\n",
    "#                                                                                        #\n",
    "#  888888b.  8888888 .d88888b.   .d8888b.     .d8888b.   .d8888b.      d8888      d8888  #\n",
    "#  888  \"88b   888  d88P\" \"Y88b d88P  Y88b   d88P  Y88b d88P  Y88b    d8P888     d8P888  #\n",
    "#  888  .88P   888  888     888 Y88b.        888        888          d8P 888    d8P 888  #\n",
    "#  8888888K.   888  888     888  \"Y888b.     888d888b.  888d888b.   d8P  888   d8P  888  #\n",
    "#  888  \"Y88b  888  888     888     \"Y88b.   888P \"Y88b 888P \"Y88b d88   888  d88   888  #\n",
    "#  888    888  888  888     888       \"888   888    888 888    888 8888888888 8888888888 #\n",
    "#  888   d88P  888  Y88b. .d88P Y88b  d88P   Y88b  d88P Y88b  d88P       888        888  #\n",
    "#  8888888P\" 8888888 \"Y88888P\"   \"Y8888P\"     \"Y8888P\"   \"Y8888P\"        888        888  #\n",
    "#                                                                                        # \n",
    "##########################################################################################\n",
    "#\n",
    "# Wine Wrangling \n",
    "#\n",
    "##########################################################################################\n"
   ]
  },
  {
   "cell_type": "code",
   "execution_count": null,
   "metadata": {
    "collapsed": true
   },
   "outputs": [],
   "source": [
    "##################################################################################################################\n",
    "#\n",
    "# YouDo:\n",
    "#    1) Make a copy of this notebook with your name as a suffix:  \n",
    "#       BIOS6644_Wine_Wrangling_FirstLast.ipynb\n",
    "#    2) Do all work in this new notebook.\n",
    "#    3) Submit completed work via GitHub pull request\n",
    "#\n",
    "##################################################################################################################\n"
   ]
  },
  {
   "cell_type": "code",
   "execution_count": 2,
   "metadata": {},
   "outputs": [],
   "source": [
    "# Standard imports\n",
    "import numpy as np\n",
    "import pandas as pd\n",
    "import pylab as plt\n",
    "%matplotlib notebook\n",
    "import numpy as np"
   ]
  },
  {
   "cell_type": "markdown",
   "metadata": {},
   "source": [
    "## Fetch the data\n",
    "\n",
    "https://archive.ics.uci.edu/ml/machine-learning-databases/wine/\n",
    "\n",
    "You'll need to fetch both wine.data and wine.names"
   ]
  },
  {
   "cell_type": "markdown",
   "metadata": {},
   "source": [
    "## Build a  list of field names\n"
   ]
  },
  {
   "cell_type": "code",
   "execution_count": 8,
   "metadata": {},
   "outputs": [
    {
     "name": "stdout",
     "output_type": "stream",
     "text": [
      "Educational_Attainment_Census_Tracts.csv\r\n"
     ]
    }
   ],
   "source": [
    "datafile = '..\\Data\\wine.data'\n",
    "df = pd.read_csv(datafile)"
   ]
  },
  {
   "cell_type": "code",
   "execution_count": 27,
   "metadata": {
    "collapsed": true
   },
   "outputs": [],
   "source": [
    "\n",
    "##################################################################################################################\n",
    "#\n",
    "# YouDo:\n",
    "#    1) Read (with your eyes--not code) the wine.names file and \n",
    "#    2) inspect wine.data for structure \n",
    "#    3) Review the features of python strings with particular attention to triple-quoted strings:\n",
    "#         https://docs.python.org/3/tutorial/introduction.html#strings\n",
    "#\n",
    "##################################################################################################################\n",
    "#\n",
    "# Notice that in wine.names, there's a list of column names in nicely human-readable format.   \n",
    "# Also notice that wine.data doesn't have a header row\n",
    "#\n",
    "# In python, it's pretty easy to take that list of column names and make it usable in our code.\n",
    "# You could, of course, hand type it, but that's not a scalable solution.\n",
    "#\n",
    "#The list looks like this:\n",
    "#\n",
    "#\t1) Alcohol\n",
    "# \t2) Malic acid\n",
    "# \t3) Ash\n",
    "#\t4) Alcalinity of ash  \n",
    "# ...\n",
    "\n",
    "\n",
    "# Using a simple cut & paste, I've grabbed the list and made it into a triple-quoted string.\n"
   ]
  },
  {
   "cell_type": "code",
   "execution_count": 3,
   "metadata": {
    "scrolled": true
   },
   "outputs": [
    {
     "data": {
      "text/plain": [
       "(177, 14)"
      ]
     },
     "execution_count": 3,
     "metadata": {},
     "output_type": "execute_result"
    }
   ],
   "source": [
    "df.shape"
   ]
  },
  {
   "cell_type": "code",
   "execution_count": 4,
   "metadata": {},
   "outputs": [
    {
     "data": {
      "text/html": [
       "<div>\n",
       "<style scoped>\n",
       "    .dataframe tbody tr th:only-of-type {\n",
       "        vertical-align: middle;\n",
       "    }\n",
       "\n",
       "    .dataframe tbody tr th {\n",
       "        vertical-align: top;\n",
       "    }\n",
       "\n",
       "    .dataframe thead th {\n",
       "        text-align: right;\n",
       "    }\n",
       "</style>\n",
       "<table border=\"1\" class=\"dataframe\">\n",
       "  <thead>\n",
       "    <tr style=\"text-align: right;\">\n",
       "      <th></th>\n",
       "      <th>1</th>\n",
       "      <th>14.23</th>\n",
       "      <th>1.71</th>\n",
       "      <th>2.43</th>\n",
       "      <th>15.6</th>\n",
       "      <th>127</th>\n",
       "      <th>2.8</th>\n",
       "      <th>3.06</th>\n",
       "      <th>.28</th>\n",
       "      <th>2.29</th>\n",
       "      <th>5.64</th>\n",
       "      <th>1.04</th>\n",
       "      <th>3.92</th>\n",
       "      <th>1065</th>\n",
       "    </tr>\n",
       "  </thead>\n",
       "  <tbody>\n",
       "    <tr>\n",
       "      <th>0</th>\n",
       "      <td>1</td>\n",
       "      <td>13.20</td>\n",
       "      <td>1.78</td>\n",
       "      <td>2.14</td>\n",
       "      <td>11.2</td>\n",
       "      <td>100</td>\n",
       "      <td>2.65</td>\n",
       "      <td>2.76</td>\n",
       "      <td>0.26</td>\n",
       "      <td>1.28</td>\n",
       "      <td>4.38</td>\n",
       "      <td>1.05</td>\n",
       "      <td>3.40</td>\n",
       "      <td>1050</td>\n",
       "    </tr>\n",
       "    <tr>\n",
       "      <th>1</th>\n",
       "      <td>1</td>\n",
       "      <td>13.16</td>\n",
       "      <td>2.36</td>\n",
       "      <td>2.67</td>\n",
       "      <td>18.6</td>\n",
       "      <td>101</td>\n",
       "      <td>2.80</td>\n",
       "      <td>3.24</td>\n",
       "      <td>0.30</td>\n",
       "      <td>2.81</td>\n",
       "      <td>5.68</td>\n",
       "      <td>1.03</td>\n",
       "      <td>3.17</td>\n",
       "      <td>1185</td>\n",
       "    </tr>\n",
       "    <tr>\n",
       "      <th>2</th>\n",
       "      <td>1</td>\n",
       "      <td>14.37</td>\n",
       "      <td>1.95</td>\n",
       "      <td>2.50</td>\n",
       "      <td>16.8</td>\n",
       "      <td>113</td>\n",
       "      <td>3.85</td>\n",
       "      <td>3.49</td>\n",
       "      <td>0.24</td>\n",
       "      <td>2.18</td>\n",
       "      <td>7.80</td>\n",
       "      <td>0.86</td>\n",
       "      <td>3.45</td>\n",
       "      <td>1480</td>\n",
       "    </tr>\n",
       "    <tr>\n",
       "      <th>3</th>\n",
       "      <td>1</td>\n",
       "      <td>13.24</td>\n",
       "      <td>2.59</td>\n",
       "      <td>2.87</td>\n",
       "      <td>21.0</td>\n",
       "      <td>118</td>\n",
       "      <td>2.80</td>\n",
       "      <td>2.69</td>\n",
       "      <td>0.39</td>\n",
       "      <td>1.82</td>\n",
       "      <td>4.32</td>\n",
       "      <td>1.04</td>\n",
       "      <td>2.93</td>\n",
       "      <td>735</td>\n",
       "    </tr>\n",
       "  </tbody>\n",
       "</table>\n",
       "</div>"
      ],
      "text/plain": [
       "   1  14.23  1.71  2.43  15.6  127   2.8  3.06   .28  2.29  5.64  1.04  3.92  \\\n",
       "0  1  13.20  1.78  2.14  11.2  100  2.65  2.76  0.26  1.28  4.38  1.05  3.40   \n",
       "1  1  13.16  2.36  2.67  18.6  101  2.80  3.24  0.30  2.81  5.68  1.03  3.17   \n",
       "2  1  14.37  1.95  2.50  16.8  113  3.85  3.49  0.24  2.18  7.80  0.86  3.45   \n",
       "3  1  13.24  2.59  2.87  21.0  118  2.80  2.69  0.39  1.82  4.32  1.04  2.93   \n",
       "\n",
       "   1065  \n",
       "0  1050  \n",
       "1  1185  \n",
       "2  1480  \n",
       "3   735  "
      ]
     },
     "execution_count": 4,
     "metadata": {},
     "output_type": "execute_result"
    }
   ],
   "source": [
    "df[:4]"
   ]
  },
  {
   "cell_type": "code",
   "execution_count": 5,
   "metadata": {},
   "outputs": [
    {
     "data": {
      "text/plain": [
       "Index(['1', '14.23', '1.71', '2.43', '15.6', '127', '2.8', '3.06', '.28',\n",
       "       '2.29', '5.64', '1.04', '3.92', '1065'],\n",
       "      dtype='object')"
      ]
     },
     "execution_count": 5,
     "metadata": {},
     "output_type": "execute_result"
    }
   ],
   "source": [
    "df.columns"
   ]
  },
  {
   "cell_type": "code",
   "execution_count": 6,
   "metadata": {},
   "outputs": [],
   "source": [
    "colnames = \"\"\"\n",
    "\t1) Alcohol\n",
    " \t2) Malic acid\n",
    " \t3) Ash\n",
    "\t4) Alcalinity of ash  \n",
    " \t5) Magnesium\n",
    "\t6) Total phenols\n",
    " \t7) Flavanoids\n",
    " \t8) Nonflavanoid phenols\n",
    " \t9) Proanthocyanins\n",
    "\t10)Color intensity\n",
    " \t11)Hue\n",
    " \t12)OD280/OD315 of diluted wines\n",
    " \t13)Proline \"\"\""
   ]
  },
  {
   "cell_type": "code",
   "execution_count": 7,
   "metadata": {},
   "outputs": [
    {
     "data": {
      "text/plain": [
       "'\\n\\t1) Alcohol\\n \\t2) Malic acid\\n \\t3) Ash\\n\\t4) Alcalinity of ash  \\n \\t5) Magnesium\\n\\t6) Total phenols\\n \\t7) Flavanoids\\n \\t8) Nonflavanoid phenols\\n \\t9) Proanthocyanins\\n\\t10)Color intensity\\n \\t11)Hue\\n \\t12)OD280/OD315 of diluted wines\\n \\t13)Proline '"
      ]
     },
     "execution_count": 7,
     "metadata": {},
     "output_type": "execute_result"
    }
   ],
   "source": [
    "colnames"
   ]
  },
  {
   "cell_type": "code",
   "execution_count": 8,
   "metadata": {},
   "outputs": [],
   "source": [
    "##################################################################################################################\n",
    "#\n",
    "# YouDo:\n",
    "#    1) Convert the given triple-quoted string colnames into a list of field names.   \n",
    "#        a) Ensure that the list has 13 elements\n",
    "#        b) Ensure each entry has no space characters--replace with underscores\n",
    "#        c) It should look like this:\n",
    "#            col_name_list = ['Alcohol', 'Malic_acid', 'Ash', 'Alcalinity_of_ash', ...\n",
    "#\n",
    "#  Hint:  My solution made great use of the string methods:\n",
    "#       .strip()\n",
    "# and   .replace()\n",
    "\n",
    "\n",
    "#  1)\n",
    "#######################################  BEGIN STUDENT CODE  #####################################################\n",
    "\n",
    "# Remove '\\n\\t' at the beginning of string\n",
    "colnames = colnames.lstrip()\n",
    "# Remove all other \\n\n",
    "colnames = colnames.replace('\\n','')\n",
    "# Split the string on the \\t\n",
    "colnames = colnames.split('\\t')\n",
    "# Remove the first three elements of each string which are the numbers\n",
    "colnames = [col[3:] for col in colnames]\n",
    "# Remove all additional whitspace\n",
    "colnames = [col.strip() for col in colnames]\n",
    "# Replace between word spaces with underscores\n",
    "colnames = [col.replace(' ', '_') for col in colnames]"
   ]
  },
  {
   "cell_type": "code",
   "execution_count": 9,
   "metadata": {},
   "outputs": [
    {
     "data": {
      "text/plain": [
       "['Alcohol',\n",
       " 'Malic_acid',\n",
       " 'Ash',\n",
       " 'Alcalinity_of_ash',\n",
       " 'Magnesium',\n",
       " 'Total_phenols',\n",
       " 'Flavanoids',\n",
       " 'Nonflavanoid_phenols',\n",
       " 'Proanthocyanins',\n",
       " 'Color_intensity',\n",
       " 'Hue',\n",
       " 'OD280/OD315_of_diluted_wines',\n",
       " 'Proline']"
      ]
     },
     "execution_count": 9,
     "metadata": {},
     "output_type": "execute_result"
    }
   ],
   "source": [
    "colnames"
   ]
  },
  {
   "cell_type": "code",
   "execution_count": 10,
   "metadata": {},
   "outputs": [
    {
     "data": {
      "text/plain": [
       "13"
      ]
     },
     "execution_count": 10,
     "metadata": {},
     "output_type": "execute_result"
    }
   ],
   "source": [
    "len(colnames)\n"
   ]
  },
  {
   "cell_type": "code",
   "execution_count": null,
   "metadata": {},
   "outputs": [],
   "source": [
    "#######################################   END STUDENT CODE   #####################################################"
   ]
  },
  {
   "cell_type": "markdown",
   "metadata": {},
   "source": [
    "# Read wine.data into a data frame"
   ]
  },
  {
   "cell_type": "code",
   "execution_count": 11,
   "metadata": {},
   "outputs": [
    {
     "data": {
      "text/plain": [
       "(178, 14)"
      ]
     },
     "execution_count": 11,
     "metadata": {},
     "output_type": "execute_result"
    }
   ],
   "source": [
    "#################################################################################################################\n",
    "#\n",
    "# YouDo:\n",
    "#    1) read the data into a dataframe called df\n",
    "#       a) Ensure that you don't read the first row of data as the header\n",
    "#           (check the help file: help(pd.read_csv) under \"header\")\n",
    "#       b) df should have the shape 178 rows by 14 columns\n",
    "#\n",
    "#\n",
    "#################################################################################################################\n",
    "\n",
    "# 1) \n",
    "#######################################  BEGIN STUDENT CODE  #####################################################\n",
    "datafile = '..\\Data\\wine.data'\n",
    "df = pd.read_csv(datafile, header=None)\n",
    "df.shape\n",
    "\n",
    "#######################################   END STUDENT CODE   #####################################################\n",
    "\n"
   ]
  },
  {
   "cell_type": "markdown",
   "metadata": {},
   "source": [
    "## Add column names to the df"
   ]
  },
  {
   "cell_type": "code",
   "execution_count": 12,
   "metadata": {},
   "outputs": [
    {
     "data": {
      "text/html": [
       "<div>\n",
       "<style scoped>\n",
       "    .dataframe tbody tr th:only-of-type {\n",
       "        vertical-align: middle;\n",
       "    }\n",
       "\n",
       "    .dataframe tbody tr th {\n",
       "        vertical-align: top;\n",
       "    }\n",
       "\n",
       "    .dataframe thead th {\n",
       "        text-align: right;\n",
       "    }\n",
       "</style>\n",
       "<table border=\"1\" class=\"dataframe\">\n",
       "  <thead>\n",
       "    <tr style=\"text-align: right;\">\n",
       "      <th></th>\n",
       "      <th>Class</th>\n",
       "      <th>Alcohol</th>\n",
       "      <th>Malic_acid</th>\n",
       "      <th>Ash</th>\n",
       "      <th>Alcalinity_of_ash</th>\n",
       "      <th>Magnesium</th>\n",
       "      <th>Total_phenols</th>\n",
       "      <th>Flavanoids</th>\n",
       "      <th>Nonflavanoid_phenols</th>\n",
       "      <th>Proanthocyanins</th>\n",
       "      <th>Color_intensity</th>\n",
       "      <th>Hue</th>\n",
       "      <th>OD280/OD315_of_diluted_wines</th>\n",
       "      <th>Proline</th>\n",
       "    </tr>\n",
       "  </thead>\n",
       "  <tbody>\n",
       "    <tr>\n",
       "      <th>0</th>\n",
       "      <td>1</td>\n",
       "      <td>14.23</td>\n",
       "      <td>1.71</td>\n",
       "      <td>2.43</td>\n",
       "      <td>15.6</td>\n",
       "      <td>127</td>\n",
       "      <td>2.80</td>\n",
       "      <td>3.06</td>\n",
       "      <td>0.28</td>\n",
       "      <td>2.29</td>\n",
       "      <td>5.64</td>\n",
       "      <td>1.04</td>\n",
       "      <td>3.92</td>\n",
       "      <td>1065</td>\n",
       "    </tr>\n",
       "    <tr>\n",
       "      <th>1</th>\n",
       "      <td>1</td>\n",
       "      <td>13.20</td>\n",
       "      <td>1.78</td>\n",
       "      <td>2.14</td>\n",
       "      <td>11.2</td>\n",
       "      <td>100</td>\n",
       "      <td>2.65</td>\n",
       "      <td>2.76</td>\n",
       "      <td>0.26</td>\n",
       "      <td>1.28</td>\n",
       "      <td>4.38</td>\n",
       "      <td>1.05</td>\n",
       "      <td>3.40</td>\n",
       "      <td>1050</td>\n",
       "    </tr>\n",
       "    <tr>\n",
       "      <th>2</th>\n",
       "      <td>1</td>\n",
       "      <td>13.16</td>\n",
       "      <td>2.36</td>\n",
       "      <td>2.67</td>\n",
       "      <td>18.6</td>\n",
       "      <td>101</td>\n",
       "      <td>2.80</td>\n",
       "      <td>3.24</td>\n",
       "      <td>0.30</td>\n",
       "      <td>2.81</td>\n",
       "      <td>5.68</td>\n",
       "      <td>1.03</td>\n",
       "      <td>3.17</td>\n",
       "      <td>1185</td>\n",
       "    </tr>\n",
       "    <tr>\n",
       "      <th>3</th>\n",
       "      <td>1</td>\n",
       "      <td>14.37</td>\n",
       "      <td>1.95</td>\n",
       "      <td>2.50</td>\n",
       "      <td>16.8</td>\n",
       "      <td>113</td>\n",
       "      <td>3.85</td>\n",
       "      <td>3.49</td>\n",
       "      <td>0.24</td>\n",
       "      <td>2.18</td>\n",
       "      <td>7.80</td>\n",
       "      <td>0.86</td>\n",
       "      <td>3.45</td>\n",
       "      <td>1480</td>\n",
       "    </tr>\n",
       "    <tr>\n",
       "      <th>4</th>\n",
       "      <td>1</td>\n",
       "      <td>13.24</td>\n",
       "      <td>2.59</td>\n",
       "      <td>2.87</td>\n",
       "      <td>21.0</td>\n",
       "      <td>118</td>\n",
       "      <td>2.80</td>\n",
       "      <td>2.69</td>\n",
       "      <td>0.39</td>\n",
       "      <td>1.82</td>\n",
       "      <td>4.32</td>\n",
       "      <td>1.04</td>\n",
       "      <td>2.93</td>\n",
       "      <td>735</td>\n",
       "    </tr>\n",
       "    <tr>\n",
       "      <th>5</th>\n",
       "      <td>1</td>\n",
       "      <td>14.20</td>\n",
       "      <td>1.76</td>\n",
       "      <td>2.45</td>\n",
       "      <td>15.2</td>\n",
       "      <td>112</td>\n",
       "      <td>3.27</td>\n",
       "      <td>3.39</td>\n",
       "      <td>0.34</td>\n",
       "      <td>1.97</td>\n",
       "      <td>6.75</td>\n",
       "      <td>1.05</td>\n",
       "      <td>2.85</td>\n",
       "      <td>1450</td>\n",
       "    </tr>\n",
       "    <tr>\n",
       "      <th>6</th>\n",
       "      <td>1</td>\n",
       "      <td>14.39</td>\n",
       "      <td>1.87</td>\n",
       "      <td>2.45</td>\n",
       "      <td>14.6</td>\n",
       "      <td>96</td>\n",
       "      <td>2.50</td>\n",
       "      <td>2.52</td>\n",
       "      <td>0.30</td>\n",
       "      <td>1.98</td>\n",
       "      <td>5.25</td>\n",
       "      <td>1.02</td>\n",
       "      <td>3.58</td>\n",
       "      <td>1290</td>\n",
       "    </tr>\n",
       "    <tr>\n",
       "      <th>7</th>\n",
       "      <td>1</td>\n",
       "      <td>14.06</td>\n",
       "      <td>2.15</td>\n",
       "      <td>2.61</td>\n",
       "      <td>17.6</td>\n",
       "      <td>121</td>\n",
       "      <td>2.60</td>\n",
       "      <td>2.51</td>\n",
       "      <td>0.31</td>\n",
       "      <td>1.25</td>\n",
       "      <td>5.05</td>\n",
       "      <td>1.06</td>\n",
       "      <td>3.58</td>\n",
       "      <td>1295</td>\n",
       "    </tr>\n",
       "    <tr>\n",
       "      <th>8</th>\n",
       "      <td>1</td>\n",
       "      <td>14.83</td>\n",
       "      <td>1.64</td>\n",
       "      <td>2.17</td>\n",
       "      <td>14.0</td>\n",
       "      <td>97</td>\n",
       "      <td>2.80</td>\n",
       "      <td>2.98</td>\n",
       "      <td>0.29</td>\n",
       "      <td>1.98</td>\n",
       "      <td>5.20</td>\n",
       "      <td>1.08</td>\n",
       "      <td>2.85</td>\n",
       "      <td>1045</td>\n",
       "    </tr>\n",
       "    <tr>\n",
       "      <th>9</th>\n",
       "      <td>1</td>\n",
       "      <td>13.86</td>\n",
       "      <td>1.35</td>\n",
       "      <td>2.27</td>\n",
       "      <td>16.0</td>\n",
       "      <td>98</td>\n",
       "      <td>2.98</td>\n",
       "      <td>3.15</td>\n",
       "      <td>0.22</td>\n",
       "      <td>1.85</td>\n",
       "      <td>7.22</td>\n",
       "      <td>1.01</td>\n",
       "      <td>3.55</td>\n",
       "      <td>1045</td>\n",
       "    </tr>\n",
       "  </tbody>\n",
       "</table>\n",
       "</div>"
      ],
      "text/plain": [
       "   Class  Alcohol  Malic_acid   Ash  Alcalinity_of_ash  Magnesium  \\\n",
       "0      1    14.23        1.71  2.43               15.6        127   \n",
       "1      1    13.20        1.78  2.14               11.2        100   \n",
       "2      1    13.16        2.36  2.67               18.6        101   \n",
       "3      1    14.37        1.95  2.50               16.8        113   \n",
       "4      1    13.24        2.59  2.87               21.0        118   \n",
       "5      1    14.20        1.76  2.45               15.2        112   \n",
       "6      1    14.39        1.87  2.45               14.6         96   \n",
       "7      1    14.06        2.15  2.61               17.6        121   \n",
       "8      1    14.83        1.64  2.17               14.0         97   \n",
       "9      1    13.86        1.35  2.27               16.0         98   \n",
       "\n",
       "   Total_phenols  Flavanoids  Nonflavanoid_phenols  Proanthocyanins  \\\n",
       "0           2.80        3.06                  0.28             2.29   \n",
       "1           2.65        2.76                  0.26             1.28   \n",
       "2           2.80        3.24                  0.30             2.81   \n",
       "3           3.85        3.49                  0.24             2.18   \n",
       "4           2.80        2.69                  0.39             1.82   \n",
       "5           3.27        3.39                  0.34             1.97   \n",
       "6           2.50        2.52                  0.30             1.98   \n",
       "7           2.60        2.51                  0.31             1.25   \n",
       "8           2.80        2.98                  0.29             1.98   \n",
       "9           2.98        3.15                  0.22             1.85   \n",
       "\n",
       "   Color_intensity   Hue  OD280/OD315_of_diluted_wines  Proline  \n",
       "0             5.64  1.04                          3.92     1065  \n",
       "1             4.38  1.05                          3.40     1050  \n",
       "2             5.68  1.03                          3.17     1185  \n",
       "3             7.80  0.86                          3.45     1480  \n",
       "4             4.32  1.04                          2.93      735  \n",
       "5             6.75  1.05                          2.85     1450  \n",
       "6             5.25  1.02                          3.58     1290  \n",
       "7             5.05  1.06                          3.58     1295  \n",
       "8             5.20  1.08                          2.85     1045  \n",
       "9             7.22  1.01                          3.55     1045  "
      ]
     },
     "execution_count": 12,
     "metadata": {},
     "output_type": "execute_result"
    }
   ],
   "source": [
    "#################################################################################################################\n",
    "#\n",
    "# YouDo:\n",
    "#    1) Add column names to the df\n",
    "#       Note:  There are 13 column names in our list but 14 in the data\n",
    "#              A careful reading of wine.names will give you the final column name\n",
    "#  \n",
    "\n",
    "#######################################  BEGIN STUDENT CODE  #####################################################\n",
    "# insert Class as a column name for the first Column \n",
    "colnames.insert(0,'Class')\n",
    "df.columns = colnames \n",
    "df[:10]\n",
    "#######################################   END STUDENT CODE   #####################################################\n",
    "\n",
    "## Instructor comment\n",
    "## df.head() gives you the same effect\n"
   ]
  },
  {
   "cell_type": "markdown",
   "metadata": {},
   "source": [
    "## An example analysis:  Principal Components Analysis"
   ]
  },
  {
   "cell_type": "code",
   "execution_count": 13,
   "metadata": {},
   "outputs": [],
   "source": [
    "# adapted from https://towardsdatascience.com/pca-using-python-scikit-learn-e653f8989e60\n",
    "\n",
    "from sklearn.preprocessing import StandardScaler\n",
    "from sklearn.decomposition import PCA\n",
    "\n",
    "features = df.columns[1:] # Separating out the features\n",
    "x = df.loc[:, features].values# Separating out the target\n",
    "y = df.loc[:,'Class'].values# Standardizing the features\n",
    "x = StandardScaler().fit_transform(x)\n",
    "\n",
    "pca = PCA(n_components=2)\n",
    "principalComponents = pca.fit_transform(x)\n",
    "\n",
    "principalDf = pd.DataFrame(data = principalComponents, columns = ['PC1', 'PC2'])\n",
    "principalDf['Category'] = y"
   ]
  },
  {
   "cell_type": "code",
   "execution_count": 14,
   "metadata": {},
   "outputs": [
    {
     "data": {
      "text/plain": [
       "Text(0, 0.5, 'Second Principle Component')"
      ]
     },
     "execution_count": 14,
     "metadata": {},
     "output_type": "execute_result"
    },
    {
     "data": {
      "image/png": "[encoded data removed]",
      "text/plain": [
       "<Figure size 432x288 with 1 Axes>"
      ]
     },
     "metadata": {
      "needs_background": "light"
     },
     "output_type": "display_data"
    }
   ],
   "source": [
    "# Make a scatter plot of the principal components of wines--dots colored by \"Class\" \n",
    "fig, ax = plt.subplots()\n",
    "\n",
    "thisclass = principalDf\n",
    "ax.scatter(thisclass.PC1, thisclass.PC2, c=thisclass.Category)\n",
    "\n",
    "plt.title('First two Principle Components of Wine Data')\n",
    "plt.xlabel('First Principle Component')\n",
    "plt.ylabel('Second Principle Component')\n"
   ]
  },
  {
   "cell_type": "code",
   "execution_count": 15,
   "metadata": {},
   "outputs": [
    {
     "name": "stdout",
     "output_type": "stream",
     "text": [
      "Explained Variance: [0.36198848 0.1920749 ]\n"
     ]
    }
   ],
   "source": [
    "# Explained variance\n",
    "print('Explained Variance: {}'.format(pca.explained_variance_ratio_))\n"
   ]
  },
  {
   "cell_type": "code",
   "execution_count": 18,
   "metadata": {},
   "outputs": [
    {
     "data": {
      "text/html": [
       "<div>\n",
       "<style scoped>\n",
       "    .dataframe tbody tr th:only-of-type {\n",
       "        vertical-align: middle;\n",
       "    }\n",
       "\n",
       "    .dataframe tbody tr th {\n",
       "        vertical-align: top;\n",
       "    }\n",
       "\n",
       "    .dataframe thead th {\n",
       "        text-align: right;\n",
       "    }\n",
       "</style>\n",
       "<table border=\"1\" class=\"dataframe\">\n",
       "  <thead>\n",
       "    <tr style=\"text-align: right;\">\n",
       "      <th></th>\n",
       "      <th>PC1</th>\n",
       "      <th>PC2</th>\n",
       "    </tr>\n",
       "  </thead>\n",
       "  <tbody>\n",
       "    <tr>\n",
       "      <th>Alcohol</th>\n",
       "      <td>0.144329</td>\n",
       "      <td>-0.483652</td>\n",
       "    </tr>\n",
       "    <tr>\n",
       "      <th>Malic_acid</th>\n",
       "      <td>-0.245188</td>\n",
       "      <td>-0.224931</td>\n",
       "    </tr>\n",
       "    <tr>\n",
       "      <th>Ash</th>\n",
       "      <td>-0.002051</td>\n",
       "      <td>-0.316069</td>\n",
       "    </tr>\n",
       "    <tr>\n",
       "      <th>Alcalinity_of_ash</th>\n",
       "      <td>-0.239320</td>\n",
       "      <td>0.010591</td>\n",
       "    </tr>\n",
       "    <tr>\n",
       "      <th>Magnesium</th>\n",
       "      <td>0.141992</td>\n",
       "      <td>-0.299634</td>\n",
       "    </tr>\n",
       "    <tr>\n",
       "      <th>Total_phenols</th>\n",
       "      <td>0.394661</td>\n",
       "      <td>-0.065040</td>\n",
       "    </tr>\n",
       "    <tr>\n",
       "      <th>Flavanoids</th>\n",
       "      <td>0.422934</td>\n",
       "      <td>0.003360</td>\n",
       "    </tr>\n",
       "    <tr>\n",
       "      <th>Nonflavanoid_phenols</th>\n",
       "      <td>-0.298533</td>\n",
       "      <td>-0.028779</td>\n",
       "    </tr>\n",
       "    <tr>\n",
       "      <th>Proanthocyanins</th>\n",
       "      <td>0.313429</td>\n",
       "      <td>-0.039302</td>\n",
       "    </tr>\n",
       "    <tr>\n",
       "      <th>Color_intensity</th>\n",
       "      <td>-0.088617</td>\n",
       "      <td>-0.529996</td>\n",
       "    </tr>\n",
       "    <tr>\n",
       "      <th>Hue</th>\n",
       "      <td>0.296715</td>\n",
       "      <td>0.279235</td>\n",
       "    </tr>\n",
       "    <tr>\n",
       "      <th>OD280/OD315_of_diluted_wines</th>\n",
       "      <td>0.376167</td>\n",
       "      <td>0.164496</td>\n",
       "    </tr>\n",
       "    <tr>\n",
       "      <th>Proline</th>\n",
       "      <td>0.286752</td>\n",
       "      <td>-0.364903</td>\n",
       "    </tr>\n",
       "  </tbody>\n",
       "</table>\n",
       "</div>"
      ],
      "text/plain": [
       "                                   PC1       PC2\n",
       "Alcohol                       0.144329 -0.483652\n",
       "Malic_acid                   -0.245188 -0.224931\n",
       "Ash                          -0.002051 -0.316069\n",
       "Alcalinity_of_ash            -0.239320  0.010591\n",
       "Magnesium                     0.141992 -0.299634\n",
       "Total_phenols                 0.394661 -0.065040\n",
       "Flavanoids                    0.422934  0.003360\n",
       "Nonflavanoid_phenols         -0.298533 -0.028779\n",
       "Proanthocyanins               0.313429 -0.039302\n",
       "Color_intensity              -0.088617 -0.529996\n",
       "Hue                           0.296715  0.279235\n",
       "OD280/OD315_of_diluted_wines  0.376167  0.164496\n",
       "Proline                       0.286752 -0.364903"
      ]
     },
     "execution_count": 18,
     "metadata": {},
     "output_type": "execute_result"
    }
   ],
   "source": [
    "# PCA Loading scores\n",
    "pd.DataFrame(pca.components_.T, index=features, columns=['PC1', 'PC2'] )"
   ]
  },
  {
   "cell_type": "code",
   "execution_count": null,
   "metadata": {
    "collapsed": true
   },
   "outputs": [],
   "source": [
    "\n",
    "##################################################################################################################\n",
    "#\n",
    "# YouDo:\n",
    "#    1) Ensure your file is called BIOS6644_Wine_Wrangling_FirstLast\n",
    "#    2) Submit via pull-request\n",
    "#\n",
    "##################################################################################################################\n"
   ]
  },
  {
   "cell_type": "code",
   "execution_count": null,
   "metadata": {
    "collapsed": true
   },
   "outputs": [],
   "source": []
  }
 ],
 "metadata": {
  "kernelspec": {
   "display_name": "Python 3",
   "language": "python",
   "name": "python3"
  },
  "language_info": {
   "codemirror_mode": {
    "name": "ipython",
    "version": 3
   },
   "file_extension": ".py",
   "mimetype": "text/x-python",
   "name": "python",
   "nbconvert_exporter": "python",
   "pygments_lexer": "ipython3",
   "version": "3.6.9"
  }
 },
 "nbformat": 4,
 "nbformat_minor": 2
}
