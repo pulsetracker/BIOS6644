{
 "cells": [
  {
   "cell_type": "code",
   "execution_count": null,
   "metadata": {},
   "outputs": [],
   "source": [
    "##########################################################################################\n",
    "#                                                                                        #\n",
    "#  888888b.  8888888 .d88888b.   .d8888b.     .d8888b.   .d8888b.      d8888      d8888  #\n",
    "#  888  \"88b   888  d88P\" \"Y88b d88P  Y88b   d88P  Y88b d88P  Y88b    d8P888     d8P888  #\n",
    "#  888  .88P   888  888     888 Y88b.        888        888          d8P 888    d8P 888  #\n",
    "#  8888888K.   888  888     888  \"Y888b.     888d888b.  888d888b.   d8P  888   d8P  888  #\n",
    "#  888  \"Y88b  888  888     888     \"Y88b.   888P \"Y88b 888P \"Y88b d88   888  d88   888  #\n",
    "#  888    888  888  888     888       \"888   888    888 888    888 8888888888 8888888888 #\n",
    "#  888   d88P  888  Y88b. .d88P Y88b  d88P   Y88b  d88P Y88b  d88P       888        888  #\n",
    "#  8888888P\" 8888888 \"Y88888P\"   \"Y8888P\"     \"Y8888P\"   \"Y8888P\"        888        888  #\n",
    "#                                                                                        # \n",
    "##########################################################################################\n",
    "#\n",
    "# Wrangle Synthetic Medical Record Data\n",
    "#\n",
    "##########################################################################################"
   ]
  },
  {
   "cell_type": "markdown",
   "metadata": {},
   "source": [
    "## Fetch data\n",
    "Go here: https://drive.google.com/drive/folders/0B5Wu8z15TIbiLUhvcWxaMDJCRGs\n",
    "\n",
    "Get this data set: 10000-Patients.zip\n",
    "\n",
    "unzip it into the Data folder"
   ]
  },
  {
   "cell_type": "code",
   "execution_count": 1,
   "metadata": {},
   "outputs": [],
   "source": [
    "import pandas as pd\n",
    "import pylab as plt\n",
    "import numpy as np\n",
    "import datetime as dt"
   ]
  },
  {
   "cell_type": "code",
   "execution_count": null,
   "metadata": {},
   "outputs": [],
   "source": []
  },
  {
   "cell_type": "code",
   "execution_count": 2,
   "metadata": {},
   "outputs": [],
   "source": [
    "##################################################################################################################\n",
    "#\n",
    "# YouDo: Import each of the 4 files into its own data frame\n",
    "#         (Hint:  they're tab-separated)\n"
   ]
  },
  {
   "cell_type": "markdown",
   "metadata": {},
   "source": [
    "\n"
   ]
  },
  {
   "cell_type": "code",
   "execution_count": 3,
   "metadata": {},
   "outputs": [],
   "source": [
    "# 1) \n",
    "\n",
    "adm_core_pop = pd.read_csv('C:/Users/rache/Documents/GitHub/BIOS6644/Data/MedRecs/AdmissionsCorePopulatedTable.txt', sep='\\t')\n",
    "\n",
    "adm_diag_pop = pd.read_csv('C:/Users/rache/Documents/GitHub/BIOS6644/Data/MedRecs/AdmissionsDiagnosesCorePopulatedTable.txt', sep='\\t')\n",
    "\n",
    "lab_core_pop = pd.read_csv('C:/Users/rache/Documents/GitHub/BIOS6644/Data/MedRecs/LabsCorePopulatedTable.txt', sep='\\t')\n",
    "\n",
    "patient_core_pop = pd.read_csv('C:/Users/rache/Documents/GitHub/BIOS6644/Data/MedRecs/PatientCorePopulatedTable.txt', sep='\\t')\n"
   ]
  },
  {
   "cell_type": "code",
   "execution_count": 4,
   "metadata": {},
   "outputs": [
    {
     "data": {
      "text/html": [
       "<div>\n",
       "<style scoped>\n",
       "    .dataframe tbody tr th:only-of-type {\n",
       "        vertical-align: middle;\n",
       "    }\n",
       "\n",
       "    .dataframe tbody tr th {\n",
       "        vertical-align: top;\n",
       "    }\n",
       "\n",
       "    .dataframe thead th {\n",
       "        text-align: right;\n",
       "    }\n",
       "</style>\n",
       "<table border=\"1\" class=\"dataframe\">\n",
       "  <thead>\n",
       "    <tr style=\"text-align: right;\">\n",
       "      <th></th>\n",
       "      <th>PatientID</th>\n",
       "      <th>AdmissionID</th>\n",
       "      <th>AdmissionStartDate</th>\n",
       "      <th>AdmissionEndDate</th>\n",
       "    </tr>\n",
       "  </thead>\n",
       "  <tbody>\n",
       "    <tr>\n",
       "      <th>0</th>\n",
       "      <td>43556DC2-BCFC-45A8-84C3-1D3E4A11B02F</td>\n",
       "      <td>1</td>\n",
       "      <td>1974-07-26 15:05:30.333</td>\n",
       "      <td>1974-07-30 22:27:44.987</td>\n",
       "    </tr>\n",
       "    <tr>\n",
       "      <th>1</th>\n",
       "      <td>43556DC2-BCFC-45A8-84C3-1D3E4A11B02F</td>\n",
       "      <td>2</td>\n",
       "      <td>1983-11-12 03:34:39.083</td>\n",
       "      <td>1983-11-30 19:05:54.040</td>\n",
       "    </tr>\n",
       "    <tr>\n",
       "      <th>2</th>\n",
       "      <td>43556DC2-BCFC-45A8-84C3-1D3E4A11B02F</td>\n",
       "      <td>3</td>\n",
       "      <td>1998-09-28 12:08:17.843</td>\n",
       "      <td>1998-10-08 12:56:31.233</td>\n",
       "    </tr>\n",
       "    <tr>\n",
       "      <th>3</th>\n",
       "      <td>43556DC2-BCFC-45A8-84C3-1D3E4A11B02F</td>\n",
       "      <td>4</td>\n",
       "      <td>1999-04-03 01:49:32.610</td>\n",
       "      <td>1999-04-09 14:04:29.210</td>\n",
       "    </tr>\n",
       "    <tr>\n",
       "      <th>4</th>\n",
       "      <td>43556DC2-BCFC-45A8-84C3-1D3E4A11B02F</td>\n",
       "      <td>5</td>\n",
       "      <td>2001-11-26 03:07:07.303</td>\n",
       "      <td>2001-12-01 08:22:03.783</td>\n",
       "    </tr>\n",
       "  </tbody>\n",
       "</table>\n",
       "</div>"
      ],
      "text/plain": [
       "                              PatientID  AdmissionID       AdmissionStartDate  \\\n",
       "0  43556DC2-BCFC-45A8-84C3-1D3E4A11B02F            1  1974-07-26 15:05:30.333   \n",
       "1  43556DC2-BCFC-45A8-84C3-1D3E4A11B02F            2  1983-11-12 03:34:39.083   \n",
       "2  43556DC2-BCFC-45A8-84C3-1D3E4A11B02F            3  1998-09-28 12:08:17.843   \n",
       "3  43556DC2-BCFC-45A8-84C3-1D3E4A11B02F            4  1999-04-03 01:49:32.610   \n",
       "4  43556DC2-BCFC-45A8-84C3-1D3E4A11B02F            5  2001-11-26 03:07:07.303   \n",
       "\n",
       "          AdmissionEndDate  \n",
       "0  1974-07-30 22:27:44.987  \n",
       "1  1983-11-30 19:05:54.040  \n",
       "2  1998-10-08 12:56:31.233  \n",
       "3  1999-04-09 14:04:29.210  \n",
       "4  2001-12-01 08:22:03.783  "
      ]
     },
     "execution_count": 4,
     "metadata": {},
     "output_type": "execute_result"
    }
   ],
   "source": [
    "adm_core_pop.head()"
   ]
  },
  {
   "cell_type": "code",
   "execution_count": 5,
   "metadata": {},
   "outputs": [
    {
     "data": {
      "text/plain": [
       "Index(['PatientID', 'AdmissionID', 'AdmissionStartDate', 'AdmissionEndDate'], dtype='object')"
      ]
     },
     "execution_count": 5,
     "metadata": {},
     "output_type": "execute_result"
    }
   ],
   "source": [
    "##################################################################################################################\n",
    "#\n",
    "# YouDo: Notice that there are many columns with dates, but pandas assumed they're strings\n",
    "#\n",
    "#        1) use the pd.to_datetime() method to transform all of the time columns to have type datetime\n",
    "#            # stretch goal:  do it in a loop based on the string 'Date' appearing in the column name\n",
    "#\n",
    "# Show the type\n",
    "\n",
    "\n",
    "adm_core_pop.columns"
   ]
  },
  {
   "cell_type": "code",
   "execution_count": 6,
   "metadata": {},
   "outputs": [
    {
     "ename": "ValueError",
     "evalue": "('Unknown string format:', 'AdmissionStartDate')",
     "output_type": "error",
     "traceback": [
      "\u001b[1;31m---------------------------------------------------------------------------\u001b[0m",
      "\u001b[1;31mTypeError\u001b[0m                                 Traceback (most recent call last)",
      "\u001b[1;32m~\\Anaconda3\\lib\\site-packages\\pandas\\core\\arrays\\datetimes.py\u001b[0m in \u001b[0;36mobjects_to_datetime64ns\u001b[1;34m(data, dayfirst, yearfirst, utc, errors, require_iso8601, allow_object)\u001b[0m\n\u001b[0;32m   1860\u001b[0m         \u001b[1;32mtry\u001b[0m\u001b[1;33m:\u001b[0m\u001b[1;33m\u001b[0m\u001b[1;33m\u001b[0m\u001b[0m\n\u001b[1;32m-> 1861\u001b[1;33m             \u001b[0mvalues\u001b[0m\u001b[1;33m,\u001b[0m \u001b[0mtz_parsed\u001b[0m \u001b[1;33m=\u001b[0m \u001b[0mconversion\u001b[0m\u001b[1;33m.\u001b[0m\u001b[0mdatetime_to_datetime64\u001b[0m\u001b[1;33m(\u001b[0m\u001b[0mdata\u001b[0m\u001b[1;33m)\u001b[0m\u001b[1;33m\u001b[0m\u001b[1;33m\u001b[0m\u001b[0m\n\u001b[0m\u001b[0;32m   1862\u001b[0m             \u001b[1;31m# If tzaware, these values represent unix timestamps, so we\u001b[0m\u001b[1;33m\u001b[0m\u001b[1;33m\u001b[0m\u001b[1;33m\u001b[0m\u001b[0m\n",
      "\u001b[1;32mpandas/_libs/tslibs/conversion.pyx\u001b[0m in \u001b[0;36mpandas._libs.tslibs.conversion.datetime_to_datetime64\u001b[1;34m()\u001b[0m\n",
      "\u001b[1;31mTypeError\u001b[0m: Unrecognized value type: <class 'str'>",
      "\nDuring handling of the above exception, another exception occurred:\n",
      "\u001b[1;31mValueError\u001b[0m                                Traceback (most recent call last)",
      "\u001b[1;32m<ipython-input-6-d2662b377ea3>\u001b[0m in \u001b[0;36m<module>\u001b[1;34m\u001b[0m\n\u001b[0;32m      2\u001b[0m \u001b[1;33m\u001b[0m\u001b[0m\n\u001b[0;32m      3\u001b[0m \u001b[1;31m# hmmm\u001b[0m\u001b[1;33m\u001b[0m\u001b[1;33m\u001b[0m\u001b[1;33m\u001b[0m\u001b[0m\n\u001b[1;32m----> 4\u001b[1;33m \u001b[0mtest\u001b[0m \u001b[1;33m=\u001b[0m \u001b[1;33m[\u001b[0m\u001b[0mpd\u001b[0m\u001b[1;33m.\u001b[0m\u001b[0mto_datetime\u001b[0m\u001b[1;33m(\u001b[0m\u001b[0mcol\u001b[0m\u001b[1;33m)\u001b[0m \u001b[1;32mfor\u001b[0m \u001b[0mcol\u001b[0m \u001b[1;32min\u001b[0m \u001b[0madm_core_pop\u001b[0m\u001b[1;33m.\u001b[0m\u001b[0mcolumns\u001b[0m \u001b[1;32mif\u001b[0m \u001b[1;34m'Date'\u001b[0m \u001b[1;32min\u001b[0m \u001b[0mcol\u001b[0m\u001b[1;33m]\u001b[0m\u001b[1;33m\u001b[0m\u001b[1;33m\u001b[0m\u001b[0m\n\u001b[0m",
      "\u001b[1;32m<ipython-input-6-d2662b377ea3>\u001b[0m in \u001b[0;36m<listcomp>\u001b[1;34m(.0)\u001b[0m\n\u001b[0;32m      2\u001b[0m \u001b[1;33m\u001b[0m\u001b[0m\n\u001b[0;32m      3\u001b[0m \u001b[1;31m# hmmm\u001b[0m\u001b[1;33m\u001b[0m\u001b[1;33m\u001b[0m\u001b[1;33m\u001b[0m\u001b[0m\n\u001b[1;32m----> 4\u001b[1;33m \u001b[0mtest\u001b[0m \u001b[1;33m=\u001b[0m \u001b[1;33m[\u001b[0m\u001b[0mpd\u001b[0m\u001b[1;33m.\u001b[0m\u001b[0mto_datetime\u001b[0m\u001b[1;33m(\u001b[0m\u001b[0mcol\u001b[0m\u001b[1;33m)\u001b[0m \u001b[1;32mfor\u001b[0m \u001b[0mcol\u001b[0m \u001b[1;32min\u001b[0m \u001b[0madm_core_pop\u001b[0m\u001b[1;33m.\u001b[0m\u001b[0mcolumns\u001b[0m \u001b[1;32mif\u001b[0m \u001b[1;34m'Date'\u001b[0m \u001b[1;32min\u001b[0m \u001b[0mcol\u001b[0m\u001b[1;33m]\u001b[0m\u001b[1;33m\u001b[0m\u001b[1;33m\u001b[0m\u001b[0m\n\u001b[0m",
      "\u001b[1;32m~\\Anaconda3\\lib\\site-packages\\pandas\\core\\tools\\datetimes.py\u001b[0m in \u001b[0;36mto_datetime\u001b[1;34m(arg, errors, dayfirst, yearfirst, utc, box, format, exact, unit, infer_datetime_format, origin, cache)\u001b[0m\n\u001b[0;32m    609\u001b[0m             \u001b[0mresult\u001b[0m \u001b[1;33m=\u001b[0m \u001b[0mconvert_listlike\u001b[0m\u001b[1;33m(\u001b[0m\u001b[0marg\u001b[0m\u001b[1;33m,\u001b[0m \u001b[0mbox\u001b[0m\u001b[1;33m,\u001b[0m \u001b[0mformat\u001b[0m\u001b[1;33m)\u001b[0m\u001b[1;33m\u001b[0m\u001b[1;33m\u001b[0m\u001b[0m\n\u001b[0;32m    610\u001b[0m     \u001b[1;32melse\u001b[0m\u001b[1;33m:\u001b[0m\u001b[1;33m\u001b[0m\u001b[1;33m\u001b[0m\u001b[0m\n\u001b[1;32m--> 611\u001b[1;33m         \u001b[0mresult\u001b[0m \u001b[1;33m=\u001b[0m \u001b[0mconvert_listlike\u001b[0m\u001b[1;33m(\u001b[0m\u001b[0mnp\u001b[0m\u001b[1;33m.\u001b[0m\u001b[0marray\u001b[0m\u001b[1;33m(\u001b[0m\u001b[1;33m[\u001b[0m\u001b[0marg\u001b[0m\u001b[1;33m]\u001b[0m\u001b[1;33m)\u001b[0m\u001b[1;33m,\u001b[0m \u001b[0mbox\u001b[0m\u001b[1;33m,\u001b[0m \u001b[0mformat\u001b[0m\u001b[1;33m)\u001b[0m\u001b[1;33m[\u001b[0m\u001b[1;36m0\u001b[0m\u001b[1;33m]\u001b[0m\u001b[1;33m\u001b[0m\u001b[1;33m\u001b[0m\u001b[0m\n\u001b[0m\u001b[0;32m    612\u001b[0m \u001b[1;33m\u001b[0m\u001b[0m\n\u001b[0;32m    613\u001b[0m     \u001b[1;32mreturn\u001b[0m \u001b[0mresult\u001b[0m\u001b[1;33m\u001b[0m\u001b[1;33m\u001b[0m\u001b[0m\n",
      "\u001b[1;32m~\\Anaconda3\\lib\\site-packages\\pandas\\core\\tools\\datetimes.py\u001b[0m in \u001b[0;36m_convert_listlike_datetimes\u001b[1;34m(arg, box, format, name, tz, unit, errors, infer_datetime_format, dayfirst, yearfirst, exact)\u001b[0m\n\u001b[0;32m    300\u001b[0m             \u001b[0marg\u001b[0m\u001b[1;33m,\u001b[0m \u001b[0mdayfirst\u001b[0m\u001b[1;33m=\u001b[0m\u001b[0mdayfirst\u001b[0m\u001b[1;33m,\u001b[0m \u001b[0myearfirst\u001b[0m\u001b[1;33m=\u001b[0m\u001b[0myearfirst\u001b[0m\u001b[1;33m,\u001b[0m\u001b[1;33m\u001b[0m\u001b[1;33m\u001b[0m\u001b[0m\n\u001b[0;32m    301\u001b[0m             \u001b[0mutc\u001b[0m\u001b[1;33m=\u001b[0m\u001b[0mutc\u001b[0m\u001b[1;33m,\u001b[0m \u001b[0merrors\u001b[0m\u001b[1;33m=\u001b[0m\u001b[0merrors\u001b[0m\u001b[1;33m,\u001b[0m \u001b[0mrequire_iso8601\u001b[0m\u001b[1;33m=\u001b[0m\u001b[0mrequire_iso8601\u001b[0m\u001b[1;33m,\u001b[0m\u001b[1;33m\u001b[0m\u001b[1;33m\u001b[0m\u001b[0m\n\u001b[1;32m--> 302\u001b[1;33m             allow_object=True)\n\u001b[0m\u001b[0;32m    303\u001b[0m \u001b[1;33m\u001b[0m\u001b[0m\n\u001b[0;32m    304\u001b[0m     \u001b[1;32mif\u001b[0m \u001b[0mtz_parsed\u001b[0m \u001b[1;32mis\u001b[0m \u001b[1;32mnot\u001b[0m \u001b[1;32mNone\u001b[0m\u001b[1;33m:\u001b[0m\u001b[1;33m\u001b[0m\u001b[1;33m\u001b[0m\u001b[0m\n",
      "\u001b[1;32m~\\Anaconda3\\lib\\site-packages\\pandas\\core\\arrays\\datetimes.py\u001b[0m in \u001b[0;36mobjects_to_datetime64ns\u001b[1;34m(data, dayfirst, yearfirst, utc, errors, require_iso8601, allow_object)\u001b[0m\n\u001b[0;32m   1864\u001b[0m             \u001b[1;32mreturn\u001b[0m \u001b[0mvalues\u001b[0m\u001b[1;33m.\u001b[0m\u001b[0mview\u001b[0m\u001b[1;33m(\u001b[0m\u001b[1;34m'i8'\u001b[0m\u001b[1;33m)\u001b[0m\u001b[1;33m,\u001b[0m \u001b[0mtz_parsed\u001b[0m\u001b[1;33m\u001b[0m\u001b[1;33m\u001b[0m\u001b[0m\n\u001b[0;32m   1865\u001b[0m         \u001b[1;32mexcept\u001b[0m \u001b[1;33m(\u001b[0m\u001b[0mValueError\u001b[0m\u001b[1;33m,\u001b[0m \u001b[0mTypeError\u001b[0m\u001b[1;33m)\u001b[0m\u001b[1;33m:\u001b[0m\u001b[1;33m\u001b[0m\u001b[1;33m\u001b[0m\u001b[0m\n\u001b[1;32m-> 1866\u001b[1;33m             \u001b[1;32mraise\u001b[0m \u001b[0me\u001b[0m\u001b[1;33m\u001b[0m\u001b[1;33m\u001b[0m\u001b[0m\n\u001b[0m\u001b[0;32m   1867\u001b[0m \u001b[1;33m\u001b[0m\u001b[0m\n\u001b[0;32m   1868\u001b[0m     \u001b[1;32mif\u001b[0m \u001b[0mtz_parsed\u001b[0m \u001b[1;32mis\u001b[0m \u001b[1;32mnot\u001b[0m \u001b[1;32mNone\u001b[0m\u001b[1;33m:\u001b[0m\u001b[1;33m\u001b[0m\u001b[1;33m\u001b[0m\u001b[0m\n",
      "\u001b[1;32m~\\Anaconda3\\lib\\site-packages\\pandas\\core\\arrays\\datetimes.py\u001b[0m in \u001b[0;36mobjects_to_datetime64ns\u001b[1;34m(data, dayfirst, yearfirst, utc, errors, require_iso8601, allow_object)\u001b[0m\n\u001b[0;32m   1855\u001b[0m             \u001b[0mdayfirst\u001b[0m\u001b[1;33m=\u001b[0m\u001b[0mdayfirst\u001b[0m\u001b[1;33m,\u001b[0m\u001b[1;33m\u001b[0m\u001b[1;33m\u001b[0m\u001b[0m\n\u001b[0;32m   1856\u001b[0m             \u001b[0myearfirst\u001b[0m\u001b[1;33m=\u001b[0m\u001b[0myearfirst\u001b[0m\u001b[1;33m,\u001b[0m\u001b[1;33m\u001b[0m\u001b[1;33m\u001b[0m\u001b[0m\n\u001b[1;32m-> 1857\u001b[1;33m             \u001b[0mrequire_iso8601\u001b[0m\u001b[1;33m=\u001b[0m\u001b[0mrequire_iso8601\u001b[0m\u001b[1;33m\u001b[0m\u001b[1;33m\u001b[0m\u001b[0m\n\u001b[0m\u001b[0;32m   1858\u001b[0m         )\n\u001b[0;32m   1859\u001b[0m     \u001b[1;32mexcept\u001b[0m \u001b[0mValueError\u001b[0m \u001b[1;32mas\u001b[0m \u001b[0me\u001b[0m\u001b[1;33m:\u001b[0m\u001b[1;33m\u001b[0m\u001b[1;33m\u001b[0m\u001b[0m\n",
      "\u001b[1;32mpandas/_libs/tslib.pyx\u001b[0m in \u001b[0;36mpandas._libs.tslib.array_to_datetime\u001b[1;34m()\u001b[0m\n",
      "\u001b[1;32mpandas/_libs/tslib.pyx\u001b[0m in \u001b[0;36mpandas._libs.tslib.array_to_datetime\u001b[1;34m()\u001b[0m\n",
      "\u001b[1;32mpandas/_libs/tslib.pyx\u001b[0m in \u001b[0;36mpandas._libs.tslib.array_to_datetime_object\u001b[1;34m()\u001b[0m\n",
      "\u001b[1;32mpandas/_libs/tslib.pyx\u001b[0m in \u001b[0;36mpandas._libs.tslib.array_to_datetime_object\u001b[1;34m()\u001b[0m\n",
      "\u001b[1;32mpandas/_libs/tslibs/parsing.pyx\u001b[0m in \u001b[0;36mpandas._libs.tslibs.parsing.parse_datetime_string\u001b[1;34m()\u001b[0m\n",
      "\u001b[1;32m~\\Anaconda3\\lib\\site-packages\\dateutil\\parser\\_parser.py\u001b[0m in \u001b[0;36mparse\u001b[1;34m(timestr, parserinfo, **kwargs)\u001b[0m\n\u001b[0;32m   1356\u001b[0m         \u001b[1;32mreturn\u001b[0m \u001b[0mparser\u001b[0m\u001b[1;33m(\u001b[0m\u001b[0mparserinfo\u001b[0m\u001b[1;33m)\u001b[0m\u001b[1;33m.\u001b[0m\u001b[0mparse\u001b[0m\u001b[1;33m(\u001b[0m\u001b[0mtimestr\u001b[0m\u001b[1;33m,\u001b[0m \u001b[1;33m**\u001b[0m\u001b[0mkwargs\u001b[0m\u001b[1;33m)\u001b[0m\u001b[1;33m\u001b[0m\u001b[1;33m\u001b[0m\u001b[0m\n\u001b[0;32m   1357\u001b[0m     \u001b[1;32melse\u001b[0m\u001b[1;33m:\u001b[0m\u001b[1;33m\u001b[0m\u001b[1;33m\u001b[0m\u001b[0m\n\u001b[1;32m-> 1358\u001b[1;33m         \u001b[1;32mreturn\u001b[0m \u001b[0mDEFAULTPARSER\u001b[0m\u001b[1;33m.\u001b[0m\u001b[0mparse\u001b[0m\u001b[1;33m(\u001b[0m\u001b[0mtimestr\u001b[0m\u001b[1;33m,\u001b[0m \u001b[1;33m**\u001b[0m\u001b[0mkwargs\u001b[0m\u001b[1;33m)\u001b[0m\u001b[1;33m\u001b[0m\u001b[1;33m\u001b[0m\u001b[0m\n\u001b[0m\u001b[0;32m   1359\u001b[0m \u001b[1;33m\u001b[0m\u001b[0m\n\u001b[0;32m   1360\u001b[0m \u001b[1;33m\u001b[0m\u001b[0m\n",
      "\u001b[1;32m~\\Anaconda3\\lib\\site-packages\\dateutil\\parser\\_parser.py\u001b[0m in \u001b[0;36mparse\u001b[1;34m(self, timestr, default, ignoretz, tzinfos, **kwargs)\u001b[0m\n\u001b[0;32m    647\u001b[0m \u001b[1;33m\u001b[0m\u001b[0m\n\u001b[0;32m    648\u001b[0m         \u001b[1;32mif\u001b[0m \u001b[0mres\u001b[0m \u001b[1;32mis\u001b[0m \u001b[1;32mNone\u001b[0m\u001b[1;33m:\u001b[0m\u001b[1;33m\u001b[0m\u001b[1;33m\u001b[0m\u001b[0m\n\u001b[1;32m--> 649\u001b[1;33m             \u001b[1;32mraise\u001b[0m \u001b[0mValueError\u001b[0m\u001b[1;33m(\u001b[0m\u001b[1;34m\"Unknown string format:\"\u001b[0m\u001b[1;33m,\u001b[0m \u001b[0mtimestr\u001b[0m\u001b[1;33m)\u001b[0m\u001b[1;33m\u001b[0m\u001b[1;33m\u001b[0m\u001b[0m\n\u001b[0m\u001b[0;32m    650\u001b[0m \u001b[1;33m\u001b[0m\u001b[0m\n\u001b[0;32m    651\u001b[0m         \u001b[1;32mif\u001b[0m \u001b[0mlen\u001b[0m\u001b[1;33m(\u001b[0m\u001b[0mres\u001b[0m\u001b[1;33m)\u001b[0m \u001b[1;33m==\u001b[0m \u001b[1;36m0\u001b[0m\u001b[1;33m:\u001b[0m\u001b[1;33m\u001b[0m\u001b[1;33m\u001b[0m\u001b[0m\n",
      "\u001b[1;31mValueError\u001b[0m: ('Unknown string format:', 'AdmissionStartDate')"
     ]
    }
   ],
   "source": [
    "\n",
    "# 1) \n",
    "\n",
    "# hmmm\n",
    "test = [pd.to_datetime(col) for col in adm_core_pop.columns if 'Date' in col]\n",
    "\n",
    "## Instructor comment:\n",
    "## \"col\" is the name of the column, not the data of the column\n",
    "## Something like this might have the desired effect\n",
    "## test = [pd.to_datetime(adm_core_pop[col]) for col in adm_core_pop.columns if 'Date' in col]"
   ]
  },
  {
   "cell_type": "code",
   "execution_count": 7,
   "metadata": {},
   "outputs": [],
   "source": [
    "# one column at a time:\n",
    "adm_core_pop[\"AdmissionStartDate\"] = pd.to_datetime(adm_core_pop[\"AdmissionStartDate\"])\n",
    "adm_core_pop[\"AdmissionEndDate\"] = pd.to_datetime(adm_core_pop[\"AdmissionEndDate\"])\n",
    "\n",
    "lab_core_pop[\"LabDateTime\"] = pd.to_datetime(lab_core_pop[\"LabDateTime\"])\n"
   ]
  },
  {
   "cell_type": "code",
   "execution_count": 8,
   "metadata": {},
   "outputs": [],
   "source": [
    "# As is typical in complex data sets, informtion about each patient is broken up into several different\n",
    "# tables, cross-referenced by a patient id\n",
    "##################################################################################################################\n",
    "#\n",
    "# YouDo: Print out the records from each of the four tables for patient number\n",
    "# '327A3C2F-B234-400B-B994-833073C014C0'\n",
    "\n"
   ]
  },
  {
   "cell_type": "code",
   "execution_count": 9,
   "metadata": {},
   "outputs": [
    {
     "data": {
      "text/html": [
       "<div>\n",
       "<style scoped>\n",
       "    .dataframe tbody tr th:only-of-type {\n",
       "        vertical-align: middle;\n",
       "    }\n",
       "\n",
       "    .dataframe tbody tr th {\n",
       "        vertical-align: top;\n",
       "    }\n",
       "\n",
       "    .dataframe thead th {\n",
       "        text-align: right;\n",
       "    }\n",
       "</style>\n",
       "<table border=\"1\" class=\"dataframe\">\n",
       "  <thead>\n",
       "    <tr style=\"text-align: right;\">\n",
       "      <th></th>\n",
       "      <th>PatientID</th>\n",
       "      <th>AdmissionID</th>\n",
       "      <th>AdmissionStartDate</th>\n",
       "      <th>AdmissionEndDate</th>\n",
       "    </tr>\n",
       "  </thead>\n",
       "  <tbody>\n",
       "    <tr>\n",
       "      <th>15184</th>\n",
       "      <td>327A3C2F-B234-400B-B994-833073C014C0</td>\n",
       "      <td>1</td>\n",
       "      <td>1985-05-02 03:28:04.047</td>\n",
       "      <td>1985-05-07 02:33:18.970</td>\n",
       "    </tr>\n",
       "    <tr>\n",
       "      <th>15185</th>\n",
       "      <td>327A3C2F-B234-400B-B994-833073C014C0</td>\n",
       "      <td>2</td>\n",
       "      <td>1993-01-26 22:14:39.247</td>\n",
       "      <td>1993-02-01 22:25:06.137</td>\n",
       "    </tr>\n",
       "    <tr>\n",
       "      <th>15186</th>\n",
       "      <td>327A3C2F-B234-400B-B994-833073C014C0</td>\n",
       "      <td>3</td>\n",
       "      <td>1998-10-26 15:55:32.827</td>\n",
       "      <td>1998-11-03 02:48:41.307</td>\n",
       "    </tr>\n",
       "    <tr>\n",
       "      <th>15187</th>\n",
       "      <td>327A3C2F-B234-400B-B994-833073C014C0</td>\n",
       "      <td>4</td>\n",
       "      <td>2005-11-03 07:41:26.787</td>\n",
       "      <td>2005-11-11 08:24:10.020</td>\n",
       "    </tr>\n",
       "    <tr>\n",
       "      <th>15188</th>\n",
       "      <td>327A3C2F-B234-400B-B994-833073C014C0</td>\n",
       "      <td>5</td>\n",
       "      <td>2011-11-17 20:08:57.343</td>\n",
       "      <td>2011-12-04 19:19:03.410</td>\n",
       "    </tr>\n",
       "  </tbody>\n",
       "</table>\n",
       "</div>"
      ],
      "text/plain": [
       "                                  PatientID  AdmissionID  \\\n",
       "15184  327A3C2F-B234-400B-B994-833073C014C0            1   \n",
       "15185  327A3C2F-B234-400B-B994-833073C014C0            2   \n",
       "15186  327A3C2F-B234-400B-B994-833073C014C0            3   \n",
       "15187  327A3C2F-B234-400B-B994-833073C014C0            4   \n",
       "15188  327A3C2F-B234-400B-B994-833073C014C0            5   \n",
       "\n",
       "           AdmissionStartDate        AdmissionEndDate  \n",
       "15184 1985-05-02 03:28:04.047 1985-05-07 02:33:18.970  \n",
       "15185 1993-01-26 22:14:39.247 1993-02-01 22:25:06.137  \n",
       "15186 1998-10-26 15:55:32.827 1998-11-03 02:48:41.307  \n",
       "15187 2005-11-03 07:41:26.787 2005-11-11 08:24:10.020  \n",
       "15188 2011-11-17 20:08:57.343 2011-12-04 19:19:03.410  "
      ]
     },
     "execution_count": 9,
     "metadata": {},
     "output_type": "execute_result"
    }
   ],
   "source": [
    "adm_core_pop[adm_core_pop.PatientID  == \"327A3C2F-B234-400B-B994-833073C014C0\"]"
   ]
  },
  {
   "cell_type": "code",
   "execution_count": 10,
   "metadata": {},
   "outputs": [
    {
     "data": {
      "text/html": [
       "<div>\n",
       "<style scoped>\n",
       "    .dataframe tbody tr th:only-of-type {\n",
       "        vertical-align: middle;\n",
       "    }\n",
       "\n",
       "    .dataframe tbody tr th {\n",
       "        vertical-align: top;\n",
       "    }\n",
       "\n",
       "    .dataframe thead th {\n",
       "        text-align: right;\n",
       "    }\n",
       "</style>\n",
       "<table border=\"1\" class=\"dataframe\">\n",
       "  <thead>\n",
       "    <tr style=\"text-align: right;\">\n",
       "      <th></th>\n",
       "      <th>PatientID</th>\n",
       "      <th>AdmissionID</th>\n",
       "      <th>PrimaryDiagnosisCode</th>\n",
       "      <th>PrimaryDiagnosisDescription</th>\n",
       "    </tr>\n",
       "  </thead>\n",
       "  <tbody>\n",
       "    <tr>\n",
       "      <th>14737</th>\n",
       "      <td>327A3C2F-B234-400B-B994-833073C014C0</td>\n",
       "      <td>1</td>\n",
       "      <td>Z13.88</td>\n",
       "      <td>Encounter for screening for disorder due to ex...</td>\n",
       "    </tr>\n",
       "    <tr>\n",
       "      <th>14738</th>\n",
       "      <td>327A3C2F-B234-400B-B994-833073C014C0</td>\n",
       "      <td>2</td>\n",
       "      <td>M06.272</td>\n",
       "      <td>Rheumatoid bursitis, left ankle and foot</td>\n",
       "    </tr>\n",
       "    <tr>\n",
       "      <th>14739</th>\n",
       "      <td>327A3C2F-B234-400B-B994-833073C014C0</td>\n",
       "      <td>3</td>\n",
       "      <td>G54.4</td>\n",
       "      <td>Lumbosacral root disorders, not elsewhere clas...</td>\n",
       "    </tr>\n",
       "    <tr>\n",
       "      <th>14740</th>\n",
       "      <td>327A3C2F-B234-400B-B994-833073C014C0</td>\n",
       "      <td>4</td>\n",
       "      <td>C72.0</td>\n",
       "      <td>Malignant neoplasm of spinal cord</td>\n",
       "    </tr>\n",
       "    <tr>\n",
       "      <th>14741</th>\n",
       "      <td>327A3C2F-B234-400B-B994-833073C014C0</td>\n",
       "      <td>5</td>\n",
       "      <td>I24.0</td>\n",
       "      <td>Acute coronary thrombosis not resulting in myo...</td>\n",
       "    </tr>\n",
       "  </tbody>\n",
       "</table>\n",
       "</div>"
      ],
      "text/plain": [
       "                                  PatientID  AdmissionID PrimaryDiagnosisCode  \\\n",
       "14737  327A3C2F-B234-400B-B994-833073C014C0            1               Z13.88   \n",
       "14738  327A3C2F-B234-400B-B994-833073C014C0            2              M06.272   \n",
       "14739  327A3C2F-B234-400B-B994-833073C014C0            3                G54.4   \n",
       "14740  327A3C2F-B234-400B-B994-833073C014C0            4                C72.0   \n",
       "14741  327A3C2F-B234-400B-B994-833073C014C0            5                I24.0   \n",
       "\n",
       "                             PrimaryDiagnosisDescription  \n",
       "14737  Encounter for screening for disorder due to ex...  \n",
       "14738           Rheumatoid bursitis, left ankle and foot  \n",
       "14739  Lumbosacral root disorders, not elsewhere clas...  \n",
       "14740                  Malignant neoplasm of spinal cord  \n",
       "14741  Acute coronary thrombosis not resulting in myo...  "
      ]
     },
     "execution_count": 10,
     "metadata": {},
     "output_type": "execute_result"
    }
   ],
   "source": [
    "adm_diag_pop[adm_diag_pop.PatientID  == \"327A3C2F-B234-400B-B994-833073C014C0\"]"
   ]
  },
  {
   "cell_type": "code",
   "execution_count": 11,
   "metadata": {},
   "outputs": [
    {
     "data": {
      "text/html": [
       "<div>\n",
       "<style scoped>\n",
       "    .dataframe tbody tr th:only-of-type {\n",
       "        vertical-align: middle;\n",
       "    }\n",
       "\n",
       "    .dataframe tbody tr th {\n",
       "        vertical-align: top;\n",
       "    }\n",
       "\n",
       "    .dataframe thead th {\n",
       "        text-align: right;\n",
       "    }\n",
       "</style>\n",
       "<table border=\"1\" class=\"dataframe\">\n",
       "  <thead>\n",
       "    <tr style=\"text-align: right;\">\n",
       "      <th></th>\n",
       "      <th>PatientID</th>\n",
       "      <th>AdmissionID</th>\n",
       "      <th>LabName</th>\n",
       "      <th>LabValue</th>\n",
       "      <th>LabUnits</th>\n",
       "      <th>LabDateTime</th>\n",
       "    </tr>\n",
       "  </thead>\n",
       "  <tbody>\n",
       "    <tr>\n",
       "      <th>5846797</th>\n",
       "      <td>327A3C2F-B234-400B-B994-833073C014C0</td>\n",
       "      <td>1</td>\n",
       "      <td>URINALYSIS: WHITE BLOOD CELLS</td>\n",
       "      <td>1.8</td>\n",
       "      <td>wbc/hpf</td>\n",
       "      <td>1985-05-02 09:12:26.550</td>\n",
       "    </tr>\n",
       "    <tr>\n",
       "      <th>5846798</th>\n",
       "      <td>327A3C2F-B234-400B-B994-833073C014C0</td>\n",
       "      <td>1</td>\n",
       "      <td>CBC: RED BLOOD CELL COUNT</td>\n",
       "      <td>4.8</td>\n",
       "      <td>m/cumm</td>\n",
       "      <td>1985-05-02 18:05:24.573</td>\n",
       "    </tr>\n",
       "    <tr>\n",
       "      <th>5846799</th>\n",
       "      <td>327A3C2F-B234-400B-B994-833073C014C0</td>\n",
       "      <td>1</td>\n",
       "      <td>CBC: HEMATOCRIT</td>\n",
       "      <td>30.7</td>\n",
       "      <td>%</td>\n",
       "      <td>1985-05-02 09:48:19.407</td>\n",
       "    </tr>\n",
       "    <tr>\n",
       "      <th>5846800</th>\n",
       "      <td>327A3C2F-B234-400B-B994-833073C014C0</td>\n",
       "      <td>1</td>\n",
       "      <td>URINALYSIS: SPECIFIC GRAVITY</td>\n",
       "      <td>1.0</td>\n",
       "      <td>no unit</td>\n",
       "      <td>1985-05-02 14:57:08.487</td>\n",
       "    </tr>\n",
       "    <tr>\n",
       "      <th>5846801</th>\n",
       "      <td>327A3C2F-B234-400B-B994-833073C014C0</td>\n",
       "      <td>1</td>\n",
       "      <td>CBC: MEAN CORPUSCULAR VOLUME</td>\n",
       "      <td>75.8</td>\n",
       "      <td>fl</td>\n",
       "      <td>1985-05-02 15:37:22.123</td>\n",
       "    </tr>\n",
       "  </tbody>\n",
       "</table>\n",
       "</div>"
      ],
      "text/plain": [
       "                                    PatientID  AdmissionID  \\\n",
       "5846797  327A3C2F-B234-400B-B994-833073C014C0            1   \n",
       "5846798  327A3C2F-B234-400B-B994-833073C014C0            1   \n",
       "5846799  327A3C2F-B234-400B-B994-833073C014C0            1   \n",
       "5846800  327A3C2F-B234-400B-B994-833073C014C0            1   \n",
       "5846801  327A3C2F-B234-400B-B994-833073C014C0            1   \n",
       "\n",
       "                               LabName  LabValue LabUnits  \\\n",
       "5846797  URINALYSIS: WHITE BLOOD CELLS       1.8  wbc/hpf   \n",
       "5846798      CBC: RED BLOOD CELL COUNT       4.8   m/cumm   \n",
       "5846799                CBC: HEMATOCRIT      30.7        %   \n",
       "5846800   URINALYSIS: SPECIFIC GRAVITY       1.0  no unit   \n",
       "5846801   CBC: MEAN CORPUSCULAR VOLUME      75.8       fl   \n",
       "\n",
       "                    LabDateTime  \n",
       "5846797 1985-05-02 09:12:26.550  \n",
       "5846798 1985-05-02 18:05:24.573  \n",
       "5846799 1985-05-02 09:48:19.407  \n",
       "5846800 1985-05-02 14:57:08.487  \n",
       "5846801 1985-05-02 15:37:22.123  "
      ]
     },
     "execution_count": 11,
     "metadata": {},
     "output_type": "execute_result"
    }
   ],
   "source": [
    "# print head since it's so long...\n",
    "lab_core_pop[lab_core_pop.PatientID  == \"327A3C2F-B234-400B-B994-833073C014C0\"].head()"
   ]
  },
  {
   "cell_type": "code",
   "execution_count": 12,
   "metadata": {},
   "outputs": [
    {
     "data": {
      "text/html": [
       "<div>\n",
       "<style scoped>\n",
       "    .dataframe tbody tr th:only-of-type {\n",
       "        vertical-align: middle;\n",
       "    }\n",
       "\n",
       "    .dataframe tbody tr th {\n",
       "        vertical-align: top;\n",
       "    }\n",
       "\n",
       "    .dataframe thead th {\n",
       "        text-align: right;\n",
       "    }\n",
       "</style>\n",
       "<table border=\"1\" class=\"dataframe\">\n",
       "  <thead>\n",
       "    <tr style=\"text-align: right;\">\n",
       "      <th></th>\n",
       "      <th>PatientID</th>\n",
       "      <th>PatientGender</th>\n",
       "      <th>PatientDateOfBirth</th>\n",
       "      <th>PatientRace</th>\n",
       "      <th>PatientMaritalStatus</th>\n",
       "      <th>PatientLanguage</th>\n",
       "      <th>PatientPopulationPercentageBelowPoverty</th>\n",
       "    </tr>\n",
       "  </thead>\n",
       "  <tbody>\n",
       "    <tr>\n",
       "      <th>8097</th>\n",
       "      <td>327A3C2F-B234-400B-B994-833073C014C0</td>\n",
       "      <td>Female</td>\n",
       "      <td>1962-06-14 05:01:30.953</td>\n",
       "      <td>Asian</td>\n",
       "      <td>Single</td>\n",
       "      <td>English</td>\n",
       "      <td>18.96</td>\n",
       "    </tr>\n",
       "  </tbody>\n",
       "</table>\n",
       "</div>"
      ],
      "text/plain": [
       "                                 PatientID PatientGender  \\\n",
       "8097  327A3C2F-B234-400B-B994-833073C014C0        Female   \n",
       "\n",
       "           PatientDateOfBirth PatientRace PatientMaritalStatus  \\\n",
       "8097  1962-06-14 05:01:30.953       Asian               Single   \n",
       "\n",
       "     PatientLanguage  PatientPopulationPercentageBelowPoverty  \n",
       "8097         English                                    18.96  "
      ]
     },
     "execution_count": 12,
     "metadata": {},
     "output_type": "execute_result"
    }
   ],
   "source": [
    "patient_core_pop[patient_core_pop.PatientID  == \"327A3C2F-B234-400B-B994-833073C014C0\"]"
   ]
  },
  {
   "cell_type": "code",
   "execution_count": 13,
   "metadata": {},
   "outputs": [],
   "source": [
    "# Holy cow!  this patient has 1203 lab results in her record\n",
    "# This is synthetic data, so it's bound to have weird things.  Is that normal in this data?\n",
    "##################################################################################################################\n",
    "#\n",
    "# You do:\n",
    "#   1) Compute the average & standard deviation of number of labs per patient.\n",
    "#         hint:  Consider pd.groupby()\n",
    "#\n",
    "#   2) Compute a list of each lab and how many orders for that lab are in the data frame\n",
    "#         "
   ]
  },
  {
   "cell_type": "code",
   "execution_count": 14,
   "metadata": {
    "scrolled": true
   },
   "outputs": [
    {
     "data": {
      "text/plain": [
       "1072.6505"
      ]
     },
     "execution_count": 14,
     "metadata": {},
     "output_type": "execute_result"
    }
   ],
   "source": [
    "#1)  \n",
    "lab_counts = lab_core_pop.groupby([\"PatientID\"]).size().reset_index(name='counts')\n",
    "lab_counts[\"counts\"].mean()"
   ]
  },
  {
   "cell_type": "code",
   "execution_count": 15,
   "metadata": {},
   "outputs": [
    {
     "data": {
      "text/plain": [
       "522.6801350750865"
      ]
     },
     "execution_count": 15,
     "metadata": {},
     "output_type": "execute_result"
    }
   ],
   "source": [
    "lab_counts[\"counts\"].std()"
   ]
  },
  {
   "cell_type": "code",
   "execution_count": 16,
   "metadata": {},
   "outputs": [
    {
     "data": {
      "text/plain": [
       "LabName\n",
       "CBC: ABSOLUTE LYMPHOCYTES    306883\n",
       "CBC: ABSOLUTE NEUTROPHILS    306215\n",
       "CBC: BASOPHILS               305953\n",
       "CBC: EOSINOPHILS             306886\n",
       "CBC: HEMATOCRIT              306557\n",
       "dtype: int64"
      ]
     },
     "execution_count": 16,
     "metadata": {},
     "output_type": "execute_result"
    }
   ],
   "source": [
    "# 2)\n",
    "lab_core_pop.groupby([\"LabName\"]).size().head()"
   ]
  },
  {
   "cell_type": "code",
   "execution_count": 17,
   "metadata": {},
   "outputs": [
    {
     "data": {
      "text/plain": [
       "PatientID                             LabName                  \n",
       "0002C021-6DDD-433A-B9A0-2D26DF0C6AC0  CBC: ABSOLUTE LYMPHOCYTES    57\n",
       "                                      CBC: ABSOLUTE NEUTROPHILS    53\n",
       "                                      CBC: BASOPHILS               55\n",
       "                                      CBC: EOSINOPHILS             60\n",
       "                                      CBC: HEMATOCRIT              57\n",
       "dtype: int64"
      ]
     },
     "execution_count": 17,
     "metadata": {},
     "output_type": "execute_result"
    }
   ],
   "source": [
    "# each patient is getting the same lab done many times\n",
    "lab_core_pop.groupby([\"PatientID\", \"LabName\"]).size().head()"
   ]
  },
  {
   "cell_type": "code",
   "execution_count": 18,
   "metadata": {},
   "outputs": [],
   "source": [
    "# It seems that this data set has the same patient getting the same labs perhaps dozens of times.\n",
    "# Lets make a visualization of one of the time vs. one of the lab values for a specific patient.\n",
    "##################################################################################################################\n",
    "#\n",
    "# You do:\n",
    "#   1) Find the patient/lab combination with the most labs taken\n",
    "#   2) For the most-measured patient/lab combination, make a time vs lab-value plot"
   ]
  },
  {
   "cell_type": "code",
   "execution_count": 19,
   "metadata": {},
   "outputs": [
    {
     "data": {
      "text/html": [
       "<div>\n",
       "<style scoped>\n",
       "    .dataframe tbody tr th:only-of-type {\n",
       "        vertical-align: middle;\n",
       "    }\n",
       "\n",
       "    .dataframe tbody tr th {\n",
       "        vertical-align: top;\n",
       "    }\n",
       "\n",
       "    .dataframe thead th {\n",
       "        text-align: right;\n",
       "    }\n",
       "</style>\n",
       "<table border=\"1\" class=\"dataframe\">\n",
       "  <thead>\n",
       "    <tr style=\"text-align: right;\">\n",
       "      <th></th>\n",
       "      <th>PatientID</th>\n",
       "      <th>LabName</th>\n",
       "      <th>counts</th>\n",
       "    </tr>\n",
       "  </thead>\n",
       "  <tbody>\n",
       "    <tr>\n",
       "      <th>83844</th>\n",
       "      <td>3D33CC75-3EF0-49B5-9524-B4E8A7C08F25</td>\n",
       "      <td>METABOLIC: BILI TOTAL</td>\n",
       "      <td>117</td>\n",
       "    </tr>\n",
       "    <tr>\n",
       "      <th>83826</th>\n",
       "      <td>3D33CC75-3EF0-49B5-9524-B4E8A7C08F25</td>\n",
       "      <td>CBC: EOSINOPHILS</td>\n",
       "      <td>116</td>\n",
       "    </tr>\n",
       "    <tr>\n",
       "      <th>83835</th>\n",
       "      <td>3D33CC75-3EF0-49B5-9524-B4E8A7C08F25</td>\n",
       "      <td>CBC: PLATELET COUNT</td>\n",
       "      <td>115</td>\n",
       "    </tr>\n",
       "    <tr>\n",
       "      <th>83846</th>\n",
       "      <td>3D33CC75-3EF0-49B5-9524-B4E8A7C08F25</td>\n",
       "      <td>METABOLIC: CALCIUM</td>\n",
       "      <td>115</td>\n",
       "    </tr>\n",
       "    <tr>\n",
       "      <th>83848</th>\n",
       "      <td>3D33CC75-3EF0-49B5-9524-B4E8A7C08F25</td>\n",
       "      <td>METABOLIC: CHLORIDE</td>\n",
       "      <td>115</td>\n",
       "    </tr>\n",
       "  </tbody>\n",
       "</table>\n",
       "</div>"
      ],
      "text/plain": [
       "                                  PatientID                LabName  counts\n",
       "83844  3D33CC75-3EF0-49B5-9524-B4E8A7C08F25  METABOLIC: BILI TOTAL     117\n",
       "83826  3D33CC75-3EF0-49B5-9524-B4E8A7C08F25       CBC: EOSINOPHILS     116\n",
       "83835  3D33CC75-3EF0-49B5-9524-B4E8A7C08F25    CBC: PLATELET COUNT     115\n",
       "83846  3D33CC75-3EF0-49B5-9524-B4E8A7C08F25     METABOLIC: CALCIUM     115\n",
       "83848  3D33CC75-3EF0-49B5-9524-B4E8A7C08F25    METABOLIC: CHLORIDE     115"
      ]
     },
     "execution_count": 19,
     "metadata": {},
     "output_type": "execute_result"
    }
   ],
   "source": [
    "# 1) \n",
    "pat_lab_combo = lab_core_pop.groupby([\"PatientID\", \"LabName\"]).size().reset_index(name='counts')\n",
    "\n",
    "test = pat_lab_combo.sort_values('counts', ascending=False)\n",
    "test.head()\n",
    "\n",
    "# yes\n",
    "#assert biggest_value == 117"
   ]
  },
  {
   "cell_type": "code",
   "execution_count": null,
   "metadata": {},
   "outputs": [],
   "source": []
  },
  {
   "cell_type": "code",
   "execution_count": 24,
   "metadata": {},
   "outputs": [
    {
     "data": {
      "text/plain": [
       "[<matplotlib.lines.Line2D at 0x1931b69c390>]"
      ]
     },
     "execution_count": 24,
     "metadata": {},
     "output_type": "execute_result"
    },
    {
     "data": {
      "image/png": "[encoded data removed]",
      "text/plain": [
       "<Figure size 432x288 with 1 Axes>"
      ]
     },
     "metadata": {
      "needs_background": "light"
     },
     "output_type": "display_data"
    }
   ],
   "source": [
    "# 2) \n",
    "import matplotlib.pyplot as mplt\n",
    "\n",
    "lab_sub = lab_core_pop[lab_core_pop.PatientID  == \"3D33CC75-3EF0-49B5-9524-B4E8A7C08F25\"]\n",
    "lab_sub = lab_sub[lab_sub.LabName == \"METABOLIC: BILI TOTAL\"]\n",
    "\n",
    "mplt.plot(lab_sub[\"LabDateTime\"], lab_sub[\"LabValue\"])"
   ]
  },
  {
   "cell_type": "code",
   "execution_count": 28,
   "metadata": {},
   "outputs": [
    {
     "name": "stdout",
     "output_type": "stream",
     "text": [
      "                                    PatientID  AdmissionID  \\\n",
      "5552246  3D33CC75-3EF0-49B5-9524-B4E8A7C08F25            2   \n",
      "5552285  3D33CC75-3EF0-49B5-9524-B4E8A7C08F25            2   \n",
      "5552307  3D33CC75-3EF0-49B5-9524-B4E8A7C08F25            2   \n",
      "5552362  3D33CC75-3EF0-49B5-9524-B4E8A7C08F25            2   \n",
      "5552409  3D33CC75-3EF0-49B5-9524-B4E8A7C08F25            2   \n",
      "5552458  3D33CC75-3EF0-49B5-9524-B4E8A7C08F25            2   \n",
      "5552469  3D33CC75-3EF0-49B5-9524-B4E8A7C08F25            2   \n",
      "5552512  3D33CC75-3EF0-49B5-9524-B4E8A7C08F25            2   \n",
      "5552544  3D33CC75-3EF0-49B5-9524-B4E8A7C08F25            2   \n",
      "5552581  3D33CC75-3EF0-49B5-9524-B4E8A7C08F25            2   \n",
      "5552602  3D33CC75-3EF0-49B5-9524-B4E8A7C08F25            2   \n",
      "5552637  3D33CC75-3EF0-49B5-9524-B4E8A7C08F25            2   \n",
      "5552658  3D33CC75-3EF0-49B5-9524-B4E8A7C08F25            2   \n",
      "\n",
      "                       LabName  LabValue LabUnits             LabDateTime  \n",
      "5552246  METABOLIC: BILI TOTAL       0.1    mg/dL 1985-08-02 02:11:40.450  \n",
      "5552285  METABOLIC: BILI TOTAL       0.7    mg/dL 1985-08-03 07:37:13.917  \n",
      "5552307  METABOLIC: BILI TOTAL       0.2    mg/dL 1985-08-05 03:47:57.450  \n",
      "5552362  METABOLIC: BILI TOTAL       0.5    mg/dL 1985-08-06 22:05:51.507  \n",
      "5552409  METABOLIC: BILI TOTAL       0.9    mg/dL 1985-08-08 08:41:41.363  \n",
      "5552458  METABOLIC: BILI TOTAL       0.3    mg/dL 1985-08-09 23:22:19.253  \n",
      "5552469  METABOLIC: BILI TOTAL       1.0    mg/dL 1985-08-10 21:39:11.717  \n",
      "5552512  METABOLIC: BILI TOTAL       0.6    mg/dL 1985-08-11 22:09:08.573  \n",
      "5552544  METABOLIC: BILI TOTAL       0.1    mg/dL 1985-08-13 19:05:17.017  \n",
      "5552581  METABOLIC: BILI TOTAL       1.2    mg/dL 1985-08-14 09:26:11.663  \n",
      "5552602  METABOLIC: BILI TOTAL       1.0    mg/dL 1985-08-15 15:14:44.150  \n",
      "5552637  METABOLIC: BILI TOTAL       0.3    mg/dL 1985-08-16 10:14:01.913  \n",
      "5552658  METABOLIC: BILI TOTAL       0.6    mg/dL 1985-08-17 15:48:01.423  \n"
     ]
    }
   ],
   "source": [
    "# print all bili lab results from 1985\n",
    "lab_range = (lab_sub['LabDateTime'] > '1985-01-01') & (lab_sub['LabDateTime'] <= '1985-12-31')\n",
    "print(lab_sub.loc[lab_range])"
   ]
  },
  {
   "cell_type": "code",
   "execution_count": null,
   "metadata": {},
   "outputs": [],
   "source": [
    "##################################################################################################################\n",
    "#\n",
    "# You do:\n",
    "#   Closely inspect the plot you made.  \n",
    "#\n",
    "# 1) In order to compare this to another data set, your PI wants to know what the lab value was on August 6, 1985.  \n",
    "#    What would you tell him/her (including all caveats)?\n",
    "#\n",
    "# 2) How about the value for January 19, 1992?"
   ]
  },
  {
   "cell_type": "code",
   "execution_count": 30,
   "metadata": {},
   "outputs": [
    {
     "data": {
      "text/plain": [
       "[<matplotlib.lines.Line2D at 0x1931c694b38>]"
      ]
     },
     "execution_count": 30,
     "metadata": {},
     "output_type": "execute_result"
    },
    {
     "data": {
      "image/png": "[encoded data removed]",
      "text/plain": [
       "<Figure size 432x288 with 1 Axes>"
      ]
     },
     "metadata": {
      "needs_background": "light"
     },
     "output_type": "display_data"
    }
   ],
   "source": [
    "\n",
    "# 1) The Bilirubin value for 8/6 was 0.5. However, this person appears to have been hospitalized\n",
    "#    from 8/2-8/17 and had bilirubin run most days. Below I printed the bilirubin values from that time.\n",
    "#    The values vary greatly, so perhaps taking the average from that time would be more informative than\n",
    "#    Taking a single value\n",
    "\n",
    "sub_sub = lab_sub.loc[lab_range]\n",
    "mplt.plot(sub_sub[\"LabDateTime\"], sub_sub[\"LabValue\"])"
   ]
  },
  {
   "cell_type": "code",
   "execution_count": 31,
   "metadata": {},
   "outputs": [
    {
     "name": "stdout",
     "output_type": "stream",
     "text": [
      "Empty DataFrame\n",
      "Columns: [PatientID, AdmissionID, LabName, LabValue, LabUnits, LabDateTime]\n",
      "Index: []\n"
     ]
    }
   ],
   "source": [
    "# 2) \n",
    "\n",
    "# print all bili lab results from 1992\n",
    "lab_range = (lab_sub['LabDateTime'] > '1992-01-01') & (lab_sub['LabDateTime'] <= '1992-12-31')\n",
    "print(lab_sub.loc[lab_range])\n",
    "\n",
    "# There was no bilirubin tested on January 19, 1992. Though we have a line moving through that point in our graph,\n",
    "# there is no actual value collected at that time"
   ]
  }
 ],
 "metadata": {
  "kernelspec": {
   "display_name": "Python 3",
   "language": "python",
   "name": "python3"
  },
  "language_info": {
   "codemirror_mode": {
    "name": "ipython",
    "version": 3
   },
   "file_extension": ".py",
   "mimetype": "text/x-python",
   "name": "python",
   "nbconvert_exporter": "python",
   "pygments_lexer": "ipython3",
   "version": "3.6.8"
  }
 },
 "nbformat": 4,
 "nbformat_minor": 2
}
