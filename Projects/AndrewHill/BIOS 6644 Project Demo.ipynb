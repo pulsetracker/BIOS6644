{
 "cells": [
  {
   "cell_type": "code",
   "execution_count": 1,
   "metadata": {},
   "outputs": [],
   "source": [
    "import pandas as pd\n",
    "import numpy as np\n",
    "from matplotlib import pyplot as plt\n",
    "from datawrangler import *"
   ]
  },
  {
   "cell_type": "markdown",
   "metadata": {},
   "source": [
    "## Data\n",
    "The data is a abridged version of the PAXRAW D dataset from the\n",
    "[NHANES (National Health and Nutritional Survey)](https://wwwn.cdc.gov/nchs/nhanes/Search/DataPage.aspx?Component=Examination&CycleBeginYear=2005) study conducted by the NIH.\n",
    "\n",
    "\n",
    "The dataset contains objective phyiscal activity measurements as recorded by an activity monitor device. I took the original dataset and reduced its size (from ~7000 subject to 1000) and converted it to a CSV file for the demo.\n",
    "\n",
    "You can download the demo dataset here:\n",
    "https://drive.google.com/open?id=1sd3ePUTp4ZYqOgw8DhZapF3kXIbtz5Fg"
   ]
  },
  {
   "cell_type": "code",
   "execution_count": 2,
   "metadata": {},
   "outputs": [],
   "source": [
    "# Read the data into a DataFrame\n",
    "data = pd.read_csv(\"PAXRAW_1000.csv\")"
   ]
  },
  {
   "cell_type": "code",
   "execution_count": 3,
   "metadata": {},
   "outputs": [
    {
     "data": {
      "text/html": [
       "<div>\n",
       "<style scoped>\n",
       "    .dataframe tbody tr th:only-of-type {\n",
       "        vertical-align: middle;\n",
       "    }\n",
       "\n",
       "    .dataframe tbody tr th {\n",
       "        vertical-align: top;\n",
       "    }\n",
       "\n",
       "    .dataframe thead th {\n",
       "        text-align: right;\n",
       "    }\n",
       "</style>\n",
       "<table border=\"1\" class=\"dataframe\">\n",
       "  <thead>\n",
       "    <tr style=\"text-align: right;\">\n",
       "      <th></th>\n",
       "      <th>SEQN</th>\n",
       "      <th>PAXSTAT</th>\n",
       "      <th>PAXCAL</th>\n",
       "      <th>PAXDAY</th>\n",
       "      <th>PAXN</th>\n",
       "      <th>PAXHOUR</th>\n",
       "      <th>PAXMINUT</th>\n",
       "      <th>PAXINTEN</th>\n",
       "      <th>PAXSTEP</th>\n",
       "    </tr>\n",
       "  </thead>\n",
       "  <tbody>\n",
       "    <tr>\n",
       "      <th>0</th>\n",
       "      <td>31128.0</td>\n",
       "      <td>1.0</td>\n",
       "      <td>1.0</td>\n",
       "      <td>1.0</td>\n",
       "      <td>1.0</td>\n",
       "      <td>0.0</td>\n",
       "      <td>0.0</td>\n",
       "      <td>166.0</td>\n",
       "      <td>4.0</td>\n",
       "    </tr>\n",
       "    <tr>\n",
       "      <th>1</th>\n",
       "      <td>31128.0</td>\n",
       "      <td>1.0</td>\n",
       "      <td>1.0</td>\n",
       "      <td>1.0</td>\n",
       "      <td>2.0</td>\n",
       "      <td>0.0</td>\n",
       "      <td>1.0</td>\n",
       "      <td>27.0</td>\n",
       "      <td>0.0</td>\n",
       "    </tr>\n",
       "    <tr>\n",
       "      <th>2</th>\n",
       "      <td>31128.0</td>\n",
       "      <td>1.0</td>\n",
       "      <td>1.0</td>\n",
       "      <td>1.0</td>\n",
       "      <td>3.0</td>\n",
       "      <td>0.0</td>\n",
       "      <td>2.0</td>\n",
       "      <td>0.0</td>\n",
       "      <td>0.0</td>\n",
       "    </tr>\n",
       "    <tr>\n",
       "      <th>3</th>\n",
       "      <td>31128.0</td>\n",
       "      <td>1.0</td>\n",
       "      <td>1.0</td>\n",
       "      <td>1.0</td>\n",
       "      <td>4.0</td>\n",
       "      <td>0.0</td>\n",
       "      <td>3.0</td>\n",
       "      <td>276.0</td>\n",
       "      <td>4.0</td>\n",
       "    </tr>\n",
       "    <tr>\n",
       "      <th>4</th>\n",
       "      <td>31128.0</td>\n",
       "      <td>1.0</td>\n",
       "      <td>1.0</td>\n",
       "      <td>1.0</td>\n",
       "      <td>5.0</td>\n",
       "      <td>0.0</td>\n",
       "      <td>4.0</td>\n",
       "      <td>0.0</td>\n",
       "      <td>0.0</td>\n",
       "    </tr>\n",
       "  </tbody>\n",
       "</table>\n",
       "</div>"
      ],
      "text/plain": [
       "      SEQN  PAXSTAT  PAXCAL  PAXDAY  PAXN  PAXHOUR  PAXMINUT  PAXINTEN  \\\n",
       "0  31128.0      1.0     1.0     1.0   1.0      0.0       0.0     166.0   \n",
       "1  31128.0      1.0     1.0     1.0   2.0      0.0       1.0      27.0   \n",
       "2  31128.0      1.0     1.0     1.0   3.0      0.0       2.0       0.0   \n",
       "3  31128.0      1.0     1.0     1.0   4.0      0.0       3.0     276.0   \n",
       "4  31128.0      1.0     1.0     1.0   5.0      0.0       4.0       0.0   \n",
       "\n",
       "   PAXSTEP  \n",
       "0      4.0  \n",
       "1      0.0  \n",
       "2      0.0  \n",
       "3      4.0  \n",
       "4      0.0  "
      ]
     },
     "execution_count": 3,
     "metadata": {},
     "output_type": "execute_result"
    }
   ],
   "source": [
    "data.head()"
   ]
  },
  {
   "cell_type": "markdown",
   "metadata": {},
   "source": [
    "## Data cont'd.\n",
    "In order to resample the data, we need to have a timestamp value for each row that contains the correct unit of time (minute, hour, etc). Usually, these datasets come with an exact date timestamp, which I would parse using pd.to_datetime().\n",
    "\n",
    "However, this dataset doesn't contain an exact timestamp. Instead it provides the measurement number \"PAXN\",\n",
    "which records the order that the measurements are taken (3rd measurement == 3, 4th == 4, etc) for each subject.\n",
    "\n",
    "In this case, I know that the measurments are taken at exact 1-minute intervals, so we can treat the \"PAXN\" column as a TimeDelta between the starting measurement $t=0$ and the current one. This lets us resample without an exact timestamp."
   ]
  },
  {
   "cell_type": "code",
   "execution_count": 4,
   "metadata": {},
   "outputs": [],
   "source": [
    "# Set t0 = 0 by subtracting the minimum value from the entire column\n",
    "data.PAXN -= data.PAXN.min()\n",
    "# Add a timedelta column to the data, so that we can resample.\n",
    "data[\"delta_t\"] = data.groupby(by=\"SEQN\").apply(lambda grp: pd.to_timedelta(grp.PAXN,\"m\")).reset_index(drop=True)"
   ]
  },
  {
   "cell_type": "markdown",
   "metadata": {},
   "source": [
    "# Normalization\n",
    "For my project, I wanted to build a pipeline that would allow me to easily apply some of my most commonly used normalization techniques sequentially. \n",
    "\n",
    "In this demo I apply the following normalizations:\n",
    "\n",
    "1. **LongToWideFormat** - This converts the \"long\" format data (each row is a measurement) to a \"wide\" format (each row contains all measurements for a single subject).\n",
    "\n",
    "\n",
    "2. **TimeSeriesResampler** - By default, the PAXRAW dataset reports cumulative activity over each minute of the study week. This is usually too noisy to use on its own, so I resample it to a lower frequency (5mins, 15mins, etc). to clean up some of the noise. In this case, I have Pandas resample the data to a 5-minute interval by summing up the 1-minute measurements.\n",
    "\n",
    "\n",
    "3. **NaNReplacer** - Depending on the dataset and timestamp type used, some subjects could end up with NaN measurments (if the device did not record any measurements for one portion of the study, etc). If the NaNs are infrequent, I usually just replace them with 0. Right now, this method just sets all NaN values to 0.\n",
    "\n",
    "\n",
    "4. **ConstValueDropper** - One issue that occurs in the PAXRAW dataset is the inclusion of measurements which have a constant value for the entire study period, which can lead to interesting results if you try to cluster the data. I'm not sure if this is caused by a device malfunction or something else, but these values are obviously incorrect. This module will drop any rows (subjects) which have a constant value for all measurements. \n",
    "\n",
    "\n",
    "5. **StableSeasonalFilter** - This module allows me to correct the data for the \"seasonal\" diurnal patterns that occur by having a user wear the device over a week-long study. When clustering the data, the \"strongest\" signal is often a sinusoidal pattern with 7 peaks (i.e. higher activity during waking hours, low/no activity at night). We are interested in more subtle patterns though, so this module allows us to correct the data by removing this seasonality.\n",
    "\n",
    "\n",
    "6. **ZTransformNormalize** - This module normalizes the measurements for each subject (row) to have $\\mu=0$ and $\\sigma=1$. This preserves the overall shape of the series, but normalizes it to account for different activity levels in each patient."
   ]
  },
  {
   "cell_type": "code",
   "execution_count": 5,
   "metadata": {},
   "outputs": [
    {
     "name": "stdout",
     "output_type": "stream",
     "text": [
      "          Module         |    Input Shape     |    Output Shape    \n",
      "-------------------------------------------------------------------\n",
      "\u001b[1mLongToWideFormat         |   (10047756, 10)   |   (1000, 10080)    \u001b[0m\n",
      "\u001b[1mTimeseriesResampler      |   (1000, 10080)    |    (1000, 2016)    \u001b[0m\n",
      "NaNReplacer              |    (1000, 2016)    |    (1000, 2016)    \n",
      "\u001b[1mConstValueDropper        |    (1000, 2016)    |    (994, 2016)     \u001b[0m\n",
      "StableSeasonalFilter     |    (994, 2016)     |    (994, 2016)     \n",
      "ZTransformNormalize      |    (994, 2016)     |    (994, 2016)     \n",
      "-------------------------------------------------------------------\n",
      "done!\n"
     ]
    }
   ],
   "source": [
    "# Initialize the Normalizer with a list of the operations I want to perform.\n",
    "normalizer = Normalizer([LongToWideFormat(index_col=\"SEQN\",data_col=\"PAXINTEN\",timestamp_col=\"delta_t\"),\n",
    "                         TimeseriesResampler(\"5T\",axis=1),\n",
    "                         NaNReplacer(const_val=0),\n",
    "                         ConstValueDropper(axis=1),\n",
    "                         StableSeasonalFilter(num_seasons=7),\n",
    "                         ZTransformNormalize(axis=-1)])\n",
    "# The output DataFrame will be the normalized data.\n",
    "data_df = normalizer.apply(data)\n",
    "print(\"done!\")"
   ]
  },
  {
   "cell_type": "markdown",
   "metadata": {},
   "source": [
    "# Output\n",
    "The normalizer also prints out a small summary table for each step. The *Input Shape* column contains the dimensions of the data before the normalization step is applied, and the *Output Shape* column contains the dimensions after the normalization step is applied.\n",
    "\n",
    "I wanted to have this because in some datasets I end up \"losing\" quite a few subjects during the normalization phase, due to lack of data or something else. This table makes it easier for me to see what is happening to the data at each step."
   ]
  },
  {
   "cell_type": "markdown",
   "metadata": {},
   "source": [
    "# Analysis\n",
    "\n",
    "### 1. LongToWideFormat\n",
    "![Normalization Output at Step 0](imgs/Step_0.png)\n",
    "This is the \"raw\" data that comes directly after Pandas does the pivot to convert from long to wide format.\n",
    "\n",
    "### 2. TimeSeriesResampler\n",
    "![Normalization Output at Step 1](imgs/Step_1.png)\n",
    "This mostly looks the same, but this new series is 1/5th the length of the old one, since it was resampled from a 1-minute interval to a 5-minute interval.\n",
    "\n",
    "### 3. NaNReplacer\n",
    "![Normalization Output at Step 2](imgs/Step_2.png)\n",
    "Nothing to see here, since there were no NaNs for this subject.\n",
    "\n",
    "### 4. ConstValueDropper\n",
    "![Normalization Output at Step 3](imgs/Step_3.png)\n",
    "Again nothing to see. This time series doesn't have constant values, so it was passed through this module unchanged.\n",
    "\n",
    "### 5. StableSeasonalFilter\n",
    "![Normalization Output at Step 4](imgs/Step_4.png)\n",
    "Here you can see that the series has been corrected (sort-of) for the seasonality of the data. The data variance is still higher during the day, but the seasonality filter has pulled the daytime mean activity lower.\n",
    "\n",
    "### 6. ZTransformNormalize\n",
    "![Normalization Output at Step 5](imgs/Step_5.png)\n",
    "There isn't much difference visible here, but the Y-axis has changed since the data has been transformed to Z-scores. This doesn't have any effect for a single series, but normalizes the series across subjects, so that all subjects have the same mean activity.\n"
   ]
  },
  {
   "cell_type": "code",
   "execution_count": null,
   "metadata": {},
   "outputs": [],
   "source": []
  }
 ],
 "metadata": {
  "kernelspec": {
   "display_name": "Python 3",
   "language": "python",
   "name": "python3"
  },
  "language_info": {
   "codemirror_mode": {
    "name": "ipython",
    "version": 3
   },
   "file_extension": ".py",
   "mimetype": "text/x-python",
   "name": "python",
   "nbconvert_exporter": "python",
   "pygments_lexer": "ipython3",
   "version": "3.6.8"
  }
 },
 "nbformat": 4,
 "nbformat_minor": 2
}
