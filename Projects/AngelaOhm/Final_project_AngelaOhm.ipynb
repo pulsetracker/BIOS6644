{
 "cells": [
  {
   "cell_type": "markdown",
   "metadata": {},
   "source": [
    "Streamlining DNA foci data wrangling"
   ]
  },
  {
   "cell_type": "code",
   "execution_count": null,
   "metadata": {},
   "outputs": [],
   "source": [
    "# Standard imports\n",
    "import numpy as np\n",
    "import pandas as pd\n",
    "%matplotlib notebook\n",
    "import scipy.stats as st\n",
    "import os # os module to be used to rename files\n",
    "import matplotlib.pyplot as plt\n",
    "import cv2\n",
    "import seaborn as sns \n",
    "sns.palplot(sns.color_palette(\"muted\"))\n",
    "%matplotlib inline\n",
    "from matplotlib import pyplot \n",
    "import datetime as dt"
   ]
  },
  {
   "cell_type": "markdown",
   "metadata": {},
   "source": [
    "Confirm list of files to be renamed."
   ]
  },
  {
   "cell_type": "code",
   "execution_count": null,
   "metadata": {},
   "outputs": [],
   "source": [
    "#list = os.listdir(‘Src’) : Where Src is the source to be listed out, in this case the Foci folder containing the files\n",
    "# these are the files to be renamed\n",
    "list = os.listdir('C:/Users/tximeleta/Desktop/coding/BIOS6644/Data/Foci/NT_0hr_102819')\n",
    "list"
   ]
  },
  {
   "cell_type": "markdown",
   "metadata": {},
   "source": [
    "Rename all files in the directory.  Pictures are originally saved into files with identifying information when taken on the microscope.  The following code will rename each file within the directory with it's own identifying information.  This will make the analysis later on easy to do with meaningful tags on the image files that end up in the final .csv file.  This will be done for each folder in the experiment - in this case 18 folders.  Since I do not want to accidentally mislabel any images I want the control of checking that each one was labeled correctly.  Therefore I check the directory before and after the renaming.  This might seem cumbersome but to rename them all manually could take at least half a day.  I added a datetime stamp to show how fast the renaming step takes.  Experiments don't vary widely in their format, just in treatment.  I can copy the notebooks and have \"templates\" for renaming the files.  All I have to do is to point to the right directory and maybe change some labels.  Easy!\n"
   ]
  },
  {
   "cell_type": "code",
   "execution_count": null,
   "metadata": {},
   "outputs": [],
   "source": [
    "# Timing an event\n",
    "now = dt.datetime.now()\n",
    "print(now)\n",
    "\n",
    "tic = dt.datetime.now()\n",
    "\n",
    "# Python program to rename all file names in your directory  \n",
    "# https://www.geeksforgeeks.org/rename-all-file-names-in-your-directory-using-python/\n",
    "\n",
    "os.chdir('C:/Users/tximeleta/Desktop/coding/BIOS6644/Data/Foci/NT_0hr_102819') \n",
    "print(os.getcwd()) \n",
    "COUNT = 1\n",
    "  \n",
    "# Function to increment count  \n",
    "# to make the files sorted. \n",
    "def increment(): \n",
    "    global COUNT \n",
    "    COUNT = COUNT + 1\n",
    "  \n",
    "  \n",
    "for f in os.listdir(): \n",
    "    f_name, f_ext = os.path.splitext(f) \n",
    "    f_name = \"00\" + str(COUNT)+ \"_NT_0hr_102819\"\n",
    "    \n",
    "    increment() \n",
    "  \n",
    "    new_name = '{}{}'.format(f_name, f_ext) \n",
    "    os.rename(f, new_name) \n",
    "\n",
    "    toc = dt.datetime.now()\n",
    "eltime = toc-tic\n",
    "print('Elapsed time: {}'.format(eltime)) "
   ]
  },
  {
   "cell_type": "code",
   "execution_count": null,
   "metadata": {},
   "outputs": [],
   "source": [
    "os.listdir()"
   ]
  },
  {
   "cell_type": "code",
   "execution_count": null,
   "metadata": {},
   "outputs": [],
   "source": [
    "list = os.listdir('C:/Users/tximeleta/Desktop/coding/BIOS6644/Data/Foci/NT_30min_102819')\n",
    "list"
   ]
  },
  {
   "cell_type": "code",
   "execution_count": null,
   "metadata": {},
   "outputs": [],
   "source": [
    "\n",
    "os.chdir('C:/Users/tximeleta/Desktop/coding/BIOS6644/Data/Foci/NT_30min_102819') \n",
    "print(os.getcwd()) \n",
    "COUNT = 1\n",
    "  \n",
    "def increment(): \n",
    "    global COUNT \n",
    "    COUNT = COUNT + 1\n",
    "  \n",
    "  \n",
    "for f in os.listdir(): \n",
    "    f_name, f_ext = os.path.splitext(f) \n",
    "    f_name = \"00\" + str(COUNT)+ \"_NT_30min_102819\"\n",
    "    \n",
    "    increment() \n",
    "  \n",
    "    new_name = '{}{}'.format(f_name, f_ext) \n",
    "    os.rename(f, new_name) \n"
   ]
  },
  {
   "cell_type": "code",
   "execution_count": null,
   "metadata": {},
   "outputs": [],
   "source": [
    "os.listdir()"
   ]
  },
  {
   "cell_type": "code",
   "execution_count": null,
   "metadata": {},
   "outputs": [],
   "source": [
    "list = os.listdir('C:/Users/tximeleta/Desktop/coding/BIOS6644/Data/Foci/NT_1hr_102819')\n",
    "list"
   ]
  },
  {
   "cell_type": "code",
   "execution_count": null,
   "metadata": {},
   "outputs": [],
   "source": [
    "os.chdir('C:/Users/tximeleta/Desktop/coding/BIOS6644/Data/Foci/NT_1hr_102819') \n",
    "print(os.getcwd()) \n",
    "COUNT = 1\n",
    "  \n",
    "def increment(): \n",
    "    global COUNT \n",
    "    COUNT = COUNT + 1\n",
    "  \n",
    "  \n",
    "for f in os.listdir(): \n",
    "    f_name, f_ext = os.path.splitext(f) \n",
    "    f_name = \"00\" + str(COUNT)+ \"_NT_1hr_102819\"\n",
    "    \n",
    "    increment() \n",
    "  \n",
    "    new_name = '{}{}'.format(f_name, f_ext) \n",
    "    os.rename(f, new_name) \n"
   ]
  },
  {
   "cell_type": "code",
   "execution_count": null,
   "metadata": {},
   "outputs": [],
   "source": [
    "os.listdir()"
   ]
  },
  {
   "cell_type": "markdown",
   "metadata": {},
   "source": [
    "The following code moves all of the files from the source folder into a new destination folder.  I have not yet figured out how to just move individual files.  Still a work in progress!  Ideally I want to move all the blue images with prefixes (001, 004, 007, 0010, 0013) into a folder called dapi.  All of the green images (002, 005, 008, 0011, 0014) to a folder called H2AX.  All of the red images (003, 006, 009, 0012, 0015) to a folder called 53BP1. At this point I am happy with the fact that the files did move!  I can easily just move them all using the code into one folder and then manually move each color myself.  "
   ]
  },
  {
   "cell_type": "code",
   "execution_count": null,
   "metadata": {},
   "outputs": [],
   "source": [
    "# importing shutil module  \n",
    "import shutil  \n",
    "  \n",
    "# path  \n",
    "path = 'C:/Users/tximeleta/Desktop/coding/BIOS6644/Data'\n",
    "  \n",
    "# Source path  \n",
    "source = 'C:/Users/tximeleta/Desktop/coding/BIOS6644/Data/Foci/NT_0hr_102819'\n",
    "  \n",
    "# Destination path, in this example the destination file does not already exist  \n",
    "destination = 'C:/Users/tximeleta/Desktop/coding/BIOS6644/Data/Foci/dapi'\n",
    "  \n",
    "# Move the content of  \n",
    "# source to destination  \n",
    "dest = shutil.move(source, destination)  \n",
    "  \n",
    "# Print path of newly created folder dapi\n",
    "print(\"Destination path:\", dest)  "
   ]
  },
  {
   "cell_type": "markdown",
   "metadata": {},
   "source": [
    "After image processing to identify objects using the dapi files and count the foci in the green(H2AX) and red(53BP1) channels, data analysis needs to be done.  The file from JQuantPro can be saved in excel as a .csv file. \n",
    "Here is what the file looks like."
   ]
  },
  {
   "cell_type": "code",
   "execution_count": null,
   "metadata": {},
   "outputs": [],
   "source": [
    "df = pd.read_csv('C:/Users/tximeleta/Desktop/coding/BIOS6644/Data/Final_project_dataset_102819exp.csv', sep=',')\n",
    "df.head()\n"
   ]
  },
  {
   "cell_type": "code",
   "execution_count": null,
   "metadata": {},
   "outputs": [],
   "source": [
    "#change column labels to something easier to call\n",
    "df.columns = ['label','condition',  'IR_hours', 'file', 'parameters', 'N_of_cells', 'Avg_cell_area', 'min_Foci_N', 'max_foci_N', 'avg_foci_N', 'StDev_Foci_N']\n",
    "df.head()\n"
   ]
  },
  {
   "cell_type": "markdown",
   "metadata": {},
   "source": [
    "Let's run some descriptive analytics on the replicates."
   ]
  },
  {
   "cell_type": "code",
   "execution_count": null,
   "metadata": {},
   "outputs": [],
   "source": [
    "grouped_data = df.groupby(['condition', 'IR_hours'])\n",
    "df_desc = grouped_data['avg_foci_N'].describe()\n",
    "df_desc"
   ]
  },
  {
   "cell_type": "markdown",
   "metadata": {},
   "source": [
    "I would like to graph the above data as a grouped bar graph with stdev, however, I cannot find code to graph the descriptive summary data above.  So let's try something else.  "
   ]
  },
  {
   "cell_type": "code",
   "execution_count": null,
   "metadata": {},
   "outputs": [],
   "source": [
    "#Let's pull out just the control condition numbers and plot just to make sure the experiment worked.\n",
    "df_control= df[0:30]\n",
    "df_control.head()"
   ]
  },
  {
   "cell_type": "code",
   "execution_count": null,
   "metadata": {
    "scrolled": true
   },
   "outputs": [],
   "source": [
    "#https://python-graph-gallery.com/104-seaborn-themes/\n",
    "fig, ax = pyplot.subplots(figsize =(15, 7)) \n",
    "sns.set_style(\"dark\")\n",
    "ax = sns.boxplot(x=df_control['IR_hours'], y=df_control['avg_foci_N'])\n",
    "plt.title(\"102819:H2AX foci count in control cells\", fontweight = 'bold')\n",
    "ax.set_ylabel('Average Foci per cell', fontweight = 'bold')\n",
    "ax.set_xlabel('Hr post IR (1Gy)', fontweight = 'bold')"
   ]
  },
  {
   "cell_type": "markdown",
   "metadata": {},
   "source": [
    "That looks great but I would like to see how the dasatinib and imatinib treated ones differ as that is really what we are testing.  Therefore I usually graph as grouped bar graph."
   ]
  },
  {
   "cell_type": "code",
   "execution_count": null,
   "metadata": {},
   "outputs": [],
   "source": [
    "#Let's pull out just the dasatinib condition numbers and plot just to make sure the experiment worked.\n",
    "df_dasatinib= df[30:60]\n",
    "df_dasatinib.head()"
   ]
  },
  {
   "cell_type": "code",
   "execution_count": null,
   "metadata": {},
   "outputs": [],
   "source": [
    "#https://python-graph-gallery.com/104-seaborn-themes/\n",
    "fig, ax = pyplot.subplots(figsize =(15, 7)) \n",
    "sns.set_style(\"dark\")\n",
    "ax = sns.boxplot(x=df_dasatinib['IR_hours'], y=df_dasatinib['avg_foci_N'])\n",
    "plt.title(\"102819:H2AX foci count in dasatinib cells\", fontweight = 'bold')\n",
    "ax.set_ylabel('Average Foci per cell', fontweight = 'bold')\n",
    "ax.set_xlabel('Hr post IR (1Gy)', fontweight = 'bold')"
   ]
  },
  {
   "cell_type": "code",
   "execution_count": null,
   "metadata": {},
   "outputs": [],
   "source": [
    "#Let's pull out just the dasatinib condition numbers and plot just to make sure the experiment worked.\n",
    "df_imatinib= df[60:90]\n",
    "df_imatinib.head()"
   ]
  },
  {
   "cell_type": "code",
   "execution_count": null,
   "metadata": {},
   "outputs": [],
   "source": [
    "#https://python-graph-gallery.com/104-seaborn-themes/\n",
    "fig, ax = pyplot.subplots(figsize =(15, 7)) \n",
    "sns.set_style(\"dark\")\n",
    "ax = sns.boxplot(x=df_imatinib['IR_hours'], y=df_imatinib['avg_foci_N'])\n",
    "plt.title(\"102819:H2AX foci count in imatinib cells\", fontweight = 'bold')\n",
    "ax.set_ylabel('Average Foci per cell', fontweight = 'bold')\n",
    "ax.set_xlabel('Hr post IR (1Gy)', fontweight = 'bold')\n"
   ]
  },
  {
   "cell_type": "code",
   "execution_count": null,
   "metadata": {},
   "outputs": [],
   "source": []
  },
  {
   "cell_type": "code",
   "execution_count": null,
   "metadata": {},
   "outputs": [],
   "source": []
  },
  {
   "cell_type": "code",
   "execution_count": null,
   "metadata": {},
   "outputs": [],
   "source": []
  }
 ],
 "metadata": {
  "kernelspec": {
   "display_name": "Python 3",
   "language": "python",
   "name": "python3"
  },
  "language_info": {
   "codemirror_mode": {
    "name": "ipython",
    "version": 3
   },
   "file_extension": ".py",
   "mimetype": "text/x-python",
   "name": "python",
   "nbconvert_exporter": "python",
   "pygments_lexer": "ipython3",
   "version": "3.7.3"
  }
 },
 "nbformat": 4,
 "nbformat_minor": 2
}
