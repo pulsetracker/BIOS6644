{
 "cells": [
  {
   "cell_type": "markdown",
   "metadata": {},
   "source": [
    "# Jupyter \n",
    "Notebooks allow a nice interaction bewteen comments, plots, and executable code.\n",
    "\n",
    "This is a  __[markdown](https://www.ibm.com/support/knowledgecenter/en/SSGNPV_1.1.3/dsx/markd-jupyter.html)__ cell.  \n",
    "\n",
    "Hitting shift-enter renders it.\n",
    "\n"
   ]
  },
  {
   "cell_type": "markdown",
   "metadata": {},
   "source": [
    "\n",
    "\n",
    "## Oooh la $LaTeX$ markup\n",
    "\n",
    "Enclose this in dollar signs:  \n",
    "\n",
    "   \\sin(x) = \\frac{O}{H}\n",
    "\n",
    "It renders like this: \n",
    "\n",
    "   $\\sin(x) = \\frac{O}{H}$"
   ]
  },
  {
   "cell_type": "markdown",
   "metadata": {},
   "source": [
    "## Executable code"
   ]
  },
  {
   "cell_type": "code",
   "execution_count": 3,
   "metadata": {},
   "outputs": [
    {
     "name": "stdout",
     "output_type": "stream",
     "text": [
      "This is executable code.\n"
     ]
    }
   ],
   "source": [
    "print('This is executable code.')  # press shift-enter to run"
   ]
  },
  {
   "cell_type": "code",
   "execution_count": 5,
   "metadata": {},
   "outputs": [
    {
     "name": "stdout",
     "output_type": "stream",
     "text": [
      "[ 7 10 13 16]\n"
     ]
    }
   ],
   "source": [
    "import numpy as np # numerical python\n",
    "darf = np.array([1,2,3,4])\n",
    "print(darf*3+4)"
   ]
  },
  {
   "cell_type": "markdown",
   "metadata": {},
   "source": [
    "## Warning\n",
    "Notebooks allow you to run commands in an order different than what's implied by the written order.\n",
    "\n",
    "If you run the following two lines, you'll end up with the phrase \n",
    "\n",
    "X equals 9\n",
    "\n",
    "*BUT* if you execute them backwards, you'll get \n",
    "\n",
    "X equals 37\n",
    "\n",
    "This is obvious here, but you will eventually encounter a completely perplexing bug that is essentially the same problem.   Step 1 in debugging should *always* be, restart kernel & run all steps."
   ]
  },
  {
   "cell_type": "code",
   "execution_count": 7,
   "metadata": {},
   "outputs": [
    {
     "name": "stdout",
     "output_type": "stream",
     "text": [
      "37\n"
     ]
    }
   ],
   "source": [
    "x = 37\n",
    "print(x)"
   ]
  },
  {
   "cell_type": "code",
   "execution_count": 8,
   "metadata": {
    "collapsed": true
   },
   "outputs": [],
   "source": [
    "x = 9"
   ]
  },
  {
   "cell_type": "code",
   "execution_count": 10,
   "metadata": {},
   "outputs": [
    {
     "name": "stdout",
     "output_type": "stream",
     "text": [
      "X equals 9 11\n"
     ]
    }
   ],
   "source": [
    "print('X equals {} {}'.format(x,x+2))"
   ]
  },
  {
   "cell_type": "markdown",
   "metadata": {},
   "source": [
    "# Python Refresher\n",
    "\n",
    "## Fundamental data structures"
   ]
  },
  {
   "cell_type": "code",
   "execution_count": 8,
   "metadata": {},
   "outputs": [
    {
     "name": "stdout",
     "output_type": "stream",
     "text": [
      "<class 'int'> 37\n",
      "<class 'float'> 12.3\n",
      "<class 'str'> I am a string\n",
      "<class 'list'> [37, 12.3, 'I am a string']\n",
      "<class 'dict'> {'FirstThing': 37, 'SecondThing': 12.3, 'ThirdThing': 'I am a string'}\n",
      "<class 'set'> {1, 3, 4}\n",
      "<class 'tuple'> (1, 1, 3)\n"
     ]
    }
   ],
   "source": [
    "# Python fundamental data structures\n",
    "\n",
    "a = int(37)\n",
    "print(type(a),a)\n",
    "\n",
    "b = float(12.3)\n",
    "print(type(b),b)\n",
    "\n",
    "c = str('I am a string')\n",
    "print(type(c),c)\n",
    "\n",
    "d = [a,b,c]\n",
    "print(type(d),d)\n",
    "\n",
    "e = dict()\n",
    "e['FirstThing']=a\n",
    "e['SecondThing']=b\n",
    "e['ThirdThing']=c\n",
    "print(type(e),e)\n",
    "\n",
    "f = set([1,3,4,1,3])  #sets don't have repeats\n",
    "print(type(f),f)      # to find unique elements in a list, use set:   set([1,1,1,2,3]) = {1,2,3}\n",
    "\n",
    "g = tuple([1,1,3])\n",
    "print(type(g),g)"
   ]
  },
  {
   "cell_type": "code",
   "execution_count": 14,
   "metadata": {},
   "outputs": [
    {
     "name": "stdout",
     "output_type": "stream",
     "text": [
      "<class 'str'>\n"
     ]
    }
   ],
   "source": [
    "bork = str(3.2)\n",
    "print(type(bork))"
   ]
  },
  {
   "cell_type": "markdown",
   "metadata": {},
   "source": [
    "## Built-in operations"
   ]
  },
  {
   "cell_type": "code",
   "execution_count": 11,
   "metadata": {},
   "outputs": [
    {
     "name": "stdout",
     "output_type": "stream",
     "text": [
      "x0: <class 'bool'> True\n",
      "x1: <class 'int'> 4\n",
      "x2: <class 'int'> 2\n",
      "x3: <class 'float'> 20.4\n",
      "x4: <class 'float'> 1.7142857142857142\n",
      "x5: <class 'int'> 1\n",
      "x6: <class 'int'> 25\n"
     ]
    }
   ],
   "source": [
    "\n",
    "# Built-in operations\n",
    "\n",
    "x0 = bool(1)\n",
    "print('x0:',type(x0), x0)\n",
    "\n",
    "x1 = 1+3\n",
    "print('x1:',type(x1), x1)\n",
    "\n",
    "x2 = 4-2\n",
    "print('x2:',type(x2), x2)\n",
    "\n",
    "x3 = 6*3.4\n",
    "print('x3:',type(x3), x3) # returns a float because one of the inputs is a float\n",
    "\n",
    "x4 = 12/7\n",
    "print('x4:',type(x4), x4)\n",
    "\n",
    "x5 = 12//7\n",
    "print('x5:',type(x5), x5) # double-slash truncates decimal component\n",
    "\n",
    "x6 = 5**2\n",
    "print('x6:', type(x6), x6) # exponents use **\n",
    "\n"
   ]
  },
  {
   "cell_type": "markdown",
   "metadata": {},
   "source": [
    "## Potentially counterintuitive behavior"
   ]
  },
  {
   "cell_type": "code",
   "execution_count": 13,
   "metadata": {},
   "outputs": [
    {
     "name": "stdout",
     "output_type": "stream",
     "text": [
      "x7: <class 'int'> 19\n",
      "s: <class 'str'> stringaddition\n",
      "L: <class 'list'> [1, 2, 9, 4, 5]\n",
      "LL: <class 'list'> [1, 2, 1, 2, 1, 2, 1, 2]\n"
     ]
    }
   ],
   "source": [
    "x7 = 5^22\n",
    "print('x7:', type(x7), x7) # The \"^\" is a bitwise OR logical operator, NOT an exponent!\n",
    "\n",
    "s1='string'\n",
    "s2='addition'\n",
    "s = s1+s2\n",
    "print('s:', type(s), s) # \"addition\" of strings is concatenation\n",
    "\n",
    "L1= [1,2]\n",
    "L2= [9,4,5]\n",
    "L = L1+L2\n",
    "print('L:', type(L), L) # \"addition\" of lists is concatenation, too\n",
    "\n",
    "LL = L1*4 \n",
    "print('LL:', type(LL), LL) # \"multiplication\" of lists is repeating\n",
    "\n",
    "# \"division\" of lists is undefined"
   ]
  },
  {
   "cell_type": "markdown",
   "metadata": {},
   "source": [
    "## Logical Operators"
   ]
  },
  {
   "cell_type": "code",
   "execution_count": 14,
   "metadata": {},
   "outputs": [
    {
     "name": "stdout",
     "output_type": "stream",
     "text": [
      "1 and 1:  True\n",
      "1 and 0:  False\n",
      "0 and 1:  False\n",
      "0 and 0:  False\n",
      "\n",
      "\n",
      " 1 or 1:  True\n",
      " 1 or 0:  True\n",
      " 0 or 1:  True\n",
      " 0 or 0:  False\n",
      "\n",
      "\n",
      " 1 and not  1:  False\n",
      " 1 and not  0:  True\n",
      " 0 and not  1:  False\n",
      " 0 and not  0:  False\n"
     ]
    }
   ],
   "source": [
    "\n",
    "# Sometimes, selecting data in a data frame is best done\n",
    "# by providing a logical statement.  This process uses logical\n",
    "# operators.\n",
    "\n",
    "t = True\n",
    "f = False\n",
    "\n",
    "# Logical And\n",
    "print(\"1 and 1: \", t and t)\n",
    "print(\"1 and 0: \", t and f)\n",
    "print(\"0 and 1: \", f and t)\n",
    "print(\"0 and 0: \", f and f)\n",
    "\n",
    "\n",
    "print('\\n')\n",
    "print(\" 1 or 1: \", t or t)\n",
    "print(\" 1 or 0: \", t or f)\n",
    "print(\" 0 or 1: \", f or t)\n",
    "print(\" 0 or 0: \", f or f)\n",
    "\n",
    "print('\\n')\n",
    "print(\" 1 and not  1: \", t and not t)\n",
    "print(\" 1 and not  0: \", t and not f)\n",
    "print(\" 0 and not  1: \", f and not t)\n",
    "print(\" 0 and not  0: \", f and not f)\n",
    "\n"
   ]
  },
  {
   "cell_type": "markdown",
   "metadata": {},
   "source": [
    "## Logical  order of operations"
   ]
  },
  {
   "cell_type": "code",
   "execution_count": 15,
   "metadata": {},
   "outputs": [
    {
     "data": {
      "text/plain": [
       "True"
      ]
     },
     "execution_count": 15,
     "metadata": {},
     "output_type": "execute_result"
    }
   ],
   "source": [
    "xmax = 9.4\n",
    "xmin = 1.3\n",
    "\n",
    "x=2\n",
    "\n",
    "x < xmax and x > xmin\n"
   ]
  },
  {
   "cell_type": "code",
   "execution_count": 16,
   "metadata": {},
   "outputs": [
    {
     "name": "stdout",
     "output_type": "stream",
     "text": [
      "True\n",
      "False\n"
     ]
    }
   ],
   "source": [
    "# This evaluates to True\n",
    "x = 1\n",
    "print(x == (1 or 2))\n",
    "\n",
    "\n",
    "# But this evaluates to False\n",
    "x = 2\n",
    "print(x == (1 or 2))\n",
    "\n",
    "# Why?"
   ]
  },
  {
   "cell_type": "code",
   "execution_count": 17,
   "metadata": {},
   "outputs": [
    {
     "name": "stdout",
     "output_type": "stream",
     "text": [
      "True\n",
      "2\n"
     ]
    }
   ],
   "source": [
    "# This evaluates to True\n",
    "x = 1\n",
    "print(x == 1 or 2)\n",
    "\n",
    "\n",
    "# But this evaluates to 2 ?!?\n",
    "x = 2\n",
    "print(x == 1 or 2)\n",
    "\n",
    "# OMG, Why?"
   ]
  },
  {
   "cell_type": "code",
   "execution_count": 18,
   "metadata": {},
   "outputs": [
    {
     "name": "stdout",
     "output_type": "stream",
     "text": [
      "True\n",
      "True\n"
     ]
    }
   ],
   "source": [
    "# What you probably want is this:\n",
    "\n",
    "x=1\n",
    "print((x==1) or (x==2))\n",
    "\n",
    "x=2\n",
    "print((x==1) or (x==2))"
   ]
  },
  {
   "cell_type": "markdown",
   "metadata": {},
   "source": [
    "## Branching"
   ]
  },
  {
   "cell_type": "code",
   "execution_count": 19,
   "metadata": {},
   "outputs": [
    {
     "name": "stdout",
     "output_type": "stream",
     "text": [
      "I don't recognize x, but it's: word\n"
     ]
    }
   ],
   "source": [
    "#x=1\n",
    "#x=2\n",
    "x=\"word\"\n",
    "\n",
    "if x==1:\n",
    "    print('X is a 1')\n",
    "    \n",
    "elif x==2:\n",
    "    print('X is a 2')\n",
    "    \n",
    "else:\n",
    "    print(\"I don't recognize x, but it's: {}\".format(x))\n",
    "    "
   ]
  },
  {
   "cell_type": "markdown",
   "metadata": {},
   "source": [
    "## For Loops"
   ]
  },
  {
   "cell_type": "code",
   "execution_count": 20,
   "metadata": {},
   "outputs": [
    {
     "name": "stdout",
     "output_type": "stream",
     "text": [
      "1\n",
      "\tIt's is a 1\n",
      "2\n",
      "\tIt's is a 2\n",
      "word\n",
      "\tI don't recognize it, but it's: word\n"
     ]
    }
   ],
   "source": [
    "# Python usually loops with \"iterators\" instead of explicit counters\n",
    "\n",
    "interestinglist = [1, 2, 'word']\n",
    "\n",
    "for element in interestinglist:\n",
    "    print(element)\n",
    "\n",
    "    if element==1:\n",
    "        print(\"\\tIt's is a 1\")\n",
    "        \n",
    "    elif element==2:\n",
    "        print(\"\\tIt's is a 2\")\n",
    "\n",
    "    else:\n",
    "        print(\"\\tI don't recognize it, but it's: {}\".format(x))\n",
    "    "
   ]
  },
  {
   "cell_type": "markdown",
   "metadata": {},
   "source": [
    "## Enumerated For Loops"
   ]
  },
  {
   "cell_type": "markdown",
   "metadata": {
    "collapsed": true
   },
   "source": [
    " Sometimes, you need to keep track of which \"place\" your are in a loop.   You can use\n",
    " enumerate for this purpose"
   ]
  },
  {
   "cell_type": "code",
   "execution_count": 22,
   "metadata": {},
   "outputs": [
    {
     "name": "stdout",
     "output_type": "stream",
     "text": [
      "(0, 1)\n",
      "Position Zero: 0\n",
      "Position One:  1\n",
      "\tIt's is a 1\n",
      "(1, 2)\n",
      "Position Zero: 1\n",
      "Position One:  2\n",
      "\tIt's is a 2\n",
      "(2, 'word')\n",
      "Position Zero: 2\n",
      "Position One:  word\n",
      "\tIt's is a word\n"
     ]
    }
   ],
   "source": [
    "# Enumerate gives a tuple with the counter in position 0 and the \"element\" in position1\n",
    "\n",
    "interestinglist = [1, 2, 'word']\n",
    "\n",
    "for element in enumerate(interestinglist):\n",
    "    print(element)\n",
    "    print('Position Zero: {}'.format(element[0]))\n",
    "    print('Position One:  {}'.format(element[1]))\n",
    "\n",
    "    print(\"\\tIt's is a {}\".format(element[1]))\n",
    "        \n"
   ]
  },
  {
   "cell_type": "markdown",
   "metadata": {
    "collapsed": true
   },
   "source": [
    "## The List Comprehension"
   ]
  },
  {
   "cell_type": "markdown",
   "metadata": {
    "collapsed": true
   },
   "source": [
    "Using a for loop to create a list is so common in python, they made a special programming schtick for it.\n",
    "\n",
    "The List Comprehension is a shorthand for a for loop."
   ]
  },
  {
   "cell_type": "code",
   "execution_count": 23,
   "metadata": {},
   "outputs": [
    {
     "name": "stdout",
     "output_type": "stream",
     "text": [
      "Made the long way:   [10, 20, 30]\n",
      "Made the short way:  [10, 20, 30]\n"
     ]
    }
   ],
   "source": [
    "# The long way:\n",
    "newList = []\n",
    "for xx in [1,2,3]:\n",
    "    newList.append(xx*10)\n",
    "print(\"Made the long way:  \", newList)    \n",
    "\n",
    "\n",
    "# With a list comprehension\n",
    "newList = [xx*10 for xx in [1,2,3]]\n",
    "print(\"Made the short way: \", newList)    "
   ]
  },
  {
   "cell_type": "markdown",
   "metadata": {
    "collapsed": true
   },
   "source": [
    "You can also embed branching logic"
   ]
  },
  {
   "cell_type": "code",
   "execution_count": 24,
   "metadata": {},
   "outputs": [
    {
     "name": "stdout",
     "output_type": "stream",
     "text": [
      "Made the long way:   [0, 2, 4, 6, 8, 10, 12, 14, 16, 18, 20, 22, 24, 26, 28, 30, 32, 34, 36, 38, 40, 42, 44, 46, 48]\n",
      "Made the short way:  [0, 2, 4, 6, 8, 10, 12, 14, 16, 18, 20, 22, 24, 26, 28, 30, 32, 34, 36, 38, 40, 42, 44, 46, 48]\n"
     ]
    }
   ],
   "source": [
    "# The long way:\n",
    "newList2 = []\n",
    "for xx in range(50):\n",
    "    if xx%2==0:\n",
    "        newList2.append(xx)\n",
    "print(\"Made the long way:  \", newList2)    \n",
    "\n",
    "\n",
    "\n",
    "newList2 = [xx for xx in range(50) if xx%2==0 ]\n",
    "print(\"Made the short way: \", newList2) "
   ]
  },
  {
   "cell_type": "code",
   "execution_count": 25,
   "metadata": {},
   "outputs": [
    {
     "name": "stdout",
     "output_type": "stream",
     "text": [
      "Made the long way:   ['Even', 'Odd', 'Even', 'Odd', 'Even', 'Odd', 'Even', 'Odd', 'Even', 'Odd']\n",
      "Made the short way:  ['Even', 'Odd', 'Odd', 'Even', 'Odd', 'Odd', 'Even', 'Odd', 'Odd', 'Even']\n"
     ]
    }
   ],
   "source": [
    "# The long way:\n",
    "newList3 = []\n",
    "for xx in range(10):\n",
    "    if xx%2==0:\n",
    "        newList3.append(\"Even\")\n",
    "    else:\n",
    "        newList3.append(\"Odd\")\n",
    "print(\"Made the long way:  \", newList3)    \n",
    "\n",
    "\n",
    "# There's a switcheroo on the order if you're using an \"else\"\n",
    "newList3 = [\"Even\"if xx%3==0 else \"Odd\" for xx in range(10)]\n",
    "print(\"Made the short way: \", newList3) "
   ]
  },
  {
   "cell_type": "markdown",
   "metadata": {},
   "source": [
    "## Using code to make plots\n"
   ]
  },
  {
   "cell_type": "code",
   "execution_count": 26,
   "metadata": {},
   "outputs": [
    {
     "data": {
      "application/javascript": [
       "/* Put everything inside the global mpl namespace */\n",
       "window.mpl = {};\n",
       "\n",
       "\n",
       "mpl.get_websocket_type = function() {\n",
       "    if (typeof(WebSocket) !== 'undefined') {\n",
       "        return WebSocket;\n",
       "    } else if (typeof(MozWebSocket) !== 'undefined') {\n",
       "        return MozWebSocket;\n",
       "    } else {\n",
       "        alert('Your browser does not have WebSocket support.' +\n",
       "              'Please try Chrome, Safari or Firefox ≥ 6. ' +\n",
       "              'Firefox 4 and 5 are also supported but you ' +\n",
       "              'have to enable WebSockets in about:config.');\n",
       "    };\n",
       "}\n",
       "\n",
       "mpl.figure = function(figure_id, websocket, ondownload, parent_element) {\n",
       "    this.id = figure_id;\n",
       "\n",
       "    this.ws = websocket;\n",
       "\n",
       "    this.supports_binary = (this.ws.binaryType != undefined);\n",
       "\n",
       "    if (!this.supports_binary) {\n",
       "        var warnings = document.getElementById(\"mpl-warnings\");\n",
       "        if (warnings) {\n",
       "            warnings.style.display = 'block';\n",
       "            warnings.textContent = (\n",
       "                \"This browser does not support binary websocket messages. \" +\n",
       "                    \"Performance may be slow.\");\n",
       "        }\n",
       "    }\n",
       "\n",
       "    this.imageObj = new Image();\n",
       "\n",
       "    this.context = undefined;\n",
       "    this.message = undefined;\n",
       "    this.canvas = undefined;\n",
       "    this.rubberband_canvas = undefined;\n",
       "    this.rubberband_context = undefined;\n",
       "    this.format_dropdown = undefined;\n",
       "\n",
       "    this.image_mode = 'full';\n",
       "\n",
       "    this.root = $('<div/>');\n",
       "    this._root_extra_style(this.root)\n",
       "    this.root.attr('style', 'display: inline-block');\n",
       "\n",
       "    $(parent_element).append(this.root);\n",
       "\n",
       "    this._init_header(this);\n",
       "    this._init_canvas(this);\n",
       "    this._init_toolbar(this);\n",
       "\n",
       "    var fig = this;\n",
       "\n",
       "    this.waiting = false;\n",
       "\n",
       "    this.ws.onopen =  function () {\n",
       "            fig.send_message(\"supports_binary\", {value: fig.supports_binary});\n",
       "            fig.send_message(\"send_image_mode\", {});\n",
       "            if (mpl.ratio != 1) {\n",
       "                fig.send_message(\"set_dpi_ratio\", {'dpi_ratio': mpl.ratio});\n",
       "            }\n",
       "            fig.send_message(\"refresh\", {});\n",
       "        }\n",
       "\n",
       "    this.imageObj.onload = function() {\n",
       "            if (fig.image_mode == 'full') {\n",
       "                // Full images could contain transparency (where diff images\n",
       "                // almost always do), so we need to clear the canvas so that\n",
       "                // there is no ghosting.\n",
       "                fig.context.clearRect(0, 0, fig.canvas.width, fig.canvas.height);\n",
       "            }\n",
       "            fig.context.drawImage(fig.imageObj, 0, 0);\n",
       "        };\n",
       "\n",
       "    this.imageObj.onunload = function() {\n",
       "        fig.ws.close();\n",
       "    }\n",
       "\n",
       "    this.ws.onmessage = this._make_on_message_function(this);\n",
       "\n",
       "    this.ondownload = ondownload;\n",
       "}\n",
       "\n",
       "mpl.figure.prototype._init_header = function() {\n",
       "    var titlebar = $(\n",
       "        '<div class=\"ui-dialog-titlebar ui-widget-header ui-corner-all ' +\n",
       "        'ui-helper-clearfix\"/>');\n",
       "    var titletext = $(\n",
       "        '<div class=\"ui-dialog-title\" style=\"width: 100%; ' +\n",
       "        'text-align: center; padding: 3px;\"/>');\n",
       "    titlebar.append(titletext)\n",
       "    this.root.append(titlebar);\n",
       "    this.header = titletext[0];\n",
       "}\n",
       "\n",
       "\n",
       "\n",
       "mpl.figure.prototype._canvas_extra_style = function(canvas_div) {\n",
       "\n",
       "}\n",
       "\n",
       "\n",
       "mpl.figure.prototype._root_extra_style = function(canvas_div) {\n",
       "\n",
       "}\n",
       "\n",
       "mpl.figure.prototype._init_canvas = function() {\n",
       "    var fig = this;\n",
       "\n",
       "    var canvas_div = $('<div/>');\n",
       "\n",
       "    canvas_div.attr('style', 'position: relative; clear: both; outline: 0');\n",
       "\n",
       "    function canvas_keyboard_event(event) {\n",
       "        return fig.key_event(event, event['data']);\n",
       "    }\n",
       "\n",
       "    canvas_div.keydown('key_press', canvas_keyboard_event);\n",
       "    canvas_div.keyup('key_release', canvas_keyboard_event);\n",
       "    this.canvas_div = canvas_div\n",
       "    this._canvas_extra_style(canvas_div)\n",
       "    this.root.append(canvas_div);\n",
       "\n",
       "    var canvas = $('<canvas/>');\n",
       "    canvas.addClass('mpl-canvas');\n",
       "    canvas.attr('style', \"left: 0; top: 0; z-index: 0; outline: 0\")\n",
       "\n",
       "    this.canvas = canvas[0];\n",
       "    this.context = canvas[0].getContext(\"2d\");\n",
       "\n",
       "    var backingStore = this.context.backingStorePixelRatio ||\n",
       "\tthis.context.webkitBackingStorePixelRatio ||\n",
       "\tthis.context.mozBackingStorePixelRatio ||\n",
       "\tthis.context.msBackingStorePixelRatio ||\n",
       "\tthis.context.oBackingStorePixelRatio ||\n",
       "\tthis.context.backingStorePixelRatio || 1;\n",
       "\n",
       "    mpl.ratio = (window.devicePixelRatio || 1) / backingStore;\n",
       "\n",
       "    var rubberband = $('<canvas/>');\n",
       "    rubberband.attr('style', \"position: absolute; left: 0; top: 0; z-index: 1;\")\n",
       "\n",
       "    var pass_mouse_events = true;\n",
       "\n",
       "    canvas_div.resizable({\n",
       "        start: function(event, ui) {\n",
       "            pass_mouse_events = false;\n",
       "        },\n",
       "        resize: function(event, ui) {\n",
       "            fig.request_resize(ui.size.width, ui.size.height);\n",
       "        },\n",
       "        stop: function(event, ui) {\n",
       "            pass_mouse_events = true;\n",
       "            fig.request_resize(ui.size.width, ui.size.height);\n",
       "        },\n",
       "    });\n",
       "\n",
       "    function mouse_event_fn(event) {\n",
       "        if (pass_mouse_events)\n",
       "            return fig.mouse_event(event, event['data']);\n",
       "    }\n",
       "\n",
       "    rubberband.mousedown('button_press', mouse_event_fn);\n",
       "    rubberband.mouseup('button_release', mouse_event_fn);\n",
       "    // Throttle sequential mouse events to 1 every 20ms.\n",
       "    rubberband.mousemove('motion_notify', mouse_event_fn);\n",
       "\n",
       "    rubberband.mouseenter('figure_enter', mouse_event_fn);\n",
       "    rubberband.mouseleave('figure_leave', mouse_event_fn);\n",
       "\n",
       "    canvas_div.on(\"wheel\", function (event) {\n",
       "        event = event.originalEvent;\n",
       "        event['data'] = 'scroll'\n",
       "        if (event.deltaY < 0) {\n",
       "            event.step = 1;\n",
       "        } else {\n",
       "            event.step = -1;\n",
       "        }\n",
       "        mouse_event_fn(event);\n",
       "    });\n",
       "\n",
       "    canvas_div.append(canvas);\n",
       "    canvas_div.append(rubberband);\n",
       "\n",
       "    this.rubberband = rubberband;\n",
       "    this.rubberband_canvas = rubberband[0];\n",
       "    this.rubberband_context = rubberband[0].getContext(\"2d\");\n",
       "    this.rubberband_context.strokeStyle = \"#000000\";\n",
       "\n",
       "    this._resize_canvas = function(width, height) {\n",
       "        // Keep the size of the canvas, canvas container, and rubber band\n",
       "        // canvas in synch.\n",
       "        canvas_div.css('width', width)\n",
       "        canvas_div.css('height', height)\n",
       "\n",
       "        canvas.attr('width', width * mpl.ratio);\n",
       "        canvas.attr('height', height * mpl.ratio);\n",
       "        canvas.attr('style', 'width: ' + width + 'px; height: ' + height + 'px;');\n",
       "\n",
       "        rubberband.attr('width', width);\n",
       "        rubberband.attr('height', height);\n",
       "    }\n",
       "\n",
       "    // Set the figure to an initial 600x600px, this will subsequently be updated\n",
       "    // upon first draw.\n",
       "    this._resize_canvas(600, 600);\n",
       "\n",
       "    // Disable right mouse context menu.\n",
       "    $(this.rubberband_canvas).bind(\"contextmenu\",function(e){\n",
       "        return false;\n",
       "    });\n",
       "\n",
       "    function set_focus () {\n",
       "        canvas.focus();\n",
       "        canvas_div.focus();\n",
       "    }\n",
       "\n",
       "    window.setTimeout(set_focus, 100);\n",
       "}\n",
       "\n",
       "mpl.figure.prototype._init_toolbar = function() {\n",
       "    var fig = this;\n",
       "\n",
       "    var nav_element = $('<div/>')\n",
       "    nav_element.attr('style', 'width: 100%');\n",
       "    this.root.append(nav_element);\n",
       "\n",
       "    // Define a callback function for later on.\n",
       "    function toolbar_event(event) {\n",
       "        return fig.toolbar_button_onclick(event['data']);\n",
       "    }\n",
       "    function toolbar_mouse_event(event) {\n",
       "        return fig.toolbar_button_onmouseover(event['data']);\n",
       "    }\n",
       "\n",
       "    for(var toolbar_ind in mpl.toolbar_items) {\n",
       "        var name = mpl.toolbar_items[toolbar_ind][0];\n",
       "        var tooltip = mpl.toolbar_items[toolbar_ind][1];\n",
       "        var image = mpl.toolbar_items[toolbar_ind][2];\n",
       "        var method_name = mpl.toolbar_items[toolbar_ind][3];\n",
       "\n",
       "        if (!name) {\n",
       "            // put a spacer in here.\n",
       "            continue;\n",
       "        }\n",
       "        var button = $('<button/>');\n",
       "        button.addClass('ui-button ui-widget ui-state-default ui-corner-all ' +\n",
       "                        'ui-button-icon-only');\n",
       "        button.attr('role', 'button');\n",
       "        button.attr('aria-disabled', 'false');\n",
       "        button.click(method_name, toolbar_event);\n",
       "        button.mouseover(tooltip, toolbar_mouse_event);\n",
       "\n",
       "        var icon_img = $('<span/>');\n",
       "        icon_img.addClass('ui-button-icon-primary ui-icon');\n",
       "        icon_img.addClass(image);\n",
       "        icon_img.addClass('ui-corner-all');\n",
       "\n",
       "        var tooltip_span = $('<span/>');\n",
       "        tooltip_span.addClass('ui-button-text');\n",
       "        tooltip_span.html(tooltip);\n",
       "\n",
       "        button.append(icon_img);\n",
       "        button.append(tooltip_span);\n",
       "\n",
       "        nav_element.append(button);\n",
       "    }\n",
       "\n",
       "    var fmt_picker_span = $('<span/>');\n",
       "\n",
       "    var fmt_picker = $('<select/>');\n",
       "    fmt_picker.addClass('mpl-toolbar-option ui-widget ui-widget-content');\n",
       "    fmt_picker_span.append(fmt_picker);\n",
       "    nav_element.append(fmt_picker_span);\n",
       "    this.format_dropdown = fmt_picker[0];\n",
       "\n",
       "    for (var ind in mpl.extensions) {\n",
       "        var fmt = mpl.extensions[ind];\n",
       "        var option = $(\n",
       "            '<option/>', {selected: fmt === mpl.default_extension}).html(fmt);\n",
       "        fmt_picker.append(option)\n",
       "    }\n",
       "\n",
       "    // Add hover states to the ui-buttons\n",
       "    $( \".ui-button\" ).hover(\n",
       "        function() { $(this).addClass(\"ui-state-hover\");},\n",
       "        function() { $(this).removeClass(\"ui-state-hover\");}\n",
       "    );\n",
       "\n",
       "    var status_bar = $('<span class=\"mpl-message\"/>');\n",
       "    nav_element.append(status_bar);\n",
       "    this.message = status_bar[0];\n",
       "}\n",
       "\n",
       "mpl.figure.prototype.request_resize = function(x_pixels, y_pixels) {\n",
       "    // Request matplotlib to resize the figure. Matplotlib will then trigger a resize in the client,\n",
       "    // which will in turn request a refresh of the image.\n",
       "    this.send_message('resize', {'width': x_pixels, 'height': y_pixels});\n",
       "}\n",
       "\n",
       "mpl.figure.prototype.send_message = function(type, properties) {\n",
       "    properties['type'] = type;\n",
       "    properties['figure_id'] = this.id;\n",
       "    this.ws.send(JSON.stringify(properties));\n",
       "}\n",
       "\n",
       "mpl.figure.prototype.send_draw_message = function() {\n",
       "    if (!this.waiting) {\n",
       "        this.waiting = true;\n",
       "        this.ws.send(JSON.stringify({type: \"draw\", figure_id: this.id}));\n",
       "    }\n",
       "}\n",
       "\n",
       "\n",
       "mpl.figure.prototype.handle_save = function(fig, msg) {\n",
       "    var format_dropdown = fig.format_dropdown;\n",
       "    var format = format_dropdown.options[format_dropdown.selectedIndex].value;\n",
       "    fig.ondownload(fig, format);\n",
       "}\n",
       "\n",
       "\n",
       "mpl.figure.prototype.handle_resize = function(fig, msg) {\n",
       "    var size = msg['size'];\n",
       "    if (size[0] != fig.canvas.width || size[1] != fig.canvas.height) {\n",
       "        fig._resize_canvas(size[0], size[1]);\n",
       "        fig.send_message(\"refresh\", {});\n",
       "    };\n",
       "}\n",
       "\n",
       "mpl.figure.prototype.handle_rubberband = function(fig, msg) {\n",
       "    var x0 = msg['x0'] / mpl.ratio;\n",
       "    var y0 = (fig.canvas.height - msg['y0']) / mpl.ratio;\n",
       "    var x1 = msg['x1'] / mpl.ratio;\n",
       "    var y1 = (fig.canvas.height - msg['y1']) / mpl.ratio;\n",
       "    x0 = Math.floor(x0) + 0.5;\n",
       "    y0 = Math.floor(y0) + 0.5;\n",
       "    x1 = Math.floor(x1) + 0.5;\n",
       "    y1 = Math.floor(y1) + 0.5;\n",
       "    var min_x = Math.min(x0, x1);\n",
       "    var min_y = Math.min(y0, y1);\n",
       "    var width = Math.abs(x1 - x0);\n",
       "    var height = Math.abs(y1 - y0);\n",
       "\n",
       "    fig.rubberband_context.clearRect(\n",
       "        0, 0, fig.canvas.width, fig.canvas.height);\n",
       "\n",
       "    fig.rubberband_context.strokeRect(min_x, min_y, width, height);\n",
       "}\n",
       "\n",
       "mpl.figure.prototype.handle_figure_label = function(fig, msg) {\n",
       "    // Updates the figure title.\n",
       "    fig.header.textContent = msg['label'];\n",
       "}\n",
       "\n",
       "mpl.figure.prototype.handle_cursor = function(fig, msg) {\n",
       "    var cursor = msg['cursor'];\n",
       "    switch(cursor)\n",
       "    {\n",
       "    case 0:\n",
       "        cursor = 'pointer';\n",
       "        break;\n",
       "    case 1:\n",
       "        cursor = 'default';\n",
       "        break;\n",
       "    case 2:\n",
       "        cursor = 'crosshair';\n",
       "        break;\n",
       "    case 3:\n",
       "        cursor = 'move';\n",
       "        break;\n",
       "    }\n",
       "    fig.rubberband_canvas.style.cursor = cursor;\n",
       "}\n",
       "\n",
       "mpl.figure.prototype.handle_message = function(fig, msg) {\n",
       "    fig.message.textContent = msg['message'];\n",
       "}\n",
       "\n",
       "mpl.figure.prototype.handle_draw = function(fig, msg) {\n",
       "    // Request the server to send over a new figure.\n",
       "    fig.send_draw_message();\n",
       "}\n",
       "\n",
       "mpl.figure.prototype.handle_image_mode = function(fig, msg) {\n",
       "    fig.image_mode = msg['mode'];\n",
       "}\n",
       "\n",
       "mpl.figure.prototype.updated_canvas_event = function() {\n",
       "    // Called whenever the canvas gets updated.\n",
       "    this.send_message(\"ack\", {});\n",
       "}\n",
       "\n",
       "// A function to construct a web socket function for onmessage handling.\n",
       "// Called in the figure constructor.\n",
       "mpl.figure.prototype._make_on_message_function = function(fig) {\n",
       "    return function socket_on_message(evt) {\n",
       "        if (evt.data instanceof Blob) {\n",
       "            /* FIXME: We get \"Resource interpreted as Image but\n",
       "             * transferred with MIME type text/plain:\" errors on\n",
       "             * Chrome.  But how to set the MIME type?  It doesn't seem\n",
       "             * to be part of the websocket stream */\n",
       "            evt.data.type = \"image/png\";\n",
       "\n",
       "            /* Free the memory for the previous frames */\n",
       "            if (fig.imageObj.src) {\n",
       "                (window.URL || window.webkitURL).revokeObjectURL(\n",
       "                    fig.imageObj.src);\n",
       "            }\n",
       "\n",
       "            fig.imageObj.src = (window.URL || window.webkitURL).createObjectURL(\n",
       "                evt.data);\n",
       "            fig.updated_canvas_event();\n",
       "            fig.waiting = false;\n",
       "            return;\n",
       "        }\n",
       "        else if (typeof evt.data === 'string' && evt.data.slice(0, 21) == \"data:image/png;base64\") {\n",
       "            fig.imageObj.src = evt.data;\n",
       "            fig.updated_canvas_event();\n",
       "            fig.waiting = false;\n",
       "            return;\n",
       "        }\n",
       "\n",
       "        var msg = JSON.parse(evt.data);\n",
       "        var msg_type = msg['type'];\n",
       "\n",
       "        // Call the  \"handle_{type}\" callback, which takes\n",
       "        // the figure and JSON message as its only arguments.\n",
       "        try {\n",
       "            var callback = fig[\"handle_\" + msg_type];\n",
       "        } catch (e) {\n",
       "            console.log(\"No handler for the '\" + msg_type + \"' message type: \", msg);\n",
       "            return;\n",
       "        }\n",
       "\n",
       "        if (callback) {\n",
       "            try {\n",
       "                // console.log(\"Handling '\" + msg_type + \"' message: \", msg);\n",
       "                callback(fig, msg);\n",
       "            } catch (e) {\n",
       "                console.log(\"Exception inside the 'handler_\" + msg_type + \"' callback:\", e, e.stack, msg);\n",
       "            }\n",
       "        }\n",
       "    };\n",
       "}\n",
       "\n",
       "// from http://stackoverflow.com/questions/1114465/getting-mouse-location-in-canvas\n",
       "mpl.findpos = function(e) {\n",
       "    //this section is from http://www.quirksmode.org/js/events_properties.html\n",
       "    var targ;\n",
       "    if (!e)\n",
       "        e = window.event;\n",
       "    if (e.target)\n",
       "        targ = e.target;\n",
       "    else if (e.srcElement)\n",
       "        targ = e.srcElement;\n",
       "    if (targ.nodeType == 3) // defeat Safari bug\n",
       "        targ = targ.parentNode;\n",
       "\n",
       "    // jQuery normalizes the pageX and pageY\n",
       "    // pageX,Y are the mouse positions relative to the document\n",
       "    // offset() returns the position of the element relative to the document\n",
       "    var x = e.pageX - $(targ).offset().left;\n",
       "    var y = e.pageY - $(targ).offset().top;\n",
       "\n",
       "    return {\"x\": x, \"y\": y};\n",
       "};\n",
       "\n",
       "/*\n",
       " * return a copy of an object with only non-object keys\n",
       " * we need this to avoid circular references\n",
       " * http://stackoverflow.com/a/24161582/3208463\n",
       " */\n",
       "function simpleKeys (original) {\n",
       "  return Object.keys(original).reduce(function (obj, key) {\n",
       "    if (typeof original[key] !== 'object')\n",
       "        obj[key] = original[key]\n",
       "    return obj;\n",
       "  }, {});\n",
       "}\n",
       "\n",
       "mpl.figure.prototype.mouse_event = function(event, name) {\n",
       "    var canvas_pos = mpl.findpos(event)\n",
       "\n",
       "    if (name === 'button_press')\n",
       "    {\n",
       "        this.canvas.focus();\n",
       "        this.canvas_div.focus();\n",
       "    }\n",
       "\n",
       "    var x = canvas_pos.x * mpl.ratio;\n",
       "    var y = canvas_pos.y * mpl.ratio;\n",
       "\n",
       "    this.send_message(name, {x: x, y: y, button: event.button,\n",
       "                             step: event.step,\n",
       "                             guiEvent: simpleKeys(event)});\n",
       "\n",
       "    /* This prevents the web browser from automatically changing to\n",
       "     * the text insertion cursor when the button is pressed.  We want\n",
       "     * to control all of the cursor setting manually through the\n",
       "     * 'cursor' event from matplotlib */\n",
       "    event.preventDefault();\n",
       "    return false;\n",
       "}\n",
       "\n",
       "mpl.figure.prototype._key_event_extra = function(event, name) {\n",
       "    // Handle any extra behaviour associated with a key event\n",
       "}\n",
       "\n",
       "mpl.figure.prototype.key_event = function(event, name) {\n",
       "\n",
       "    // Prevent repeat events\n",
       "    if (name == 'key_press')\n",
       "    {\n",
       "        if (event.which === this._key)\n",
       "            return;\n",
       "        else\n",
       "            this._key = event.which;\n",
       "    }\n",
       "    if (name == 'key_release')\n",
       "        this._key = null;\n",
       "\n",
       "    var value = '';\n",
       "    if (event.ctrlKey && event.which != 17)\n",
       "        value += \"ctrl+\";\n",
       "    if (event.altKey && event.which != 18)\n",
       "        value += \"alt+\";\n",
       "    if (event.shiftKey && event.which != 16)\n",
       "        value += \"shift+\";\n",
       "\n",
       "    value += 'k';\n",
       "    value += event.which.toString();\n",
       "\n",
       "    this._key_event_extra(event, name);\n",
       "\n",
       "    this.send_message(name, {key: value,\n",
       "                             guiEvent: simpleKeys(event)});\n",
       "    return false;\n",
       "}\n",
       "\n",
       "mpl.figure.prototype.toolbar_button_onclick = function(name) {\n",
       "    if (name == 'download') {\n",
       "        this.handle_save(this, null);\n",
       "    } else {\n",
       "        this.send_message(\"toolbar_button\", {name: name});\n",
       "    }\n",
       "};\n",
       "\n",
       "mpl.figure.prototype.toolbar_button_onmouseover = function(tooltip) {\n",
       "    this.message.textContent = tooltip;\n",
       "};\n",
       "mpl.toolbar_items = [[\"Home\", \"Reset original view\", \"fa fa-home icon-home\", \"home\"], [\"Back\", \"Back to  previous view\", \"fa fa-arrow-left icon-arrow-left\", \"back\"], [\"Forward\", \"Forward to next view\", \"fa fa-arrow-right icon-arrow-right\", \"forward\"], [\"\", \"\", \"\", \"\"], [\"Pan\", \"Pan axes with left mouse, zoom with right\", \"fa fa-arrows icon-move\", \"pan\"], [\"Zoom\", \"Zoom to rectangle\", \"fa fa-square-o icon-check-empty\", \"zoom\"], [\"\", \"\", \"\", \"\"], [\"Download\", \"Download plot\", \"fa fa-floppy-o icon-save\", \"download\"]];\n",
       "\n",
       "mpl.extensions = [\"eps\", \"jpeg\", \"pdf\", \"png\", \"ps\", \"raw\", \"svg\", \"tif\"];\n",
       "\n",
       "mpl.default_extension = \"png\";var comm_websocket_adapter = function(comm) {\n",
       "    // Create a \"websocket\"-like object which calls the given IPython comm\n",
       "    // object with the appropriate methods. Currently this is a non binary\n",
       "    // socket, so there is still some room for performance tuning.\n",
       "    var ws = {};\n",
       "\n",
       "    ws.close = function() {\n",
       "        comm.close()\n",
       "    };\n",
       "    ws.send = function(m) {\n",
       "        //console.log('sending', m);\n",
       "        comm.send(m);\n",
       "    };\n",
       "    // Register the callback with on_msg.\n",
       "    comm.on_msg(function(msg) {\n",
       "        //console.log('receiving', msg['content']['data'], msg);\n",
       "        // Pass the mpl event to the overriden (by mpl) onmessage function.\n",
       "        ws.onmessage(msg['content']['data'])\n",
       "    });\n",
       "    return ws;\n",
       "}\n",
       "\n",
       "mpl.mpl_figure_comm = function(comm, msg) {\n",
       "    // This is the function which gets called when the mpl process\n",
       "    // starts-up an IPython Comm through the \"matplotlib\" channel.\n",
       "\n",
       "    var id = msg.content.data.id;\n",
       "    // Get hold of the div created by the display call when the Comm\n",
       "    // socket was opened in Python.\n",
       "    var element = $(\"#\" + id);\n",
       "    var ws_proxy = comm_websocket_adapter(comm)\n",
       "\n",
       "    function ondownload(figure, format) {\n",
       "        window.open(figure.imageObj.src);\n",
       "    }\n",
       "\n",
       "    var fig = new mpl.figure(id, ws_proxy,\n",
       "                           ondownload,\n",
       "                           element.get(0));\n",
       "\n",
       "    // Call onopen now - mpl needs it, as it is assuming we've passed it a real\n",
       "    // web socket which is closed, not our websocket->open comm proxy.\n",
       "    ws_proxy.onopen();\n",
       "\n",
       "    fig.parent_element = element.get(0);\n",
       "    fig.cell_info = mpl.find_output_cell(\"<div id='\" + id + \"'></div>\");\n",
       "    if (!fig.cell_info) {\n",
       "        console.error(\"Failed to find cell for figure\", id, fig);\n",
       "        return;\n",
       "    }\n",
       "\n",
       "    var output_index = fig.cell_info[2]\n",
       "    var cell = fig.cell_info[0];\n",
       "\n",
       "};\n",
       "\n",
       "mpl.figure.prototype.handle_close = function(fig, msg) {\n",
       "    var width = fig.canvas.width/mpl.ratio\n",
       "    fig.root.unbind('remove')\n",
       "\n",
       "    // Update the output cell to use the data from the current canvas.\n",
       "    fig.push_to_output();\n",
       "    var dataURL = fig.canvas.toDataURL();\n",
       "    // Re-enable the keyboard manager in IPython - without this line, in FF,\n",
       "    // the notebook keyboard shortcuts fail.\n",
       "    IPython.keyboard_manager.enable()\n",
       "    $(fig.parent_element).html('<img src=\"' + dataURL + '\" width=\"' + width + '\">');\n",
       "    fig.close_ws(fig, msg);\n",
       "}\n",
       "\n",
       "mpl.figure.prototype.close_ws = function(fig, msg){\n",
       "    fig.send_message('closing', msg);\n",
       "    // fig.ws.close()\n",
       "}\n",
       "\n",
       "mpl.figure.prototype.push_to_output = function(remove_interactive) {\n",
       "    // Turn the data on the canvas into data in the output cell.\n",
       "    var width = this.canvas.width/mpl.ratio\n",
       "    var dataURL = this.canvas.toDataURL();\n",
       "    this.cell_info[1]['text/html'] = '<img src=\"' + dataURL + '\" width=\"' + width + '\">';\n",
       "}\n",
       "\n",
       "mpl.figure.prototype.updated_canvas_event = function() {\n",
       "    // Tell IPython that the notebook contents must change.\n",
       "    IPython.notebook.set_dirty(true);\n",
       "    this.send_message(\"ack\", {});\n",
       "    var fig = this;\n",
       "    // Wait a second, then push the new image to the DOM so\n",
       "    // that it is saved nicely (might be nice to debounce this).\n",
       "    setTimeout(function () { fig.push_to_output() }, 1000);\n",
       "}\n",
       "\n",
       "mpl.figure.prototype._init_toolbar = function() {\n",
       "    var fig = this;\n",
       "\n",
       "    var nav_element = $('<div/>')\n",
       "    nav_element.attr('style', 'width: 100%');\n",
       "    this.root.append(nav_element);\n",
       "\n",
       "    // Define a callback function for later on.\n",
       "    function toolbar_event(event) {\n",
       "        return fig.toolbar_button_onclick(event['data']);\n",
       "    }\n",
       "    function toolbar_mouse_event(event) {\n",
       "        return fig.toolbar_button_onmouseover(event['data']);\n",
       "    }\n",
       "\n",
       "    for(var toolbar_ind in mpl.toolbar_items){\n",
       "        var name = mpl.toolbar_items[toolbar_ind][0];\n",
       "        var tooltip = mpl.toolbar_items[toolbar_ind][1];\n",
       "        var image = mpl.toolbar_items[toolbar_ind][2];\n",
       "        var method_name = mpl.toolbar_items[toolbar_ind][3];\n",
       "\n",
       "        if (!name) { continue; };\n",
       "\n",
       "        var button = $('<button class=\"btn btn-default\" href=\"#\" title=\"' + name + '\"><i class=\"fa ' + image + ' fa-lg\"></i></button>');\n",
       "        button.click(method_name, toolbar_event);\n",
       "        button.mouseover(tooltip, toolbar_mouse_event);\n",
       "        nav_element.append(button);\n",
       "    }\n",
       "\n",
       "    // Add the status bar.\n",
       "    var status_bar = $('<span class=\"mpl-message\" style=\"text-align:right; float: right;\"/>');\n",
       "    nav_element.append(status_bar);\n",
       "    this.message = status_bar[0];\n",
       "\n",
       "    // Add the close button to the window.\n",
       "    var buttongrp = $('<div class=\"btn-group inline pull-right\"></div>');\n",
       "    var button = $('<button class=\"btn btn-mini btn-primary\" href=\"#\" title=\"Stop Interaction\"><i class=\"fa fa-power-off icon-remove icon-large\"></i></button>');\n",
       "    button.click(function (evt) { fig.handle_close(fig, {}); } );\n",
       "    button.mouseover('Stop Interaction', toolbar_mouse_event);\n",
       "    buttongrp.append(button);\n",
       "    var titlebar = this.root.find($('.ui-dialog-titlebar'));\n",
       "    titlebar.prepend(buttongrp);\n",
       "}\n",
       "\n",
       "mpl.figure.prototype._root_extra_style = function(el){\n",
       "    var fig = this\n",
       "    el.on(\"remove\", function(){\n",
       "\tfig.close_ws(fig, {});\n",
       "    });\n",
       "}\n",
       "\n",
       "mpl.figure.prototype._canvas_extra_style = function(el){\n",
       "    // this is important to make the div 'focusable\n",
       "    el.attr('tabindex', 0)\n",
       "    // reach out to IPython and tell the keyboard manager to turn it's self\n",
       "    // off when our div gets focus\n",
       "\n",
       "    // location in version 3\n",
       "    if (IPython.notebook.keyboard_manager) {\n",
       "        IPython.notebook.keyboard_manager.register_events(el);\n",
       "    }\n",
       "    else {\n",
       "        // location in version 2\n",
       "        IPython.keyboard_manager.register_events(el);\n",
       "    }\n",
       "\n",
       "}\n",
       "\n",
       "mpl.figure.prototype._key_event_extra = function(event, name) {\n",
       "    var manager = IPython.notebook.keyboard_manager;\n",
       "    if (!manager)\n",
       "        manager = IPython.keyboard_manager;\n",
       "\n",
       "    // Check for shift+enter\n",
       "    if (event.shiftKey && event.which == 13) {\n",
       "        this.canvas_div.blur();\n",
       "        event.shiftKey = false;\n",
       "        // Send a \"J\" for go to next cell\n",
       "        event.which = 74;\n",
       "        event.keyCode = 74;\n",
       "        manager.command_mode();\n",
       "        manager.handle_keydown(event);\n",
       "    }\n",
       "}\n",
       "\n",
       "mpl.figure.prototype.handle_save = function(fig, msg) {\n",
       "    fig.ondownload(fig, null);\n",
       "}\n",
       "\n",
       "\n",
       "mpl.find_output_cell = function(html_output) {\n",
       "    // Return the cell and output element which can be found *uniquely* in the notebook.\n",
       "    // Note - this is a bit hacky, but it is done because the \"notebook_saving.Notebook\"\n",
       "    // IPython event is triggered only after the cells have been serialised, which for\n",
       "    // our purposes (turning an active figure into a static one), is too late.\n",
       "    var cells = IPython.notebook.get_cells();\n",
       "    var ncells = cells.length;\n",
       "    for (var i=0; i<ncells; i++) {\n",
       "        var cell = cells[i];\n",
       "        if (cell.cell_type === 'code'){\n",
       "            for (var j=0; j<cell.output_area.outputs.length; j++) {\n",
       "                var data = cell.output_area.outputs[j];\n",
       "                if (data.data) {\n",
       "                    // IPython >= 3 moved mimebundle to data attribute of output\n",
       "                    data = data.data;\n",
       "                }\n",
       "                if (data['text/html'] == html_output) {\n",
       "                    return [cell, data, j];\n",
       "                }\n",
       "            }\n",
       "        }\n",
       "    }\n",
       "}\n",
       "\n",
       "// Register the function which deals with the matplotlib target/channel.\n",
       "// The kernel may be null if the page has been refreshed.\n",
       "if (IPython.notebook.kernel != null) {\n",
       "    IPython.notebook.kernel.comm_manager.register_target('matplotlib', mpl.mpl_figure_comm);\n",
       "}\n"
      ],
      "text/plain": [
       "<IPython.core.display.Javascript object>"
      ]
     },
     "metadata": {},
     "output_type": "display_data"
    },
    {
     "data": {
      "text/html": [
       "<img src=\"data:image/png;base64,iVBORw0KGgoAAAANSUhEUgAABQAAAAPACAYAAABq3NR5AAAgAElEQVR4nOzde3icV30v+l9baHvY5Tnt2Zezz1NKnDgBAymXTbiEFprQQ9gUCj20pS297LQcaDfd+4C9SeOLCEmacA33QBMoNKQEIqDFFMuyc/Eld9sQKRf5kjgXO1ZiO05s2VYseTSzzh+SohmPNBrJM1oj6fN5nvX0aWbNen+OZ7087zfrXSsCAAAAAAAAAAAAAAAAAAAAAAAAAAAAAAAAAAAAAAAAAAAAAAAAAAAAAAAAAAAAAAAAAAAAAAAAAAAAAAAAAAAAAAAAAAAAAAAAAAAAAAAAAAAAAAAAAAAAAAAAAAAAAAAAAAAAAAAAAAAAAAAAAAAAAAAAAAAAAAAAAAAAAAAAAAAAAAAAAAAAAAAAAAAAAAAAAAAAAAAAAAAAAAAAAAAAAAAAAAAAAAAAAAAAAAAAAAAAAAAAAAAAAAAAAAAAAAAAAAAAAAAAAAAAAAAAAAAAAAAAAAAAAAAAAAAAAAAAAAAAAAAAAAAAAAAAAAAAAAAAAAAAAAAAAAAAAAAAAAAAAAAAAAAAAAAAAAAAAAAAAAAAAAAAAAAAAAAAAAAAAAAAAAAAAAAAAAAAAAAAAAAAAAAAAAAAAAAAAAAAAAAAAAAAAAAAAAAAAAAAAAAAAAAAAAAAAAAAAAAAAAAAAAAAAAAAAAAAAAAAAAAAAAAAAAAAAAAAAAAAAAAAAAAAAAAAAAAAAAAAAAAAAAAAAAAAAAAAAAAAAAAAAAAAAAAAAAAAAAAAAAAAAAAAAAAAAAAAAAAAAAAAAAAAAAAAAAAAAAAAAAAAAAAAAAAAAAAAAAAAAAAAAAAAAAAAAAAAAAAAAAAAAAAAAAAAAAAAAAAAAAAAAAAAAAAAAAAAAAAAAAAAAAAAAAAAAAAAAAAAAAAAAAAAAAAAAAAAAAAAAAAAAAAAAAAAAAAAAAAAAAAAAACApvuFiDhrpJ0SES/QNE3TNE3TNE3TNK3h7ZQYe/7+hQCYQWdFRNI0TdM0TdM0TdM0bcbaWQEwgwSAmqZpmqZpmqZpmjazTQAIzKhTYuQGtHnz5vTYY49pmqZpmqZpmqZpmtbgtnnz5vIA8JSsSQAw77wgRm5Ajz32WAIAAAAa77HHHisPAF+QNQkA5h0BIAAAADSZABDISQAIAAAATSYABHISAAIAAECTCQCBnASAAAAA0GQCQCAnASAAAAA0mQAQyEkACAAAAE0mAARyEgACAABAkwkAgZwEgAAAANBkAkAgJwEgAAAANJkAEMhJAAgAAABNJgAEchIAAgAAQJMJAIGcBIAAAADQZAJAICcBIAAAADSZABDISQAIAAAATSYABHISAAIAAECTCQCBnASAAAAA0GQCQCAnASAAAAA0mQAQyEkACAAAAE0mAARyEgACAABAkwkAgZwEgAAAANBkAkAgJwEgAAAANJkAEBrrP0XEOyLi0ojojIgDMTbBrmnSNf84ItZGxBMRMRARj0bEP0fE66cwxvMi4oKI2BwRT0fE0YjYFhFXRMQLG1jriQSAAAAA0GQCQGisVKNd0+Br/WJE/LjG9YoR8dE6xlkYEdtrjHMoIn6nwbWPEgACAABAkwkAobHKJ9TuGF6Z16wA8LqysddFxLsi4jUR8VcRsbPss/+3xhi/FMMr/Ub7fi0i3hwRZ0fE8og4MvLP+yPi5Q2uP0IACAAAAE0nAITGuiSGXwH+P0f+/wXRnADwt8rG/beI+LkTPv8PEbFr5POnI+KXJxjn4rJxLhjn87MjohBjIWOjCQABAACgyQSA0FwLojkBYMfImEMx8cT947Jr/69xPn9uRBwc+XxrRPzsBONcVTbOq6df8rgEgMC4isVS6h8spGKxNKPfBQCAuUgACM21IBofAP5SDB/2kWL4oJGJ/HxE9I30u32cz99SVtuFNcZ5fVm/y6dRby0CQKBCT29fWtzelRa1daZTLlyVFrV1psXtXamnt6+p3wUAgLlMAAjNtSAaHwC+uWzMpZP0Hd2DsBDDK/7KXVo2Tq0Tg58Tw6cCp4jYOI16axEAAs9a2bUnLVzWkU65cFVVW7isI63s2tOU746ychAAgLlKAAjNtSAaHwD+bdmYvzdJ3y+W9X3pCZ99v+yzifYIHHXPSL/9Uy12EgJAIKU0vHpvogCvPMgrX81XKpXSseND6Y6dT6bTpvjdE69t5SAAAHOZABCaa0E0PgD8ZNmYZ03S9yNlfd96wmd3jfzzo3Vcc1XZOL8whVpfMEk7KwSAQEppcXtXzQBvtJ150Zr0ustvSmd+bM2kod+J7b1fvzPt6zuWSqWxFX6NWDkIAACtTgAIzbUgGh8AfqVszEWT9P3vZX1//4TPekb++d46rtleNs6/n0Ktqd4mAIS5qZ7Xag8cGUhnLF89pTDvZNqrLr0hvffrd6YPf/fudOrS2n1rrRwEAIDZQgAIzbUgGh8AfqNszNMm6ftXZX3/7ITPHhr557vruOa1Mb0bhQAQ5qlar9UWhorpJ48+lT57w470ritvm7Hgb7ptSXt37n+dAABwUgSA0FwLYn6vAPQKMMxDtV6rXXDhqrSobeZW+zWiLWrrdDAIAACzmgAQmmtBzO89ACfjEBCYY+o5zONk2h9dfUdav31f2vzIU+n+3kPp0QNH0we//dO6vjvVPQPL2w33P1EzBHSCMAAArUwACM21IBofAP6PsjFP5hTgH5R95hRgoCHqPczjxHbGio60YJI+E+3HV+8JwvfvGQ4MO+97PF2xdvuk+/+d2H7r0+vS1zY+lJ4+OlhxbScIAwDQ6gSA0FwLovEB4JvLxlw6Sd+1I/0KEfHzJ3x2adk4r68xxnNieJVgioiN06i3FgEgzCE79vZNaZXdWz67IV3esTXd+sCT6djxoZM6kXc6351uWPmiFavTkvbu9MWbdjhBGACAWUEACM21IBofAD4/IgZHxuys0e/nI6JvpN8d43x+XlltF9YY5/Vl/T4+jXprEQDCHPDQ/iPpQ9+9e8pBWv9goWqsnt6+tKS9u2JF3ZL27rpW1E31u81+XdkJwgAAtAoBIDTXgmh8ABgRsTrGVvZNNHH/uOzaF4zz+c9HxKGRz7dGxM9MMM5VZeO8Zvolj0sACLPARPvbPfLk0bS4vWvKr9KOhnPN2lNvKt+dbOXgR77Xnc773MZph4BOEAYAoBUIAKG5FsTUA8Dzy75z8QR9yl8D/lFE/NwJn/+HiNg18vnBiPiVCcYpfw14vJDw7BgOGVNEbKiv/CkRAEILm2h/u5u37ksf+V73SR2q0UrB2GQrB0ulUtr08FPpf37n7nT68qn9mZ0gDABAKxAAQmP9ZgwHeKOt/BTe20747PwJxjg/Jg8AIyK+W9ZvXUS8M4ZPBf7LiNhZ9tlf1xjj+RGxo6zv1RFxbgy/9rssIo6M/PNnIuKVNcaZLgEgtKhaK+NqtRevWD3pisBWfTW2npWD+w8PpM/dsOOkX3UGAICZJACExromxiZUPW0850d9AeD/FhEdNcYuTvL9UadHxAM1xumLiHfUMc50CAChBU1nb7yXfLQzfapzW3r66OBJHeYxGxSLpWdXC07WTl/ekQaOD+UuGQCAeU4ACI11TcxcADjqvRFxQ0Tsi+HDQXZHxHUx/Ppuvf5dRPxdRGyJ4VeG+yNie0R8LiJOmcI4UyUAhBY0ldNxF7V1po+v3poOHBmoGONkDvOYDaby7+i/fuGW1L37YO6SAQCYxwSAQE4CQGgxU1ndtnBZR9p3+Nik4033MI9WNtVVkqcuXZUu+beedHTA68AAAMw8ASCQkwAQWkz/YMH+dnWazj6Jb/jEzWnd9n3PjjFXA1IAAFqLABDISQAILWSwUEyXr+pxwu0UTPSq87/89LH01s9vnPDf3Z9/Y1P64Ld/WnXC8lx5RRoAgNYiAARyEgBCi3j0wNH0zi/fOqXVbEvau3OX3TLGW8l3fKiYrlz3YDpjxeq6/53OhUNSAABoPQJAICcBILSAH969J73sojVTCv8WLuuwWq1OD+0/kv7o6jv8uwUAIBsBIJCTABBm0Imr1I4OFCY8zfa0pR3p1KVWqTVKqVRK12/elU6vc89AqysBAGgkASCQkwAQZkBPb19a3N5Vsd/cX/7T5nT2J24aN3w69zPr0317Dk24v53VadNTLJbSi9vqex3Y/ooAADSSABDISQAITTbVk2ov+H53OjpQebKvk2obwwnLAADkIgAEchIAQhP19PbVHf697KI1XuttsmKx9OxqysnaqUtXpUP9g7lLBgBgjhAAAjkJAKGJJtrf78T2ykvWpl0H+nOXOy/U+3dyyoWr0ls/vzH1Hnwmd8kAAMwBAkAgJwEgNMlUVpvZb27mTGVV5ikXrkpnXXZjuuexg7nLBgBglhMAAjkJAKFJ7DfXuqa6L+OL21anNfc/kbtsAABmMQEgkJMAEJqkWCyl05fXFzJZATjzJjph+aate9O5V6yv+jtasHRV+trGh1Kp5O8JAICpEwACOQkAoQlKpVL6ZOe2uleYLWnvzl3yvDXeCcuH+o+nP776znH/rpb9673p+FBxwu8CAMB4BIBATgJAaLBisZTafnhf3eHfwmUdqae3L3fZnGCwUEwXfL973L+z3/vKbel/fOenFasHF7d3+XsEAGBCAkAgJwEgNFBhqJgWX1//KbMLl3WklV17cpfNBEqlUvrK+gf9fQIAcNIEgEBOAkBokIHCUPrAtVuqQqFTl65Kn79xx7j7zVkxNjusuufx9KIVq63oBABg2gSAQE4CQGiA/sFC+rN/vKsqDDp9eUdadc/jz/azZ9zs9dNdT9cdAtrTEQCAEwkAgZwEgHCSDj1zPL37q7dXhUAvWrE6rdu+L3d5NEixWEovbqsvAHSqMwAAJxIAAjkJAGGKylfxPXlkIL3tC7dUBUAvu2hNuuuhA7lLpYH6Bwt17wV4yoWrUv9gIXfJAAC0EAEgkJMAEOrU09uXFrd3PbuP34vbVqeXXbSmKvh5xSVr0z2PHcxdLg1WLJae/bu3AhAAgKkSAAI5CQChDiu79qSFyzomDX5ec9mNacfew7nLpUkWt9d3wvP7v7Uld6kAALQYASCQkwAQJtHT21d3+PfogaO5y6WJ6v0t/JdLb0i7n+rPXS4AAC1EAAjkJACESdS76uu/f/snuUtlBtS7GvRNn16X9vUdy10uAAAtQgAI5CQAhBrs+8Z4enr70pL27md/G4vaOtMrL1lb9Zs473Mb08H+wdzlAgDQAgSAQE4CQKjBya/UUn4i9MH+wfTWz2+s+k2888rb0pEBvwsAgPlOAAjkJACEGqwAZCr2HT6W3vTpdVW/jT/52p3p2PGh3OUBAJCRABDISQAINRSLpfQbn7y5rgBwSXt37nJpAbuf6k+v//hNVb+P912zJR0fKuYuDwCATASAQE4CQKjhk53b6gr/Fi7rSD29fbnLpUU8uO9IetWlN1T9Tj703butEgUAmKcEgEBOAkCYwHV37ao7/FvZtSd3ubSY+/YcSmdetKbq97Lih/emUqlUsX8gAABznwAQyEkACONYt31fOm1ZR0Vwc+rSVelPv35XxcmvS9q7rfxjQpsfeSq9uG31OKcDb6j4HS1u7/I7AgCY4wSAQE4CQDjBfXsOpZd8tPrgj+s370opJSu3mJL12/el05d3WEkKADDPCQCBnASAUKb34DPptZffWBXOfGbN9tylMYutuufxtMBekgAA85oAEMhJAAgj+o4dT+d9buO4BzeUSlb7cXLe/ZXbnSYNADCPCQCBnASAkFI6PlRMf/r1u6rCmPdcdUcaKAzlLo9ZrlgsPbvn32RtUVun18sBAOYgASCQkwCQea9UKqWPfK+7Koh58xXr06H+47nLYw7oHyzUFf6Ntv7BQu6SAQBoMAEgkJMAkHlr9DCPL9y4oyqAefXf35B2P9Wfu0TmCCsAAQAQAAI5CQCZd3p6+9Li9q4JA5lFbZ2pe/fB3GUyxyxu77IHIADAPCYABHISADKvrOzakxYu66gZwNzQszd3mcxBPb19k/72TrlwVfrnOx7NXSoAAE0gAARyEgAyb9QTwJy6dFXq6e3LXSpzVD0B9CsuWev1cwCAOUgACOQkAGTe8AomraCnty8tae9+9hX005dXB4Jv+8It6ZlBp08DAMwlAkAgJwEg84JDGGg1o4fQDA0V0weu3VL1O1x8fVcqlfwOAQDmCgEgkJMAkHmhf7BQV/g32voHC7lLZh45fOx4evMV66t+h/9028O5SwMAoEEEgEBOAkDmhWKxlF60YrUVgLSsB/cdSS+7aE3Fb3Hhso606eGncpcGAEADCACBnASAzAtPHR1ML26rLwC0ByC5rLn/iarf46v//sb0xKFjuUsDAOAkCQCBnASAzHnFYin95T9triv8W7iswynAZPWZNdurfpe/95Xb0kDBoSAAALOZABDISQDInHf1xp11h38ru/bkLpd5bqhYSn/+jU1Vv88VP7w3d2kAAJwEASCQkwCQOe2nu55OC5d1VAQpr7h4bfrgdT999lTgRW2daUl7t5V/tIyD/YPpNz91c1UI2L5l97OnB9unEgBgdhEAAjkJAJmzDvUfT2/4RGWIsmDpqnTbg0+mlJIghZbW09tXtW/lqUtXPXuYzaK2zrS4vUtwDQAwSwgAgZwEgMxJpVIpvf9bW6pWUH127fbcpUHdfnj3Hq+uAwDMEQJAICcBIHPSN297uCoo+cOr7kiFoWLu0mBK/r/v3u3wGgCAOUAACOQkAGTOueexg+n05ZX7/r3q0hvSE4eO5S4NpuzD13fVdYjNkvbu3KUCAFCDABDISQDInNJ37Hh646fWVYUj67fvy10aTFmxWHr2sJrJ2qK2TvtZAgC0MAEgkJMAkDmjVCqlD377p1XByCdWb8tdGkxL/2ChrvBvtPUPFnKXDADABASAQE4CQOaMf77z0apA5N1fvT0dt+8fs5QVgAAAc4cAEMhJAMisViyWUv9gId2752A6Y8XqikDk5RevTXsOPpO7RDgpi9vtAQgAMBcIAIGcBIDMSj29fWlxe9ezq6MWjBOI3NCzN3eZcNJ6evvSwmUdkwaAtz6wP3epAADUIAAEchIAMuus7NozaSBy6Y97cpcJDVPPb/78b25KpZJXgAEAWpUAEMhJAMisUu9qqO7dB3OXCg3V09uXlrR3P7vq9bSl1fPgO5t25S4TAIAJCACBnASAzCr2Q2O+G9338sCRgXTWZTdW/O5f8tHO9OiBo7lLBABgHAJAICcBILOGE1Gh0rpt+6p++7//1dvTkN8+AEDLEQACOQkAmTX6Bwt1hX+jrX+wkLtkaLql/3Jv1W//q+t35i4LAIATCACBnASAzBpWAEK1owOF9MZPrav4/Z++vCNtfbwvd2kAAJQRAELzvDAiroiIbRHRHxFPR8TmiPhIRDzvJMZdEGOTtt726ARjbZjCGM0gAGRW+fD19gCEE2155Kl06tLKOfDWz29MA4Wh3KUBADBCAAjN8faIOBQTh2nbI+K0aY69oMa4E7W1E4y1YQpjNIMAkFnlopX3TRr+LVzWkXp6rX5ifvlk57aqufCJ1dtylwUAwAgBIDTeK2J4xV+KiCMRsTwizo6IN0fE12Jswm2LiF+axvjPjYgz62jXlV3rvROMtWHk8y11jNcMAkBmjQf2Hk5nLF89afi3smtP7lJhxg0UhtJbP7+xYj4sWLoqbX7kqdylAQCQBIDQDOtjeEIVYjj4O9EFMTbpLmpSDT8XEb0j1zgcE79yvGGkz4Ym1TEZASCzwlCxlN515W1Vgd+LVqx+ds+/Je3dVv4xr219vK8qJP/NT92cjgw4EAcAIDcBIDTWa2JsQl01QZ+fjYitI32ejuEVfY321rI6vlmj34YQAMKkvn7LQ1Xh38c7tqZisZT6BwsO/IAR/7BhZ9VcWfov9+QuCwBg3hMAQmNdHmMT6nU1+i0t6/eWJtRR/vrvb9XotyEEgFDTw08efXal32g75zPr07HjDjiAEw0VS+kP/uH2qhDw5m17BeYAABkJAKGxbonhyXQ0Ip5To9/ZMTbxLmlwDc+PsT0IH42In6nRd0MIAGFCxWIp/eFVd9jXDKZg14H+9NKPdla9Lv/itrFX5he3d3llHgBgBgkAobGejOHJ1D1Jv1+JsYn3vQbX8JdlY186Sd8NI/32xvBBIEciYiAi9kTEjyLiL6I5ryiPEgDS0q6945GqlUwf+9H9ucuClvfdTbvqOjHboTkAADNDAAiN84sxNplW1dH/6EjfOxtcx+ghJCkiTp+k74ayvhO1noh4yTRrecEk7awQANKiHnu6ehXTb3zy5nTUgQYwqVKplP5wnFeBxwsBrQQEAGg+ASA0zn+Mscl0fR399430va+BNbwwIkoj495eR/91EXFTRCyJiN+OiFdGxBsj4kMxdlDJ6ArBF06jnsnCxWebAJBWUiqV0p/9411VYcVtDz6ZuzSYNf77t38yaQB4yoWr0pL27tylAgDMeQJAaJxfi7HJdG0d/XeP9N3ZwBqWl9Xw13X0/+Uanz03Iq4pG+9fp1GPAJBZqX3LbieZwkkoFktpUVtnXQHgorZOB4MAADSZABAapxVWAG4bGXMgaod79XpO2ZgpIn51it/3CjCzzt6+Y+nMj62pCChed/lNqe/Y8dylwazRP1ioK/wbbf2DXq0HAGgmASA0Tu49AF9bdv1GHizykbJx39vAcSMcAkKLKZVK6X3XbK4KJ27etjd3aTCrWAEIANBaBIDQWDlPAb6ybMx3NGjMiIjfKRv3ggaOGyEApMWs7NpTFU4svr4rd1kwKy1u77IHIABAixAAQmPdEsOT6WgMvz47kbNjbOJd0oDrPjfGwsd9k1x7qt4eAkDmgSePDKRXXrK2Iph49d/fmA72D+YuDWalnt6+tHBZR83w7zSnAAMAzAgBIDTWx2NsQr2uRr+lZf3Oa8B1f69svM83YLxyF5SN/acNHlsASHbFYin1DxbGPbG0877Hc5cHs9rKrj01Q8Df+vQ6r/8CAMwAASA0Vvk+fFdN0OdnI2LrSJ+DMbx672T9a9l1X9mA8UadeAjIrzVw7AgBIBn19Palxe1dE+5T9sFv/zR3iTAn9PT2pSXt3RPOte9s2pW7RACAOU8ACI03+hpwIYZf9T1R+Yq6i8f5/Jyyz6+p43r/R0QMjvS/dwp1nhu1Twp+7sj1R2v5tymMXS8BIFlMtirppR/tTPsPD+QuE+aUYrGUnjo6kN70qZsr5tvLL16bnjxivgEANJMAEBrvVRHxTAxPqiMRsSwiXh/DgdvVMTbhdkTE88f5/jkxtQDwg2X9/9cU6rxmpL7rIuL9EfGmGF49+JsR8aEYW6U4uq/gqVMYu14CQGZcPfuSnbp0lX3JoElueWB/9WE77Q7bAQBoJgEgNMfvRkRfjE2uE9uOiDh9gu+eE1MLAO8a6TsUEf95CjVeU6O+8nZvRLx0CuNOhQCQGedkUsjvf37n7qo5d8fOA7nLAgCYswSA0DynRMTnYjjs64/h/f62RMTfRcTzanzvnKg/ADyjrG/nFOt7SUR8OCLaI+K+iNgbEcdjeFXgzoi4PiL+ICJ+borjToUAkBlVLJYm3IfsxLaordPhBNAk+w4fS2detKZizr35ivVpsFDMXRoAwJwkAARyEgAyo/oHC3WFf6Otf7CQu2SYs751xyNVc+7KdQ/mLgsAYE4SAAI5CQCZUVYAQusYKpbS73751op596IVq9OuA/25SwMAmHMEgEBOAkBmnD0AoXXc+9ihdOrSyrn33765KZVKwncAgEYSAAI5CQCZcd/dtGvS8G/hsg6nAMMM+diP7q+ag6vvfTx3WQAAc4oAEMhJAMiMKgwV03mf2zhp+Leya0/uUmHe6Dt2PL3mshsr5uHrLr8pHRmwBycAQKMIAIGcBIDMqG/e9nBV4Hf68o5n9/xb0t5t5R9k8ON7eqvm5qU/7sldFgDAnCEABHISADJjnjwykM782JqKgOFtX7glHS8UU/9gwYEfkFGpVEp//o1NFfPz1KWr0n17DuUuDQBgThAAAjkJAJkxF3y/u2qF0ZZHnspdFjDikSePpjNWrK6Yo++88rY0JJwHADhpAkAgJwEgM+LuXU9XhX8fvr4rd1nACb540wNVc/VbdzxilS4AwEkSAAI5CQBpumKxlH73y7dWBAov/Whn2td3LHdpwAkGCkPp3M+sH/eAnkVtnWlxe5d9OgEApkEACOQkAKTpvrtpV1WQcPXGnbnLAiZw+4NPOqkbAKDBBIBATgJAmupQ//H0qktvqAgPzr1ifRosFHOXBkygp7cvLagRAI6GgFYCAgDUTwAI5CQApKkuWnlfVXCwccf+3GUBNSxu76oZ/o22Je3duUsFAJg1BIBATgJAmmbr433p1KWVgcEHrt2SuyyghmKxlBa1ddYVAC5q63QwCABAnQSAQE4CQJqiVCqlP/yHOyrCghetWJ12P9WfuzSghv7BQl3h32jrHyzkLhkAYFYQAAI5CQBpipVde6qCgs/fuCN3WcAkrAAEAGgOASCQkwCQhjs6UEivvfzGiqDgNz55czp2fCh3aUAd7AEIANB4AkAgJwEgDfeJ1duqgoI19z+RuyygTj29fWnhso6a4d+CC1c5BRgAYAoEgEBOAkAaplgspft6D6WFyyqDgj//xqZUKnlNEGaTlV17Jg0Bb9/5ZO4yAQBmDQEgkJMAkJPW09uXFrd3jbtv2OnLO9LO/UdylwhMQ09vX1rS3j3hnoBv+8ItacgegAAAdREAAjkJADkpk60S+qtrNucuEThJxWIp9Q8W0rV3PlI1x7+3ZXfu8gAAZgUBIJCTAJBpq2efsIXLOuwTBnNEYaiY3vK5DRVz/DWX3Zj6Bwu5SwMAaHkCQCAnASDT5qRQmH/Wb99XNcc/d8OO3GUBALQ8ASCQkwCQaSkWSxPuC3ZiW9TWmYr2CYM548+/salijr+4bXV64tCx3GUBAKq6qpwAACAASURBVLQ0ASCQkwCQaekfLNQV/o02rwjC3LH9icPp1KVW+gIATIUAEMhJAMi0WAEI89uyf723aq7ft+dQ7rIAAFqWABDISQDItNkDEOav/YcH0ssuWlMx1//o6jtSqSTsBwAYjwAQyEkAyLRdv3nXpOGfU4Bh7vrK+ger5vza+5/IXRYAQEsSAAI5CQCZllKplN555W2Thn8ru/bkLhVokmPHh9IbPnFzxbw/5zPr02ChmLs0AICWIwAEchIAMi2r7nm8KvA7fXnHs3v+LWnvtvIP5oEfdfdW3Qu+cevDucsCAGg5AkAgJwEgUzZYKKbf+vS6qlU/A8eHUv9gwYEfMI+USqX0e1+pXA388ovXpoP9g7lLAwBoKQJAICcBIFN2ze2PVK346bj38dxlAZn85NGnqu4Jl/xbT+6yAABaigAQyEkAyJQcPnY8/ZdLb6h40H/Xlbc5+RPmuQ9e99OqPUAf2n8kd1kAAC1DAAjkJABkSj67dnvVSp9NDz+Vuywgs91P9aczlq+uuDe8/1tbcpcFANAyBIBATgJA6rav71ha1NZZ8YD/vms25y4LaBEfX7216j8Q3Pbgk/YGBQBIAkAgLwEgdVv6L/dWPNifunRVemDv4dxlAS2i79jx9KoTtghYsHTVs6eDL27vcjo4ADBvCQCBnASA1OXBfUfSacs6Kh7sL/zBPbnLAlrMtXc+WrUK8MS9AVd27cldJgDAjBMAAjkJAKnL+7+1peIh/sVtq9PevmO5ywJazL2PHawZAI6GgFYCAgDzjQAQyEkAyKS2PPJU1QP8p9dsy10W0IIWt3dNGgCecuGqtKS9O3epAAAzSgAI5CQApKZSqZTe/dXbKx7cX3XpDanv2PHcpQEtplgsVR0UNFFb1NbpYBAAYF4RAAI5CQCpqfO+J6oe3L9528O5ywJaUP9goa7wb7T1DxZylwwAMGMEgEBOAkAmVBgqpnOvWF/xwP7GT61Lg4Vi7tKAFmQFIADAxASAQE4CQCb07buqT/P8UXdv7rKAFmYPQACA8QkAgZwEgIzr6EAhnXXZjRUP7L/75Vut2AFq6untSwuXddQM/05zCjAAMA8JAIGcBICM6ws3PlD10H77zidzlwXMAiu79tQMAf/gH27PXSIAwIwTAAI5CQCpUCyW0u6n+tNL2lZXPLD/t29uyl0aMIv09PalJe3d4+4JuGDpqvTA3sO5SwQAmFECQCAnASAppeGH9cXtXRM+rG993Ot6wNQVi6X02Dj/UeFv/vknuUsDAJhRAkAgJwEgk76u94dX3ZG7RGCW++za7VX3lnsfO5S7LACAGSMABHISAM5zNuwHZkLfsePp5Revrbi3/MU3bC0AAMwfAkAgJwHgPLe4vatm+DfalrR35y4VmOW+un5n1b1l08NP5S4LAGBGCACBnASA81ixWBp3z7/x2qK2zlQslnKXDMxi/YOFdNZlN1adCFwqubcAAHOfABDISQA4j/UPFuoK/0Zb/2Ahd8nALHfN7Y9U3VvWb9+XuywAgKYTAAI5CQDnMSsAgZk2UBhKb/jEzRX3l7d/6RarAAGAOU8ACOQkAJzn7AEIzLT2Lbur7jGr7308d1kAAE0lAARyEgDOc/f3HkoLJgn/FjoFGGigwlAxnXvF+or7zG9/dkMassoYAJjDBIBATgLAeW7jjv2Thn8ru/bkLhOYY1bd83jV/eYHP/G/QwDA3CUABHISAM5jpVIpvevK2yoewEdXAy5q60xL2rut/AOaolgspbd94ZaK+89vfPLmNFgo5i4NAKApBIBATgLAeWzdtn1VK3C+u2lX6h8sOPADaLrx7kHX3vlo7rIAAJpCAAjkJACcp0qlUnrHl26tePB+06fXpeNDVt8AM6NUKqV3f/X2ivvQay67MT0zOJS7NACAhhMAAjkJAOepG3r22n8LyO7Ohw5U3Yuu3rgzd1kAAA0nAARyEgDOQ8ViKf3XE/beOvcz61PB6j8ggz/7x7sq7kevuGRtOnzseO6yAAAaSgAI5CQAnIc676s+fdNJv0Au3bsPVt2TPrt2u/1IAYA5RQAI5CQAnGeKxVI673MbKx60f/uzG9KQh2wgo/d/a0tVCDh6Ivni9i4nkgMAs54AEJrjhRFxRURsi4j+iHg6IjZHxEci4nknOfb5MTZpJ2vn1zHe8yLigpH6no6IoyN1XzHy52gmAeA88+N7eqsesH98T2/usoB5bvsTh8cNAEfbwmUdVioDALOaABAa7+0RcSgmDuW2R8RpJzH++TXGnmoAuHCknom+fygifuckap2MAHAeGSqW0m9/dkPFQ/V5n9voFTsgu57evrSgRgA4GgJaCQgAzFYCQGisV8Twir8UEUciYnlEnB0Rb46Ir8XYZNsWEb80zWucXzbOeRFxZo32yzXG+aWROkbH+tpInWeP1H1k5J/3R8TLp1nrZASA88jKrj1VD9Sd9z2euyyAtLi9q2b4N9qWtHfnLhUAYFoEgNBY62N4MhViOEg70QUxNuEumuY1zi8bY8E0x4iIuLhsnAvG+fzsGP5zpIhYdxLXqUUAOE8Uhorp3M+sr3iQftsXbrH6D8iuWCylRW2ddQWAi9o63bcAgFlJAAiN85oYm0xXTdDnZyNi60ifpyPiudO4zvlx8gHgcyPi4MgYW0fqGs9VZdd69TSvVYsAcJ74wU8eq3qQvqFnb+6yAFL/YKGu8G+09Q8WcpcMADBlAkBonMtjbDK9rka/pWX93jKN65wfJx8AvqVsjAtr9Ht9Wb/Lp3mtWgSA88DxoWJ606fXVTxAv+NLt6ZSySoaID8rAAGA+UAACI1zSwxPpKMR8Zwa/c6OsUl3yTSuc36cfAB4adkYr6/R7zkx/OdJEbFxmteqRQA4D7Rv3l31EL1u277cZQE8yx6AAMBcJwCExnkyhidS9yT9fiXGJt33pnGd88u+vyEi9kXE8Yg4EBF3RcRlEfGrk4zx/bIxah0UEhFxz0i//dOodTICwDlusFBMv/HJmyseoN915W1W/wEtpae3Ly1c1lEz/DvNKcAAwCwmAITG+MUYm0ir6ug/uqruzmlc6/yya03UjkXEX9cY464YW604mVVl4/7CFGt9wSTtrBAAzmnX3bWr6iF64479ucsCqLKya0/NEPAvvnFX7hIBAKZNAAiN8R9jbCJdX0f/fSN975vGtc6PiIci4jMR8e4YPnzkNRHxRzG8orBUVssHJhijZ+TzvXVcr71svH8/xVonCyqfbQLAuWegMJTO/vhNFQ/Qv//V263+A1pWT29fWtLePe6egC9asTrtO3wsd4kAANMiAITG+LUYm0jX1tF/90jfndO41v8eET9T4/N3xPArwSki+iPiP4/T56GRz3fXcb1rY/o3CQHgPPatOx6peoC+/cEnc5cFMKlisZQe2Hs4nba08h522aqe3KUBAEyLABAaYyZXANZjRVk9K8b5fKZWAHoFeJ7qHyik11x2Q8WD83uuusPqP2BWufAH91SdAnzgyEDusgAApkwACI0xk3sA1uM/xdirwDeM8/lM7QE4GYeAzDE9vX1pcXtXOn159T5adz50IHd5AFOy60B/Ou2EfQE/2bktd1kAAFMmAITGmalTgOu1f+QaPeN89oOyGpwCTEPU2kB/wYWr0squPblLBJiyJe3dFfezl360Mz19dDB3WQAAUyIAhMa5JcZW1T2nRr+zY2zSXdLEekYDyfECwEvLanh9jTGeE2OrFTc2usAQAM4ZPb19NU/PPOXCVWnhso7U09uXu1SAKXlo/5F06gl7AV6xdnvusgAApkQACI3z8RibTK+r0W9pWb/zmlRL+SvAN47z+XllNVxYY5zXl/X7eINrjBAAzhmL27tqhn+jbUl7d+5SAabsQ9+9u+JeduZFa9KhZ47nLgsAoG4CQGic18bYZLpqgj4/GxFbR/ocjIjnNqmWtrJa2sb5/Ocj4tDI51tj4lOFryob5zWNL1MAOBcUi6W0qK2zrgBwUVtnKhYdBALMLg/uO5wWnLAK8As3PpC7LACAugkAobFGXwMuxPCrvie6IMYm3MXjfH5O2efXjPP5goh41SQ1vCMiBkfGOBYRvzpBv/LXgC8Y5/OzY/jPkSJiwyTXnC4B4BzQP1ioK/wbbf2DhdwlA0zZB6/7acW97Nc/tiYdPmYVIAAwOwgAobFeFRHPxPCEOhIRy2L4NdpzI+LqGJtsOyLi+eN8/5yoHQCOfn7HyNhvi4hXR8RZEfGeGD5UpFQ2xt/WqPX5I3WM9r16pM7Xj4x9ZOSfPxMRr5zkzz1dAsA5wApAYD7Y9kRf1T3tynUP5i4LAKAuAkBovN+NiL4Ym1gnth0RcfoE3z0n6gsAJ2v9EfGBOmo9PSIeqDFOXwyvKGwWAeAc8eHr7QEIzH0fuHZLxT3tlZesTUcHrGoGAFqfABCa45SI+FwMh339Mbzf35aI+LuIeF6N750TtQPA50fEn0bElRFxV0TsGhl/MCL2RsTNEbE8hg8Bqde/G6lry0id/RGxfaT+U6YwznQIAOeIL930wKThn1OAgdnuvj2Hqu5tV23YmbssAIBJCQCBnASAc0CxWEpvvmL9pOHfyq49uUsFOGnvu2Zzxf3t1X9/Q3pmcCh3WQAANQkAgZwEgHNAx72PVwV+Z6xY/eyef0vau638A+aM7t0Hq+55/3jrw7nLAgCoSQAI5CQAnOVKpVL6nS/eUvEg/NbPb0xDQ8XUP1hw4AcwJ/3FNzZV3PfOuuzGdOy4VYAAQOsSAAI5CQBnuXXb9lWthPnxPb25ywJoqp88+nTVve+a2x/JXRYAwIQEgEBOAsBZrFQqpXd/9faKB+Bzr1ifhqz6A+aBP/36XRX3v9d//KY0ULAKEABoTQJAICcB4Cx2x84DVStgvrdld+6yAGbEpoefqroHfvuuR3OXBQAwLgEgkJMAcBZ779fvrHjwfcMnbk7Hh4q5ywKYMe+56g73QQBgVhAAAjkJAGepu3dV73917R2P5C4LYEbd/uCTVffC727a5RAkAKDlCACBnASAs9T7rtnsBExg3iuVSun3T9gLdcHI/13U1pkWt3elnt6+3GUCAAgAgawEgLPQ1sf7qla8XL1xZ+6yALLYuGN/1T2xvC1c1pFWdu3JXSYAMM8JAIGcBICz0N9e99OKh9tXXLI2HR0o5C4LIIv7ew/VDABHQ0ArAQGAnASAQE4CwFnmof1H0oKllQ+2X7zpgdxlAWSzuL1r0gDwlAtXpSXt3blLBQDmMQEgkJMAcJb5yPe6Kx5oX3bRmnSo/3jusgCyKBZLaVFbZ10B4KK2TgeDAADZCACBnASAs8hjT/enhcs6Kh5oP9m5LXdZANn0DxbqCv9GW/+g7RIAgDwEgEBOAsBZ5KMr76t4kH1x2+r05JGB3GUBZGMFIAAwWwgAgZwEgLPEvsPH0hkrVlc8zH7sR/fnLgsgO3sAAgCzgQAQyEkAOEtc3rG14kH29OUd6fFDz+QuCyC7nt6+qu0RnAIMALQaASCQkwBwFnj66GB6yUcrX3G78Af35C4LoGWs7NpTMwT86voHc5cIAMxzAkAgJwHgLPDZG3ZUPMieunRVeuTJo7nLAmgpPb19aUl797h7Av5/3707d3kAwDwnAARyEgC2uMPHjqdf/9gaD7IAdSoWS+mKtdur/sPJrgP9uUsDAOYxASCQkwCwhRWLpfSFGx+oWsmyY+/h3KUBtLSD/dVbJ7T98L7cZQEA85gAEMhJANiCenr70uL2rnFfY/vAtVtylwcwK/z9j3sq7p8vWrE67T88kLssAGCeEgACOQkAW8xkG9l/+WYb2QPU4/FDz6TTl1feTz+9ZlvusgCAeUoACOQkAGwhPb19NcO/Uy5clRYu60g9vX25SwWYFS74fnfFPfTXP7YmHT52PHdZAMA8JAAEchIAtpDF7V01w7/RtqS9O3epALPCg/uOpAVLK++hV2/cmbssAGAeEgACOQkAW0SxWBp3z7/x2qK2zlQslnKXDDAr/PW1P6m4h77mshvTQGEod1kAwDwjAARyEgC2iP7BQl3h32jrHyzkLhlgVujafbDqHvrdTbtylwUAzDMCQCAnAWCLsAIQoHn+5Gt3VtxHz/nM+jTkPgoAzCABIJCTALCF2AMQoDk27thfdS/tuPfx3GUBAPOIABDISQDYQnp6+9KCScI/pwADTF2pVEq/88VbKu6n7/jSralUsgoQAJgZAkAgJwFgC9mx9/Ck4d/Krj25ywSYlX58T2/VffXWB57MXRYAME8IAIGcBIAt5H99r3vCPf+WtHdb+QdwEoaKpfSmT6+ruL++9+t35i4LAJgnBIBATgLAFvH4oWfS6cs7Kh5Mr1i7PfUPFhz4AdAg1921q+o/snTvPpi7LABgHhAAAjkJAFvE5R1bKx5IX7RidTpwZCB3WQBzyrHjQ+msy26suN/+zT//JHdZAMA8IAAEchIAtoBDzxxPL7toTcUDadsP78tdFsCc9A8bdlbcbxcsXZV27j+SuywAYI4TAAI5CQBbwFfXVz6Mnrp0VXr0wNHcZQHMSYePHU9nfqzyP7r83ffvyV0WADDHCQCBnASAmQ0Uql9H++B1P81dFsCc9qnObRX33dOXd6QnDh3LXRYAMIcJAIGcBICZXb+5ekP6ex6zIT1AM+0/PJDOWLG64t572aqe3GUBAHOYABDISQCYUbFYSudesb7iAfRPvnZn7rIA5oUVP7y34v77krbV6fGDzzh5HQBoCgEgkJMAMKO19z9Rtfpvw479ucsCmBd2HehPpy5dVXUfXtTWmRa3d6We3r7cJQIAc4gAEMhJAJjRu796e8VD51s/vzGVSlaeAMyU/+crt1UFgKNt4bKOtLJrT+4SAYA5QgAI5CQAzGTLI09VPWz+8G4PmgAzpae3L522rGPCAHA0BLQSEABoBAEgkJMAMJP3XbOl4iHzDZ+4OR0fKuYuC2DeWNzeVTP8G21L2rtzlwoAzAECQCAnAWAGD+47XPWA+Y1bH85dFsC8USyW0qK2zroCwEVtnQ4GAQBOmgAQyEkAmMEF3++ueLh8+cVr09GBQu6yAOaN/sFCXeHfaOsfdI8GAE6OABDISQA4w/b2HUunL6/cc+qKtdtzlwUwr1gBCADMNAEgkJMAcIZ9fPXWigfLM1asTk8eGchdFsC8Yw9AAGAmCQCBnASAM6jv2PF05kVrKh4sl//rvbnLApiXenr70sJJTgE+zSnAAECDCACBnASAM+iqDTsrHiwXLF2VHnnyaO6yAOatlV17aoaAf3TVHblLBADmCAEgkJMAcIYMFIbSay+/seLB8m/++Se5ywKY93p6+9KS9u5x9wQ8Y/nqtK/vWO4SAYA5QAAI5CQAnCHtW3ZXPVjevevp3GUBMKJYLKVdB/qrDmr69JptuUsDAOYAASCQkwBwBhQKxXTuFesrHijf47UygJZ04Q/uqbhfv/zital/sJC7LABglhMAAjkJAJuop7cvLW7vSmesWF21+m/dtn25ywNgHA/uO1x1z77m9kdylwUAzHICQCAnAWCTTLax/Mq79+QuEYAJ/NU/ba64Z7/xU+vSULGUuywAYBYTAAI5CQCboKe3r2b4d8qFq9LCZR2pp7cvd6kAjOOOnQeq7tur7308d1kAwCwmAARyEgA2weL2rprh32hb0t6du1QAxlEqldI7vnRrxT37XVfelkolqwABgOkRAAI5CQAbrFgspUVtnXUFgIvaOlPRK2UALelH3b1V9+0tjzyVuywAYJYSAAI5CQAbrH+wUFf4N9qcLAnQmgpDxfSGT9xccc9+/7e25C4LAJilBIBATgLABrMCEGDu+PotD1XctxcsXZUefvJo7rIAgFlIAAjkJABsAnsAAswNRwYK6cyPram4d6/44b25ywIAZiEBIJCTALAJunY9PWn45xRggNnh46u3Vty/X7RidXrq6GDusgCAWUYACOQkAGyC9i27Jw3/VnbtyV0mAHV44tCxtHBZR8V9/Is3PZC7LABglhEAAjkJABusVCql8z63seJB8dSlY3v+LWnvtvIPYJZZfH3l1g7/5dIb0rHjQ7nLAgBmEQEgNM8LI+KKiNgWEf0R8XREbI6Ij0TE805y7F+MiHdFxJcjYtPI2IWR/3tnRFwcEf9XHeNsiLEbwGStGQSADbZxx/6qFX83bn0i9Q8WHPgBMEv19PZV3du/s2lX7rIAgFlEAAjN8faIOBQTh2nbI+K0aY798og4XGPs0XY4It4zyVgb6hhHADiL/Pk3NlU8IL75ivWCP4A54M/+8a6K+/u57u8AwBQIAKHxXhHDK/5SRByJiOURcXZEvDkivhZjE25bRPzSNMb/zbIxbouIpRHxf0fEqyLivIi4KiKGRj4fioi31Rhrw0i/LRFx5iStGQSADbT9icNVK0Suu8sKEYC5YMM4K7xv2ro3d1kAwCwhAITGWx/DE6oQw8HfiS6IsUl30TTGf0NEtEfES2v0eVdElEausTMifmaCfhtG+myYRh2NIABsoAu+313xYPgqe0QBzBnj7fH6nqvuyF0WADBLCAChsV4TYxPqqgn6/GxEbB3p83REPLdJtfygrJZXTdBnQwgA54T9hwfSGctXVzwYfvaGHbnLAqCBvv+Tx6pWAd7z2MHcZQEAs4AAEBrr8hibUK+r0W9pWb+3NKmWvy27xh9M0GdDCADnhM+u3V7xQHjGitVp/+GB3GUB0ECDhWJ67eU3Vtzv/8d37s5dFgAwCwgAobFuieHJdDQinlOj39kxNvEuaVItS8qu8e4J+mwIAeCsd+z4UHrlJWsrHgj/7vv35C4LgCb4yvoHK+73py3rSLuf6s9dFgDQ4gSA0FhPxvBk6p6k36/E2MT7XpNq+VHZNSbaL3DDyOd7Y/ggkCMRMRARe0a+/xfRvFeUIwSADfHtux6teiVsx97DucsCoAkO9R9PL/loZ8U9/+If3Z/6BwtOBQYAJiQAhMb5xRibTKvq6H90pO+dTajlFTF2EvD9NfptiLGaJ2o9EfGSadbxgknaWSEAPCnFYimde8X6igfBv/jGptxlAdBEF//b/VX/4eeUC1elRW2daXF7V+rp7ctdIgDQYgSA0Dj/McYm0/V19N830ve+BtfxCzG8mm+0lnfW6LsuIm6K4deFfzsiXhkRb4yID8XYQSWjKwRfOI1aJgsXn20CwOm5edveqgfAWx7Yn7ssAJpo91P9acE4AeBoW7isI63s2pO7TACghQgAoXF+LcYm07V19N890ndng+v4elkd10zS95drfPbcke+PjvWv06hFANhkf3z1nRUPfW/9/MZUKnkFDGAu6+ntqxkAjoaAVgICAKMEgNA4rbACcFlZDT+JiH93kuM9JyK2lY35q1P8vleAm+i+PYeqHvi+t2V37rIAaLLF7V01w7/RtqS9O3epAECLEABC4+TeA/Cvy66/PYYDyUb4SNm4723QmKMcAnISPnx95QPgWZfdmAYKQ7nLAqCJisVSWtTWWVcAuKit08EgAEBKSQAIjZbrFOA/iYjiyHiPRmMn8+/EWK0XNHDcCAHgtD1x6FhauKyj4kHvyzc/kLssAJqsf7BQV/g32voHC7lLBgBagAAQGuuWGJ5MR2P49dmJnB1jE++Sk7zmOyOiMDLW4xGx8CTHO9HbQwDYcj7Zua3iAe/FbavT00cHc5cFQJNZAQgATIcAEBrr4zE2oV5Xo9/Ssn7nncT1fjsiBkbGORARLzuJsSZyQYzV+qcNHlsAOA1HBwrp1z+2puIhb8UP781dFgAzxB6AAMBUCQChsV4bYxPqqgn6/GxEbB3pczCGT9udjjfE2D6CfRHx6mmOU8uJh4D8WoPHFwBOwzW3P1L1kPfQ/iO5ywJghvT09lVtA+EUYACgFgEgNN7oa8CFGH7V90TlK+ouHufzc8o+v2aCa7wyhsPD0deNf2MadZ4bEb9c4/Pnjlx/tJZ/m8Y1JiMAnKKhYim98VPrKh7y3nfN5txlATDDVnbtqRkCfmfTo7lLBABaiAAQGu9VEfFMDE+qIxGxLCJeH8OB29UxNuF2RMTzx/n+OVE7AFwYEfvK+nw4Is6cpP2ncca5ZqS+6yLi/RHxphgOFn8zIj4UY6sU08j1Tq3rTz81AsAp6rzviaqHvDsfOpC7LAAy6OntS0vau9OL21ZX/W/DV9fvzF0eANBCBIDQHL8bw6/lpgnajog4fYLvnhO1A8Dza4w7Ubt4nHGuqfO790bESyf/I0+LAHCK/uAfbq94wHv7l25JpZIN3gHms2KxlP7m/2fvzqPjKu80j/+SkKRDkunu05k+c85k2osMCHASwhKWyaSBhCyEhEyWHtKBhJAQOmk6HSkBS0bGC2AC2G4gZt+CWQsCiCCpvOEdvOKSbcr7JqPyvqhklaVSVd13/iiVVVe3Nkm36lfL93POPZxxvb73yTlz6/b7+K37PrfG9ny48K75pjca044GAACKBAUgkD8jRGSGxMu+kMR/srtaRG4VkVMz/L1LpTAF4JkSXz3oEZENIrJfRHolvipwu4i8LCI/FJGPZP+fOmQUgIPg23PMscKj0deuHQsAUAR4RgAAgEwoAAFoogDMUSxmmZueW83qDgBAWt9/2L5K/Lt/WsoqcQAAYIyhAASgiwIwC38gaGo8vpTvd3pkEe93AgD0a16/1/GsWL3riHYsAABQBCgAAWiiAMwg2w6PL61s044IACgikWjMXHL327Znxb89t0Y7FgAAKAIUgAA0UQCm4Q8EM5Z/I8Y1mar6ZuMPBLWjAgCKyBNLdtieFaPqmsyeIyHtWAAAQBkFIABNFIBp1Hh8Gcu/xFHradWOCgAoIsHuXnPWBK/tWXHHW37tWAAAQBkFIABNFIApxGKWqW7w5lQAVjd4TSzGC94BAP0m/fV927Ni7O2zzfGeiHYsAACgiAIQgCYKwBRC4UhO5V/iCIWZ1AEA+rUdDpmRdfZnxVNLjsB1SwAAIABJREFUd2rHAgAAiigAAWiiAEyBFYAAgOG68dnVtufFl+9520R5XgAAULEoAAFoogBMg3cAAgCGY8WOw45nhnfDPu1YAABACQUgAE0UgGn4A0EzMkv5xy7AAIB0LMsy335wie258aNH3tWOBQAAlFAAAtBEAZjG/mC3GVWXufxr9LVrxwQAFLHX137geH6s/6BDOxYAAFBAAQhAEwVgGvfN3pz2nX+1nlZW/gEAsgpHYuaCO+fZniP/+dJa7VgAAEABBSAATRSAKXT3Rs05k+fYJmx1r60zoXCEDT8AAIMyc8E2xwryfR3d2rEAAECBUQAC0EQBmMJLK9scK/+27u/UjgUAKEFHu8LmjIYW2zPlHu8m7VgAAKDAKAABaKIAHMCyLHPFjEW2idp1T63UjgUAKGH1r6+3PVe+MHmOORGOascCAAAFRAEIQBMF4ABLtx5yrP5buPmAdiwAQAnbduC449ny/Ird2rEAAEABUQAC0EQBOMDPn1llm6BdPm0h7/0DAAzbz55eyfMFAIAKRgEIQBMFYJIdB50rNJ5bzgoNAMDwLdl60PGMWcAKcwAAKgYFIABNFIBJGt7YYJuYfX7SHBMKR7RjAQDKQKp3zF775ArtWAAAoEAoAAFoogDs0xHqNdUNXtvE7I/s0ggAcFGqXeZb9xzjp8AAAFQACkAAmigA+zy6aLttQja6vtns7TihHQsAUEa6e6Pmi1PmOkrA6gavqfH4jD8Q1I4IAADyhAIQgCYKQGNMJBozF0+db5uM3fziWu1YAIAy9KtnVzsKwMRRVd9sGn3t2hEBAEAeUAAC0EQBaIxpWrfXMQlb23ZUOxYAoMz4A0Ezur45bQGYKAFZCQgAQPmhAASgiQLQGPP9h9+xTb6+99Ay7UgAgDJU4/FlLP8SR62nVTsqAABwGQUgAE0VXwD69hxzTLz+2hrQjgUAKDOxmOXYbCrdUd3gZWMQAADKDAUgAE0VXwD+9qW1tknXRVPnm95oTDsWAKDMhMKRnMq/xBEKR7QjAwAAF1EAAtBU0QXgvo5uUzXgXUwPL9yuHQsAUIZYAQgAQGWjAASgqaILwHu8m2wTrjMaWsyxUFg7FgCgTPEOQAAAKhcFIABNFVsAnghHzRcmz7FNuMa/vl47FgCgjPkDQcfK84HHaHYBBgCgLFEAAtBUsQXgCyvaHJOubQc6tWMBAMpco689Ywl4/dMrtSMCAIA8oAAEoKkiC0DLssxXpy+yTbh++hQTLgBAYfgDQVPraU35TsCxE2ebrh42AAEAoNxQAALQVJEF4OItBx0TrsVbDmrHAgBUmFjMMhsDQccz6dl3d2lHAwAALqMABKCpIgvAnz290jbR+ur0Rcay2G0RAKDjF39eZXsuXXbfQnYBBgCgzFAAAtBUcQXglv2djpUWL6xo044FAKhgy7YdcjybFmw+oB0LAAC4iAIQgKaKKQD9gaCp8fjM6AEvXh87cbY5EY5qxwMAVDDLsszXZyy2PZ+u4920AACUFQpAAJoqogDMtOPiqLom0+hr144IAKhwL61kd3oAAMoZBSAATWVfAPoDwbTlX+Koqm82/kBQOyoAoIJ190bNOZPn2J5P419frx0LAAC4hAIQgKayLwBrPL6M5V/iqPW0akcFAFS4e2dvsj2bqhu85lgorB0LAAC4gAIQgKayLgBjMctUN3hzKgCrG7zsuAgAULWvo9uxav2RRdu1YwEAABdQAALQVNYFYCgcyan8SxyhcEQ7MgCgwt384lrbs+niqfNNJBrTjgUAAIaJAhCAprIuAFkBCAAoNWvbjjqeUc3r92rHAgAAw0QBCEBTWReAxvAOQABA6bl65jLbM+qHj7yjHQkAAAwTBSAATWVfAC7dejBr+ccuwACAYtLoa3c8q9Z/0KEdCwAADAMFIABNZV8ATp+zOWv51+hr144JAMBJvdGY+dJd82zPq5qXfdqxAADAMFAAAtBU1gVgd2/UnDtlrm0CNbpvd8XqBq+p9bSy8g8AUJRmLthme36NGd9sDnR2a8cCAABDRAEIQFNZF4CvrN7jWPHn39thQuEIG34AAIraka6wOf22FtszbPrcLdqxAADAEFEAAtBUtgWgZVnmW/cvsU2cfvz4cu1YAADk7NZX19meY+fdMdf0RKLasQAAwBBQAALQVLYF4Iodhx2r/+b692vHAgAgZ5v2BR3PslfXlNfzGgCASkEBCEBT2RaAN81aY5sw/Z97FpgoP/sFAJSYHz++3PY8+9b9S4xl8TwDAKDUUAAC0FSWBeCeIyEzqs6+YuLJpTu1YwEAMGhz/fsdqwBX7DisHQsAAAwSBSAATWVZAN7VvNE2UTprgtcEu3u1YwEAMGjRmGW+cu8C23PtpllrtGMBAIBBogAEoKnsCsBQOGI+N3G2baI08c33tWMBADBkTy3daXuujaprMnuOhLRjAQCAQaAABKCp7ArAWct32yZJI+uazM5DXdqxAAAYss7uXnP27fZ/3Lqzya8dCwAADAIFIABNZVUAxmKWuXzaQtsE6efPrNKOBQDAsE18833b8+3s273mYGe3ibHBFQAAJYECEICmsioAF2056HhR+pKtB7VjAQAwbLsOdZmRAza4GjGuyVQ3eE2Nx2f8gaB2RAAAkAEFIABNZVUA/uzplbZJ0demLzKWxcoIAEB5+PYDSxwFYOKoqm82jb527YgAACANCkAAmsqmANx+8LhjMvT8it3asQAAcIU/EDSj65rTFoCJEpCVgAAAFCcKQACayqYAvL1xg20S9PlJc8yJcFQ7FgAArqjx+DKWf4mj1tOqHRUAAKRAAQhAU1kUgMHuXnPWBK9tAjS1ZaN2LAAAXBGLWaa6wZtTAVjd4GVjEAAAihAFIABNZVEAPrFkh23yM7q+2bQfO6EdCwAAV4TCkZzKv8QRCke0IwMAgAEoAAFoKvkCMBqzzJfveds28fn182u0YwEA4BpWAAIAUPooAAFoKvkCcM77+xyTn1W7jmjHAgDAVbwDEACA0kYBCEBTyReA1zy23Dbx+faDS4xlsfIBAFBe/IGgqapnF2AAAEoVBSCQH/8kItNEZJOIhETkqIisEpE/iMipLl7nmyLyuoi0i0i477+v9/15rk4RkZtEZImIHBKRbhHZLiKPishZLmZNpaQLwI17g47Jz1/WlN7/DgAActHoa89YAk756/vaEQEAQBoUgID7vi0iHdJ/Yw08NovI6GFe40Mi8liGa5i+zz+U5Tz/ICIrMpyjR0RuGGbWTEq6ALz11XW2ic95d8wzPZGodiwAAPLGHwiaWk9ryncC/suj72rHAwAAaVAAAu76gsRX/BkROS4i40XkYhG5XEQel/6bbZOIfGoY17kr6VxrReQaEbmg779rkz67M8M5PiIii5PGvibxlYNfEpH/EJEDfX8eFZFvDCNrJiVbAB7pCpvTb2uxTXxmzN2iHQsAgIKIxSzz0qrdjhLw/UCHdjQAAJACBSDgroUSv5kiEi/+BrpF+m+424d4jTF95zcislpEPjHg81P7/jyRoyrNea5PyvJQmusE+z7fKvGfCrutZAvAmQu22SY8Y8Y3mwOd3dqxAAAomHAkZs6/c57tefiHV9gEBACAYkQBCLjnAum/mR5NM+bDIrKxb8xREfnoEK7zUNJ1Lkoz5qKkMX9KM8aflCPdewnrks7zgyFkzaYkC8Ce3qi5YMCEp+Zln3YsAAAK7v55W23Pw9NuazGHj/doxwIAAANQAALuSf5Z7oUZxiWXalcM8hofkvhGH4mfEWeyuW/cB+J8F+BpSRkeyXCO/5E07oVBZs1FSRWA/kDQ1Hh85rTxLY6fPK3/gJ88AQAqz8HOHsdz8cH5W7VjAQCAASgAAfcskfiN1CWZfy57sfTfdJMHeY3Rkn2VYULyJiGjBnx2Q9Jn12Q5z5a+cW2DzJqLkikAM+18OHJck2n0tWtHBABARa2n1fZcvODOeSYciWnHAgAASSgAAfcckviN1Jpl3N9L/033yiCv8e2kv/u7LGNrksZeOeCz+5I+OyfLed7sG2eJyCcHmTebkigA/YFg2vIvcVTVNxt/IKgdFQCAgtvQ3uF4LvIPYwAAFBcKQMAdfyP9N1JTDuO7+sYuH+R1/i3pOj/MMvaHSWNvGvDZy0mffSbLeWYmjT1jkHk/m+U4X0qgAKzx+DKWf4mj1sOLzwEAlemHj7xjeyZePXOZdiQAAJCEAhBwx3+X/hvp5RzGH+gbu2GQ10neRfibWcZ+K2ns7wd81pz02d9kOc89SWPPG2Rek+tRrAVgLGaZ6gZvTgVgdYPXxGKWdmQAAAquef1ex3NxbdtR7VgAAKAPBSDgjv8l/TfSrBzG7+kbu32Q15mQdJ3Ls4y9PGlsw4DP3k767MNZzjMlaeyXB5m35AvAUDiSU/mXOELhiHZkAAAKLhKNmUvuftv2TPyPF9dqxwIAAH0oAAF3sAIwtZL/CTArAAEAyM0ji7Y73o+7r6NbOxYAADAUgIBbeAfg0JTEJiC8AxAAgOyOhcLmjIYW27PxvtmbtWMBAABDAQi4qRC7AF+V9HeHswvwtKTP2AU4C3YBBgAgN3Wvrbc9H784Za7p7o1qxwIAoOJRAALuWSLxG6lLRE7JMO5i6b/pJg/yGqOT/u6jWcY+ljR21IDPbkj67Jos59nSN65tkFlzURIFoDHGNPra05aAVfXNptHXrh0RAAB1W/Z3Op6TnlV7tGMBAFDxKAAB90yV/pvpwgzj6pLGfX2Q1/iQiAT6/u6mLGM39Y1r7/t7yU5PyvBIhnP8j6RxLw4yay5KpgA0Jr4SsNbTevKdgNUNXlPraWXlHwAASX7yxApbAfjN+5cYy+IduQAAaKIABNzzJcm+Ou/DIrKxb8wxEfnoEK7zcNJ1Lkoz5qKkMQ+lGZPIcURETk0zJrms/NEQsmZTUgVgQixmmVA4woYfAACkMH/jfscqwOU7DmvHAgCgolEAAu5K/Aw4IvGf+g6UvIvvpBSfX5r0+Z/TXOP0vvMbEVktIp8Y8Pkn+v48keO0NOdJ/hnwzBSfV4lIsO/z7ZL5Z81DVZIFIAAASC8Ws8xX7l1gKwB/NWu1diwAACoaBSDgri+KyAmJ31DHRaRe4qvxLhP7O/m2iMinU/z9SyV7ASgicnfSuLUi8v9E5Py+/65N+mxqhnN8RESWJY39i4h8Q+IrGW8WkQN9fx4TkW9lOM9wUAACAFCGnlq601YAjqprMnuOhLRjAQBQsSgAAfd9R/pXzqU6tojImDR/91LJrQD8sIg8leEaRkSe7BuXyWdEZFWGc4RF5MYs5xgOCkAAAMpQZ3evOfv22bYS8M4mv3YsAAAqFgUgkB8jRGSGxMu+kMTf97daRG6V9O/bE8m9AEy4UkQaJb4xSLjvv40yuBV7p4jIr0VkqYgcFpFuEdkhIo+LyNmDOM9QUAACAFCmJr75vq0AHDtxtunqiWjHAgCgIlEAAtBEAQgAQJnadajLjKyzbwYya/lu7VgAAFQkCkAAmigAAQAoYzc8s8pWAF4+baGJxSztWAAAVBwKQACaKAABAChjS7ceshWAI8Y1mQWbD5hQOEIRCABAAVEAAtBEAQgAQBmzLMt8bfoix47AI8Y1meoGr6nx+Iw/ENSOCQBA2aMABKCJAhAAgDL3/IrdjlWAyUdVfbNp9LVrxwQAoKxRAALQRAEIAECZW9t2NGMBmCgBWQkIAED+UAAC0EQBCABAmavx+LIWgCPGNZlaT6t2VAAAyhYFIABNFIAAAJSxWMwy1Q3enArA6gYvG4MAAJAnFIAANFEAAgBQxkLhSE7lX+IIhSPakQEAKEsUgAA0UQACAFDGWAEIAEBxoAAEoIkCEACAMsc7AAEA0EcBCEATBSAAAGXOHwiaqvpmdgEGAJSVWMwyoXCkZFavUwAC0EQBCABABWj0tactAUeOazKNvnbtiAAA5MQfCJoaj+/kKy6qG7ymxuMr+n/IogAEoIkCEACACuEPBE2tp9VRBFbVN5tDx3u04wEAkFWmf9Cqqm8u6n/QogAEoIkCEACACrM/2G3GDJg83T9vq3YsAAAyKvVXWlAAAtBEAQgAQAX6/SuttgnT+XfOMz2RqHYsAADSKvVNrSgAAWiiAAQAoAK9H+hwTJhee4//WwAAUJxiMevkO/+yHdUN3qLcGIQCEIAmCkAAACrUvzz6rm3C9O0HlxjLKr4JEwAAoXAkp/IvcYTCEe3IDhSAADRRAAIAUKG8G/Y5Jkyrdh3RjgUAgAMrAAFgeCgAAQCoUNGYZf73H9+2TZp+/fwa7VgAAKTEOwABYOgoAAEAqGBPLNlhmzSNqmsyHxwNaccCAMDh3e2HspZ/7AIMAKlRAAIAUMGC3b3mrAn2n1RNbd6oHQsAAIc/vb01a/nX6GvXjpkWBSAATRSAAABUuNsbN9gmUJ+bOLsoX54OAKhc4UjMXHDnPNvzanR988l3/tV6Wot25V8CBSAATRSAAABUuJ2HuhyrKGYt360dCwCAk95Y2+54VrXuOWZC4UhRbviRCgUgAE0UgAAAwPz8mVW2SdVl0xaWzIQKAFDeLMsy3/nTUttz6kePvKsda9AoAAFoogAEAABm6Vbni9UXbj6gHQsAALNm9xHHM8q7Ya92rEGjAASgiQIQAAAYy7LMFTMW2SZX1z21UjsWAADmN8+/Z3s+XXL32yZagqvUKQABaKIABAAAxhhjXlzZ5lhhse1Ap3YsAEAF++BoyIyqsz+bHl+8QzvWkFAAAtBEAQgAAIwxxnT3Rs05k+fYJlnjX1+vHQsAUMGmNm+0PZfOnOA1HSd6tWMNCQUgAE0UgAAA4KR7vJtsE60zGlrMsVBYOxYAoAKFwhHzuYmzbc+l2xs3aMcaMgpAAJooAAEAwEl7O06Yqvpm22TrkUXbtWMBACrQrOW7Ha+m2HmoSzvWkFEAAtBEAQgAAGxufnGtbbJ18dT5JhKNaccCAFSQWMwyl01baHse3fDMKu1Yw0IBCEATBSAAALBZ23bUseKiad1e7VgAgAqyYPMBx7No6dZD2rGGhQIQgCYKQAAA4HD1zGW2Sdf3H35HOxIAoIJc++QK23PoihmLjGVZ2rGGhQIQgCYKQAAA4PBma8Cx8qJ1zzHtWACACrB1f6fjGfTSyjbtWMNGAQhAEwUgAABw6I3GzIV3zbdNvv7zpbXasQAAFaD+9fW25885k+eY7t6odqxhowAEoIkCEAAApDRzwTbbBKyqvsnsOtRlYrHS/gkWAKB4He0KmzMaWmzPn/tmb9aO5QoKQACaKAABAEBKR7vC5vTbWhw/w6pu8Joaj8/4A0HtiACAMvPQwoH/+NRs9ge7tWO5ggIQgCYKQAAAkNY1j7/rKACTJ2WNvnbtiACAMpHq9RO/LaPXT1AAAtBEAQgAAFLyB4JmdH1z2gIwUQKyEhAA4IZUG1D5ymgDKgpAAJooAAEAQEo1Hl/G8i9x1HpataMCAMrA1TOX2Z4v33/4He1IrqIABKCJAhAAADjEYpapbvDmVABWN3jZGAQAMCzvtR11PF+a1u3VjuUqCkAAmigAAQCAQygcyan8SxyhcEQ7MgCghN384lrbc+XiqfNNJBrTjuUqCkAAmigAAQCAAysAAQCFsrfjhOOds48u2q4dy3UUgAA0UQACAICUeAcgACDfYjHL3NHkd/zDUkeoVzua6ygAAWiiAAQAACn5A0FTxS7AAIA88AeCpsbjS7na/LY31mvHywsKQACaKAABAEBajb72jCXgv7/wnnZEAECJyfZseWzxDu2IeUEBCEATBSAAAMjIHwiaWk9rylUaX7prnglHyusl7QCA/Knk1eUUgAA0UQACAICcxGKWWbHjsGOi9sbadu1oAIASUcnvl6UABKCJAhAAAAzKDx5+xzZJu+rBpcay2AUYAJBZpe8wTwEIQBMFIAAAGBTvhr2OidrKnUe0YwEAilwoHMmp/EscoXBEO7KrKAABaKIABAAAgxKNWebL97xtm6Td+Oxq7VgAgCLHCkAKQAB6KAABAMCgPbl0p22iNrKuyew+3KUdCwBQ5HgHIAUgAB0UgAAAYNA6u3vN2Ntn2yZrE998XzsWAKDI+QNBM6ouc/nHLsAA4D4KQAAAMCR3vOW3TdjOmuA1HSd6tWMBAIpYd2/UjL09/c+Aq+qbTaOvPHeXpwAEoIkCEAAADMmeIyHHKo7HFm/XjgUAKGKeVXvSvvOv1tNaliv/EigAAWiiAAQAAEP26+fX2CZwl9z9tolEY9qxAABFyLIsc8WMRbbnxo8ff9eEwpGy2/AjFQpAAJooAAEAwJCt2X3UsYrjrXUB7VgAgCK0eMtBxzNjwaYD2rEKhgIQgCYKQAAAMCxXz1xmm8xdPXOZdiQAQBG67qmVtufF5dMWVsTKvwQKQACaKAABAMCw/LU14FjRsWb3Ue1YAIAisnlfp+NZ8cKKNu1YBUUBCEATBSAAABiWSDRmLrn7bduk7jfPv6cdCwBQRG59dZ3tOXHO5DmmuzeqHaugKAABaKIABAAAw/bY4u22id2ouiaz50hIOxYAoAgc7Owxp93WYntOTJ+zWTtWwVEAAtBEAQgAAIat40SvOXOC1za5u+Mtv3YsAEARmDF3i+35cNr4FnOgs1s7VsFRAALuO1VEbhGRVSJyVES6RGSTiEwTkX9y4fwfEpEvi8gUEXlbRPaJSK+IdIqIX0QeFpEv5HCeSdJ/82c7LnUhdyoUgAAAwBUT33zfNsEbe/tsc7wnoh0LAKCouzdqzp0y1/Z8+P0rrdqxVFAAAu6qEpHNkr5I6xCRK4d5jbYM508clojcI/GyMJ1JOZyHAhAAAJSE3Ye7zMg6+wven1q6UzsWAEDRSyvbHJt/bNwb1I6lggIQcM+nJL7SL3FDPS4il4vIxSIyXkSO9/15SEQ+P4zrRPvOs01E/igi3xGR8yS+KnCCxFcdJjJMzXCeSUnjxmY5PjmMvJlQAAIAANfc+Oxq2yTvy/e8baIxSzsWAECBZVnma9MX2Z4LP3lihXYsNRSAgHsmSf/NdEuKzy8WkUjf5wuGcZ13ReQbkn51X5WIHOy7TkRERqcZN0n682qhAAQAAK5ZseOwY6WHd8Ne7VgAAAWLthx0PBMWbD6gHUsNBSDgjo+KyDGJ30gbReTDacY9Kv033Hl5zHNz0nVq0oyZJBSAAACgjFiWZa56cKltsvfDR97RjgUAUHDtkytsz4OvTl9kYhW8KpwCEHDHFdJ/I43LMO6ipHF35THP2UnXmZlmzCShAAQAAGXmjbXtjhUfrXuOaccCABTQ5n2djmfBiyvbtGOpogAE3DFF+m+kizKMO0XiuwIbEVmcxzznJuV5MM2YSUIBCAAAykw4EjNfumuebdJ38wvvmVA4UtErPwCgktzyaqvtOfDFKXNNd29UO5YqCkDAHa9K/430d1nGrusbdzCPeWqS8vwmzZhJSWPmicgREenty7VIROpE5O/zmFGEAhAAAOTBzAXbHCs/RoxrMtUNXlPj8Rl/oDJ3gASASnCws8ecNr7F9v0/fe4W7VjqKAABd6yQ+E3UlcPYJum/6T6ehyynikhb3/nDIvI/04yblJQj3XFMRK4eRpbPZjnOFwpAAADgsmOhsBkzvjllCThiXJOpqm82jb527ZgAgDyYPneL7Tv/tPEt5mBnj3YsdRSAgDv8Er+J9ucw1iP9N90/5CHLn5LOPyPDuEkisl7iP1++SuI/G75QRH4qInOSzhEVkW8NMUu2gvHkQQEIAADc4g8Ezci61OVfcgnISkAAKC/dvVHzxSlzbd/3t7zaqh2rKFAAAu7YIfGbaE8OY2dJ/m66nySde6OIfCLD2Gw/Vb4p6VyBLOdKhwIQAAAUXI3Hl7H8Sxy1HiaFAFBOXlzZ5viu37yvUztWUaAARKU5RQZRSmU4rh9w3mJYAXipiPT0nfeoiJzlwjmfkP6sPxnC3+cnwAAAoKBiMctUN3hzKgCrG7xsDAIAZSIWs8xXpy+yfc9f++QK7VhFgwIQlSZfBaD2OwDPF5HOpAyZdiIe7HkTWR936ZzJ2AQEAAC4KhSO5FT+JY5QOKIdGQDgggWbDzi+4xduPqAdq2hQAKISVbtw/O2Ac/5F9HYBPltEDveds0dEvubSeUXiG4ok/nc1u3jeBApAAADgKlYAAkBl+skTK2zf8V+bvshYFt/xCRSAgDumSP+NlGn13SkSX6FnRGSxC9etEpG9feeLyPB27E3lk0IBCAAASgzvAASAyuLf2+H4jn9pZZt2rKJCAQi44+vSfyONyzDuoqRxU4d5zc+KyO6+c8VE5F+Heb5ULpD+vE/k4fwUgAAAwHX+QNBU1TezCzAAlDl/IGhqPD4zesB3/ucnzjbdvVHteEWFAhBwx8dEpEP6d9/9UJpxj0r/DXfBMK73jyKyOelcNw7jXJk8mXSNa/NwfgpAAACQF42+9owl4OOLd2hHBAAMQ6bv+VF1TabR164dsahQAALuSf4Z8C0pPr9Y4j/TNSKyKMN5EufYnebzvxMRX9K43w0h6+dEZEyWMTclXWOfxH8O7DYKQAAAkDf+QNDUelpTvhOw/vX12vEAAEPESu/BowAE3PNpEdki/TfUYyJymcR/9lsvIsf7/vyEiJyT4TyZCsCPi8g7SWOeF5GxWY5RKc5zvYhERWSeiNSKyBUicq6IfElEfioic5OuERWR72b53z5UFIAAACDvYjHLTHnLb5sYnnZbizl0vEc7GgBgCHjX6+BRAALuGiMiW6X/php4BEXkqiznyFQAjsxw7nTHohTnuT7Hv3tY3N9YJBkFIAAAKIj9wW4zZrx9tcj0uVu0YwEABond3oeGAhBw3ydF5FYRWS0ix0QkJPH39c0QkRE5/P1CFID/KCI3SHxjjzUi8oHEVyZ2i0hARFpE5Lci8t9yyDscFIAAAKBgfv9Kq21ieM7kOeZEmJfEA0ApCYUjOZV/iSMD4Gu4AAAgAElEQVQUjmhHLgoUgAA0UQACAICC2byv0zExnPXuLu1YAIBBYAXg0FAAAtBEAQgAAArqZ0+vtE0Ov3LvAhNlcggAJaXmZd4BOFgUgAA0UQACAICCemfbIccE0bthr3YsAMAgvLyqLWv5xy7AdhSAADRRAAIAgIKyLMtc+cAS2yTxew8tM5bFKkAAKBU3PLMqa/nX6GvXjllUKAABaKIABAAABdfoa3dMFlfvOqIdCwCQg637ne9zTezyXt3gNbWeVlb+pUABCEATBSAAACi43mjMXHL327bJ443PrtaOBQDIwR8G7Oj++UlzTOeJXhMKR9jwIwMKQACaKAABAICKJ5bssE0gR9Y1mR0Hj2vHAgBksD/YfXK1X+K4b/Zm7VglgQIQgCYKQAAAoOJ4T8SMnTjbNomsf329diwAQAZ3t2yyfW+fdluLOdjZox2rJFAAAtBEAQgAANQMnEiefluLOXSciSQAFKPO7l4z9nb7P9zUvcY/3OSKAhCAJgpAAACgJtVPyabP3aIdCwCQwuOLeXXDcFAAAtBEAQgAAFT9fsDL5M+ZPMecCEe1YwEAkvRGY+aiqfNt39e/msXmTYNBAQhAEwUgAABQtXlfp21COWJck5m1fLd2LABAktfe+8DxXb1m91HtWCWFAhCAJgpAAACg7mdPr7RNKr9y7wITjVnasQAAxhjLssw3/mux7Xv6Bw+/ox2r5FAAAtBEAQgAANS9s+2QY2WJd8Ne7VgAAGPMws0HHN/Rc/37tWOVHApAAJooAAEAgDrLssyVDyyxTS7/70PLtGMBAIwxP358ue37+fJpC02MVdqDRgEIQBMFIAAAKAqNvnbHCpPVu45oxwKAirb+gw7Hd/NLK9u0Y5UkCkAAmigAAQBAUeiNxswld79tm2Te+Cw7TAKApn9/4T3b9/L5d84z3b3s1D4UFIAANFEAAgCAovHEkh2OlSbvBzr4qRkAKNhzJGRG1dm/k2cu2KYdq2RRAALQRAEIAACKxvGeiBk7cbajBKxu8Joaj8/4A0HtiABQMSa++b7tu/jMCV7TEerVjlWyKAABaKIABAAAReWGP69yFICJo6q+2TT62rUjAkDZO9oVNtUNXtt38JS3/NqxShoFIABNFIAAAKBo+ANBM7q+OW0BmCgBWQkIAPn1wPyttu/e0fXNpv3YCe1YJY0CEIAmCkAAAFA0ajy+jOVf4qj1tGpHBYCy1d0bNedOmWv73v3Pl9Zqxyp5FIAANFEAAgCAohCLWY6fm6U7qhu8bAwCAHny3PLdju9dVl4PHwUgAE0UgAAAoCiEwpGcyr/EEQpHtCMDQNmJxizzz/cusH3fXvvkCu1YZYECEIAmCkAAAFAUWAEIALpiMcs0+j5wfOcu3XpIO1pZoAAEoIkCEAAAFA3eAQgAhecPBE2Nx5fyH2G+df8SY1n8g4sbKAABaKIABAAARcMfCJqqLLsAj6rjXVQA4JZGX3vG790JjRu0I5YNCkAAmigAAQBAUck2Gf3KPQtYjQIALsjlH12q6pv5RxeXUAAC0EQBCAAAio4/EDS1nta07wR8ZzvvowKA4eK1C4VFAQhAEwUgAAAoWrGYZYInwuaSu+ezIyUAuIiNlwqPAhCAJgpAAABQ9Ga9u8sxIV3/QYd2LAAoWaFwJKfyL3GEwhHtyCWPAhCAJgpAAABQ9Lp7o+a8O+baJqO/fn6NdiwAKFmsACw8CkAAmigAAQBASXho4TbbhHRkXZPZfvC4diwAKFm8A7CwKAABaKIABAAAJSHY3WvG3j7bNim95VUmpQAwVP5A0Iyqy1z+sQuweygAAWiiAAQAACXjHu8m28R0zPhms7fjhHYsAChJwe5ec8ZtLRnLv0Zfu3bMskEBCEATBSAAACgZBzt7zOkDJqtT3vJrxwKAkjRzwbaUxV91g9fUelpZ+ecyCkAAmigAAQBASWl4Y4NtonrmBK852hXWjgUAJeVEOGrOnWLfXOnfnlttQuEIG37kCQUgAE0UgAAAoKTsORIyo+ubbZPWGXO3aMcCgJLyzLKdjpV/G9o7tGOVNQpAAJooAAEAQMn53cv2nSu/MHmO6eqJaMcCgJIQjsTMxVPn275Hf/rUSu1YZY8CEIAmCkAAAFByNu/rdKxceWLJDu1YAFASPKv2OL5DV+06oh2r7FEAAtBEAQgAAErSL/68yjZ5vfCu+aYnEtWOBQBFLRqzzKX3LbR9f/7okXe1Y1UECkAAmigAAQBASVqz+6hjBcvLq9q0YwFAUXtrXcDx3blw8wHtWBWBAhCAJgpAAABQsv7l0Xdtk9jL7ltoouxeCQApWZZlvnn/Etv35pUPLDGWxfdmIVAAAtBEAQgAAErWws0HHCtZmtfv1Y4FAEVpwSa+MzVRAALQRAEIAABKlmVZ5soH7KtZvv0gq1kAYCDLssz3H37Hvmp6GqumC4kCEIAmCkAAAFDSUr3PavGWg9qxAKCorNhx2PFd+crqPdqxKgoFIABNFIAAAKCkRWOW+ed7F9gmtdc8tlw7FgAUlWufXGH7nrzk7rdNbzSmHauiUAAC0EQBCAAASt6LK9scK1vW7D5iQuGIifHzNgAVbt0Hxxzfkc++u0s7VsWhAASgiQIQAACUvJ5I1Hzprnm2ye2ouvh/qxu8psbjM/5AUDsmAKi4adYa2/fjeXfMNd29Ue1YFYcCEIAmCkAAAFAWHl+8w7HCJfmoqm82jb527ZgAUFBb93c6vg8fXrhdO1ZFogAEoIkCEAAAlIXVu49kLAATJSArAQFUkhqPz/Y9OHbibNPZ3asdqyJRAALQRAEIAADKwsBJbrqj1tOqHRUACmLPkZAZXd9s+w6cNmezdqyKRQEIQBMFIAAAKHmxmGWqG7w5FYDVDV42BgFQERre2OD4/jvSFdaOVbEoAAFoogAEAAAlLxSO5FT+JY5QOKIdGQDy6kBntzntthbbd9/kv/q1Y1U0CkAAmigAAQBAyWMFIADYTW3eaPvuGzO+2eztOKEdq6JRAALQRAEIAADKAu8ABIC4I1095swG++q/utfWaceqeBSAADRRAAIAgLLgDwRN1YCX3bMLMIBK4g8ETY3H5/guHDmuyew61KUdr+JRAALQRAEIAADKRqOvPWMJ+Nzy3doRASAvMn3/jRzXZBp97doRKx4FIABNFIAAAKCs+ANBU+tpNWcM+PnbiHFN5s4mXoAPoPywAro0UAAC0EQBCAAAylIsZpnal+3vBTyjocUcOt6jHQ0AXMU7UEsDBSAATRSAAACgbLUdDpnRA1bFTG3eqB0LAFzDLuilgwIQgCYKQAAAUNb+8EqrYwJ8mFWAAMpEKBzJqfxLHKFwRDtyxaIABKCJAhAAAJS1XYe6HKsA727ZpB0LAFzBCsDSQQEIuO9UEblFRFaJyFER6RKRTSIyTUT+yYXzj5T+mzbb8eccz3mNiMwRkX0i0iMiu0XkORG5yIW8mVAAAgCAsjfw/VhnTvCaI11h7VgA4IrfvrSWdwCWAApAwF1VIrJZ0hdyHSJy5TCvMTLD+QdbAP6NiLyV4e/HRGTCMPNmQgEIAADK3s5DXWZUnX0ifO9sVgECKA93N2/MWv6xC7A+CkDAPZ+S+Eq/xA31uIhcLiIXi8h4ETne9+chEfn8MK4zMukat4nI2AzH/8xyrheSzrVARK4WkQtE5AYR2Z702S+HkTcTCkAAAFARfjdgR+Czb59tjoVYBQigtHX3Rs0Fd87LWv41+tq1o1Y8CkDAPZOk/2a6JcXnF4tIRPrLtqEamXSd64dxnn9OOs9fReQjAz7/jIi09X1+VET+bhjXSocCEAAAVITtB487VgFOm7NZOxYADMvTy3Y6Cr/Tb2s5+c6/Wk8rK/+KBAUg4I6Pisgxid9IG0Xkw2nGPSr9N9x5Q7zWSHGnAGzuO0dU0t/81yRd6/fDuFY6FIAAAKBiDHxP1tjbZ5uOUK92LAAYku7eqDl/wOq/f31iuYnFLBMKR9jwo8hQAALuuEL6b6RxGcZdlDTuriFea6QMvwD8lMQ3+zAi4s0w7mMiEuwb984Qr5UJBSAAAKgY2w50mpEDVgFOn7tFOxYADMmTS52r/1bvOqIdC2lQAALumCL9N1KmnXNPkfiuwEZEFg/xWiNl+AXg5UnnqMsydk7fuIjEVzq6iQIQAABUlJtfHLAKcOJs03GCVYAASsuJcNScd4d99d+1T67QjoUMKAABd7wq/TdStnflresbd3CI1xqZdK33RGSXiIQlvlLPL/GfGZ+b5Rz/nnSO72UZ+0DS2LOGmDkdCkAAAFBRtux3rgL8r3msAgRQWp5YssOx+m/Nblb/FTMKQMAdKyR+E3XlMLZJ+m+6jw/hWiOT/n6m49EM5/9j0rjzs1zvD0ljvzHIrJ/NcpwvFIAAAKDC/Ob592yT5s9NnG2C3awCBFAaWP1XmigAAXf4JX4T7c9hrEf6b7p/GMK1Rkp8w5GnReSnEt9d+IsicqWI3C8ix5PO/0KaczyUNKY6y/V+nTT2B4PMmktRSQEIAAAqyqZ9QcfKmQfmb9WOBQA5eXxxqtV/R7VjIQsKQMAdOyR+E+3JYewsGd5N9zEROTXD56eJSFvSNb6bYsxTSZ+PznK9G5LGXjvIrBSAAAAAKfzbc2tsk+fPT5pjOlkFCKDIhcIRc94dc23fX9c9tVI7FnJAAYhKc4oMopTKcFw/4LyFXAGYiy8nXWNeis8LtQKQnwADAACksHGvcxXgzAXbtGMBQEaPLd7u+O5a28bqv1JAAYhKk68CsJDvAMzV+33X6BaRDw/4rFDvAMyGTUAAAEDF+tWs1bZJ9BcmzzHHeyLasQAgpVA4Ys6dYl/997OnWf1XKigAUYmqXTj+dsA5/yL9N1K+dwHO1StJmf77gM9uTvqMXYABAAAUvB/ocKykeWghqwABFKdHFjlX//n2HNOOhRxRAALumCL9N9JFGcadIvFVgkZEFuc506uSvgC8POmzuiznmdM3LiLx9w+6iQIQAABUtF8+O2AV4KTZ5mBnt4nFLO1oAHBSV0/EfHHA6r/rWf1XUigAAXd8XfpvpHEZxl2UNG5qnjMl3kvYI86fAH9aRMJ9n3sznONjIhLsG/duHjJSAAIAgIq2/gPnKsAR45pMdYPX1Hh8xh8IakcEAPPwQufqv1ZW/5UUCkDAHR8TkQ6J30gbReRDacY9Kv033AV5zJO8Ccj8NGNapH9lX7qb/5qk89zickYRCkAAAABz5QNLUpaAI8Y1mar6ZtPoa9eOCKCCHe+JmHMmz7F9N93wzCrtWBgkCkDAPck/A05Vll0s8bLNiMiiDOdJnGN3ms+/J+kLRhGRMSLSlnSe76cZl/wz4DdF5CMDPv9M0nmOicjfZ7jmUFEAAgCAiuYPBM3o+ua0BWCiBGQlIAAtDy3c5vheWvcBq/9KDQUg4J5Pi8gW6b+hHhORyyT+s996ETne9+cnROScDOfJVgAaEdkmIveIyA9E5MK+810pIvdL/zsGjYh4smR+KWnsAhH5rsR3Bf65iGxP+uymLOcZKgpAAABQ0Wo8vozlX+Ko9bRqRwVQgY73RMwXBqz++8WfWf1XiigAAXeNEZGt0n9TDTyCInJVlnPkUgDmcjwsIh/Pcq1PiEhzhnPERGRSlnMMBwUgAACoWLGYZaobvDkVgNUNXjYGAVBwMxc4V/9taO/QjoUhoAAE3PdJEblVRFZL/KezIRHZLCIzRGREDn8/WwH4HYlvIPK2xFfpdUj8p8VH+q45Q0TGDjLzv4rIXBE5IPHNQfaIyAsS/9lyPlEAAgCAihUKR3Iq/xJHKBzRjgyggnR295rPTxq4+m+1diwMEQUgAE0UgAAAoGKxAhBAsYrFLDN9zmZW/5URCkAAmigAAQBAReMdgACKiT8QNDUenzmjocXxPXTjs6z+K2UUgAA0UQACAICK5g8ETVWWXYBH1jWxCzCAvGv0tWf8Ppq5YJt2RAwDBSAATRSAAACg4mWbdI+uazJ7joS0YwIoY7n8Y0RVfTP/GFHCKAABaKIABAAAMPHJd62nNe07AWs8Pu2IAMoYryMofxSAADRRAAIAACSJxSwTCkfMpDffd/wMePO+Tu14AMoQGxJVBgpAAJooAAEAAFI4fLzHnDXBPiH/JS/gB5AHoXAkp/IvcYTCEe3IGAIKQACaKAABAADSmD53i2Pi/V7bUe1YAMoMKwArAwUgAE0UgAAAAGl0dveacybPsU2+r3lsubEsJt8A3MU7AMsfBSAATRSAAAAAGTyxZIdjAr5k60HtWADKTPP6QNbyj12ASxsFIABNFIAAAAAZdPdGzUVT59sm4d/501JWAQJw1c+fWZW1/Gv0tWvHxDBQAALQRAEIAACQxUsr2xyT8Zb1e7VjASgTK3YcTln4Jd75V+tpZeVfGaAABKCJAhAAACCLSDRmLrtvoW1yfvm0hSYSjWlHA1DiLMsy33tome375bw75prOE70mFI6w4UcZoQAEoIkCEAAAIAdvrXO+n8uzeo92LAAlbvb7+xzfLc++u0s7FvKAAhCAJgpAAACAHMRilrnygSW2Sfold79teiJR7WgASlQkGjOXT7OvLv4/9yww4Qiri8sRBSAATRSAAAAAOVq4+YBjpc5TS3dqxwJQol5e5Xy/6JutAe1YyBMKQACaKAABAAByZFmW+dGj79om6+dOmWuO90S0owEoMd29UXPhXfYdxq98YAnv/CtjFIAANFEAAgAADMKa3UccK3YemL9VOxaAEvPIou2O75IlWw9qx0IeUQAC0EQBCAAAMEi/+PMq26R97O2zzdGusHYsACWiI9RrPjdxtu175F+fWK4dC3lGAQhAEwUgAADAIG3aFzQj6+wrd+5q3qgdC0CJmNqy0bH6b90Hx7RjIc8oAAFoogAEAAAYgv98aa1t8n7abS2m/VjIhMIR3uEFIK29HSfM6be12L4/fvPCe9qxUAAUgAA0UQACAAAMwe7DXaaqvtk2iR/d9/+ubvCaGo/P+ANB7ZgAisytr66zfW9U1TebnYe6tGOhACgAAWiiAAQAABii295Y7/gZ38CJfaOvXTsmgCKxdX+nGTXg9QG3vbFeOxYKhAIQgCYKQAAAgCFauvVgxgIwUQKyEhCAMcbc+Oxq2/dDdYPXHOjs1o6FAqEABKCJAhAAAGCIajy+rAXgiHFNptbTqh0VgLI1u484vhumzdmsHQsFRAEIQBMFIAAAwBDEYpapbvDmVABWN3jZGASoYJZlmR898q7te+GcyXNMZ3evdjQUEAUgAE0UgAAAAEMQCkdyKv8SRygc0Y4MQMn8jfsd3wlPLt2pHQsFRgEIQBMFIAAAwBCwAhBALnojMfO16Yts3wmX3P226YlEtaOhwCgAAWiiAAQAABgi3gEIIB1/IGhqPD4zZnyL4zvhtfeYe1UiCkAAmigAAQAAhsgfCJqq+mZ2AQZg0+hrz/jd8Pradu2IUEABCEATBSAAAMAwZJvoX/fkCu2IAAqIfxhAOhSAADRRAAIAAAyTPxA0tZ7WlO8EHF3fbLYdOK4dEUCB8GoApEMBCEATBSAAAIBLYjHLbNnXacaMt6/++fkzq7SjASgANgdCJhSAADRRAAIAALjs3tmbHJP9RVsOascCkGehcCSn8i9xhMIR7cgoIApAAJooAAEAAFx2vCdizr9znm2i/7Xpi0wkGtOOBiCPWAGITCgAAWiiAAQAAMgDz+o9jgn/rHd3accCkGc/fnw57wBEShSAADRRAAIAAORBLGaZKx9YYpvwnzN5jukI9WpHA5AnPZGouXjq/KzlH7sAVyYKQACaKAABAADyZMWOw46J/5S3/NqxAOTJI4u251T+NfrataNCAQUgAE0UgAAAAHn06+fXOCb/Ow4e144FwGUHgt3mrAlex6rfxDsBqxu8ptbTysq/CkYBCEATBSAAAEAetR0OmdPGt9hKgV/8eZV2LAAuq/W0Olb7te45ZmIxy4TCETb8AAUgAFUUgAAAAHl2d8smRzGwZOtB7VgAXLK27ajjHv/DK2zyATsKQACaKAABAADyrLO715x3x1xbOfD1GYtNJBrTjgZgmGIxy3z3T0tt9/fZt882Bzq7taOhyFAAAtBEAQgAAFAAL61sc6wQem75bu1YAIbpldV7HPf2Y4u3a8dCEaIABKCJAhAAAKAAojHLfPP+JbaS4ItT5pqOE73a0QAMUXx17zzbfX3ZfQtNOMLqXjhRAALQRAEIAABQIO9sP+RYKXRnk187FoAhmtq80XFPL9h0QDsWihQFIABNFIAAAAAF9KtZq21lwZjxzWbnoS7tWAAGacfB42bM+Gbb/fzzZ9jhG+lRAALQRAEIAABQQLsPdzlKg1/8eZUJhSMmFrO04wHI0c+fWUWZj0GhAASgiQIQAACgwFL9bHDEuCZT3eA1NR6f8QeC2hEBZLBg0wHH/Tu1eaN2LBQ5CkAAmigAAQAACizY3WvOvt2bsgQcMa7JVNU3m0Zfu3ZMACmEIzFz2X0LbffseXfMM53dbOiDzCgAAWiiAAQAACgwfyBoRtWlLv+SS0BWAgLF57HF2x336yur92jHQgmgAASgiQIQAACgwGo8vozlX+Ko9bRqRwWQ5EBntzn79tm2+/S7M5fx/k7khAIQgCYKQAAAgAKKxSxT3ZD+578D3wlIsQAUjz+80uq4T9e2HdWOhRJBAQhAEwUgAABAAYXCkZzKv8QRCke0IwMVLxazzPIdh1mli2GhAASgiQIQAACggFgBCJQOfyBoajy+lPfsWRO85kCwWzsiSggFIABNFIAAAAAFxjsAgeLX6Gs3VfXNae/P/3hxrXZElBgKQACaKAABAAAKzB8IZiwWEseCTQe0owIVKZd7lJ26MVgUgAA0UQACAAAoyLa6aMS4JvPTp1Yay+InwEChsUoX+UABCEATBSAAAIASfyBoaj2tJ98vNjpFIfjX1oB2TKCi8J5O5AsFIABNFIAAAADKYjHLhMIRcywUNhfcOc9WMJx3xzzTcaJXOyJQMdipG/lCAQhAEwUgAABAEWlev9dRMNS/vl47FlAxWAGIfKEABKCJAhAAAKCIWJZlbnhmlaNoWLP7iHY0oGL8atYa3gEI11EAAtBEAQgAAFBkPjgacqxAumLGIhOOxLSjAWXPsixz9cxlWcs/dgHGYFEAAtBEAQgAAFCEnliyw1E4zFywTTsWUPY8q/fkVP41+tq1o6LEUAAC7jtVRG4RkVUiclREukRkk4hME5F/cuH8u6X/ps31GJniPJMG8fcvdSF3KhSAAAAARSgSjZlv3b/EVjqcfluL2X24SzsaULYOdHabz02cPeA9fy2muqHl5Dv/aj2trPzDkFAAAu6qEpHNkr5I6xCRK4d5jd0Zzp/umn+T4jyTBnGOS4eZOR0KQAAAgCLVuueYGVVnX3l07ZMrjGWx6QCQD795/j3Har/5G/ef3KmbDT8wHBSAgHs+JfGVfokb6nERuVxELhaR8SJyvO/PQyLy+WFc53QRGZvl+N2AHKlMShqT7XyfHEbeTCgAAQAAitjEN993FBJvrOWnh4Db5ry/z3Gv3fziWu1YKCMUgIB7Jkn/zXRLis8vFpFI3+cL8pzFk5Tly2nGTEoao4UCEAAAoIh1dveaC++abyslzp0y1xwLhbWjAWUj2N1rvnTXPNt99oXJc8yh4z3a0VBGKAABd3xURI5J/EbaKCIfTjPuUem/4c7LU5a/FZHuvmvsyDBuklAAAgAAIIvZKVYm3frqOu1YQNmoe2294x577T3mR3AXBSDgjiuk/0Yal2HcRUnj7spTlhuTrjExw7hJQgEIAACAHPzy2dWOgmLFjsPasYCSt3zHYce9dd1TK3nXJlxHAQi4Y4r030gXZRh3isR3BTYisjhPWZb2nd8SkdEZxk0SCkAAAADkIHDshDlrgtdWUlw+baE5EY6wOQEwRN29UXPpfQtt99WZE7xmz5GQdjSUIQpAwB2vSv+N9HdZxq7rG3cwDzlGSbz4MyKyJMvYSdKfeZ6IHBGR3r5ci0SkTkT+Pg8Zk1EAAgAAlIinlu50rFSqqm82I8Y1meoGr6nx+Iw/ENSOCZSMP3o3Oe6pp5bu1I6FMkUBCLhjhcRvoq4cxjZJ/033cZdzTEw69y+zjJ2UNDbdcUxErh5Gns9mOc4XCkAAAICSEI1Z5qoHlzoKi4GFYKOPXYKBbDa0d5jRfQV64rh65jITZTUt8oQCEHCHX+I30f4cxibv0PsPLufY1nfeExLfDCSTSSKyXuI/X75KRM4VkQtF5KciMicpY1REvjXEPNkKxpMHBSAAAEDxe9PXnrEATJSArAQE0otEY+bbDy6x3TdjxjebLfs7taOhjFEAAu7YIfGbaE8OY2dJfm66S5LO+1IO47P9VPmmpPMFROQTQ8hEAQgAAFBGajy+rAXgiHFNptbTqh0VKFqPLNruuGdmzN2iHQtljgIQleYUGUQpleG4fsB5i2EF4KNJ5/2mS+d8IumcPxnC3+cnwAAAAGUiFrNMdYM3pwKwusHLxiDAALGYZfyBoDltvP2nv1+dvsj0RKLa8VDmKABRafJVAGq/A/DjInK075z7ROQjLp33ZEEnIo+7dM5kbAICAABQIkLhSE7lX+IIhSPakYGi4A8ETY3Hl7JAH1nXZNbsPqodERWAAhCVqNqFY+D79f4iursA/zDp+tNcPO+pSedtdvG8CRSAAAAAJYIVgMDgNfraT+6Wneq47skV2hFRISgAAXdMkf4b6aIM406R+CpBIyKLXbz+X5Ou/zkXz/tJoQAEAABAH94BCOTOHwhmLP/YNAeFRAEIuOPr0n8jjcsw7qKkcVNduvZnRKS375w+l86ZcIH0533C5XOLUAACAACUlFwKjRHjmoyvjZ80AhTmKCYUgIA7PiYiHRK/kTaKyIfSjEveqOMCl67926Rz/s6lcyY8mXTua10+twgFIAAAQMnJ9pPGEeOazEo00lAAAB8KSURBVOS/+rVjAqr4yTyKDQUg4J7knwHfkuLzi0Uk0vf5ogznSZxjd47XXdM3PiIi/5jj3/mciIzJMuampCz7JP5zYLdRAAIAAJQgfyBoaj2tJwuOkXXOUmPxloPaMQE1bJqDYkMBCLjn0yKyRfpvqMdE5DKJ/+y3XkSO9/35CRE5J8N5BlMAnpk0/q1BZL1eRKIiMk9EakXkChE5V0S+JCI/FZG5SeeNish3B3HuwaAABAAAKGGxmGVC4YjZvC9oTr+txVZoXHDnPHO0K6wdEVDBCkAUGwpAwF1jRGSr9N9UA4+giFyV5RyDKQD/mDT+R4PIeX2GjMnHYRG5ehDnHSwKQAAAgDLxzLKdjmLjpllrjGVRbKAyfX3GIt4BiKJBAQi475MicquIrBaRYyISEpHNIjJDREbk8PdzLQA/LCIf9I09JiIfH0TGfxSRGyS+sceavvOcEJFuEQmISIvE3y343wZxzqGgAAQAACgTsZhlrntqpaPceGX1Hu1oQMEt23Yop/KPXYBRKBSAADRRAAIAAJSRA8Fuc87kObaC46wJXrP7cJd2NKBgDh/vMRfcOS+n8q/R164dFxWCAhCAJgpAAACAMuPdsM9RdPzfh5aZSDSmHQ3IO8uyzM+fWeW4B656cMnJdwJWN3hNraeVlX8oKApAAJooAAEAAMrQra+ucxQgD8zfqh0LyLunU7wL87qnVppYzDq5aQ4bfkADBSAATRSAAAAAZairJ2K+cu8CWwkyur7Z+PYc044G5M37gQ5z2nj7btjn3THXHOzs0Y4GUAACUEUBCAAAUKbeaztqRtc328qQf753genqiWhHA1wXCkfMZdMWOlb/LdpyUDsaYIyhAASgiwIQAACgjP3XvC2OQqTutXXasQDX3fJqq+P/r9/VvFE7FnASBSAATRSAAAAAZSwSjZmrZy5zFCPeDXt5FxrKxputgRSbfiw14Qgb36B4UAAC0EQBCAAAUOZ2HeoyZ07wOgqSxG6oNR4fu6GiZO05EjJj/3979x4laVnfCfy7XtA1umLEdU+WLA2DZrySZCER1wQluiTeosfoQaM56GFXYxI3M15mBkEbVzHiDa9riEa8RGiiBnV6LqhcHYQR6VEYCDBAM8zI/TIwI9P0dL/7R3VP1XRXV1VPV/Vb1f35nPOco/O+/dZvhl/V2/3t532eD6zbp6+ffcra4pa7d5ZdGuxDAAiUSQAIALAIDGzcWjcAnBxLVg0W5w1tK7tMmJVH9owVr/nC9Bmu373KzzZ0HwEgUCYBIADAInDN9geKvgYB4GQIaCYgveT0dddN6+Nl5wyVXRbUJQAEyiQABABYBJYNDDUM/ybH8oFNZZcKDY2NjRe7RkaLS2+4q+hbuW//HnP6BcVDdrmmSwkAgTIJAAEAFrixsfFi6cn11wCstyagjUHoRpu37yiWDQzN2MtLVg0Wv7jt/rLLhBkJAIEyCQABABa4XSOjLYV/k2PXiBlUdJfzhrYVS1YNNuzbf7x4S9llQkMCQKBMAkAAgAXODEB62ebtO5qGf30rVhfXbHug7FKhIQEgUCYBIADAItDqGoCv++KGskuFfVi/koVCAAiUSQAIALAItDKL6pAVq4slJw0WV916X9nlQlEUZq+ysAgAgTIJAAEAFolW1lE7ZMXq4qgP/7C4Y8fDZZcL1q9kQREAAmUSAAIALCKbt+8olg9s2juraunJa4s/+eSF04KUP//8T4qHH9lTdrkscmYAspAIAIEyCQABABahsbHxYtfIaDE2Nl6M7hkr3njmT6cFKu8+d1MxPi5QoVyv+Owl1gBkQRAAAmUSAAIAUNy3c6R40cd+PC1U+eef3Fx2aSxia6++vaXwb8mqwWLz9h1llwsNCQCBMgkAAQAoiqIorrt9R/GsU/Z93PKwVYPFhhvvLrs0FqGrtz3Q0uO/S1YNFucNbSu7XGhKAAiUSQAIAMBea6/+1bSA5YhT1xdb791VdmksIrc/8HDxBx/54bRefMVnL9ln/crlA5vM/KNnCACBMgkAAQDYxyfPv35a8HLcpy8udu62wyqdt2tktHj5Z6av+/fef62sSVm7fiX0EgEgUCYBIAAA+xgbGy9O/NrPpgUw7/jGlUIXOmpsbLz4X3V67w1fuqwYGR0ruzyYEwEgUCYBIAAA0zy0e7R42acumhbEfOZHN5iBRcectubaaT334o9fWNy3c6Ts0mDOBIBAmQSAAADUNXzPzuL5/eunBTLPOGnN3jXYlg0MWYONthjYuHVarz2/f31x010PlV0atIUAECiTABAAgBldcsNdxaEr7cJKZ1225Z5iyarBaX21YYsdqFk4BIBAmQSAAAA09OHVmxsGgJNhjZmA7I+b764/0/TsK24tuzRoKwEgUCYBIAAADS07Z6hpAHjIitXF8oFNZZdKj5hcR/LenbuLF3/8wmm99JHBa8suEdpOAAiUSQAIAMCMxsbGi6Unr20pAFx68lobg9DQ5u07imUDQ3t7qt7j5Sd+7WfFHn3EAiQABMokAAQAYEa7RkZbCv8mx66R0bJLpkudN7Rt2jp/U8efnXFJsXO3HmJhEgACZRIAAgAwIzMAaYfN23c0Df8OWbG6uPj6O8suFTpGAAiUSQAIAEBDywZaWwPwRf/wY49uUlerPWQdSRYyASBQJgEgAAANtTp765AVq4t3n7vJLED2YRYpVAgAgTIJAAEAaKqV9dsmx6rv/rIYHxfiUGEdSagQAAJlEgACANCSzdt3FMsHNu2dzbX05LXFX/7T5XWDwQ9+7xohIEVRVGYAHn5Sa+GxGYAsZAJAoEwCQAAAZmVsbLzYNTK6N6j50bV31A14Thu8VghI8eVLb2559p81AFnIBIBAmQSAAADM2dqrf1UcVmcm4CfX/3vZpVGiL120peXwb8mqwWLz9h1llwwdIwAEyiQABACgLb63aXtx6Mrpwc7nfnxD2aVRgs9fcOOswr/zhraVXTJ0lAAQKJMAEACAtvn2lbcVfXVCwDMvvqkoiumPD7PwjI+PF586//q6QV//96+Zto7k8oFNZv6xKAgAgTIJAAEAaKtvXXFr3fDn1Z+7dJ/gZ9nAkOBngRkfHy9OX3dd3f/+/3TJTXvPEwSzGAkAgTIJAAEAaLuzNtzi0c9FZnx8vDht8Nq6/53P2nBL2eVB6QSAQJkEgAAAdMSZF99k84cFbnIm3549Y0X/96+p+9/3m5cPl10mdAUBIFAmASAAAB3z8s9c0lIIuHxgU9mlMgubt+8olg0M7X2ku94O0H0rVxcDG7eWXSp0DQEgUCYBIAAAHTE2Nr43IGo2lp681npwPeK8oW3FkjqBX+04dOXq4ttX+vkCagkAgTIJAAEA6IhdI6MthX+TY9fIaNkl08Tm7Tuahn+HrFhdfOGCG8suFbqOABAokwAQAICOmM0MwGe+f40ZgD1g2cCQR7phPwkAgTIJAAEA6JhWA6NDV662G3CX80g3zI0AECiTABAAgI5p9ZHRyfHRNdcVewRHXckj3TA3AkCgTAJAAAA6qpVNI2rHW7+6sdjx8CNll02Nhx/ZU6z8zi9a/m9oBiBMJwAEyiQABACg4zZv31EsH9i09xHSpSevLf7+nKHind/8ed0A6dhPXFjcfPfOssumKIpb79lVvOKzl8xq9p81AGE6ASBQJgEgAADzZmxsvNg1MrrP7LBvXj5cd4bg8z64rrjkhrtm/Do67/zNdxTP++C6WYV/S1YNFpu37yi7dOg6AkCgTAJAAABKd/lN9xS/96Hzp4VJfStWF6/63KX7zBxcNjAkYOqw0T1jxWlrrq0b8B1+0mBx6MqZwz+buUB9AkCgTAJAAAC6wtZ7dxXHffrilmeZCZraY+rsyjt3PFy8/kuXzfho9vV3PFj3ke7lA5sEs9CAABAokwAQAICusXP3aPGOb1zpUdN5sHn7jmLZwNA+Id6bv3x5cUT/+rr/3n/7rauKnbv33dnXo9nQOgEgUCYBIAAAXWVsbLz40zNamwlos4n9M5udmQ8/abD42mW3FOPjQj6YCwEgUCYBIAAAXWVsbHzvrLRmY+nJa80+m6XN23e0HP698KM/Loa23l92ybAgCACBMgkAAQDoKrtGRme16+yt9+wqu+SesmxgqKV/1z/8yA+L+3aOlF0uLBgCQKBMAkAAALrKbGYAHrJidfGcU9YW//yTm4vRPWNll971zK6E8ggAgTIJAAEA6DqtzlKrHcd9+uLiipvvnXYtG1VUDW29b1b/prtGRptfFGiJABAokwAQAICuM5t16qaOZecMFXc++HDdXW6XDQwtyp2Dt9//6+Ld526a1b+jGYDQXgJAoEwCQAAAulKjnWoPWzVY/MUXN8wYXv3O+9cUh66sf2zJqsHivKFtZf/12q7eTMcHfv1Icdqaa4tnvn/NrINUOyxDewkAgTIJAAEA6Fqbt+8olg9s2mcW3/KBTXtn8W285d7iuE9fPOtwa8mqwQUzE7DeTMd3nX1V8X9/sLl4fv/6/ZpFuZD+faBbCAChfZ6Y5I+TvCfJuUluSfXNNdyh1zw6yTcmrr87ye1J1iU5fpbXOT7J+omv3z1xvW8keUGb6pyJABAAgK7XaB2/0T1jxVd/cnPx3A+sW3Qz3BrNkpxpPPuUtcU7vnHljF+3UGdIQtkEgNA+F6b6Zpo6hjvweh9IMtbgNb+f5PFNrvH4JD9ocI2xJKd0oPZJAkAAABaEux7cXSw7p/XNQ3p9jbvZrpO4ZNVgccp5Vxd3Pbh779c3ml0JtJcAENrnolTfTPclOT/JQ+lMAHhizWttSfK2JEcl+fMkF9Qc+2aT6/xLzbkXTHz9URPX21Jz7MQ21z9JAAgAwIKxa2R0VrPhvn7ZLcWDDz9S91rdvnvwbMLOd37z58XNd++se51u/3vCQiEAhPb530nelOTwmj8bTvsDwAOT3D9x3VuTHDTl+KNTmf03+cb+4xmuc0z2nS346CnHD5q4/mSgeWAbap9KAAgAwIIxNja+d0Zbq+N3Tl5T/J+zryouveHuYs/YeKm7BzcL40b3jBUbbry7OOXffln0tfj3e+b71wj3oAsIAKGzhtP+APC9qb5pZ1rr7+AkeybO+cEM5wxOHN+Tmd/8x9e81rv3s95GBIAAACwoywZanxk3dRzRv74tuwfPdlZdo9Dx4Uf2FOuvub1YPrCpOOLU/dvUY9fI6Fz+SYE2EABCZw2n/QHgholr7khyQIPz1k2ctzuVDUpqPXHiz4skaxtc44CJ1ykmXrfdBIAAACwos10bbzaj2e64+zN7sNFGHn0rVheHnzS3v0uvr3UIC4UAEDprOO0NAA9IMjpxzXVNzl2V6pv7JVOOHVtzbGWT66yfOG80yWNnWW8zAkAAABacRqHaklWDxYd+sLk48Ws/26+g8I8+dkFxxg9vKM4b2lb84rb7iwd+/UhLr1k7e3B8fLx48OFHivM331Ec1qGwcnIshN2OYSEQAEJnDae9AeBzUn3DntHk3NfWnPvOKcf+pubYa5pc5zM15z57lvU2IwAEAGBBamWX23se2l185dKbiz874+I5hWzP++C6puf0rVhd/MknLyqOPu1HxTPev2ZOr/fKz15anHLe1U3Dw2YzFoH5IwCEzhpOewPAP031DfueJuceWXPuR6cc+4eaY0c2uc57as49bpb1Htxk7K1RAAgAwELUynp8s909uIzx+v+3ofjKpTcXt923a2/ds5l1CJRLAAidNZz2BoCvT/UN+44m5z6r5tzPTTn2hZpjS5tc569rzn3dLOstWh0CQAAAFqv92T14vsdMG3m0MtMRKJ8AEDprOO0NAN+S6hv2bU3OPazm3C9POfaVmmOHNbnO22rOffMs6xUAAgBAC1rdPfjYT1xYvOUrVxR/9LELZtwxuN2jlY08ZrvzMDC/BIAsNo/JLEKpBuOEFl9vOIt7BqBHgAEAoAWt7B48dU29kdGx4oY7H2x5Tb/DTxos1l9ze3HVrfcVW+/dVbzr7Kta+jobeUDvEwCy2PR6ANhrawA2YxMQAACYsL9r6rU6e3BqkLc/oSPQmwSALEZL2zCe3OJrDae9AeBzU33DzmUX4L+tOWYXYAAA6BL7s6beXII8G3nA4iAAhM4aTnsDwAOS7Jm45rom565K9c39kinHjq05trLJddZPnDc68frtJAAEAIA6Zrum3lyCPBt5wMInAITOGk57A8AkuWzimjvSOJBbN3He7iRPmnLsSUlGJo6vbXCNAyZep5h43XYTAAIAQJvMNcizkQcsXAJA6KzhtD8AfF+qb9rjZzjn4FRnCg7OcM6aVGf2zfTmP77mtd67n/U2IgAEAIA2E+QBUwkAobOGM7sAsC/VN+RFM5zzm0keqLnuU6ccf3SS79dcZ+rjv5NqHwP+3sTX1Tooya0Tx+9P8pQW/w6zIQAEAACADhMAQvscnsruwLXjnlTeXPfUOfZf6lyjL80DwCR5e815W5K8NZXdfF+d5IKaY99qUvPZNedeMPH1R05cb0vNsbc3uc7+EgACAABAhwkAoX1OSPXN1Mp4cZ1r9KW1ADBJTk0y3uD6g0ke3+Qa/3HivJmuMZakv8k15kIACAAAAB0mAIT2OSHzGwAmyQuT/EuSrals6nFnkvOTvHGWtb9p4uvunLjO1onrHj3L68yWABAAAAA6TAAIlEkACAAAAB0mAATKJAAEAACADhMAAmUSAAIAAECHCQCBMgkAAQAAoMMEgECZBIAAAADQYQJAoEwCQAAAAOgwASBQJgEgAAAAdJgAECiTABAAAAA6TAAIlEkACAAAAB0mAATKJAAEAACADhMAAmUSAAIAAECHCQCBMgkAAQAAoMMEgECZBIAAAADQYQJAoEwCQAAAAOgwASBQJgEgAAAAdJgAECiTABAAAAA6TAAIlEkACAAAAB0mAATKJAAEAACADhMAAmUSAAIAAECHCQCBMgkAAQAAoMMEgECZDsnEB9DGjRuL2267zTAMwzAMwzAMwzCMNo+NGzfWBoCHlJoEAIvOkal+ABmGYRiGYRiGYRiG0flxZADmkQDQMAzDMAzDMAzDMOZ3CACBefW4VD54jkxlCvLBPTBqQ8sju6AeozeHPjLmOvSQMdehh4x2DH1kzHXoIaMdQx+1Ng5J9efvxwWAhg5O9eZycMm10Lv0EXOlh5grPUQ76CPmSg/RDvoIgLZzc6Ed9BFzpYeYKz1EO+gj5koP0Q76CIC2c3OhHfQRc6WHmCs9RDvoI+ZKD9EO+giAtnNzoR30EXOlh5grPUQ76CPmSg/RDvoIgLZzc6Ed9BFzpYeYKz1EO+gj5koP0Q76CIC2c3OhHfQRc6WHmCs9RDvoI+ZKD9EO+giAtnNzoR30EXOlh5grPUQ76CPmSg/RDvoIgLZzc6Ed9BFzpYeYKz1EO+gj5koP0Q76CAAAAAAAAAAAAAAAAAAAAAAAAAAAAAAAAAAAAAAAAAAAAAAAAAAAAAAAAAAAAAAAAAAAAAAAAADoBf8tySeSXJdkV5L7kmxM8p4kTyixLrrff07yyiQfSrI2yT1JiolxVnll0UN+P8lJqfTPbUlGkuxMckMqPfRHpVVGr/hPSY5P8skkFyfZkmRHkkeS3JXkoiTvS/LUkuqjt52e6n2tSPLiUquh2xUtjotKqo/eclAq968NSe5I5XukXyW5IsnHkxxdXmkA9KJXJHkgM3+D8u9JDiutOrpdo29uzyqvLHrExWntB6WvJzmgpBrpfi9Na310d5LjSqqR3nREktEIAGmdAJB2eX32/cV6vXFeadUB0HOOSGXGX5HkoVRm4Ryd5NgkZ6Z6c7kuyRNLqpHuVvtNyNYk62v+/1nllUWP2JJKr2xPckaS1yU5KskLkixLsi3VfvpWSTXS/V6ayufP15K8K8lrU+mhFyZ5Q5Jzk+xJpY9Gkjy/nDLpMY9K5WmIIsmdEQDSmsk++WKS5zYYh5ZVID3hr5KMpfr505/Kve73k7w8yd8lOT/Jv5ZUHwA96MJUbiyjqT+F/L2pfiPzgXmsi95xaiqPAD994v/3RQBI61anEtA8eobjByW5PtWe8jgw9czUP7Vek2offaez5bBA/H2qvwQ9LQJAWjPZJ/0l10HvelaS3an00SVJntzgXE9HANCSo1L9JuVLM5zzqCTXTpxzX5LHzk9p9LC+CABpr1em2lOfKbkWett1qT4KDI38dipPRkwGfv0RANIaASBz9aNU71UHlVwLAAvER1L9JuUPG5y3sua8l81DXfS2vggAaa8nptpTq0uuhd52ZapLXkAjP8i+97H+CABpjQCQuViaag99sORaAFhALknl5rIzyWManHd0qjeiU+ehLnpbXwSAtNdvptpT3y+5FnrXs1JdB/BnJddCd3tDKn1yb5KnTfxZfwSAtEYAyFyckmoPPbvmz5+S5Bmxmz0A++nuVG4um5qc95RUb0Tndrooel5fBIC012tT7anTS66F3vKEVH5gWp7kjlT76M1lFkVXOzDJ7an0yYk1f94fASCtmeyTzamsYftwKrOOb0xlo6KXlFcaPWAwlf55IMl/SPKXSX6RfTfduzmV2YE2aASgJY/P7B6p2zlx7k87WRQLQl8EgLTPo5JckWpPHVluOfSAE7LvD0pTx8dT+aEK6jkzlT7ZkH37pD8CQFrT6PNncvxbGm/swOJ1S6oTND6fxn10dZLfKqdMAHrJ01K9eZzTwvl3pnqjgUb6IgCkfd6daj99t+Ra6A0npP4PSkNpvN4tvCjJeJLRJM+bcqw/AkBasyvJ2anMIH1Rkt9NZQ3tDye5J9U+uig212O6Han0x+QuwPcneXsqP7s9LpVfhK5JtY82pPLLUgCY0W+neuP4egvnb504d0sni2JB6IsAkPY4JpUfxItUfgnx9HLLoUccmOS5E+OoJMenEh5P3sNeWV5pdLEDklybmZca6I8AkNYc2ODY05NclWovvWteKqKXTK5VW0z87xfUOedR2TcE/It5qw6AnmQGIJ3SFwEgc/ecJPel+lvwY8othwXgLanM7hpLZZYg1OpP5fPm1iS/0eC4AJC5OizJSCq9dGPJtdB9JpddKlKZSTqT59Sc9515qAuAHmYNQDqlLwJA5ubQJNtT/e33a8sthwVkIJW+2pnKBleQJEtTDWRePcM5/REA0j6rU+0na7hRa3IToiLJXzU5d9vEeVs7XRQAvc8uwHRCXwSA7L/fSnJTKv0znubf/MJsvCnVz6c3lVwL3eMfU+mJm1J5ZLze+HaqvfOhmj+vN1sQmjk91X46quRa6C4bU+2NY5uc+9NUn5QAgIYuSXUmxGManHd0qjeiU+ehLnpbXwSA7J+DkmxOtX/+ptxyWIBelmp/rSq5FrrHWWlt59Z6o2/eq2Uh+HgEgNT31VR742VNzp0MC3d2uigAet9pqd5gGu2MuLLmvP85D3XR2/oiAGT2npzk56n2zopyy2GBOiHVHvu7ckuhi5wVASDzazDVHvqvJddCd3lrqr3xjibnTu4qfX2niwKg9/1BqjeYL81wzqNS3RXv/iSPnZ/S6GF9EQAyO09I8pNU++bD5ZbDAlb7Q/eLyy2FHtMfvUN7HJbkkVQfO4daT021P85vcN4xqX4mfXke6gJgAZh8DHg0lUd9p3pvqjeX/vkrix7WFwEgrTsgyfpUe+aMcsuhR52QyuZWjSxLtc9uSeOlL2Cq/ggAae5VafzZ8vQkV6XaS8vnoyh6zhdT7ZHj6xx/UpKhmnM8Rg5AS34vya9TuXk8lMqaSC9I8pJUF8WenFr+pJJqpLu9KJUfvifHe1Ltm59MOXbCfBdH1/tOqv3y4yTPS/LcBuOZ5ZRJlxtOcm+SM1PZOOZ/JDkilc+nv86+M0xHkry0lCrpZf0RANLccCq72H82yRtT+eX676bymfPhVB/ZLJJcmuRxpVRJt3takltTnaTxuVR+NvvvqXwvfV2qffTFckoEoFe9KsmOzLy+zfVJDi+tOrrdWZndeklQa7brbQ2XUiXdbjit9c9tab6oOtTTHwEgzQ2ntc+ibyc5sJwS6RHPSnJjGvfRV2J5JgD2wyFJPpVK2LcrlfX+fpbkfamszwUzOSsCQPafAJB2WJLk7UnOSfKLJHekMmvioSRbUvlh+4S4n7H/+iMApLljknwgydpUvqe+N5XPovuT/DKVNbfrLbkD9fxGKk/WXJ5KL42k8ousc1KZEQgAAAAAAAAAAAAAAAAAAAAAAAAAAAAAAAAAAAAAAAAAAAAAAAAAAAAAAAAAAAAAAAAAAAAAAAAAAAAAAAAAAAAAAAAAAAAAAAAAAAAAAAAAAAAAAAAAAAAAAAAAAAAAAAAAAAAAAAAAAAAAAAAAAAAAAAAAAAAAAAAAAAAAAAAAAAAAAAAAAAAAAAAAAAAAAAAAAAAAAAAAAAAAAAAAAAAAAAAAAAAAAAAAAAAAAAAAAAAAAAAAAAAAAAAAAAAAAAAAAAAAAAAAAAAAAAAAAAAAAAAAAAAAAAAAAAAAAAAAAAAAAAAAAAAAAAAAAAAAAAAAAAAAAAAAAAAAAAAAAAAAAAAAAAAAAAAAAAAAAAAAAAAAAAAAAAAAAAAAAAAAAAAAAAAAAAAAAAAAAAAAAAAAAAAAAAAAAAAAAAAAAMA8+P/rXttEldDdPgAAAABJRU5ErkJggg==\" width=\"640\">"
      ],
      "text/plain": [
       "<IPython.core.display.HTML object>"
      ]
     },
     "metadata": {},
     "output_type": "display_data"
    },
    {
     "data": {
      "text/plain": [
       "[<matplotlib.lines.Line2D at 0x11b678048>]"
      ]
     },
     "execution_count": 26,
     "metadata": {},
     "output_type": "execute_result"
    }
   ],
   "source": [
    "# Using code to make plots\n",
    "\n",
    "# The following import statemnts bring in functionality popular with data scientists\n",
    "import pandas as pd   # R-style data frames\n",
    "import numpy as np    # MATLAB style numerical computing\n",
    "import math           # Even in England, \"import maths\" doesn't work\n",
    "import pylab as plt   # An interface to matplotlib, a powerful plotting library\n",
    "\n",
    "# Make inline, interactive plots\n",
    "# \"%\" indicates a directive to jupyter\n",
    "%matplotlib notebook\n",
    "\n",
    "x = np.arange(0,2*math.pi,0.1)   # An array from 0 to 2pi, in increments of 0.1\n",
    "y = np.sin(x)\n",
    "\n",
    "plt.plot(x,y,'.-')\n",
    "\n"
   ]
  },
  {
   "cell_type": "code",
   "execution_count": null,
   "metadata": {
    "collapsed": true
   },
   "outputs": [],
   "source": []
  },
  {
   "cell_type": "markdown",
   "metadata": {},
   "source": [
    "This plot is interactive.   The buttons allow you to zoom, pan, and export the graphic.  You can also resize it by grabbing the bottom-right corner.   The home button resets back to the origian configuration.   The \"power\" button in the top right corner turns off interactive mode, leaving a static plot."
   ]
  },
  {
   "cell_type": "markdown",
   "metadata": {},
   "source": [
    "# Command line"
   ]
  },
  {
   "cell_type": "markdown",
   "metadata": {},
   "source": [
    "On unix-like systems, you can access the shell using the \"!\" operator."
   ]
  },
  {
   "cell_type": "code",
   "execution_count": 27,
   "metadata": {},
   "outputs": [
    {
     "name": "stdout",
     "output_type": "stream",
     "text": [
      "/Users/jamesking/Files/Professional/Anschutz/BIOS_Faculty/BIOS6644\r\n"
     ]
    }
   ],
   "source": [
    "! pwd"
   ]
  },
  {
   "cell_type": "code",
   "execution_count": 28,
   "metadata": {},
   "outputs": [
    {
     "name": "stdout",
     "output_type": "stream",
     "text": [
      "[master a75f81f] Modified python refresher notebook\r\n",
      " 1 file changed, 1170 insertions(+), 1052 deletions(-)\r\n"
     ]
    }
   ],
   "source": [
    "!git add .\n",
    "! git commit -m\"Modified python refresher notebook\""
   ]
  },
  {
   "cell_type": "code",
   "execution_count": 29,
   "metadata": {},
   "outputs": [
    {
     "name": "stdout",
     "output_type": "stream",
     "text": [
      "Enumerating objects: 5, done.\n",
      "Counting objects: 100% (5/5), done.\n",
      "Delta compression using up to 8 threads\n",
      "Compressing objects: 100% (3/3), done.\n",
      "Writing objects: 100% (3/3), 49.26 KiB | 9.85 MiB/s, done.\n",
      "Total 3 (delta 1), reused 0 (delta 0)\n",
      "remote: Resolving deltas: 100% (1/1), completed with 1 local object.\u001b[K\n",
      "To https://github.com/pulsetracker/BIOS6644.git\n",
      "   dafc622..a75f81f  master -> master\n"
     ]
    }
   ],
   "source": [
    "! git push"
   ]
  },
  {
   "cell_type": "code",
   "execution_count": null,
   "metadata": {
    "collapsed": true
   },
   "outputs": [],
   "source": []
  }
 ],
 "metadata": {
  "kernelspec": {
   "display_name": "Python 3",
   "language": "python",
   "name": "python3"
  },
  "language_info": {
   "codemirror_mode": {
    "name": "ipython",
    "version": 3
   },
   "file_extension": ".py",
   "mimetype": "text/x-python",
   "name": "python",
   "nbconvert_exporter": "python",
   "pygments_lexer": "ipython3",
   "version": "3.6.3"
  }
 },
 "nbformat": 4,
 "nbformat_minor": 2
}
