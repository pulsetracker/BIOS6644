{
 "cells": [
  {
   "cell_type": "code",
   "execution_count": 1,
   "metadata": {},
   "outputs": [],
   "source": [
    "import numpy as np"
   ]
  },
  {
   "cell_type": "code",
   "execution_count": 92,
   "metadata": {},
   "outputs": [],
   "source": [
    "class srg(object):\n",
    "    def __init__(self):\n",
    "        self.reg = [1,0,1,1,1,0,1,1]  # the \"initial fill\" a.k.a.  \"seed\"\n",
    "        self.taps = [1,2,5,7]  # a maximal length sequence generator\n",
    "        #self.taps = [2,6]     # a non-maximal length generator\n",
    "        \n",
    "    def __repr__(self):\n",
    "        n = str(self.reg) + '\\n' + str(self.numrep())\n",
    "        return n\n",
    "    \n",
    "    def numrep(self):\n",
    "        self.numval = int(\"\".join([str(int(xx)) for xx in s.reg]),base=2)\n",
    "        return str(self.numval)\n",
    "    \n",
    "    def cycle(self):\n",
    "        tapbits = [self.reg[xx] for xx in self.taps]\n",
    "        #newbit = np.logical_xor(*[np.array([xx]) for xx in tapbits]).flatten()\n",
    "        newbit = sum(tapbits)%2\n",
    "        self.reg = [newbit] + self.reg[:-1]\n",
    "        #print(self.reg, '\\n',self.numrep())\n",
    "        self.numrep()\n",
    "        return self.numval\n"
   ]
  },
  {
   "cell_type": "code",
   "execution_count": 97,
   "metadata": {},
   "outputs": [],
   "source": [
    "s = srg()"
   ]
  },
  {
   "cell_type": "code",
   "execution_count": 98,
   "metadata": {},
   "outputs": [
    {
     "name": "stdout",
     "output_type": "stream",
     "text": [
      "[[ 93 174  87 171  85 170 213 234 117  58 157  78  39 147 201 100 178]\n",
      " [217 108 182  91  45 150 203 101  50 153 204 102 179  89  44  22 139]\n",
      " [197 226 113 184 220 110 183 219 109  54  27 141  70  35  17 136  68]\n",
      " [ 34 145 200 228 242 121 188  94  47 151  75  37 146  73  36  18   9]\n",
      " [132 194 225 240 120  60  30 143  71 163  81  40 148 202 229 114  57]\n",
      " [ 28 142 199 227 241 248 124 190  95 175 215 235 245 122  61 158 207]\n",
      " [231 115 185  92  46  23  11 133  66 161  80 168 212 106  53 154  77]\n",
      " [166  83  41  20 138  69 162 209 104  52  26  13   6 131 193  96  48]\n",
      " [152  76  38  19 137 196  98  49  24  12 134 195  97 176 216 236 246]\n",
      " [251 253 126 191 223 239 119  59  29  14 135  67  33  16   8   4 130]\n",
      " [ 65  32 144  72 164  82 169  84  42 149  74 165 210 233 244 250 125]\n",
      " [ 62  31  15   7   3 129 192 224 112  56 156 206 103  51  25 140 198]\n",
      " [ 99 177  88 172  86  43  21  10   5   2   1 128  64 160 208 232 116]\n",
      " [186 221 238 247 123 189 222 111  55 155 205 230 243 249 252 254 255]\n",
      " [127  63 159  79 167 211 105 180  90 173 214 107 181 218 237 118 187]\n",
      " [ 93 174  87 171  85 170 213 234 117  58 157  78  39 147 201 100 178]]\n"
     ]
    }
   ],
   "source": [
    "print(np.matrix([s.cycle() for xx in range(2**8+16)]).reshape(16,17))"
   ]
  },
  {
   "cell_type": "code",
   "execution_count": 95,
   "metadata": {},
   "outputs": [
    {
     "data": {
      "text/plain": [
       "[1, 0, 1, 1, 0, 0, 1, 0]\n",
       "178"
      ]
     },
     "execution_count": 95,
     "metadata": {},
     "output_type": "execute_result"
    }
   ],
   "source": [
    "s"
   ]
  },
  {
   "cell_type": "code",
   "execution_count": 24,
   "metadata": {},
   "outputs": [
    {
     "data": {
      "text/plain": [
       "188"
      ]
     },
     "execution_count": 24,
     "metadata": {},
     "output_type": "execute_result"
    }
   ],
   "source": [
    "int(\"\".join([str(int(xx)) for xx in [True, False, True, True, True, True, False, False]]), base=2)"
   ]
  },
  {
   "cell_type": "code",
   "execution_count": 23,
   "metadata": {},
   "outputs": [
    {
     "data": {
      "text/plain": [
       "188"
      ]
     },
     "execution_count": 23,
     "metadata": {},
     "output_type": "execute_result"
    }
   ],
   "source": [
    "4+8+16+32+128\n"
   ]
  },
  {
   "cell_type": "code",
   "execution_count": null,
   "metadata": {},
   "outputs": [],
   "source": []
  },
  {
   "cell_type": "code",
   "execution_count": null,
   "metadata": {},
   "outputs": [],
   "source": []
  }
 ],
 "metadata": {
  "kernelspec": {
   "display_name": "Python 3",
   "language": "python",
   "name": "python3"
  },
  "language_info": {
   "codemirror_mode": {
    "name": "ipython",
    "version": 3
   },
   "file_extension": ".py",
   "mimetype": "text/x-python",
   "name": "python",
   "nbconvert_exporter": "python",
   "pygments_lexer": "ipython3",
   "version": "3.6.8"
  }
 },
 "nbformat": 4,
 "nbformat_minor": 2
}
